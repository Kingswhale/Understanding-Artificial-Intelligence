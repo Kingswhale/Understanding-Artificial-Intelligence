{
 "cells": [
  {
   "cell_type": "markdown",
   "metadata": {},
   "source": []
  },
  {
   "cell_type": "markdown",
   "metadata": {},
   "source": [
    "Plotly is a library that allows you to create interactive plots that you can use in dashboards or websites (you can save them as html files or static images).\n",
    "\n",
    "## Installation\n",
    "\n",
    "In order for this all to work, you'll need to install plotly and cufflinks to call plots directly off of a pandas dataframe. These libraries are not currently available through **conda** but are available through **pip**. Install the libraries at your command line/terminal using:\n",
    "\n",
    "    pip install plotly\n",
    "    pip install cufflinks\n",
    "\n",
    "** NOTE: Make sure you only have one installation of Python on your computer when you do this, otherwise the installation may not work. **\n",
    "\n",
    "## Imports and Set-up"
   ]
  },
  {
   "cell_type": "code",
   "execution_count": 1,
   "metadata": {},
   "outputs": [],
   "source": [
    "import pandas as pd\n",
    "import numpy as np\n",
    "%matplotlib inline"
   ]
  },
  {
   "cell_type": "code",
   "execution_count": 2,
   "metadata": {},
   "outputs": [
    {
     "name": "stdout",
     "output_type": "stream",
     "text": [
      "5.9.0\n"
     ]
    }
   ],
   "source": [
    "from plotly import __version__\n",
    "from plotly.offline import download_plotlyjs, init_notebook_mode, plot, iplot\n",
    "\n",
    "print(__version__) # requires version >= 1.9.0"
   ]
  },
  {
   "cell_type": "code",
   "execution_count": 3,
   "metadata": {},
   "outputs": [],
   "source": [
    "import cufflinks as cf"
   ]
  },
  {
   "cell_type": "code",
   "execution_count": 4,
   "metadata": {},
   "outputs": [
    {
     "data": {
      "text/html": [
       "        <script type=\"text/javascript\">\n",
       "        window.PlotlyConfig = {MathJaxConfig: 'local'};\n",
       "        if (window.MathJax && window.MathJax.Hub && window.MathJax.Hub.Config) {window.MathJax.Hub.Config({SVG: {font: \"STIX-Web\"}});}\n",
       "        if (typeof require !== 'undefined') {\n",
       "        require.undef(\"plotly\");\n",
       "        requirejs.config({\n",
       "            paths: {\n",
       "                'plotly': ['https://cdn.plot.ly/plotly-2.12.1.min']\n",
       "            }\n",
       "        });\n",
       "        require(['plotly'], function(Plotly) {\n",
       "            window._Plotly = Plotly;\n",
       "        });\n",
       "        }\n",
       "        </script>\n",
       "        "
      ]
     },
     "metadata": {},
     "output_type": "display_data"
    }
   ],
   "source": [
    "# For Notebooks\n",
    "init_notebook_mode(connected=True)"
   ]
  },
  {
   "cell_type": "code",
   "execution_count": 5,
   "metadata": {},
   "outputs": [
    {
     "data": {
      "text/html": [
       "        <script type=\"text/javascript\">\n",
       "        window.PlotlyConfig = {MathJaxConfig: 'local'};\n",
       "        if (window.MathJax && window.MathJax.Hub && window.MathJax.Hub.Config) {window.MathJax.Hub.Config({SVG: {font: \"STIX-Web\"}});}\n",
       "        if (typeof require !== 'undefined') {\n",
       "        require.undef(\"plotly\");\n",
       "        requirejs.config({\n",
       "            paths: {\n",
       "                'plotly': ['https://cdn.plot.ly/plotly-2.12.1.min']\n",
       "            }\n",
       "        });\n",
       "        require(['plotly'], function(Plotly) {\n",
       "            window._Plotly = Plotly;\n",
       "        });\n",
       "        }\n",
       "        </script>\n",
       "        "
      ]
     },
     "metadata": {},
     "output_type": "display_data"
    }
   ],
   "source": [
    "# For offline use\n",
    "cf.go_offline()"
   ]
  },
  {
   "cell_type": "markdown",
   "metadata": {},
   "source": [
    "### Fake Data"
   ]
  },
  {
   "cell_type": "code",
   "execution_count": 6,
   "metadata": {},
   "outputs": [],
   "source": [
    "df = pd.DataFrame(np.random.randn(100,4),columns='A B C D'.split())"
   ]
  },
  {
   "cell_type": "code",
   "execution_count": 7,
   "metadata": {},
   "outputs": [
    {
     "data": {
      "text/html": [
       "<div>\n",
       "<style scoped>\n",
       "    .dataframe tbody tr th:only-of-type {\n",
       "        vertical-align: middle;\n",
       "    }\n",
       "\n",
       "    .dataframe tbody tr th {\n",
       "        vertical-align: top;\n",
       "    }\n",
       "\n",
       "    .dataframe thead th {\n",
       "        text-align: right;\n",
       "    }\n",
       "</style>\n",
       "<table border=\"1\" class=\"dataframe\">\n",
       "  <thead>\n",
       "    <tr style=\"text-align: right;\">\n",
       "      <th></th>\n",
       "      <th>A</th>\n",
       "      <th>B</th>\n",
       "      <th>C</th>\n",
       "      <th>D</th>\n",
       "    </tr>\n",
       "  </thead>\n",
       "  <tbody>\n",
       "    <tr>\n",
       "      <th>0</th>\n",
       "      <td>-1.990300</td>\n",
       "      <td>0.207132</td>\n",
       "      <td>-0.173433</td>\n",
       "      <td>1.704743</td>\n",
       "    </tr>\n",
       "    <tr>\n",
       "      <th>1</th>\n",
       "      <td>-0.443315</td>\n",
       "      <td>-0.909829</td>\n",
       "      <td>1.025282</td>\n",
       "      <td>0.823567</td>\n",
       "    </tr>\n",
       "    <tr>\n",
       "      <th>2</th>\n",
       "      <td>0.552221</td>\n",
       "      <td>0.659598</td>\n",
       "      <td>0.202403</td>\n",
       "      <td>1.586856</td>\n",
       "    </tr>\n",
       "    <tr>\n",
       "      <th>3</th>\n",
       "      <td>-0.876131</td>\n",
       "      <td>1.139196</td>\n",
       "      <td>-0.983493</td>\n",
       "      <td>2.417751</td>\n",
       "    </tr>\n",
       "    <tr>\n",
       "      <th>4</th>\n",
       "      <td>1.198965</td>\n",
       "      <td>0.228761</td>\n",
       "      <td>-0.647418</td>\n",
       "      <td>-1.698121</td>\n",
       "    </tr>\n",
       "  </tbody>\n",
       "</table>\n",
       "</div>"
      ],
      "text/plain": [
       "          A         B         C         D\n",
       "0 -1.990300  0.207132 -0.173433  1.704743\n",
       "1 -0.443315 -0.909829  1.025282  0.823567\n",
       "2  0.552221  0.659598  0.202403  1.586856\n",
       "3 -0.876131  1.139196 -0.983493  2.417751\n",
       "4  1.198965  0.228761 -0.647418 -1.698121"
      ]
     },
     "execution_count": 7,
     "metadata": {},
     "output_type": "execute_result"
    }
   ],
   "source": [
    "df.head()"
   ]
  },
  {
   "cell_type": "code",
   "execution_count": 8,
   "metadata": {},
   "outputs": [],
   "source": [
    "df2 = pd.DataFrame({'Category':['A','B','C','D'],'Values':[32,43,50,60], 'Point':[10,20,30,40]})"
   ]
  },
  {
   "cell_type": "code",
   "execution_count": 9,
   "metadata": {},
   "outputs": [
    {
     "data": {
      "text/html": [
       "<div>\n",
       "<style scoped>\n",
       "    .dataframe tbody tr th:only-of-type {\n",
       "        vertical-align: middle;\n",
       "    }\n",
       "\n",
       "    .dataframe tbody tr th {\n",
       "        vertical-align: top;\n",
       "    }\n",
       "\n",
       "    .dataframe thead th {\n",
       "        text-align: right;\n",
       "    }\n",
       "</style>\n",
       "<table border=\"1\" class=\"dataframe\">\n",
       "  <thead>\n",
       "    <tr style=\"text-align: right;\">\n",
       "      <th></th>\n",
       "      <th>Category</th>\n",
       "      <th>Values</th>\n",
       "      <th>Point</th>\n",
       "    </tr>\n",
       "  </thead>\n",
       "  <tbody>\n",
       "    <tr>\n",
       "      <th>0</th>\n",
       "      <td>A</td>\n",
       "      <td>32</td>\n",
       "      <td>10</td>\n",
       "    </tr>\n",
       "    <tr>\n",
       "      <th>1</th>\n",
       "      <td>B</td>\n",
       "      <td>43</td>\n",
       "      <td>20</td>\n",
       "    </tr>\n",
       "    <tr>\n",
       "      <th>2</th>\n",
       "      <td>C</td>\n",
       "      <td>50</td>\n",
       "      <td>30</td>\n",
       "    </tr>\n",
       "    <tr>\n",
       "      <th>3</th>\n",
       "      <td>D</td>\n",
       "      <td>60</td>\n",
       "      <td>40</td>\n",
       "    </tr>\n",
       "  </tbody>\n",
       "</table>\n",
       "</div>"
      ],
      "text/plain": [
       "  Category  Values  Point\n",
       "0        A      32     10\n",
       "1        B      43     20\n",
       "2        C      50     30\n",
       "3        D      60     40"
      ]
     },
     "execution_count": 9,
     "metadata": {},
     "output_type": "execute_result"
    }
   ],
   "source": [
    "df2.head()"
   ]
  },
  {
   "cell_type": "code",
   "execution_count": 10,
   "metadata": {},
   "outputs": [
    {
     "data": {
      "text/plain": [
       "<Axes: >"
      ]
     },
     "execution_count": 10,
     "metadata": {},
     "output_type": "execute_result"
    },
    {
     "data": {
      "image/png": "[encoded data removed]",
      "text/plain": [
       "<Figure size 640x480 with 1 Axes>"
      ]
     },
     "metadata": {},
     "output_type": "display_data"
    }
   ],
   "source": [
    "df.plot()"
   ]
  },
  {
   "cell_type": "code",
   "execution_count": 11,
   "metadata": {},
   "outputs": [
    {
     "data": {
      "application/vnd.plotly.v1+json": {
       "config": {
        "linkText": "Export to plot.ly",
        "plotlyServerURL": "https://plot.ly",
        "showLink": true
       },
       "data": [
        {
         "line": {
          "color": "rgba(255, 153, 51, 1.0)",
          "dash": "solid",
          "shape": "linear",
          "width": 1.3
         },
         "mode": "lines",
         "name": "A",
         "text": "",
         "type": "scatter",
         "x": [
          0,
          1,
          2,
          3,
          4,
          5,
          6,
          7,
          8,
          9,
          10,
          11,
          12,
          13,
          14,
          15,
          16,
          17,
          18,
          19,
          20,
          21,
          22,
          23,
          24,
          25,
          26,
          27,
          28,
          29,
          30,
          31,
          32,
          33,
          34,
          35,
          36,
          37,
          38,
          39,
          40,
          41,
          42,
          43,
          44,
          45,
          46,
          47,
          48,
          49,
          50,
          51,
          52,
          53,
          54,
          55,
          56,
          57,
          58,
          59,
          60,
          61,
          62,
          63,
          64,
          65,
          66,
          67,
          68,
          69,
          70,
          71,
          72,
          73,
          74,
          75,
          76,
          77,
          78,
          79,
          80,
          81,
          82,
          83,
          84,
          85,
          86,
          87,
          88,
          89,
          90,
          91,
          92,
          93,
          94,
          95,
          96,
          97,
          98,
          99
         ],
         "y": [
          -1.9903004256683205,
          -0.44331522383487904,
          0.5522209986709692,
          -0.8761307777820353,
          1.1989648408531712,
          1.107396907449335,
          -0.029371122099748383,
          0.3056333470056156,
          -0.4955087979621365,
          -0.6520420406756742,
          -2.5267952417248734,
          0.28866743458960153,
          -1.4316957620782398,
          -0.6044368465373989,
          -0.7835590378190067,
          -0.12675905868030538,
          -0.8723173151421462,
          -1.3441213992499,
          0.9239839346598812,
          -0.37358758223316085,
          0.9588303627419025,
          -0.1052825661486228,
          0.38119597175663916,
          0.3576427427245764,
          -0.5702151234625347,
          -0.5572216628600934,
          0.017719846225363156,
          1.2887145074843485,
          -0.7411771478820481,
          -0.6419864197153446,
          1.1972219508024184,
          0.25945352369678465,
          1.2969932581570864,
          -0.766403700861819,
          -0.5880695192706119,
          0.23921319399362173,
          0.41198072881213454,
          0.8298012119060374,
          -0.39388130471441646,
          -0.9685240289521347,
          -1.5016621442024582,
          0.2224241435501135,
          -0.8493083133394347,
          -1.0609152477969157,
          -1.469355455640693,
          1.102203544886654,
          0.9789753952414446,
          -1.219515842422679,
          -1.0441517795610855,
          0.2804323979633052,
          -0.3944849837527407,
          0.7544188492417558,
          -1.1088178682546639,
          0.1837902883409436,
          -1.0221321290638552,
          0.7823997618515374,
          1.1860800573721049,
          0.03555123929313354,
          -0.08788533678144475,
          -1.0979193923822788,
          0.5231731489710988,
          0.5697924927381082,
          -0.20924153665318343,
          1.3985467032028418,
          1.7004020608481674,
          0.2030413325552144,
          -0.6268391642990602,
          0.3988770551212099,
          0.06965082275610238,
          -1.9116331125018202,
          0.1380241162431082,
          -1.1037926748877243,
          0.8081457348428449,
          -0.9356293594254312,
          -0.0916575756043444,
          0.5779288906452257,
          0.5962772865240996,
          1.515969853059908,
          -1.3425234485560702,
          -0.3600001508909471,
          -0.07624704610784032,
          -1.7522234689232437,
          -0.37257406422804706,
          1.193137958920794,
          1.154637422674318,
          0.31205407485525993,
          0.44184177745646686,
          -1.3778745790073854,
          -1.011665062974858,
          0.03515567990235361,
          0.41947441807572,
          -1.3135785687987815,
          0.3272638323888706,
          -1.0046483036078868,
          0.6876459011460935,
          -0.19200991915835824,
          -0.1546255652119731,
          1.5186581723550163,
          -0.07716251245343556,
          0.5410204542460056
         ]
        },
        {
         "line": {
          "color": "rgba(55, 128, 191, 1.0)",
          "dash": "solid",
          "shape": "linear",
          "width": 1.3
         },
         "mode": "lines",
         "name": "B",
         "text": "",
         "type": "scatter",
         "x": [
          0,
          1,
          2,
          3,
          4,
          5,
          6,
          7,
          8,
          9,
          10,
          11,
          12,
          13,
          14,
          15,
          16,
          17,
          18,
          19,
          20,
          21,
          22,
          23,
          24,
          25,
          26,
          27,
          28,
          29,
          30,
          31,
          32,
          33,
          34,
          35,
          36,
          37,
          38,
          39,
          40,
          41,
          42,
          43,
          44,
          45,
          46,
          47,
          48,
          49,
          50,
          51,
          52,
          53,
          54,
          55,
          56,
          57,
          58,
          59,
          60,
          61,
          62,
          63,
          64,
          65,
          66,
          67,
          68,
          69,
          70,
          71,
          72,
          73,
          74,
          75,
          76,
          77,
          78,
          79,
          80,
          81,
          82,
          83,
          84,
          85,
          86,
          87,
          88,
          89,
          90,
          91,
          92,
          93,
          94,
          95,
          96,
          97,
          98,
          99
         ],
         "y": [
          0.20713171298464164,
          -0.9098290203271999,
          0.6595976436161234,
          1.1391958719025224,
          0.22876136700256824,
          -0.9390175844832885,
          1.40702753694373,
          0.6757395117272006,
          -0.6190602204117278,
          0.9652323468994083,
          1.171138334802606,
          1.9127870674045342,
          0.4741178282201214,
          -2.479844305574245,
          0.8927998703050272,
          -1.491532793139312,
          -0.15493863646237707,
          -0.17367859851820075,
          -0.3910701957760691,
          0.10659597063448929,
          -0.32667053875621144,
          0.7994813604737073,
          -0.4280343716591244,
          -1.150466969038612,
          0.8455562582900276,
          -2.251409282655881,
          0.9821270223673556,
          0.2303455757248052,
          0.04535472902143436,
          -1.2248383310091664,
          1.3674030824397547,
          0.08045700760681646,
          -0.43506133283756054,
          0.24149061558320917,
          -2.0528054626515244,
          0.08373056770003885,
          -0.6361159828889186,
          0.8196960925429025,
          0.8468032243624196,
          -0.10789265679637575,
          -0.5276537406018319,
          -0.5042026403280273,
          0.26276374773287686,
          -1.6144863597671486,
          -0.14370779462404257,
          0.7656677379760024,
          0.7874697232847472,
          -0.8023005621110955,
          0.778255152616999,
          0.5700896498552871,
          -1.0017097238965142,
          -0.6607568163172322,
          1.5905093819220673,
          -1.2110676813411707,
          -0.5601154519339665,
          1.3418467182878748,
          0.6440794160296142,
          -0.39687651490022524,
          -0.4752177292162427,
          0.22650596927963504,
          -0.13680482098526894,
          -0.9673428380469818,
          0.22153028192267313,
          1.7994207743834112,
          -1.003588415564047,
          -0.9112664323687696,
          0.9227233738941317,
          -2.227663388595575,
          0.06724167285175829,
          0.06086377830490128,
          0.3781532535914435,
          1.0079887011567779,
          -2.205453957164551,
          1.164530009463671,
          1.3132946285256442,
          -0.506151267746503,
          -0.05594310018107275,
          0.7545858729175096,
          -0.012902217386942041,
          0.5951414829334419,
          0.12351962806759635,
          -0.38325727961140005,
          -0.6933726532148998,
          2.4415116098964287,
          0.8557274566835281,
          0.7324129287476138,
          -0.8628262713601479,
          0.04756433709781207,
          0.8456812423826571,
          -0.42516235555193016,
          -1.1979961576928366,
          0.5089656233318339,
          0.9803508857671677,
          0.8119129825176856,
          0.03534109009366027,
          -0.17944526405158354,
          0.06161321536565358,
          -0.5760942497350119,
          -0.8844656807832726,
          1.7125044904591131
         ]
        },
        {
         "line": {
          "color": "rgba(50, 171, 96, 1.0)",
          "dash": "solid",
          "shape": "linear",
          "width": 1.3
         },
         "mode": "lines",
         "name": "C",
         "text": "",
         "type": "scatter",
         "x": [
          0,
          1,
          2,
          3,
          4,
          5,
          6,
          7,
          8,
          9,
          10,
          11,
          12,
          13,
          14,
          15,
          16,
          17,
          18,
          19,
          20,
          21,
          22,
          23,
          24,
          25,
          26,
          27,
          28,
          29,
          30,
          31,
          32,
          33,
          34,
          35,
          36,
          37,
          38,
          39,
          40,
          41,
          42,
          43,
          44,
          45,
          46,
          47,
          48,
          49,
          50,
          51,
          52,
          53,
          54,
          55,
          56,
          57,
          58,
          59,
          60,
          61,
          62,
          63,
          64,
          65,
          66,
          67,
          68,
          69,
          70,
          71,
          72,
          73,
          74,
          75,
          76,
          77,
          78,
          79,
          80,
          81,
          82,
          83,
          84,
          85,
          86,
          87,
          88,
          89,
          90,
          91,
          92,
          93,
          94,
          95,
          96,
          97,
          98,
          99
         ],
         "y": [
          -0.1734327179078083,
          1.025281977935646,
          0.202403271941739,
          -0.9834933902244896,
          -0.6474184971807797,
          0.9406868911632378,
          0.3003493689813544,
          -0.747532030840866,
          0.1219500000551959,
          0.12904259385765535,
          -1.2007973492083384,
          -1.0846102717283599,
          1.2810230224396995,
          -0.7090639863368329,
          0.26104238141625064,
          0.6848441923844357,
          1.3712904218858912,
          -1.20861507047745,
          -2.5405455399197185,
          -0.12203039116024908,
          -0.6123589828476048,
          -0.8813710290801637,
          0.10403266515282988,
          -0.26089899633778685,
          -0.4059842516369866,
          1.4187557541977507,
          -1.583138459073382,
          0.5129281122091677,
          1.1652374706613282,
          -0.06728258917509047,
          0.00696080922411059,
          2.3201051260729173,
          -0.3386951531725974,
          2.0000123401643926,
          0.2919076413108785,
          1.8173093195240135,
          -1.4664951424779313,
          -0.3879112807547932,
          -0.5231934268594857,
          -0.14139344505727036,
          -1.100207439833855,
          0.7594443962865002,
          1.2385532475987762,
          -0.759695377875985,
          2.0542853298186423,
          2.210261248274123,
          0.819297640181099,
          0.7048244974399858,
          0.688841842644157,
          -0.5799814981264281,
          2.2515167496768416,
          1.1155921104798137,
          -0.6337498347256617,
          -0.6561852397859022,
          1.1105627550113193,
          1.5348593972668638,
          -0.324936965303408,
          -0.8361104252801637,
          0.7653712969595001,
          0.24907108738950298,
          -1.2317967452216088,
          0.8997703641459304,
          1.1395077801318922,
          0.28847376341816117,
          0.1886156039673864,
          -0.4074341231445621,
          0.7997895526136964,
          -1.0912104356636727,
          0.3119971138291475,
          -0.4185002045442197,
          2.5248181577844178,
          1.3455246110481505,
          -0.3117992178894114,
          -0.31847321483254554,
          1.2131033077720554,
          1.448868825477331,
          -0.24328247881868906,
          -0.3567749124083891,
          -0.16926826070298467,
          -0.35396995301437073,
          -0.8700087169425702,
          -0.14947867980498358,
          -0.040000503325443346,
          -0.21783051862202382,
          0.21673625801784674,
          -0.8960474515146457,
          1.3481557076721484,
          -0.9950879670041042,
          2.0841530694291532,
          -0.7154536902547273,
          -1.3717402491254331,
          -0.48537609341111554,
          -1.4175095023892268,
          -0.13422213336448804,
          1.461727020346443,
          -1.816800058383163,
          1.0812660470410758,
          1.409532907990298,
          -0.4544789634340318,
          0.9615157849938297
         ]
        },
        {
         "line": {
          "color": "rgba(128, 0, 128, 1.0)",
          "dash": "solid",
          "shape": "linear",
          "width": 1.3
         },
         "mode": "lines",
         "name": "D",
         "text": "",
         "type": "scatter",
         "x": [
          0,
          1,
          2,
          3,
          4,
          5,
          6,
          7,
          8,
          9,
          10,
          11,
          12,
          13,
          14,
          15,
          16,
          17,
          18,
          19,
          20,
          21,
          22,
          23,
          24,
          25,
          26,
          27,
          28,
          29,
          30,
          31,
          32,
          33,
          34,
          35,
          36,
          37,
          38,
          39,
          40,
          41,
          42,
          43,
          44,
          45,
          46,
          47,
          48,
          49,
          50,
          51,
          52,
          53,
          54,
          55,
          56,
          57,
          58,
          59,
          60,
          61,
          62,
          63,
          64,
          65,
          66,
          67,
          68,
          69,
          70,
          71,
          72,
          73,
          74,
          75,
          76,
          77,
          78,
          79,
          80,
          81,
          82,
          83,
          84,
          85,
          86,
          87,
          88,
          89,
          90,
          91,
          92,
          93,
          94,
          95,
          96,
          97,
          98,
          99
         ],
         "y": [
          1.704742677700104,
          0.8235667212186872,
          1.586856430834681,
          2.4177509895405196,
          -1.698120880239537,
          0.9513856559545543,
          1.432820319719165,
          0.9319040542152517,
          2.0908949112998574,
          0.24264784705094034,
          1.012562816557507,
          -0.9509606983642789,
          0.21621807050718683,
          -0.812691487194244,
          0.9780952387980227,
          1.3611968402126449,
          0.004019283566734584,
          -0.9802757455225488,
          1.0703293680762096,
          -0.8737621307370945,
          0.8934865318306057,
          1.025346035892475,
          -0.20864015453364615,
          -1.1361297729398474,
          -0.8601631692882453,
          -0.6356786928082033,
          0.27510501242745733,
          -0.4796962814623892,
          -1.1425815068882323,
          1.1769477210528139,
          -0.5911586539291419,
          1.6911962381867163,
          0.967066780353155,
          -0.20991321232926455,
          0.26925268962020554,
          0.1205654135290545,
          0.4182072115762697,
          1.0149652809670269,
          -0.008838220928936583,
          1.0079648026427928,
          1.1579675186119789,
          2.4370866076021303,
          1.5292745938023486,
          0.3248137630341598,
          -1.9441841084541889,
          -0.26571405954830585,
          -0.20792111529154567,
          -0.4780125100587477,
          2.2161345568796147,
          0.4737589191469256,
          -1.0508381422262705,
          0.8770403467531728,
          -0.22110978493067945,
          -2.2878592743711383,
          -0.30491582900244435,
          3.7495097200921577,
          0.5599323269316231,
          1.1316583392984148,
          -0.5369995819663967,
          1.1236996914087098,
          -0.2728036103290317,
          1.2025945197111798,
          0.5122006706361073,
          0.0798180310891348,
          0.7916016394178136,
          -0.11986898411035302,
          1.4128274636634972,
          0.17867288971380324,
          1.2866170372239103,
          1.564280875623778,
          0.176276896701876,
          1.0486357010155423,
          -0.7991681606290977,
          1.6321085185177524,
          -0.4563288302703064,
          0.5805724432555952,
          0.02365351076373204,
          1.105708224153926,
          2.2329202529468497,
          -0.847614118112452,
          0.12878339308990167,
          0.7719078193392097,
          1.5226644749901594,
          0.6210969617087052,
          0.9720772290253814,
          3.4750579106732857,
          -0.31541713625986,
          2.231604606908773,
          -0.17644177261787783,
          0.050996347833518745,
          1.170978845923599,
          0.642974865871924,
          -0.5306803613540669,
          -1.7749250568597061,
          -3.294407031214544,
          -0.11548120498782195,
          -1.1297523562743428,
          0.40717446191210094,
          0.17541836588072568,
          0.2805597335081778
         ]
        }
       ],
       "layout": {
        "legend": {
         "bgcolor": "#F5F6F9",
         "font": {
          "color": "#4D5663"
         }
        },
        "paper_bgcolor": "#F5F6F9",
        "plot_bgcolor": "#F5F6F9",
        "template": {
         "data": {
          "bar": [
           {
            "error_x": {
             "color": "#2a3f5f"
            },
            "error_y": {
             "color": "#2a3f5f"
            },
            "marker": {
             "line": {
              "color": "#E5ECF6",
              "width": 0.5
             },
             "pattern": {
              "fillmode": "overlay",
              "size": 10,
              "solidity": 0.2
             }
            },
            "type": "bar"
           }
          ],
          "barpolar": [
           {
            "marker": {
             "line": {
              "color": "#E5ECF6",
              "width": 0.5
             },
             "pattern": {
              "fillmode": "overlay",
              "size": 10,
              "solidity": 0.2
             }
            },
            "type": "barpolar"
           }
          ],
          "carpet": [
           {
            "aaxis": {
             "endlinecolor": "#2a3f5f",
             "gridcolor": "white",
             "linecolor": "white",
             "minorgridcolor": "white",
             "startlinecolor": "#2a3f5f"
            },
            "baxis": {
             "endlinecolor": "#2a3f5f",
             "gridcolor": "white",
             "linecolor": "white",
             "minorgridcolor": "white",
             "startlinecolor": "#2a3f5f"
            },
            "type": "carpet"
           }
          ],
          "choropleth": [
           {
            "colorbar": {
             "outlinewidth": 0,
             "ticks": ""
            },
            "type": "choropleth"
           }
          ],
          "contour": [
           {
            "colorbar": {
             "outlinewidth": 0,
             "ticks": ""
            },
            "colorscale": [
             [
              0,
              "#0d0887"
             ],
             [
              0.1111111111111111,
              "#46039f"
             ],
             [
              0.2222222222222222,
              "#7201a8"
             ],
             [
              0.3333333333333333,
              "#9c179e"
             ],
             [
              0.4444444444444444,
              "#bd3786"
             ],
             [
              0.5555555555555556,
              "#d8576b"
             ],
             [
              0.6666666666666666,
              "#ed7953"
             ],
             [
              0.7777777777777778,
              "#fb9f3a"
             ],
             [
              0.8888888888888888,
              "#fdca26"
             ],
             [
              1,
              "#f0f921"
             ]
            ],
            "type": "contour"
           }
          ],
          "contourcarpet": [
           {
            "colorbar": {
             "outlinewidth": 0,
             "ticks": ""
            },
            "type": "contourcarpet"
           }
          ],
          "heatmap": [
           {
            "colorbar": {
             "outlinewidth": 0,
             "ticks": ""
            },
            "colorscale": [
             [
              0,
              "#0d0887"
             ],
             [
              0.1111111111111111,
              "#46039f"
             ],
             [
              0.2222222222222222,
              "#7201a8"
             ],
             [
              0.3333333333333333,
              "#9c179e"
             ],
             [
              0.4444444444444444,
              "#bd3786"
             ],
             [
              0.5555555555555556,
              "#d8576b"
             ],
             [
              0.6666666666666666,
              "#ed7953"
             ],
             [
              0.7777777777777778,
              "#fb9f3a"
             ],
             [
              0.8888888888888888,
              "#fdca26"
             ],
             [
              1,
              "#f0f921"
             ]
            ],
            "type": "heatmap"
           }
          ],
          "heatmapgl": [
           {
            "colorbar": {
             "outlinewidth": 0,
             "ticks": ""
            },
            "colorscale": [
             [
              0,
              "#0d0887"
             ],
             [
              0.1111111111111111,
              "#46039f"
             ],
             [
              0.2222222222222222,
              "#7201a8"
             ],
             [
              0.3333333333333333,
              "#9c179e"
             ],
             [
              0.4444444444444444,
              "#bd3786"
             ],
             [
              0.5555555555555556,
              "#d8576b"
             ],
             [
              0.6666666666666666,
              "#ed7953"
             ],
             [
              0.7777777777777778,
              "#fb9f3a"
             ],
             [
              0.8888888888888888,
              "#fdca26"
             ],
             [
              1,
              "#f0f921"
             ]
            ],
            "type": "heatmapgl"
           }
          ],
          "histogram": [
           {
            "marker": {
             "pattern": {
              "fillmode": "overlay",
              "size": 10,
              "solidity": 0.2
             }
            },
            "type": "histogram"
           }
          ],
          "histogram2d": [
           {
            "colorbar": {
             "outlinewidth": 0,
             "ticks": ""
            },
            "colorscale": [
             [
              0,
              "#0d0887"
             ],
             [
              0.1111111111111111,
              "#46039f"
             ],
             [
              0.2222222222222222,
              "#7201a8"
             ],
             [
              0.3333333333333333,
              "#9c179e"
             ],
             [
              0.4444444444444444,
              "#bd3786"
             ],
             [
              0.5555555555555556,
              "#d8576b"
             ],
             [
              0.6666666666666666,
              "#ed7953"
             ],
             [
              0.7777777777777778,
              "#fb9f3a"
             ],
             [
              0.8888888888888888,
              "#fdca26"
             ],
             [
              1,
              "#f0f921"
             ]
            ],
            "type": "histogram2d"
           }
          ],
          "histogram2dcontour": [
           {
            "colorbar": {
             "outlinewidth": 0,
             "ticks": ""
            },
            "colorscale": [
             [
              0,
              "#0d0887"
             ],
             [
              0.1111111111111111,
              "#46039f"
             ],
             [
              0.2222222222222222,
              "#7201a8"
             ],
             [
              0.3333333333333333,
              "#9c179e"
             ],
             [
              0.4444444444444444,
              "#bd3786"
             ],
             [
              0.5555555555555556,
              "#d8576b"
             ],
             [
              0.6666666666666666,
              "#ed7953"
             ],
             [
              0.7777777777777778,
              "#fb9f3a"
             ],
             [
              0.8888888888888888,
              "#fdca26"
             ],
             [
              1,
              "#f0f921"
             ]
            ],
            "type": "histogram2dcontour"
           }
          ],
          "mesh3d": [
           {
            "colorbar": {
             "outlinewidth": 0,
             "ticks": ""
            },
            "type": "mesh3d"
           }
          ],
          "parcoords": [
           {
            "line": {
             "colorbar": {
              "outlinewidth": 0,
              "ticks": ""
             }
            },
            "type": "parcoords"
           }
          ],
          "pie": [
           {
            "automargin": true,
            "type": "pie"
           }
          ],
          "scatter": [
           {
            "fillpattern": {
             "fillmode": "overlay",
             "size": 10,
             "solidity": 0.2
            },
            "type": "scatter"
           }
          ],
          "scatter3d": [
           {
            "line": {
             "colorbar": {
              "outlinewidth": 0,
              "ticks": ""
             }
            },
            "marker": {
             "colorbar": {
              "outlinewidth": 0,
              "ticks": ""
             }
            },
            "type": "scatter3d"
           }
          ],
          "scattercarpet": [
           {
            "marker": {
             "colorbar": {
              "outlinewidth": 0,
              "ticks": ""
             }
            },
            "type": "scattercarpet"
           }
          ],
          "scattergeo": [
           {
            "marker": {
             "colorbar": {
              "outlinewidth": 0,
              "ticks": ""
             }
            },
            "type": "scattergeo"
           }
          ],
          "scattergl": [
           {
            "marker": {
             "colorbar": {
              "outlinewidth": 0,
              "ticks": ""
             }
            },
            "type": "scattergl"
           }
          ],
          "scattermapbox": [
           {
            "marker": {
             "colorbar": {
              "outlinewidth": 0,
              "ticks": ""
             }
            },
            "type": "scattermapbox"
           }
          ],
          "scatterpolar": [
           {
            "marker": {
             "colorbar": {
              "outlinewidth": 0,
              "ticks": ""
             }
            },
            "type": "scatterpolar"
           }
          ],
          "scatterpolargl": [
           {
            "marker": {
             "colorbar": {
              "outlinewidth": 0,
              "ticks": ""
             }
            },
            "type": "scatterpolargl"
           }
          ],
          "scatterternary": [
           {
            "marker": {
             "colorbar": {
              "outlinewidth": 0,
              "ticks": ""
             }
            },
            "type": "scatterternary"
           }
          ],
          "surface": [
           {
            "colorbar": {
             "outlinewidth": 0,
             "ticks": ""
            },
            "colorscale": [
             [
              0,
              "#0d0887"
             ],
             [
              0.1111111111111111,
              "#46039f"
             ],
             [
              0.2222222222222222,
              "#7201a8"
             ],
             [
              0.3333333333333333,
              "#9c179e"
             ],
             [
              0.4444444444444444,
              "#bd3786"
             ],
             [
              0.5555555555555556,
              "#d8576b"
             ],
             [
              0.6666666666666666,
              "#ed7953"
             ],
             [
              0.7777777777777778,
              "#fb9f3a"
             ],
             [
              0.8888888888888888,
              "#fdca26"
             ],
             [
              1,
              "#f0f921"
             ]
            ],
            "type": "surface"
           }
          ],
          "table": [
           {
            "cells": {
             "fill": {
              "color": "#EBF0F8"
             },
             "line": {
              "color": "white"
             }
            },
            "header": {
             "fill": {
              "color": "#C8D4E3"
             },
             "line": {
              "color": "white"
             }
            },
            "type": "table"
           }
          ]
         },
         "layout": {
          "annotationdefaults": {
           "arrowcolor": "#2a3f5f",
           "arrowhead": 0,
           "arrowwidth": 1
          },
          "autotypenumbers": "strict",
          "coloraxis": {
           "colorbar": {
            "outlinewidth": 0,
            "ticks": ""
           }
          },
          "colorscale": {
           "diverging": [
            [
             0,
             "#8e0152"
            ],
            [
             0.1,
             "#c51b7d"
            ],
            [
             0.2,
             "#de77ae"
            ],
            [
             0.3,
             "#f1b6da"
            ],
            [
             0.4,
             "#fde0ef"
            ],
            [
             0.5,
             "#f7f7f7"
            ],
            [
             0.6,
             "#e6f5d0"
            ],
            [
             0.7,
             "#b8e186"
            ],
            [
             0.8,
             "#7fbc41"
            ],
            [
             0.9,
             "#4d9221"
            ],
            [
             1,
             "#276419"
            ]
           ],
           "sequential": [
            [
             0,
             "#0d0887"
            ],
            [
             0.1111111111111111,
             "#46039f"
            ],
            [
             0.2222222222222222,
             "#7201a8"
            ],
            [
             0.3333333333333333,
             "#9c179e"
            ],
            [
             0.4444444444444444,
             "#bd3786"
            ],
            [
             0.5555555555555556,
             "#d8576b"
            ],
            [
             0.6666666666666666,
             "#ed7953"
            ],
            [
             0.7777777777777778,
             "#fb9f3a"
            ],
            [
             0.8888888888888888,
             "#fdca26"
            ],
            [
             1,
             "#f0f921"
            ]
           ],
           "sequentialminus": [
            [
             0,
             "#0d0887"
            ],
            [
             0.1111111111111111,
             "#46039f"
            ],
            [
             0.2222222222222222,
             "#7201a8"
            ],
            [
             0.3333333333333333,
             "#9c179e"
            ],
            [
             0.4444444444444444,
             "#bd3786"
            ],
            [
             0.5555555555555556,
             "#d8576b"
            ],
            [
             0.6666666666666666,
             "#ed7953"
            ],
            [
             0.7777777777777778,
             "#fb9f3a"
            ],
            [
             0.8888888888888888,
             "#fdca26"
            ],
            [
             1,
             "#f0f921"
            ]
           ]
          },
          "colorway": [
           "#636efa",
           "#EF553B",
           "#00cc96",
           "#ab63fa",
           "#FFA15A",
           "#19d3f3",
           "#FF6692",
           "#B6E880",
           "#FF97FF",
           "#FECB52"
          ],
          "font": {
           "color": "#2a3f5f"
          },
          "geo": {
           "bgcolor": "white",
           "lakecolor": "white",
           "landcolor": "#E5ECF6",
           "showlakes": true,
           "showland": true,
           "subunitcolor": "white"
          },
          "hoverlabel": {
           "align": "left"
          },
          "hovermode": "closest",
          "mapbox": {
           "style": "light"
          },
          "paper_bgcolor": "white",
          "plot_bgcolor": "#E5ECF6",
          "polar": {
           "angularaxis": {
            "gridcolor": "white",
            "linecolor": "white",
            "ticks": ""
           },
           "bgcolor": "#E5ECF6",
           "radialaxis": {
            "gridcolor": "white",
            "linecolor": "white",
            "ticks": ""
           }
          },
          "scene": {
           "xaxis": {
            "backgroundcolor": "#E5ECF6",
            "gridcolor": "white",
            "gridwidth": 2,
            "linecolor": "white",
            "showbackground": true,
            "ticks": "",
            "zerolinecolor": "white"
           },
           "yaxis": {
            "backgroundcolor": "#E5ECF6",
            "gridcolor": "white",
            "gridwidth": 2,
            "linecolor": "white",
            "showbackground": true,
            "ticks": "",
            "zerolinecolor": "white"
           },
           "zaxis": {
            "backgroundcolor": "#E5ECF6",
            "gridcolor": "white",
            "gridwidth": 2,
            "linecolor": "white",
            "showbackground": true,
            "ticks": "",
            "zerolinecolor": "white"
           }
          },
          "shapedefaults": {
           "line": {
            "color": "#2a3f5f"
           }
          },
          "ternary": {
           "aaxis": {
            "gridcolor": "white",
            "linecolor": "white",
            "ticks": ""
           },
           "baxis": {
            "gridcolor": "white",
            "linecolor": "white",
            "ticks": ""
           },
           "bgcolor": "#E5ECF6",
           "caxis": {
            "gridcolor": "white",
            "linecolor": "white",
            "ticks": ""
           }
          },
          "title": {
           "x": 0.05
          },
          "xaxis": {
           "automargin": true,
           "gridcolor": "white",
           "linecolor": "white",
           "ticks": "",
           "title": {
            "standoff": 15
           },
           "zerolinecolor": "white",
           "zerolinewidth": 2
          },
          "yaxis": {
           "automargin": true,
           "gridcolor": "white",
           "linecolor": "white",
           "ticks": "",
           "title": {
            "standoff": 15
           },
           "zerolinecolor": "white",
           "zerolinewidth": 2
          }
         }
        },
        "title": {
         "font": {
          "color": "#4D5663"
         }
        },
        "xaxis": {
         "gridcolor": "#E1E5ED",
         "showgrid": true,
         "tickfont": {
          "color": "#4D5663"
         },
         "title": {
          "font": {
           "color": "#4D5663"
          },
          "text": ""
         },
         "zerolinecolor": "#E1E5ED"
        },
        "yaxis": {
         "gridcolor": "#E1E5ED",
         "showgrid": true,
         "tickfont": {
          "color": "#4D5663"
         },
         "title": {
          "font": {
           "color": "#4D5663"
          },
          "text": ""
         },
         "zerolinecolor": "#E1E5ED"
        }
       }
      },
      "text/html": [
       "<div>                            <div id=\"3791a842-4663-4838-9f48-4cc3ec5d90a0\" class=\"plotly-graph-div\" style=\"height:525px; width:100%;\"></div>            <script type=\"text/javascript\">                require([\"plotly\"], function(Plotly) {                    window.PLOTLYENV=window.PLOTLYENV || {};\n",
       "                    window.PLOTLYENV.BASE_URL='https://plot.ly';                                    if (document.getElementById(\"3791a842-4663-4838-9f48-4cc3ec5d90a0\")) {                    Plotly.newPlot(                        \"3791a842-4663-4838-9f48-4cc3ec5d90a0\",                        [{\"line\":{\"color\":\"rgba(255, 153, 51, 1.0)\",\"dash\":\"solid\",\"shape\":\"linear\",\"width\":1.3},\"mode\":\"lines\",\"name\":\"A\",\"text\":\"\",\"x\":[0,1,2,3,4,5,6,7,8,9,10,11,12,13,14,15,16,17,18,19,20,21,22,23,24,25,26,27,28,29,30,31,32,33,34,35,36,37,38,39,40,41,42,43,44,45,46,47,48,49,50,51,52,53,54,55,56,57,58,59,60,61,62,63,64,65,66,67,68,69,70,71,72,73,74,75,76,77,78,79,80,81,82,83,84,85,86,87,88,89,90,91,92,93,94,95,96,97,98,99],\"y\":[-1.9903004256683205,-0.44331522383487904,0.5522209986709692,-0.8761307777820353,1.1989648408531712,1.107396907449335,-0.029371122099748383,0.3056333470056156,-0.4955087979621365,-0.6520420406756742,-2.5267952417248734,0.28866743458960153,-1.4316957620782398,-0.6044368465373989,-0.7835590378190067,-0.12675905868030538,-0.8723173151421462,-1.3441213992499,0.9239839346598812,-0.37358758223316085,0.9588303627419025,-0.1052825661486228,0.38119597175663916,0.3576427427245764,-0.5702151234625347,-0.5572216628600934,0.017719846225363156,1.2887145074843485,-0.7411771478820481,-0.6419864197153446,1.1972219508024184,0.25945352369678465,1.2969932581570864,-0.766403700861819,-0.5880695192706119,0.23921319399362173,0.41198072881213454,0.8298012119060374,-0.39388130471441646,-0.9685240289521347,-1.5016621442024582,0.2224241435501135,-0.8493083133394347,-1.0609152477969157,-1.469355455640693,1.102203544886654,0.9789753952414446,-1.219515842422679,-1.0441517795610855,0.2804323979633052,-0.3944849837527407,0.7544188492417558,-1.1088178682546639,0.1837902883409436,-1.0221321290638552,0.7823997618515374,1.1860800573721049,0.03555123929313354,-0.08788533678144475,-1.0979193923822788,0.5231731489710988,0.5697924927381082,-0.20924153665318343,1.3985467032028418,1.7004020608481674,0.2030413325552144,-0.6268391642990602,0.3988770551212099,0.06965082275610238,-1.9116331125018202,0.1380241162431082,-1.1037926748877243,0.8081457348428449,-0.9356293594254312,-0.0916575756043444,0.5779288906452257,0.5962772865240996,1.515969853059908,-1.3425234485560702,-0.3600001508909471,-0.07624704610784032,-1.7522234689232437,-0.37257406422804706,1.193137958920794,1.154637422674318,0.31205407485525993,0.44184177745646686,-1.3778745790073854,-1.011665062974858,0.03515567990235361,0.41947441807572,-1.3135785687987815,0.3272638323888706,-1.0046483036078868,0.6876459011460935,-0.19200991915835824,-0.1546255652119731,1.5186581723550163,-0.07716251245343556,0.5410204542460056],\"type\":\"scatter\"},{\"line\":{\"color\":\"rgba(55, 128, 191, 1.0)\",\"dash\":\"solid\",\"shape\":\"linear\",\"width\":1.3},\"mode\":\"lines\",\"name\":\"B\",\"text\":\"\",\"x\":[0,1,2,3,4,5,6,7,8,9,10,11,12,13,14,15,16,17,18,19,20,21,22,23,24,25,26,27,28,29,30,31,32,33,34,35,36,37,38,39,40,41,42,43,44,45,46,47,48,49,50,51,52,53,54,55,56,57,58,59,60,61,62,63,64,65,66,67,68,69,70,71,72,73,74,75,76,77,78,79,80,81,82,83,84,85,86,87,88,89,90,91,92,93,94,95,96,97,98,99],\"y\":[0.20713171298464164,-0.9098290203271999,0.6595976436161234,1.1391958719025224,0.22876136700256824,-0.9390175844832885,1.40702753694373,0.6757395117272006,-0.6190602204117278,0.9652323468994083,1.171138334802606,1.9127870674045342,0.4741178282201214,-2.479844305574245,0.8927998703050272,-1.491532793139312,-0.15493863646237707,-0.17367859851820075,-0.3910701957760691,0.10659597063448929,-0.32667053875621144,0.7994813604737073,-0.4280343716591244,-1.150466969038612,0.8455562582900276,-2.251409282655881,0.9821270223673556,0.2303455757248052,0.04535472902143436,-1.2248383310091664,1.3674030824397547,0.08045700760681646,-0.43506133283756054,0.24149061558320917,-2.0528054626515244,0.08373056770003885,-0.6361159828889186,0.8196960925429025,0.8468032243624196,-0.10789265679637575,-0.5276537406018319,-0.5042026403280273,0.26276374773287686,-1.6144863597671486,-0.14370779462404257,0.7656677379760024,0.7874697232847472,-0.8023005621110955,0.778255152616999,0.5700896498552871,-1.0017097238965142,-0.6607568163172322,1.5905093819220673,-1.2110676813411707,-0.5601154519339665,1.3418467182878748,0.6440794160296142,-0.39687651490022524,-0.4752177292162427,0.22650596927963504,-0.13680482098526894,-0.9673428380469818,0.22153028192267313,1.7994207743834112,-1.003588415564047,-0.9112664323687696,0.9227233738941317,-2.227663388595575,0.06724167285175829,0.06086377830490128,0.3781532535914435,1.0079887011567779,-2.205453957164551,1.164530009463671,1.3132946285256442,-0.506151267746503,-0.05594310018107275,0.7545858729175096,-0.012902217386942041,0.5951414829334419,0.12351962806759635,-0.38325727961140005,-0.6933726532148998,2.4415116098964287,0.8557274566835281,0.7324129287476138,-0.8628262713601479,0.04756433709781207,0.8456812423826571,-0.42516235555193016,-1.1979961576928366,0.5089656233318339,0.9803508857671677,0.8119129825176856,0.03534109009366027,-0.17944526405158354,0.06161321536565358,-0.5760942497350119,-0.8844656807832726,1.7125044904591131],\"type\":\"scatter\"},{\"line\":{\"color\":\"rgba(50, 171, 96, 1.0)\",\"dash\":\"solid\",\"shape\":\"linear\",\"width\":1.3},\"mode\":\"lines\",\"name\":\"C\",\"text\":\"\",\"x\":[0,1,2,3,4,5,6,7,8,9,10,11,12,13,14,15,16,17,18,19,20,21,22,23,24,25,26,27,28,29,30,31,32,33,34,35,36,37,38,39,40,41,42,43,44,45,46,47,48,49,50,51,52,53,54,55,56,57,58,59,60,61,62,63,64,65,66,67,68,69,70,71,72,73,74,75,76,77,78,79,80,81,82,83,84,85,86,87,88,89,90,91,92,93,94,95,96,97,98,99],\"y\":[-0.1734327179078083,1.025281977935646,0.202403271941739,-0.9834933902244896,-0.6474184971807797,0.9406868911632378,0.3003493689813544,-0.747532030840866,0.1219500000551959,0.12904259385765535,-1.2007973492083384,-1.0846102717283599,1.2810230224396995,-0.7090639863368329,0.26104238141625064,0.6848441923844357,1.3712904218858912,-1.20861507047745,-2.5405455399197185,-0.12203039116024908,-0.6123589828476048,-0.8813710290801637,0.10403266515282988,-0.26089899633778685,-0.4059842516369866,1.4187557541977507,-1.583138459073382,0.5129281122091677,1.1652374706613282,-0.06728258917509047,0.00696080922411059,2.3201051260729173,-0.3386951531725974,2.0000123401643926,0.2919076413108785,1.8173093195240135,-1.4664951424779313,-0.3879112807547932,-0.5231934268594857,-0.14139344505727036,-1.100207439833855,0.7594443962865002,1.2385532475987762,-0.759695377875985,2.0542853298186423,2.210261248274123,0.819297640181099,0.7048244974399858,0.688841842644157,-0.5799814981264281,2.2515167496768416,1.1155921104798137,-0.6337498347256617,-0.6561852397859022,1.1105627550113193,1.5348593972668638,-0.324936965303408,-0.8361104252801637,0.7653712969595001,0.24907108738950298,-1.2317967452216088,0.8997703641459304,1.1395077801318922,0.28847376341816117,0.1886156039673864,-0.4074341231445621,0.7997895526136964,-1.0912104356636727,0.3119971138291475,-0.4185002045442197,2.5248181577844178,1.3455246110481505,-0.3117992178894114,-0.31847321483254554,1.2131033077720554,1.448868825477331,-0.24328247881868906,-0.3567749124083891,-0.16926826070298467,-0.35396995301437073,-0.8700087169425702,-0.14947867980498358,-0.040000503325443346,-0.21783051862202382,0.21673625801784674,-0.8960474515146457,1.3481557076721484,-0.9950879670041042,2.0841530694291532,-0.7154536902547273,-1.3717402491254331,-0.48537609341111554,-1.4175095023892268,-0.13422213336448804,1.461727020346443,-1.816800058383163,1.0812660470410758,1.409532907990298,-0.4544789634340318,0.9615157849938297],\"type\":\"scatter\"},{\"line\":{\"color\":\"rgba(128, 0, 128, 1.0)\",\"dash\":\"solid\",\"shape\":\"linear\",\"width\":1.3},\"mode\":\"lines\",\"name\":\"D\",\"text\":\"\",\"x\":[0,1,2,3,4,5,6,7,8,9,10,11,12,13,14,15,16,17,18,19,20,21,22,23,24,25,26,27,28,29,30,31,32,33,34,35,36,37,38,39,40,41,42,43,44,45,46,47,48,49,50,51,52,53,54,55,56,57,58,59,60,61,62,63,64,65,66,67,68,69,70,71,72,73,74,75,76,77,78,79,80,81,82,83,84,85,86,87,88,89,90,91,92,93,94,95,96,97,98,99],\"y\":[1.704742677700104,0.8235667212186872,1.586856430834681,2.4177509895405196,-1.698120880239537,0.9513856559545543,1.432820319719165,0.9319040542152517,2.0908949112998574,0.24264784705094034,1.012562816557507,-0.9509606983642789,0.21621807050718683,-0.812691487194244,0.9780952387980227,1.3611968402126449,0.004019283566734584,-0.9802757455225488,1.0703293680762096,-0.8737621307370945,0.8934865318306057,1.025346035892475,-0.20864015453364615,-1.1361297729398474,-0.8601631692882453,-0.6356786928082033,0.27510501242745733,-0.4796962814623892,-1.1425815068882323,1.1769477210528139,-0.5911586539291419,1.6911962381867163,0.967066780353155,-0.20991321232926455,0.26925268962020554,0.1205654135290545,0.4182072115762697,1.0149652809670269,-0.008838220928936583,1.0079648026427928,1.1579675186119789,2.4370866076021303,1.5292745938023486,0.3248137630341598,-1.9441841084541889,-0.26571405954830585,-0.20792111529154567,-0.4780125100587477,2.2161345568796147,0.4737589191469256,-1.0508381422262705,0.8770403467531728,-0.22110978493067945,-2.2878592743711383,-0.30491582900244435,3.7495097200921577,0.5599323269316231,1.1316583392984148,-0.5369995819663967,1.1236996914087098,-0.2728036103290317,1.2025945197111798,0.5122006706361073,0.0798180310891348,0.7916016394178136,-0.11986898411035302,1.4128274636634972,0.17867288971380324,1.2866170372239103,1.564280875623778,0.176276896701876,1.0486357010155423,-0.7991681606290977,1.6321085185177524,-0.4563288302703064,0.5805724432555952,0.02365351076373204,1.105708224153926,2.2329202529468497,-0.847614118112452,0.12878339308990167,0.7719078193392097,1.5226644749901594,0.6210969617087052,0.9720772290253814,3.4750579106732857,-0.31541713625986,2.231604606908773,-0.17644177261787783,0.050996347833518745,1.170978845923599,0.642974865871924,-0.5306803613540669,-1.7749250568597061,-3.294407031214544,-0.11548120498782195,-1.1297523562743428,0.40717446191210094,0.17541836588072568,0.2805597335081778],\"type\":\"scatter\"}],                        {\"legend\":{\"bgcolor\":\"#F5F6F9\",\"font\":{\"color\":\"#4D5663\"}},\"paper_bgcolor\":\"#F5F6F9\",\"plot_bgcolor\":\"#F5F6F9\",\"template\":{\"data\":{\"barpolar\":[{\"marker\":{\"line\":{\"color\":\"#E5ECF6\",\"width\":0.5},\"pattern\":{\"fillmode\":\"overlay\",\"size\":10,\"solidity\":0.2}},\"type\":\"barpolar\"}],\"bar\":[{\"error_x\":{\"color\":\"#2a3f5f\"},\"error_y\":{\"color\":\"#2a3f5f\"},\"marker\":{\"line\":{\"color\":\"#E5ECF6\",\"width\":0.5},\"pattern\":{\"fillmode\":\"overlay\",\"size\":10,\"solidity\":0.2}},\"type\":\"bar\"}],\"carpet\":[{\"aaxis\":{\"endlinecolor\":\"#2a3f5f\",\"gridcolor\":\"white\",\"linecolor\":\"white\",\"minorgridcolor\":\"white\",\"startlinecolor\":\"#2a3f5f\"},\"baxis\":{\"endlinecolor\":\"#2a3f5f\",\"gridcolor\":\"white\",\"linecolor\":\"white\",\"minorgridcolor\":\"white\",\"startlinecolor\":\"#2a3f5f\"},\"type\":\"carpet\"}],\"choropleth\":[{\"colorbar\":{\"outlinewidth\":0,\"ticks\":\"\"},\"type\":\"choropleth\"}],\"contourcarpet\":[{\"colorbar\":{\"outlinewidth\":0,\"ticks\":\"\"},\"type\":\"contourcarpet\"}],\"contour\":[{\"colorbar\":{\"outlinewidth\":0,\"ticks\":\"\"},\"colorscale\":[[0.0,\"#0d0887\"],[0.1111111111111111,\"#46039f\"],[0.2222222222222222,\"#7201a8\"],[0.3333333333333333,\"#9c179e\"],[0.4444444444444444,\"#bd3786\"],[0.5555555555555556,\"#d8576b\"],[0.6666666666666666,\"#ed7953\"],[0.7777777777777778,\"#fb9f3a\"],[0.8888888888888888,\"#fdca26\"],[1.0,\"#f0f921\"]],\"type\":\"contour\"}],\"heatmapgl\":[{\"colorbar\":{\"outlinewidth\":0,\"ticks\":\"\"},\"colorscale\":[[0.0,\"#0d0887\"],[0.1111111111111111,\"#46039f\"],[0.2222222222222222,\"#7201a8\"],[0.3333333333333333,\"#9c179e\"],[0.4444444444444444,\"#bd3786\"],[0.5555555555555556,\"#d8576b\"],[0.6666666666666666,\"#ed7953\"],[0.7777777777777778,\"#fb9f3a\"],[0.8888888888888888,\"#fdca26\"],[1.0,\"#f0f921\"]],\"type\":\"heatmapgl\"}],\"heatmap\":[{\"colorbar\":{\"outlinewidth\":0,\"ticks\":\"\"},\"colorscale\":[[0.0,\"#0d0887\"],[0.1111111111111111,\"#46039f\"],[0.2222222222222222,\"#7201a8\"],[0.3333333333333333,\"#9c179e\"],[0.4444444444444444,\"#bd3786\"],[0.5555555555555556,\"#d8576b\"],[0.6666666666666666,\"#ed7953\"],[0.7777777777777778,\"#fb9f3a\"],[0.8888888888888888,\"#fdca26\"],[1.0,\"#f0f921\"]],\"type\":\"heatmap\"}],\"histogram2dcontour\":[{\"colorbar\":{\"outlinewidth\":0,\"ticks\":\"\"},\"colorscale\":[[0.0,\"#0d0887\"],[0.1111111111111111,\"#46039f\"],[0.2222222222222222,\"#7201a8\"],[0.3333333333333333,\"#9c179e\"],[0.4444444444444444,\"#bd3786\"],[0.5555555555555556,\"#d8576b\"],[0.6666666666666666,\"#ed7953\"],[0.7777777777777778,\"#fb9f3a\"],[0.8888888888888888,\"#fdca26\"],[1.0,\"#f0f921\"]],\"type\":\"histogram2dcontour\"}],\"histogram2d\":[{\"colorbar\":{\"outlinewidth\":0,\"ticks\":\"\"},\"colorscale\":[[0.0,\"#0d0887\"],[0.1111111111111111,\"#46039f\"],[0.2222222222222222,\"#7201a8\"],[0.3333333333333333,\"#9c179e\"],[0.4444444444444444,\"#bd3786\"],[0.5555555555555556,\"#d8576b\"],[0.6666666666666666,\"#ed7953\"],[0.7777777777777778,\"#fb9f3a\"],[0.8888888888888888,\"#fdca26\"],[1.0,\"#f0f921\"]],\"type\":\"histogram2d\"}],\"histogram\":[{\"marker\":{\"pattern\":{\"fillmode\":\"overlay\",\"size\":10,\"solidity\":0.2}},\"type\":\"histogram\"}],\"mesh3d\":[{\"colorbar\":{\"outlinewidth\":0,\"ticks\":\"\"},\"type\":\"mesh3d\"}],\"parcoords\":[{\"line\":{\"colorbar\":{\"outlinewidth\":0,\"ticks\":\"\"}},\"type\":\"parcoords\"}],\"pie\":[{\"automargin\":true,\"type\":\"pie\"}],\"scatter3d\":[{\"line\":{\"colorbar\":{\"outlinewidth\":0,\"ticks\":\"\"}},\"marker\":{\"colorbar\":{\"outlinewidth\":0,\"ticks\":\"\"}},\"type\":\"scatter3d\"}],\"scattercarpet\":[{\"marker\":{\"colorbar\":{\"outlinewidth\":0,\"ticks\":\"\"}},\"type\":\"scattercarpet\"}],\"scattergeo\":[{\"marker\":{\"colorbar\":{\"outlinewidth\":0,\"ticks\":\"\"}},\"type\":\"scattergeo\"}],\"scattergl\":[{\"marker\":{\"colorbar\":{\"outlinewidth\":0,\"ticks\":\"\"}},\"type\":\"scattergl\"}],\"scattermapbox\":[{\"marker\":{\"colorbar\":{\"outlinewidth\":0,\"ticks\":\"\"}},\"type\":\"scattermapbox\"}],\"scatterpolargl\":[{\"marker\":{\"colorbar\":{\"outlinewidth\":0,\"ticks\":\"\"}},\"type\":\"scatterpolargl\"}],\"scatterpolar\":[{\"marker\":{\"colorbar\":{\"outlinewidth\":0,\"ticks\":\"\"}},\"type\":\"scatterpolar\"}],\"scatter\":[{\"fillpattern\":{\"fillmode\":\"overlay\",\"size\":10,\"solidity\":0.2},\"type\":\"scatter\"}],\"scatterternary\":[{\"marker\":{\"colorbar\":{\"outlinewidth\":0,\"ticks\":\"\"}},\"type\":\"scatterternary\"}],\"surface\":[{\"colorbar\":{\"outlinewidth\":0,\"ticks\":\"\"},\"colorscale\":[[0.0,\"#0d0887\"],[0.1111111111111111,\"#46039f\"],[0.2222222222222222,\"#7201a8\"],[0.3333333333333333,\"#9c179e\"],[0.4444444444444444,\"#bd3786\"],[0.5555555555555556,\"#d8576b\"],[0.6666666666666666,\"#ed7953\"],[0.7777777777777778,\"#fb9f3a\"],[0.8888888888888888,\"#fdca26\"],[1.0,\"#f0f921\"]],\"type\":\"surface\"}],\"table\":[{\"cells\":{\"fill\":{\"color\":\"#EBF0F8\"},\"line\":{\"color\":\"white\"}},\"header\":{\"fill\":{\"color\":\"#C8D4E3\"},\"line\":{\"color\":\"white\"}},\"type\":\"table\"}]},\"layout\":{\"annotationdefaults\":{\"arrowcolor\":\"#2a3f5f\",\"arrowhead\":0,\"arrowwidth\":1},\"autotypenumbers\":\"strict\",\"coloraxis\":{\"colorbar\":{\"outlinewidth\":0,\"ticks\":\"\"}},\"colorscale\":{\"diverging\":[[0,\"#8e0152\"],[0.1,\"#c51b7d\"],[0.2,\"#de77ae\"],[0.3,\"#f1b6da\"],[0.4,\"#fde0ef\"],[0.5,\"#f7f7f7\"],[0.6,\"#e6f5d0\"],[0.7,\"#b8e186\"],[0.8,\"#7fbc41\"],[0.9,\"#4d9221\"],[1,\"#276419\"]],\"sequential\":[[0.0,\"#0d0887\"],[0.1111111111111111,\"#46039f\"],[0.2222222222222222,\"#7201a8\"],[0.3333333333333333,\"#9c179e\"],[0.4444444444444444,\"#bd3786\"],[0.5555555555555556,\"#d8576b\"],[0.6666666666666666,\"#ed7953\"],[0.7777777777777778,\"#fb9f3a\"],[0.8888888888888888,\"#fdca26\"],[1.0,\"#f0f921\"]],\"sequentialminus\":[[0.0,\"#0d0887\"],[0.1111111111111111,\"#46039f\"],[0.2222222222222222,\"#7201a8\"],[0.3333333333333333,\"#9c179e\"],[0.4444444444444444,\"#bd3786\"],[0.5555555555555556,\"#d8576b\"],[0.6666666666666666,\"#ed7953\"],[0.7777777777777778,\"#fb9f3a\"],[0.8888888888888888,\"#fdca26\"],[1.0,\"#f0f921\"]]},\"colorway\":[\"#636efa\",\"#EF553B\",\"#00cc96\",\"#ab63fa\",\"#FFA15A\",\"#19d3f3\",\"#FF6692\",\"#B6E880\",\"#FF97FF\",\"#FECB52\"],\"font\":{\"color\":\"#2a3f5f\"},\"geo\":{\"bgcolor\":\"white\",\"lakecolor\":\"white\",\"landcolor\":\"#E5ECF6\",\"showlakes\":true,\"showland\":true,\"subunitcolor\":\"white\"},\"hoverlabel\":{\"align\":\"left\"},\"hovermode\":\"closest\",\"mapbox\":{\"style\":\"light\"},\"paper_bgcolor\":\"white\",\"plot_bgcolor\":\"#E5ECF6\",\"polar\":{\"angularaxis\":{\"gridcolor\":\"white\",\"linecolor\":\"white\",\"ticks\":\"\"},\"bgcolor\":\"#E5ECF6\",\"radialaxis\":{\"gridcolor\":\"white\",\"linecolor\":\"white\",\"ticks\":\"\"}},\"scene\":{\"xaxis\":{\"backgroundcolor\":\"#E5ECF6\",\"gridcolor\":\"white\",\"gridwidth\":2,\"linecolor\":\"white\",\"showbackground\":true,\"ticks\":\"\",\"zerolinecolor\":\"white\"},\"yaxis\":{\"backgroundcolor\":\"#E5ECF6\",\"gridcolor\":\"white\",\"gridwidth\":2,\"linecolor\":\"white\",\"showbackground\":true,\"ticks\":\"\",\"zerolinecolor\":\"white\"},\"zaxis\":{\"backgroundcolor\":\"#E5ECF6\",\"gridcolor\":\"white\",\"gridwidth\":2,\"linecolor\":\"white\",\"showbackground\":true,\"ticks\":\"\",\"zerolinecolor\":\"white\"}},\"shapedefaults\":{\"line\":{\"color\":\"#2a3f5f\"}},\"ternary\":{\"aaxis\":{\"gridcolor\":\"white\",\"linecolor\":\"white\",\"ticks\":\"\"},\"baxis\":{\"gridcolor\":\"white\",\"linecolor\":\"white\",\"ticks\":\"\"},\"bgcolor\":\"#E5ECF6\",\"caxis\":{\"gridcolor\":\"white\",\"linecolor\":\"white\",\"ticks\":\"\"}},\"title\":{\"x\":0.05},\"xaxis\":{\"automargin\":true,\"gridcolor\":\"white\",\"linecolor\":\"white\",\"ticks\":\"\",\"title\":{\"standoff\":15},\"zerolinecolor\":\"white\",\"zerolinewidth\":2},\"yaxis\":{\"automargin\":true,\"gridcolor\":\"white\",\"linecolor\":\"white\",\"ticks\":\"\",\"title\":{\"standoff\":15},\"zerolinecolor\":\"white\",\"zerolinewidth\":2}}},\"title\":{\"font\":{\"color\":\"#4D5663\"}},\"xaxis\":{\"gridcolor\":\"#E1E5ED\",\"showgrid\":true,\"tickfont\":{\"color\":\"#4D5663\"},\"title\":{\"font\":{\"color\":\"#4D5663\"},\"text\":\"\"},\"zerolinecolor\":\"#E1E5ED\"},\"yaxis\":{\"gridcolor\":\"#E1E5ED\",\"showgrid\":true,\"tickfont\":{\"color\":\"#4D5663\"},\"title\":{\"font\":{\"color\":\"#4D5663\"},\"text\":\"\"},\"zerolinecolor\":\"#E1E5ED\"}},                        {\"showLink\": true, \"linkText\": \"Export to plot.ly\", \"plotlyServerURL\": \"https://plot.ly\", \"responsive\": true}                    ).then(function(){\n",
       "                            \n",
       "var gd = document.getElementById('3791a842-4663-4838-9f48-4cc3ec5d90a0');\n",
       "var x = new MutationObserver(function (mutations, observer) {{\n",
       "        var display = window.getComputedStyle(gd).display;\n",
       "        if (!display || display === 'none') {{\n",
       "            console.log([gd, 'removed!']);\n",
       "            Plotly.purge(gd);\n",
       "            observer.disconnect();\n",
       "        }}\n",
       "}});\n",
       "\n",
       "// Listen for the removal of the full notebook cells\n",
       "var notebookContainer = gd.closest('#notebook-container');\n",
       "if (notebookContainer) {{\n",
       "    x.observe(notebookContainer, {childList: true});\n",
       "}}\n",
       "\n",
       "// Listen for the clearing of the current output cell\n",
       "var outputEl = gd.closest('.output');\n",
       "if (outputEl) {{\n",
       "    x.observe(outputEl, {childList: true});\n",
       "}}\n",
       "\n",
       "                        })                };                });            </script>        </div>"
      ]
     },
     "metadata": {},
     "output_type": "display_data"
    }
   ],
   "source": [
    "df.iplot()"
   ]
  },
  {
   "cell_type": "markdown",
   "metadata": {},
   "source": [
    "## Using Cufflinks and iplot()\n",
    "\n",
    "* scatter\n",
    "* bar\n",
    "* box\n",
    "* spread\n",
    "* ratio\n",
    "* heatmap\n",
    "* surface\n",
    "* histogram\n",
    "* bubble"
   ]
  },
  {
   "cell_type": "markdown",
   "metadata": {},
   "source": [
    "## Scatter"
   ]
  },
  {
   "cell_type": "code",
   "execution_count": 12,
   "metadata": {},
   "outputs": [
    {
     "data": {
      "application/vnd.plotly.v1+json": {
       "config": {
        "linkText": "Export to plot.ly",
        "plotlyServerURL": "https://plot.ly",
        "showLink": true
       },
       "data": [
        {
         "line": {
          "color": "rgba(255, 153, 51, 1.0)",
          "dash": "solid",
          "shape": "linear",
          "width": 1.3
         },
         "marker": {
          "size": 10,
          "symbol": "circle"
         },
         "mode": "markers",
         "name": "B",
         "text": "",
         "type": "scatter",
         "x": [
          -1.9903004256683205,
          -0.44331522383487904,
          0.5522209986709692,
          -0.8761307777820353,
          1.1989648408531712,
          1.107396907449335,
          -0.029371122099748383,
          0.3056333470056156,
          -0.4955087979621365,
          -0.6520420406756742,
          -2.5267952417248734,
          0.28866743458960153,
          -1.4316957620782398,
          -0.6044368465373989,
          -0.7835590378190067,
          -0.12675905868030538,
          -0.8723173151421462,
          -1.3441213992499,
          0.9239839346598812,
          -0.37358758223316085,
          0.9588303627419025,
          -0.1052825661486228,
          0.38119597175663916,
          0.3576427427245764,
          -0.5702151234625347,
          -0.5572216628600934,
          0.017719846225363156,
          1.2887145074843485,
          -0.7411771478820481,
          -0.6419864197153446,
          1.1972219508024184,
          0.25945352369678465,
          1.2969932581570864,
          -0.766403700861819,
          -0.5880695192706119,
          0.23921319399362173,
          0.41198072881213454,
          0.8298012119060374,
          -0.39388130471441646,
          -0.9685240289521347,
          -1.5016621442024582,
          0.2224241435501135,
          -0.8493083133394347,
          -1.0609152477969157,
          -1.469355455640693,
          1.102203544886654,
          0.9789753952414446,
          -1.219515842422679,
          -1.0441517795610855,
          0.2804323979633052,
          -0.3944849837527407,
          0.7544188492417558,
          -1.1088178682546639,
          0.1837902883409436,
          -1.0221321290638552,
          0.7823997618515374,
          1.1860800573721049,
          0.03555123929313354,
          -0.08788533678144475,
          -1.0979193923822788,
          0.5231731489710988,
          0.5697924927381082,
          -0.20924153665318343,
          1.3985467032028418,
          1.7004020608481674,
          0.2030413325552144,
          -0.6268391642990602,
          0.3988770551212099,
          0.06965082275610238,
          -1.9116331125018202,
          0.1380241162431082,
          -1.1037926748877243,
          0.8081457348428449,
          -0.9356293594254312,
          -0.0916575756043444,
          0.5779288906452257,
          0.5962772865240996,
          1.515969853059908,
          -1.3425234485560702,
          -0.3600001508909471,
          -0.07624704610784032,
          -1.7522234689232437,
          -0.37257406422804706,
          1.193137958920794,
          1.154637422674318,
          0.31205407485525993,
          0.44184177745646686,
          -1.3778745790073854,
          -1.011665062974858,
          0.03515567990235361,
          0.41947441807572,
          -1.3135785687987815,
          0.3272638323888706,
          -1.0046483036078868,
          0.6876459011460935,
          -0.19200991915835824,
          -0.1546255652119731,
          1.5186581723550163,
          -0.07716251245343556,
          0.5410204542460056
         ],
         "y": [
          0.20713171298464164,
          -0.9098290203271999,
          0.6595976436161234,
          1.1391958719025224,
          0.22876136700256824,
          -0.9390175844832885,
          1.40702753694373,
          0.6757395117272006,
          -0.6190602204117278,
          0.9652323468994083,
          1.171138334802606,
          1.9127870674045342,
          0.4741178282201214,
          -2.479844305574245,
          0.8927998703050272,
          -1.491532793139312,
          -0.15493863646237707,
          -0.17367859851820075,
          -0.3910701957760691,
          0.10659597063448929,
          -0.32667053875621144,
          0.7994813604737073,
          -0.4280343716591244,
          -1.150466969038612,
          0.8455562582900276,
          -2.251409282655881,
          0.9821270223673556,
          0.2303455757248052,
          0.04535472902143436,
          -1.2248383310091664,
          1.3674030824397547,
          0.08045700760681646,
          -0.43506133283756054,
          0.24149061558320917,
          -2.0528054626515244,
          0.08373056770003885,
          -0.6361159828889186,
          0.8196960925429025,
          0.8468032243624196,
          -0.10789265679637575,
          -0.5276537406018319,
          -0.5042026403280273,
          0.26276374773287686,
          -1.6144863597671486,
          -0.14370779462404257,
          0.7656677379760024,
          0.7874697232847472,
          -0.8023005621110955,
          0.778255152616999,
          0.5700896498552871,
          -1.0017097238965142,
          -0.6607568163172322,
          1.5905093819220673,
          -1.2110676813411707,
          -0.5601154519339665,
          1.3418467182878748,
          0.6440794160296142,
          -0.39687651490022524,
          -0.4752177292162427,
          0.22650596927963504,
          -0.13680482098526894,
          -0.9673428380469818,
          0.22153028192267313,
          1.7994207743834112,
          -1.003588415564047,
          -0.9112664323687696,
          0.9227233738941317,
          -2.227663388595575,
          0.06724167285175829,
          0.06086377830490128,
          0.3781532535914435,
          1.0079887011567779,
          -2.205453957164551,
          1.164530009463671,
          1.3132946285256442,
          -0.506151267746503,
          -0.05594310018107275,
          0.7545858729175096,
          -0.012902217386942041,
          0.5951414829334419,
          0.12351962806759635,
          -0.38325727961140005,
          -0.6933726532148998,
          2.4415116098964287,
          0.8557274566835281,
          0.7324129287476138,
          -0.8628262713601479,
          0.04756433709781207,
          0.8456812423826571,
          -0.42516235555193016,
          -1.1979961576928366,
          0.5089656233318339,
          0.9803508857671677,
          0.8119129825176856,
          0.03534109009366027,
          -0.17944526405158354,
          0.06161321536565358,
          -0.5760942497350119,
          -0.8844656807832726,
          1.7125044904591131
         ]
        }
       ],
       "layout": {
        "legend": {
         "bgcolor": "#F5F6F9",
         "font": {
          "color": "#4D5663"
         }
        },
        "paper_bgcolor": "#F5F6F9",
        "plot_bgcolor": "#F5F6F9",
        "template": {
         "data": {
          "bar": [
           {
            "error_x": {
             "color": "#2a3f5f"
            },
            "error_y": {
             "color": "#2a3f5f"
            },
            "marker": {
             "line": {
              "color": "#E5ECF6",
              "width": 0.5
             },
             "pattern": {
              "fillmode": "overlay",
              "size": 10,
              "solidity": 0.2
             }
            },
            "type": "bar"
           }
          ],
          "barpolar": [
           {
            "marker": {
             "line": {
              "color": "#E5ECF6",
              "width": 0.5
             },
             "pattern": {
              "fillmode": "overlay",
              "size": 10,
              "solidity": 0.2
             }
            },
            "type": "barpolar"
           }
          ],
          "carpet": [
           {
            "aaxis": {
             "endlinecolor": "#2a3f5f",
             "gridcolor": "white",
             "linecolor": "white",
             "minorgridcolor": "white",
             "startlinecolor": "#2a3f5f"
            },
            "baxis": {
             "endlinecolor": "#2a3f5f",
             "gridcolor": "white",
             "linecolor": "white",
             "minorgridcolor": "white",
             "startlinecolor": "#2a3f5f"
            },
            "type": "carpet"
           }
          ],
          "choropleth": [
           {
            "colorbar": {
             "outlinewidth": 0,
             "ticks": ""
            },
            "type": "choropleth"
           }
          ],
          "contour": [
           {
            "colorbar": {
             "outlinewidth": 0,
             "ticks": ""
            },
            "colorscale": [
             [
              0,
              "#0d0887"
             ],
             [
              0.1111111111111111,
              "#46039f"
             ],
             [
              0.2222222222222222,
              "#7201a8"
             ],
             [
              0.3333333333333333,
              "#9c179e"
             ],
             [
              0.4444444444444444,
              "#bd3786"
             ],
             [
              0.5555555555555556,
              "#d8576b"
             ],
             [
              0.6666666666666666,
              "#ed7953"
             ],
             [
              0.7777777777777778,
              "#fb9f3a"
             ],
             [
              0.8888888888888888,
              "#fdca26"
             ],
             [
              1,
              "#f0f921"
             ]
            ],
            "type": "contour"
           }
          ],
          "contourcarpet": [
           {
            "colorbar": {
             "outlinewidth": 0,
             "ticks": ""
            },
            "type": "contourcarpet"
           }
          ],
          "heatmap": [
           {
            "colorbar": {
             "outlinewidth": 0,
             "ticks": ""
            },
            "colorscale": [
             [
              0,
              "#0d0887"
             ],
             [
              0.1111111111111111,
              "#46039f"
             ],
             [
              0.2222222222222222,
              "#7201a8"
             ],
             [
              0.3333333333333333,
              "#9c179e"
             ],
             [
              0.4444444444444444,
              "#bd3786"
             ],
             [
              0.5555555555555556,
              "#d8576b"
             ],
             [
              0.6666666666666666,
              "#ed7953"
             ],
             [
              0.7777777777777778,
              "#fb9f3a"
             ],
             [
              0.8888888888888888,
              "#fdca26"
             ],
             [
              1,
              "#f0f921"
             ]
            ],
            "type": "heatmap"
           }
          ],
          "heatmapgl": [
           {
            "colorbar": {
             "outlinewidth": 0,
             "ticks": ""
            },
            "colorscale": [
             [
              0,
              "#0d0887"
             ],
             [
              0.1111111111111111,
              "#46039f"
             ],
             [
              0.2222222222222222,
              "#7201a8"
             ],
             [
              0.3333333333333333,
              "#9c179e"
             ],
             [
              0.4444444444444444,
              "#bd3786"
             ],
             [
              0.5555555555555556,
              "#d8576b"
             ],
             [
              0.6666666666666666,
              "#ed7953"
             ],
             [
              0.7777777777777778,
              "#fb9f3a"
             ],
             [
              0.8888888888888888,
              "#fdca26"
             ],
             [
              1,
              "#f0f921"
             ]
            ],
            "type": "heatmapgl"
           }
          ],
          "histogram": [
           {
            "marker": {
             "pattern": {
              "fillmode": "overlay",
              "size": 10,
              "solidity": 0.2
             }
            },
            "type": "histogram"
           }
          ],
          "histogram2d": [
           {
            "colorbar": {
             "outlinewidth": 0,
             "ticks": ""
            },
            "colorscale": [
             [
              0,
              "#0d0887"
             ],
             [
              0.1111111111111111,
              "#46039f"
             ],
             [
              0.2222222222222222,
              "#7201a8"
             ],
             [
              0.3333333333333333,
              "#9c179e"
             ],
             [
              0.4444444444444444,
              "#bd3786"
             ],
             [
              0.5555555555555556,
              "#d8576b"
             ],
             [
              0.6666666666666666,
              "#ed7953"
             ],
             [
              0.7777777777777778,
              "#fb9f3a"
             ],
             [
              0.8888888888888888,
              "#fdca26"
             ],
             [
              1,
              "#f0f921"
             ]
            ],
            "type": "histogram2d"
           }
          ],
          "histogram2dcontour": [
           {
            "colorbar": {
             "outlinewidth": 0,
             "ticks": ""
            },
            "colorscale": [
             [
              0,
              "#0d0887"
             ],
             [
              0.1111111111111111,
              "#46039f"
             ],
             [
              0.2222222222222222,
              "#7201a8"
             ],
             [
              0.3333333333333333,
              "#9c179e"
             ],
             [
              0.4444444444444444,
              "#bd3786"
             ],
             [
              0.5555555555555556,
              "#d8576b"
             ],
             [
              0.6666666666666666,
              "#ed7953"
             ],
             [
              0.7777777777777778,
              "#fb9f3a"
             ],
             [
              0.8888888888888888,
              "#fdca26"
             ],
             [
              1,
              "#f0f921"
             ]
            ],
            "type": "histogram2dcontour"
           }
          ],
          "mesh3d": [
           {
            "colorbar": {
             "outlinewidth": 0,
             "ticks": ""
            },
            "type": "mesh3d"
           }
          ],
          "parcoords": [
           {
            "line": {
             "colorbar": {
              "outlinewidth": 0,
              "ticks": ""
             }
            },
            "type": "parcoords"
           }
          ],
          "pie": [
           {
            "automargin": true,
            "type": "pie"
           }
          ],
          "scatter": [
           {
            "fillpattern": {
             "fillmode": "overlay",
             "size": 10,
             "solidity": 0.2
            },
            "type": "scatter"
           }
          ],
          "scatter3d": [
           {
            "line": {
             "colorbar": {
              "outlinewidth": 0,
              "ticks": ""
             }
            },
            "marker": {
             "colorbar": {
              "outlinewidth": 0,
              "ticks": ""
             }
            },
            "type": "scatter3d"
           }
          ],
          "scattercarpet": [
           {
            "marker": {
             "colorbar": {
              "outlinewidth": 0,
              "ticks": ""
             }
            },
            "type": "scattercarpet"
           }
          ],
          "scattergeo": [
           {
            "marker": {
             "colorbar": {
              "outlinewidth": 0,
              "ticks": ""
             }
            },
            "type": "scattergeo"
           }
          ],
          "scattergl": [
           {
            "marker": {
             "colorbar": {
              "outlinewidth": 0,
              "ticks": ""
             }
            },
            "type": "scattergl"
           }
          ],
          "scattermapbox": [
           {
            "marker": {
             "colorbar": {
              "outlinewidth": 0,
              "ticks": ""
             }
            },
            "type": "scattermapbox"
           }
          ],
          "scatterpolar": [
           {
            "marker": {
             "colorbar": {
              "outlinewidth": 0,
              "ticks": ""
             }
            },
            "type": "scatterpolar"
           }
          ],
          "scatterpolargl": [
           {
            "marker": {
             "colorbar": {
              "outlinewidth": 0,
              "ticks": ""
             }
            },
            "type": "scatterpolargl"
           }
          ],
          "scatterternary": [
           {
            "marker": {
             "colorbar": {
              "outlinewidth": 0,
              "ticks": ""
             }
            },
            "type": "scatterternary"
           }
          ],
          "surface": [
           {
            "colorbar": {
             "outlinewidth": 0,
             "ticks": ""
            },
            "colorscale": [
             [
              0,
              "#0d0887"
             ],
             [
              0.1111111111111111,
              "#46039f"
             ],
             [
              0.2222222222222222,
              "#7201a8"
             ],
             [
              0.3333333333333333,
              "#9c179e"
             ],
             [
              0.4444444444444444,
              "#bd3786"
             ],
             [
              0.5555555555555556,
              "#d8576b"
             ],
             [
              0.6666666666666666,
              "#ed7953"
             ],
             [
              0.7777777777777778,
              "#fb9f3a"
             ],
             [
              0.8888888888888888,
              "#fdca26"
             ],
             [
              1,
              "#f0f921"
             ]
            ],
            "type": "surface"
           }
          ],
          "table": [
           {
            "cells": {
             "fill": {
              "color": "#EBF0F8"
             },
             "line": {
              "color": "white"
             }
            },
            "header": {
             "fill": {
              "color": "#C8D4E3"
             },
             "line": {
              "color": "white"
             }
            },
            "type": "table"
           }
          ]
         },
         "layout": {
          "annotationdefaults": {
           "arrowcolor": "#2a3f5f",
           "arrowhead": 0,
           "arrowwidth": 1
          },
          "autotypenumbers": "strict",
          "coloraxis": {
           "colorbar": {
            "outlinewidth": 0,
            "ticks": ""
           }
          },
          "colorscale": {
           "diverging": [
            [
             0,
             "#8e0152"
            ],
            [
             0.1,
             "#c51b7d"
            ],
            [
             0.2,
             "#de77ae"
            ],
            [
             0.3,
             "#f1b6da"
            ],
            [
             0.4,
             "#fde0ef"
            ],
            [
             0.5,
             "#f7f7f7"
            ],
            [
             0.6,
             "#e6f5d0"
            ],
            [
             0.7,
             "#b8e186"
            ],
            [
             0.8,
             "#7fbc41"
            ],
            [
             0.9,
             "#4d9221"
            ],
            [
             1,
             "#276419"
            ]
           ],
           "sequential": [
            [
             0,
             "#0d0887"
            ],
            [
             0.1111111111111111,
             "#46039f"
            ],
            [
             0.2222222222222222,
             "#7201a8"
            ],
            [
             0.3333333333333333,
             "#9c179e"
            ],
            [
             0.4444444444444444,
             "#bd3786"
            ],
            [
             0.5555555555555556,
             "#d8576b"
            ],
            [
             0.6666666666666666,
             "#ed7953"
            ],
            [
             0.7777777777777778,
             "#fb9f3a"
            ],
            [
             0.8888888888888888,
             "#fdca26"
            ],
            [
             1,
             "#f0f921"
            ]
           ],
           "sequentialminus": [
            [
             0,
             "#0d0887"
            ],
            [
             0.1111111111111111,
             "#46039f"
            ],
            [
             0.2222222222222222,
             "#7201a8"
            ],
            [
             0.3333333333333333,
             "#9c179e"
            ],
            [
             0.4444444444444444,
             "#bd3786"
            ],
            [
             0.5555555555555556,
             "#d8576b"
            ],
            [
             0.6666666666666666,
             "#ed7953"
            ],
            [
             0.7777777777777778,
             "#fb9f3a"
            ],
            [
             0.8888888888888888,
             "#fdca26"
            ],
            [
             1,
             "#f0f921"
            ]
           ]
          },
          "colorway": [
           "#636efa",
           "#EF553B",
           "#00cc96",
           "#ab63fa",
           "#FFA15A",
           "#19d3f3",
           "#FF6692",
           "#B6E880",
           "#FF97FF",
           "#FECB52"
          ],
          "font": {
           "color": "#2a3f5f"
          },
          "geo": {
           "bgcolor": "white",
           "lakecolor": "white",
           "landcolor": "#E5ECF6",
           "showlakes": true,
           "showland": true,
           "subunitcolor": "white"
          },
          "hoverlabel": {
           "align": "left"
          },
          "hovermode": "closest",
          "mapbox": {
           "style": "light"
          },
          "paper_bgcolor": "white",
          "plot_bgcolor": "#E5ECF6",
          "polar": {
           "angularaxis": {
            "gridcolor": "white",
            "linecolor": "white",
            "ticks": ""
           },
           "bgcolor": "#E5ECF6",
           "radialaxis": {
            "gridcolor": "white",
            "linecolor": "white",
            "ticks": ""
           }
          },
          "scene": {
           "xaxis": {
            "backgroundcolor": "#E5ECF6",
            "gridcolor": "white",
            "gridwidth": 2,
            "linecolor": "white",
            "showbackground": true,
            "ticks": "",
            "zerolinecolor": "white"
           },
           "yaxis": {
            "backgroundcolor": "#E5ECF6",
            "gridcolor": "white",
            "gridwidth": 2,
            "linecolor": "white",
            "showbackground": true,
            "ticks": "",
            "zerolinecolor": "white"
           },
           "zaxis": {
            "backgroundcolor": "#E5ECF6",
            "gridcolor": "white",
            "gridwidth": 2,
            "linecolor": "white",
            "showbackground": true,
            "ticks": "",
            "zerolinecolor": "white"
           }
          },
          "shapedefaults": {
           "line": {
            "color": "#2a3f5f"
           }
          },
          "ternary": {
           "aaxis": {
            "gridcolor": "white",
            "linecolor": "white",
            "ticks": ""
           },
           "baxis": {
            "gridcolor": "white",
            "linecolor": "white",
            "ticks": ""
           },
           "bgcolor": "#E5ECF6",
           "caxis": {
            "gridcolor": "white",
            "linecolor": "white",
            "ticks": ""
           }
          },
          "title": {
           "x": 0.05
          },
          "xaxis": {
           "automargin": true,
           "gridcolor": "white",
           "linecolor": "white",
           "ticks": "",
           "title": {
            "standoff": 15
           },
           "zerolinecolor": "white",
           "zerolinewidth": 2
          },
          "yaxis": {
           "automargin": true,
           "gridcolor": "white",
           "linecolor": "white",
           "ticks": "",
           "title": {
            "standoff": 15
           },
           "zerolinecolor": "white",
           "zerolinewidth": 2
          }
         }
        },
        "title": {
         "font": {
          "color": "#4D5663"
         }
        },
        "xaxis": {
         "gridcolor": "#E1E5ED",
         "showgrid": true,
         "tickfont": {
          "color": "#4D5663"
         },
         "title": {
          "font": {
           "color": "#4D5663"
          },
          "text": ""
         },
         "zerolinecolor": "#E1E5ED"
        },
        "yaxis": {
         "gridcolor": "#E1E5ED",
         "showgrid": true,
         "tickfont": {
          "color": "#4D5663"
         },
         "title": {
          "font": {
           "color": "#4D5663"
          },
          "text": ""
         },
         "zerolinecolor": "#E1E5ED"
        }
       }
      },
      "text/html": [
       "<div>                            <div id=\"7925111e-72ca-4ae3-94ee-d550f3301736\" class=\"plotly-graph-div\" style=\"height:525px; width:100%;\"></div>            <script type=\"text/javascript\">                require([\"plotly\"], function(Plotly) {                    window.PLOTLYENV=window.PLOTLYENV || {};\n",
       "                    window.PLOTLYENV.BASE_URL='https://plot.ly';                                    if (document.getElementById(\"7925111e-72ca-4ae3-94ee-d550f3301736\")) {                    Plotly.newPlot(                        \"7925111e-72ca-4ae3-94ee-d550f3301736\",                        [{\"line\":{\"color\":\"rgba(255, 153, 51, 1.0)\",\"dash\":\"solid\",\"shape\":\"linear\",\"width\":1.3},\"marker\":{\"size\":10,\"symbol\":\"circle\"},\"mode\":\"markers\",\"name\":\"B\",\"text\":\"\",\"x\":[-1.9903004256683205,-0.44331522383487904,0.5522209986709692,-0.8761307777820353,1.1989648408531712,1.107396907449335,-0.029371122099748383,0.3056333470056156,-0.4955087979621365,-0.6520420406756742,-2.5267952417248734,0.28866743458960153,-1.4316957620782398,-0.6044368465373989,-0.7835590378190067,-0.12675905868030538,-0.8723173151421462,-1.3441213992499,0.9239839346598812,-0.37358758223316085,0.9588303627419025,-0.1052825661486228,0.38119597175663916,0.3576427427245764,-0.5702151234625347,-0.5572216628600934,0.017719846225363156,1.2887145074843485,-0.7411771478820481,-0.6419864197153446,1.1972219508024184,0.25945352369678465,1.2969932581570864,-0.766403700861819,-0.5880695192706119,0.23921319399362173,0.41198072881213454,0.8298012119060374,-0.39388130471441646,-0.9685240289521347,-1.5016621442024582,0.2224241435501135,-0.8493083133394347,-1.0609152477969157,-1.469355455640693,1.102203544886654,0.9789753952414446,-1.219515842422679,-1.0441517795610855,0.2804323979633052,-0.3944849837527407,0.7544188492417558,-1.1088178682546639,0.1837902883409436,-1.0221321290638552,0.7823997618515374,1.1860800573721049,0.03555123929313354,-0.08788533678144475,-1.0979193923822788,0.5231731489710988,0.5697924927381082,-0.20924153665318343,1.3985467032028418,1.7004020608481674,0.2030413325552144,-0.6268391642990602,0.3988770551212099,0.06965082275610238,-1.9116331125018202,0.1380241162431082,-1.1037926748877243,0.8081457348428449,-0.9356293594254312,-0.0916575756043444,0.5779288906452257,0.5962772865240996,1.515969853059908,-1.3425234485560702,-0.3600001508909471,-0.07624704610784032,-1.7522234689232437,-0.37257406422804706,1.193137958920794,1.154637422674318,0.31205407485525993,0.44184177745646686,-1.3778745790073854,-1.011665062974858,0.03515567990235361,0.41947441807572,-1.3135785687987815,0.3272638323888706,-1.0046483036078868,0.6876459011460935,-0.19200991915835824,-0.1546255652119731,1.5186581723550163,-0.07716251245343556,0.5410204542460056],\"y\":[0.20713171298464164,-0.9098290203271999,0.6595976436161234,1.1391958719025224,0.22876136700256824,-0.9390175844832885,1.40702753694373,0.6757395117272006,-0.6190602204117278,0.9652323468994083,1.171138334802606,1.9127870674045342,0.4741178282201214,-2.479844305574245,0.8927998703050272,-1.491532793139312,-0.15493863646237707,-0.17367859851820075,-0.3910701957760691,0.10659597063448929,-0.32667053875621144,0.7994813604737073,-0.4280343716591244,-1.150466969038612,0.8455562582900276,-2.251409282655881,0.9821270223673556,0.2303455757248052,0.04535472902143436,-1.2248383310091664,1.3674030824397547,0.08045700760681646,-0.43506133283756054,0.24149061558320917,-2.0528054626515244,0.08373056770003885,-0.6361159828889186,0.8196960925429025,0.8468032243624196,-0.10789265679637575,-0.5276537406018319,-0.5042026403280273,0.26276374773287686,-1.6144863597671486,-0.14370779462404257,0.7656677379760024,0.7874697232847472,-0.8023005621110955,0.778255152616999,0.5700896498552871,-1.0017097238965142,-0.6607568163172322,1.5905093819220673,-1.2110676813411707,-0.5601154519339665,1.3418467182878748,0.6440794160296142,-0.39687651490022524,-0.4752177292162427,0.22650596927963504,-0.13680482098526894,-0.9673428380469818,0.22153028192267313,1.7994207743834112,-1.003588415564047,-0.9112664323687696,0.9227233738941317,-2.227663388595575,0.06724167285175829,0.06086377830490128,0.3781532535914435,1.0079887011567779,-2.205453957164551,1.164530009463671,1.3132946285256442,-0.506151267746503,-0.05594310018107275,0.7545858729175096,-0.012902217386942041,0.5951414829334419,0.12351962806759635,-0.38325727961140005,-0.6933726532148998,2.4415116098964287,0.8557274566835281,0.7324129287476138,-0.8628262713601479,0.04756433709781207,0.8456812423826571,-0.42516235555193016,-1.1979961576928366,0.5089656233318339,0.9803508857671677,0.8119129825176856,0.03534109009366027,-0.17944526405158354,0.06161321536565358,-0.5760942497350119,-0.8844656807832726,1.7125044904591131],\"type\":\"scatter\"}],                        {\"legend\":{\"bgcolor\":\"#F5F6F9\",\"font\":{\"color\":\"#4D5663\"}},\"paper_bgcolor\":\"#F5F6F9\",\"plot_bgcolor\":\"#F5F6F9\",\"template\":{\"data\":{\"barpolar\":[{\"marker\":{\"line\":{\"color\":\"#E5ECF6\",\"width\":0.5},\"pattern\":{\"fillmode\":\"overlay\",\"size\":10,\"solidity\":0.2}},\"type\":\"barpolar\"}],\"bar\":[{\"error_x\":{\"color\":\"#2a3f5f\"},\"error_y\":{\"color\":\"#2a3f5f\"},\"marker\":{\"line\":{\"color\":\"#E5ECF6\",\"width\":0.5},\"pattern\":{\"fillmode\":\"overlay\",\"size\":10,\"solidity\":0.2}},\"type\":\"bar\"}],\"carpet\":[{\"aaxis\":{\"endlinecolor\":\"#2a3f5f\",\"gridcolor\":\"white\",\"linecolor\":\"white\",\"minorgridcolor\":\"white\",\"startlinecolor\":\"#2a3f5f\"},\"baxis\":{\"endlinecolor\":\"#2a3f5f\",\"gridcolor\":\"white\",\"linecolor\":\"white\",\"minorgridcolor\":\"white\",\"startlinecolor\":\"#2a3f5f\"},\"type\":\"carpet\"}],\"choropleth\":[{\"colorbar\":{\"outlinewidth\":0,\"ticks\":\"\"},\"type\":\"choropleth\"}],\"contourcarpet\":[{\"colorbar\":{\"outlinewidth\":0,\"ticks\":\"\"},\"type\":\"contourcarpet\"}],\"contour\":[{\"colorbar\":{\"outlinewidth\":0,\"ticks\":\"\"},\"colorscale\":[[0.0,\"#0d0887\"],[0.1111111111111111,\"#46039f\"],[0.2222222222222222,\"#7201a8\"],[0.3333333333333333,\"#9c179e\"],[0.4444444444444444,\"#bd3786\"],[0.5555555555555556,\"#d8576b\"],[0.6666666666666666,\"#ed7953\"],[0.7777777777777778,\"#fb9f3a\"],[0.8888888888888888,\"#fdca26\"],[1.0,\"#f0f921\"]],\"type\":\"contour\"}],\"heatmapgl\":[{\"colorbar\":{\"outlinewidth\":0,\"ticks\":\"\"},\"colorscale\":[[0.0,\"#0d0887\"],[0.1111111111111111,\"#46039f\"],[0.2222222222222222,\"#7201a8\"],[0.3333333333333333,\"#9c179e\"],[0.4444444444444444,\"#bd3786\"],[0.5555555555555556,\"#d8576b\"],[0.6666666666666666,\"#ed7953\"],[0.7777777777777778,\"#fb9f3a\"],[0.8888888888888888,\"#fdca26\"],[1.0,\"#f0f921\"]],\"type\":\"heatmapgl\"}],\"heatmap\":[{\"colorbar\":{\"outlinewidth\":0,\"ticks\":\"\"},\"colorscale\":[[0.0,\"#0d0887\"],[0.1111111111111111,\"#46039f\"],[0.2222222222222222,\"#7201a8\"],[0.3333333333333333,\"#9c179e\"],[0.4444444444444444,\"#bd3786\"],[0.5555555555555556,\"#d8576b\"],[0.6666666666666666,\"#ed7953\"],[0.7777777777777778,\"#fb9f3a\"],[0.8888888888888888,\"#fdca26\"],[1.0,\"#f0f921\"]],\"type\":\"heatmap\"}],\"histogram2dcontour\":[{\"colorbar\":{\"outlinewidth\":0,\"ticks\":\"\"},\"colorscale\":[[0.0,\"#0d0887\"],[0.1111111111111111,\"#46039f\"],[0.2222222222222222,\"#7201a8\"],[0.3333333333333333,\"#9c179e\"],[0.4444444444444444,\"#bd3786\"],[0.5555555555555556,\"#d8576b\"],[0.6666666666666666,\"#ed7953\"],[0.7777777777777778,\"#fb9f3a\"],[0.8888888888888888,\"#fdca26\"],[1.0,\"#f0f921\"]],\"type\":\"histogram2dcontour\"}],\"histogram2d\":[{\"colorbar\":{\"outlinewidth\":0,\"ticks\":\"\"},\"colorscale\":[[0.0,\"#0d0887\"],[0.1111111111111111,\"#46039f\"],[0.2222222222222222,\"#7201a8\"],[0.3333333333333333,\"#9c179e\"],[0.4444444444444444,\"#bd3786\"],[0.5555555555555556,\"#d8576b\"],[0.6666666666666666,\"#ed7953\"],[0.7777777777777778,\"#fb9f3a\"],[0.8888888888888888,\"#fdca26\"],[1.0,\"#f0f921\"]],\"type\":\"histogram2d\"}],\"histogram\":[{\"marker\":{\"pattern\":{\"fillmode\":\"overlay\",\"size\":10,\"solidity\":0.2}},\"type\":\"histogram\"}],\"mesh3d\":[{\"colorbar\":{\"outlinewidth\":0,\"ticks\":\"\"},\"type\":\"mesh3d\"}],\"parcoords\":[{\"line\":{\"colorbar\":{\"outlinewidth\":0,\"ticks\":\"\"}},\"type\":\"parcoords\"}],\"pie\":[{\"automargin\":true,\"type\":\"pie\"}],\"scatter3d\":[{\"line\":{\"colorbar\":{\"outlinewidth\":0,\"ticks\":\"\"}},\"marker\":{\"colorbar\":{\"outlinewidth\":0,\"ticks\":\"\"}},\"type\":\"scatter3d\"}],\"scattercarpet\":[{\"marker\":{\"colorbar\":{\"outlinewidth\":0,\"ticks\":\"\"}},\"type\":\"scattercarpet\"}],\"scattergeo\":[{\"marker\":{\"colorbar\":{\"outlinewidth\":0,\"ticks\":\"\"}},\"type\":\"scattergeo\"}],\"scattergl\":[{\"marker\":{\"colorbar\":{\"outlinewidth\":0,\"ticks\":\"\"}},\"type\":\"scattergl\"}],\"scattermapbox\":[{\"marker\":{\"colorbar\":{\"outlinewidth\":0,\"ticks\":\"\"}},\"type\":\"scattermapbox\"}],\"scatterpolargl\":[{\"marker\":{\"colorbar\":{\"outlinewidth\":0,\"ticks\":\"\"}},\"type\":\"scatterpolargl\"}],\"scatterpolar\":[{\"marker\":{\"colorbar\":{\"outlinewidth\":0,\"ticks\":\"\"}},\"type\":\"scatterpolar\"}],\"scatter\":[{\"fillpattern\":{\"fillmode\":\"overlay\",\"size\":10,\"solidity\":0.2},\"type\":\"scatter\"}],\"scatterternary\":[{\"marker\":{\"colorbar\":{\"outlinewidth\":0,\"ticks\":\"\"}},\"type\":\"scatterternary\"}],\"surface\":[{\"colorbar\":{\"outlinewidth\":0,\"ticks\":\"\"},\"colorscale\":[[0.0,\"#0d0887\"],[0.1111111111111111,\"#46039f\"],[0.2222222222222222,\"#7201a8\"],[0.3333333333333333,\"#9c179e\"],[0.4444444444444444,\"#bd3786\"],[0.5555555555555556,\"#d8576b\"],[0.6666666666666666,\"#ed7953\"],[0.7777777777777778,\"#fb9f3a\"],[0.8888888888888888,\"#fdca26\"],[1.0,\"#f0f921\"]],\"type\":\"surface\"}],\"table\":[{\"cells\":{\"fill\":{\"color\":\"#EBF0F8\"},\"line\":{\"color\":\"white\"}},\"header\":{\"fill\":{\"color\":\"#C8D4E3\"},\"line\":{\"color\":\"white\"}},\"type\":\"table\"}]},\"layout\":{\"annotationdefaults\":{\"arrowcolor\":\"#2a3f5f\",\"arrowhead\":0,\"arrowwidth\":1},\"autotypenumbers\":\"strict\",\"coloraxis\":{\"colorbar\":{\"outlinewidth\":0,\"ticks\":\"\"}},\"colorscale\":{\"diverging\":[[0,\"#8e0152\"],[0.1,\"#c51b7d\"],[0.2,\"#de77ae\"],[0.3,\"#f1b6da\"],[0.4,\"#fde0ef\"],[0.5,\"#f7f7f7\"],[0.6,\"#e6f5d0\"],[0.7,\"#b8e186\"],[0.8,\"#7fbc41\"],[0.9,\"#4d9221\"],[1,\"#276419\"]],\"sequential\":[[0.0,\"#0d0887\"],[0.1111111111111111,\"#46039f\"],[0.2222222222222222,\"#7201a8\"],[0.3333333333333333,\"#9c179e\"],[0.4444444444444444,\"#bd3786\"],[0.5555555555555556,\"#d8576b\"],[0.6666666666666666,\"#ed7953\"],[0.7777777777777778,\"#fb9f3a\"],[0.8888888888888888,\"#fdca26\"],[1.0,\"#f0f921\"]],\"sequentialminus\":[[0.0,\"#0d0887\"],[0.1111111111111111,\"#46039f\"],[0.2222222222222222,\"#7201a8\"],[0.3333333333333333,\"#9c179e\"],[0.4444444444444444,\"#bd3786\"],[0.5555555555555556,\"#d8576b\"],[0.6666666666666666,\"#ed7953\"],[0.7777777777777778,\"#fb9f3a\"],[0.8888888888888888,\"#fdca26\"],[1.0,\"#f0f921\"]]},\"colorway\":[\"#636efa\",\"#EF553B\",\"#00cc96\",\"#ab63fa\",\"#FFA15A\",\"#19d3f3\",\"#FF6692\",\"#B6E880\",\"#FF97FF\",\"#FECB52\"],\"font\":{\"color\":\"#2a3f5f\"},\"geo\":{\"bgcolor\":\"white\",\"lakecolor\":\"white\",\"landcolor\":\"#E5ECF6\",\"showlakes\":true,\"showland\":true,\"subunitcolor\":\"white\"},\"hoverlabel\":{\"align\":\"left\"},\"hovermode\":\"closest\",\"mapbox\":{\"style\":\"light\"},\"paper_bgcolor\":\"white\",\"plot_bgcolor\":\"#E5ECF6\",\"polar\":{\"angularaxis\":{\"gridcolor\":\"white\",\"linecolor\":\"white\",\"ticks\":\"\"},\"bgcolor\":\"#E5ECF6\",\"radialaxis\":{\"gridcolor\":\"white\",\"linecolor\":\"white\",\"ticks\":\"\"}},\"scene\":{\"xaxis\":{\"backgroundcolor\":\"#E5ECF6\",\"gridcolor\":\"white\",\"gridwidth\":2,\"linecolor\":\"white\",\"showbackground\":true,\"ticks\":\"\",\"zerolinecolor\":\"white\"},\"yaxis\":{\"backgroundcolor\":\"#E5ECF6\",\"gridcolor\":\"white\",\"gridwidth\":2,\"linecolor\":\"white\",\"showbackground\":true,\"ticks\":\"\",\"zerolinecolor\":\"white\"},\"zaxis\":{\"backgroundcolor\":\"#E5ECF6\",\"gridcolor\":\"white\",\"gridwidth\":2,\"linecolor\":\"white\",\"showbackground\":true,\"ticks\":\"\",\"zerolinecolor\":\"white\"}},\"shapedefaults\":{\"line\":{\"color\":\"#2a3f5f\"}},\"ternary\":{\"aaxis\":{\"gridcolor\":\"white\",\"linecolor\":\"white\",\"ticks\":\"\"},\"baxis\":{\"gridcolor\":\"white\",\"linecolor\":\"white\",\"ticks\":\"\"},\"bgcolor\":\"#E5ECF6\",\"caxis\":{\"gridcolor\":\"white\",\"linecolor\":\"white\",\"ticks\":\"\"}},\"title\":{\"x\":0.05},\"xaxis\":{\"automargin\":true,\"gridcolor\":\"white\",\"linecolor\":\"white\",\"ticks\":\"\",\"title\":{\"standoff\":15},\"zerolinecolor\":\"white\",\"zerolinewidth\":2},\"yaxis\":{\"automargin\":true,\"gridcolor\":\"white\",\"linecolor\":\"white\",\"ticks\":\"\",\"title\":{\"standoff\":15},\"zerolinecolor\":\"white\",\"zerolinewidth\":2}}},\"title\":{\"font\":{\"color\":\"#4D5663\"}},\"xaxis\":{\"gridcolor\":\"#E1E5ED\",\"showgrid\":true,\"tickfont\":{\"color\":\"#4D5663\"},\"title\":{\"font\":{\"color\":\"#4D5663\"},\"text\":\"\"},\"zerolinecolor\":\"#E1E5ED\"},\"yaxis\":{\"gridcolor\":\"#E1E5ED\",\"showgrid\":true,\"tickfont\":{\"color\":\"#4D5663\"},\"title\":{\"font\":{\"color\":\"#4D5663\"},\"text\":\"\"},\"zerolinecolor\":\"#E1E5ED\"}},                        {\"showLink\": true, \"linkText\": \"Export to plot.ly\", \"plotlyServerURL\": \"https://plot.ly\", \"responsive\": true}                    ).then(function(){\n",
       "                            \n",
       "var gd = document.getElementById('7925111e-72ca-4ae3-94ee-d550f3301736');\n",
       "var x = new MutationObserver(function (mutations, observer) {{\n",
       "        var display = window.getComputedStyle(gd).display;\n",
       "        if (!display || display === 'none') {{\n",
       "            console.log([gd, 'removed!']);\n",
       "            Plotly.purge(gd);\n",
       "            observer.disconnect();\n",
       "        }}\n",
       "}});\n",
       "\n",
       "// Listen for the removal of the full notebook cells\n",
       "var notebookContainer = gd.closest('#notebook-container');\n",
       "if (notebookContainer) {{\n",
       "    x.observe(notebookContainer, {childList: true});\n",
       "}}\n",
       "\n",
       "// Listen for the clearing of the current output cell\n",
       "var outputEl = gd.closest('.output');\n",
       "if (outputEl) {{\n",
       "    x.observe(outputEl, {childList: true});\n",
       "}}\n",
       "\n",
       "                        })                };                });            </script>        </div>"
      ]
     },
     "metadata": {},
     "output_type": "display_data"
    }
   ],
   "source": [
    "df.iplot(kind='scatter',x='A',y='B',mode='markers',size=10)"
   ]
  },
  {
   "cell_type": "markdown",
   "metadata": {},
   "source": [
    "## Bar Plots"
   ]
  },
  {
   "cell_type": "code",
   "execution_count": 13,
   "metadata": {},
   "outputs": [
    {
     "data": {
      "application/vnd.plotly.v1+json": {
       "config": {
        "linkText": "Export to plot.ly",
        "plotlyServerURL": "https://plot.ly",
        "showLink": true
       },
       "data": [
        {
         "marker": {
          "color": "rgba(255, 153, 51, 0.6)",
          "line": {
           "color": "rgba(255, 153, 51, 1.0)",
           "width": 1
          }
         },
         "name": "Point",
         "orientation": "v",
         "text": "",
         "type": "bar",
         "x": [
          "A",
          "B",
          "C",
          "D"
         ],
         "y": [
          10,
          20,
          30,
          40
         ]
        }
       ],
       "layout": {
        "legend": {
         "bgcolor": "#F5F6F9",
         "font": {
          "color": "#4D5663"
         }
        },
        "paper_bgcolor": "#F5F6F9",
        "plot_bgcolor": "#F5F6F9",
        "template": {
         "data": {
          "bar": [
           {
            "error_x": {
             "color": "#2a3f5f"
            },
            "error_y": {
             "color": "#2a3f5f"
            },
            "marker": {
             "line": {
              "color": "#E5ECF6",
              "width": 0.5
             },
             "pattern": {
              "fillmode": "overlay",
              "size": 10,
              "solidity": 0.2
             }
            },
            "type": "bar"
           }
          ],
          "barpolar": [
           {
            "marker": {
             "line": {
              "color": "#E5ECF6",
              "width": 0.5
             },
             "pattern": {
              "fillmode": "overlay",
              "size": 10,
              "solidity": 0.2
             }
            },
            "type": "barpolar"
           }
          ],
          "carpet": [
           {
            "aaxis": {
             "endlinecolor": "#2a3f5f",
             "gridcolor": "white",
             "linecolor": "white",
             "minorgridcolor": "white",
             "startlinecolor": "#2a3f5f"
            },
            "baxis": {
             "endlinecolor": "#2a3f5f",
             "gridcolor": "white",
             "linecolor": "white",
             "minorgridcolor": "white",
             "startlinecolor": "#2a3f5f"
            },
            "type": "carpet"
           }
          ],
          "choropleth": [
           {
            "colorbar": {
             "outlinewidth": 0,
             "ticks": ""
            },
            "type": "choropleth"
           }
          ],
          "contour": [
           {
            "colorbar": {
             "outlinewidth": 0,
             "ticks": ""
            },
            "colorscale": [
             [
              0,
              "#0d0887"
             ],
             [
              0.1111111111111111,
              "#46039f"
             ],
             [
              0.2222222222222222,
              "#7201a8"
             ],
             [
              0.3333333333333333,
              "#9c179e"
             ],
             [
              0.4444444444444444,
              "#bd3786"
             ],
             [
              0.5555555555555556,
              "#d8576b"
             ],
             [
              0.6666666666666666,
              "#ed7953"
             ],
             [
              0.7777777777777778,
              "#fb9f3a"
             ],
             [
              0.8888888888888888,
              "#fdca26"
             ],
             [
              1,
              "#f0f921"
             ]
            ],
            "type": "contour"
           }
          ],
          "contourcarpet": [
           {
            "colorbar": {
             "outlinewidth": 0,
             "ticks": ""
            },
            "type": "contourcarpet"
           }
          ],
          "heatmap": [
           {
            "colorbar": {
             "outlinewidth": 0,
             "ticks": ""
            },
            "colorscale": [
             [
              0,
              "#0d0887"
             ],
             [
              0.1111111111111111,
              "#46039f"
             ],
             [
              0.2222222222222222,
              "#7201a8"
             ],
             [
              0.3333333333333333,
              "#9c179e"
             ],
             [
              0.4444444444444444,
              "#bd3786"
             ],
             [
              0.5555555555555556,
              "#d8576b"
             ],
             [
              0.6666666666666666,
              "#ed7953"
             ],
             [
              0.7777777777777778,
              "#fb9f3a"
             ],
             [
              0.8888888888888888,
              "#fdca26"
             ],
             [
              1,
              "#f0f921"
             ]
            ],
            "type": "heatmap"
           }
          ],
          "heatmapgl": [
           {
            "colorbar": {
             "outlinewidth": 0,
             "ticks": ""
            },
            "colorscale": [
             [
              0,
              "#0d0887"
             ],
             [
              0.1111111111111111,
              "#46039f"
             ],
             [
              0.2222222222222222,
              "#7201a8"
             ],
             [
              0.3333333333333333,
              "#9c179e"
             ],
             [
              0.4444444444444444,
              "#bd3786"
             ],
             [
              0.5555555555555556,
              "#d8576b"
             ],
             [
              0.6666666666666666,
              "#ed7953"
             ],
             [
              0.7777777777777778,
              "#fb9f3a"
             ],
             [
              0.8888888888888888,
              "#fdca26"
             ],
             [
              1,
              "#f0f921"
             ]
            ],
            "type": "heatmapgl"
           }
          ],
          "histogram": [
           {
            "marker": {
             "pattern": {
              "fillmode": "overlay",
              "size": 10,
              "solidity": 0.2
             }
            },
            "type": "histogram"
           }
          ],
          "histogram2d": [
           {
            "colorbar": {
             "outlinewidth": 0,
             "ticks": ""
            },
            "colorscale": [
             [
              0,
              "#0d0887"
             ],
             [
              0.1111111111111111,
              "#46039f"
             ],
             [
              0.2222222222222222,
              "#7201a8"
             ],
             [
              0.3333333333333333,
              "#9c179e"
             ],
             [
              0.4444444444444444,
              "#bd3786"
             ],
             [
              0.5555555555555556,
              "#d8576b"
             ],
             [
              0.6666666666666666,
              "#ed7953"
             ],
             [
              0.7777777777777778,
              "#fb9f3a"
             ],
             [
              0.8888888888888888,
              "#fdca26"
             ],
             [
              1,
              "#f0f921"
             ]
            ],
            "type": "histogram2d"
           }
          ],
          "histogram2dcontour": [
           {
            "colorbar": {
             "outlinewidth": 0,
             "ticks": ""
            },
            "colorscale": [
             [
              0,
              "#0d0887"
             ],
             [
              0.1111111111111111,
              "#46039f"
             ],
             [
              0.2222222222222222,
              "#7201a8"
             ],
             [
              0.3333333333333333,
              "#9c179e"
             ],
             [
              0.4444444444444444,
              "#bd3786"
             ],
             [
              0.5555555555555556,
              "#d8576b"
             ],
             [
              0.6666666666666666,
              "#ed7953"
             ],
             [
              0.7777777777777778,
              "#fb9f3a"
             ],
             [
              0.8888888888888888,
              "#fdca26"
             ],
             [
              1,
              "#f0f921"
             ]
            ],
            "type": "histogram2dcontour"
           }
          ],
          "mesh3d": [
           {
            "colorbar": {
             "outlinewidth": 0,
             "ticks": ""
            },
            "type": "mesh3d"
           }
          ],
          "parcoords": [
           {
            "line": {
             "colorbar": {
              "outlinewidth": 0,
              "ticks": ""
             }
            },
            "type": "parcoords"
           }
          ],
          "pie": [
           {
            "automargin": true,
            "type": "pie"
           }
          ],
          "scatter": [
           {
            "fillpattern": {
             "fillmode": "overlay",
             "size": 10,
             "solidity": 0.2
            },
            "type": "scatter"
           }
          ],
          "scatter3d": [
           {
            "line": {
             "colorbar": {
              "outlinewidth": 0,
              "ticks": ""
             }
            },
            "marker": {
             "colorbar": {
              "outlinewidth": 0,
              "ticks": ""
             }
            },
            "type": "scatter3d"
           }
          ],
          "scattercarpet": [
           {
            "marker": {
             "colorbar": {
              "outlinewidth": 0,
              "ticks": ""
             }
            },
            "type": "scattercarpet"
           }
          ],
          "scattergeo": [
           {
            "marker": {
             "colorbar": {
              "outlinewidth": 0,
              "ticks": ""
             }
            },
            "type": "scattergeo"
           }
          ],
          "scattergl": [
           {
            "marker": {
             "colorbar": {
              "outlinewidth": 0,
              "ticks": ""
             }
            },
            "type": "scattergl"
           }
          ],
          "scattermapbox": [
           {
            "marker": {
             "colorbar": {
              "outlinewidth": 0,
              "ticks": ""
             }
            },
            "type": "scattermapbox"
           }
          ],
          "scatterpolar": [
           {
            "marker": {
             "colorbar": {
              "outlinewidth": 0,
              "ticks": ""
             }
            },
            "type": "scatterpolar"
           }
          ],
          "scatterpolargl": [
           {
            "marker": {
             "colorbar": {
              "outlinewidth": 0,
              "ticks": ""
             }
            },
            "type": "scatterpolargl"
           }
          ],
          "scatterternary": [
           {
            "marker": {
             "colorbar": {
              "outlinewidth": 0,
              "ticks": ""
             }
            },
            "type": "scatterternary"
           }
          ],
          "surface": [
           {
            "colorbar": {
             "outlinewidth": 0,
             "ticks": ""
            },
            "colorscale": [
             [
              0,
              "#0d0887"
             ],
             [
              0.1111111111111111,
              "#46039f"
             ],
             [
              0.2222222222222222,
              "#7201a8"
             ],
             [
              0.3333333333333333,
              "#9c179e"
             ],
             [
              0.4444444444444444,
              "#bd3786"
             ],
             [
              0.5555555555555556,
              "#d8576b"
             ],
             [
              0.6666666666666666,
              "#ed7953"
             ],
             [
              0.7777777777777778,
              "#fb9f3a"
             ],
             [
              0.8888888888888888,
              "#fdca26"
             ],
             [
              1,
              "#f0f921"
             ]
            ],
            "type": "surface"
           }
          ],
          "table": [
           {
            "cells": {
             "fill": {
              "color": "#EBF0F8"
             },
             "line": {
              "color": "white"
             }
            },
            "header": {
             "fill": {
              "color": "#C8D4E3"
             },
             "line": {
              "color": "white"
             }
            },
            "type": "table"
           }
          ]
         },
         "layout": {
          "annotationdefaults": {
           "arrowcolor": "#2a3f5f",
           "arrowhead": 0,
           "arrowwidth": 1
          },
          "autotypenumbers": "strict",
          "coloraxis": {
           "colorbar": {
            "outlinewidth": 0,
            "ticks": ""
           }
          },
          "colorscale": {
           "diverging": [
            [
             0,
             "#8e0152"
            ],
            [
             0.1,
             "#c51b7d"
            ],
            [
             0.2,
             "#de77ae"
            ],
            [
             0.3,
             "#f1b6da"
            ],
            [
             0.4,
             "#fde0ef"
            ],
            [
             0.5,
             "#f7f7f7"
            ],
            [
             0.6,
             "#e6f5d0"
            ],
            [
             0.7,
             "#b8e186"
            ],
            [
             0.8,
             "#7fbc41"
            ],
            [
             0.9,
             "#4d9221"
            ],
            [
             1,
             "#276419"
            ]
           ],
           "sequential": [
            [
             0,
             "#0d0887"
            ],
            [
             0.1111111111111111,
             "#46039f"
            ],
            [
             0.2222222222222222,
             "#7201a8"
            ],
            [
             0.3333333333333333,
             "#9c179e"
            ],
            [
             0.4444444444444444,
             "#bd3786"
            ],
            [
             0.5555555555555556,
             "#d8576b"
            ],
            [
             0.6666666666666666,
             "#ed7953"
            ],
            [
             0.7777777777777778,
             "#fb9f3a"
            ],
            [
             0.8888888888888888,
             "#fdca26"
            ],
            [
             1,
             "#f0f921"
            ]
           ],
           "sequentialminus": [
            [
             0,
             "#0d0887"
            ],
            [
             0.1111111111111111,
             "#46039f"
            ],
            [
             0.2222222222222222,
             "#7201a8"
            ],
            [
             0.3333333333333333,
             "#9c179e"
            ],
            [
             0.4444444444444444,
             "#bd3786"
            ],
            [
             0.5555555555555556,
             "#d8576b"
            ],
            [
             0.6666666666666666,
             "#ed7953"
            ],
            [
             0.7777777777777778,
             "#fb9f3a"
            ],
            [
             0.8888888888888888,
             "#fdca26"
            ],
            [
             1,
             "#f0f921"
            ]
           ]
          },
          "colorway": [
           "#636efa",
           "#EF553B",
           "#00cc96",
           "#ab63fa",
           "#FFA15A",
           "#19d3f3",
           "#FF6692",
           "#B6E880",
           "#FF97FF",
           "#FECB52"
          ],
          "font": {
           "color": "#2a3f5f"
          },
          "geo": {
           "bgcolor": "white",
           "lakecolor": "white",
           "landcolor": "#E5ECF6",
           "showlakes": true,
           "showland": true,
           "subunitcolor": "white"
          },
          "hoverlabel": {
           "align": "left"
          },
          "hovermode": "closest",
          "mapbox": {
           "style": "light"
          },
          "paper_bgcolor": "white",
          "plot_bgcolor": "#E5ECF6",
          "polar": {
           "angularaxis": {
            "gridcolor": "white",
            "linecolor": "white",
            "ticks": ""
           },
           "bgcolor": "#E5ECF6",
           "radialaxis": {
            "gridcolor": "white",
            "linecolor": "white",
            "ticks": ""
           }
          },
          "scene": {
           "xaxis": {
            "backgroundcolor": "#E5ECF6",
            "gridcolor": "white",
            "gridwidth": 2,
            "linecolor": "white",
            "showbackground": true,
            "ticks": "",
            "zerolinecolor": "white"
           },
           "yaxis": {
            "backgroundcolor": "#E5ECF6",
            "gridcolor": "white",
            "gridwidth": 2,
            "linecolor": "white",
            "showbackground": true,
            "ticks": "",
            "zerolinecolor": "white"
           },
           "zaxis": {
            "backgroundcolor": "#E5ECF6",
            "gridcolor": "white",
            "gridwidth": 2,
            "linecolor": "white",
            "showbackground": true,
            "ticks": "",
            "zerolinecolor": "white"
           }
          },
          "shapedefaults": {
           "line": {
            "color": "#2a3f5f"
           }
          },
          "ternary": {
           "aaxis": {
            "gridcolor": "white",
            "linecolor": "white",
            "ticks": ""
           },
           "baxis": {
            "gridcolor": "white",
            "linecolor": "white",
            "ticks": ""
           },
           "bgcolor": "#E5ECF6",
           "caxis": {
            "gridcolor": "white",
            "linecolor": "white",
            "ticks": ""
           }
          },
          "title": {
           "x": 0.05
          },
          "xaxis": {
           "automargin": true,
           "gridcolor": "white",
           "linecolor": "white",
           "ticks": "",
           "title": {
            "standoff": 15
           },
           "zerolinecolor": "white",
           "zerolinewidth": 2
          },
          "yaxis": {
           "automargin": true,
           "gridcolor": "white",
           "linecolor": "white",
           "ticks": "",
           "title": {
            "standoff": 15
           },
           "zerolinecolor": "white",
           "zerolinewidth": 2
          }
         }
        },
        "title": {
         "font": {
          "color": "#4D5663"
         }
        },
        "xaxis": {
         "gridcolor": "#E1E5ED",
         "showgrid": true,
         "tickfont": {
          "color": "#4D5663"
         },
         "title": {
          "font": {
           "color": "#4D5663"
          },
          "text": ""
         },
         "zerolinecolor": "#E1E5ED"
        },
        "yaxis": {
         "gridcolor": "#E1E5ED",
         "showgrid": true,
         "tickfont": {
          "color": "#4D5663"
         },
         "title": {
          "font": {
           "color": "#4D5663"
          },
          "text": ""
         },
         "zerolinecolor": "#E1E5ED"
        }
       }
      },
      "text/html": [
       "<div>                            <div id=\"7ea2c3a4-325f-446a-8cbe-b5237cdb3ac4\" class=\"plotly-graph-div\" style=\"height:525px; width:100%;\"></div>            <script type=\"text/javascript\">                require([\"plotly\"], function(Plotly) {                    window.PLOTLYENV=window.PLOTLYENV || {};\n",
       "                    window.PLOTLYENV.BASE_URL='https://plot.ly';                                    if (document.getElementById(\"7ea2c3a4-325f-446a-8cbe-b5237cdb3ac4\")) {                    Plotly.newPlot(                        \"7ea2c3a4-325f-446a-8cbe-b5237cdb3ac4\",                        [{\"marker\":{\"color\":\"rgba(255, 153, 51, 0.6)\",\"line\":{\"color\":\"rgba(255, 153, 51, 1.0)\",\"width\":1}},\"name\":\"Point\",\"orientation\":\"v\",\"text\":\"\",\"x\":[\"A\",\"B\",\"C\",\"D\"],\"y\":[10,20,30,40],\"type\":\"bar\"}],                        {\"legend\":{\"bgcolor\":\"#F5F6F9\",\"font\":{\"color\":\"#4D5663\"}},\"paper_bgcolor\":\"#F5F6F9\",\"plot_bgcolor\":\"#F5F6F9\",\"template\":{\"data\":{\"barpolar\":[{\"marker\":{\"line\":{\"color\":\"#E5ECF6\",\"width\":0.5},\"pattern\":{\"fillmode\":\"overlay\",\"size\":10,\"solidity\":0.2}},\"type\":\"barpolar\"}],\"bar\":[{\"error_x\":{\"color\":\"#2a3f5f\"},\"error_y\":{\"color\":\"#2a3f5f\"},\"marker\":{\"line\":{\"color\":\"#E5ECF6\",\"width\":0.5},\"pattern\":{\"fillmode\":\"overlay\",\"size\":10,\"solidity\":0.2}},\"type\":\"bar\"}],\"carpet\":[{\"aaxis\":{\"endlinecolor\":\"#2a3f5f\",\"gridcolor\":\"white\",\"linecolor\":\"white\",\"minorgridcolor\":\"white\",\"startlinecolor\":\"#2a3f5f\"},\"baxis\":{\"endlinecolor\":\"#2a3f5f\",\"gridcolor\":\"white\",\"linecolor\":\"white\",\"minorgridcolor\":\"white\",\"startlinecolor\":\"#2a3f5f\"},\"type\":\"carpet\"}],\"choropleth\":[{\"colorbar\":{\"outlinewidth\":0,\"ticks\":\"\"},\"type\":\"choropleth\"}],\"contourcarpet\":[{\"colorbar\":{\"outlinewidth\":0,\"ticks\":\"\"},\"type\":\"contourcarpet\"}],\"contour\":[{\"colorbar\":{\"outlinewidth\":0,\"ticks\":\"\"},\"colorscale\":[[0.0,\"#0d0887\"],[0.1111111111111111,\"#46039f\"],[0.2222222222222222,\"#7201a8\"],[0.3333333333333333,\"#9c179e\"],[0.4444444444444444,\"#bd3786\"],[0.5555555555555556,\"#d8576b\"],[0.6666666666666666,\"#ed7953\"],[0.7777777777777778,\"#fb9f3a\"],[0.8888888888888888,\"#fdca26\"],[1.0,\"#f0f921\"]],\"type\":\"contour\"}],\"heatmapgl\":[{\"colorbar\":{\"outlinewidth\":0,\"ticks\":\"\"},\"colorscale\":[[0.0,\"#0d0887\"],[0.1111111111111111,\"#46039f\"],[0.2222222222222222,\"#7201a8\"],[0.3333333333333333,\"#9c179e\"],[0.4444444444444444,\"#bd3786\"],[0.5555555555555556,\"#d8576b\"],[0.6666666666666666,\"#ed7953\"],[0.7777777777777778,\"#fb9f3a\"],[0.8888888888888888,\"#fdca26\"],[1.0,\"#f0f921\"]],\"type\":\"heatmapgl\"}],\"heatmap\":[{\"colorbar\":{\"outlinewidth\":0,\"ticks\":\"\"},\"colorscale\":[[0.0,\"#0d0887\"],[0.1111111111111111,\"#46039f\"],[0.2222222222222222,\"#7201a8\"],[0.3333333333333333,\"#9c179e\"],[0.4444444444444444,\"#bd3786\"],[0.5555555555555556,\"#d8576b\"],[0.6666666666666666,\"#ed7953\"],[0.7777777777777778,\"#fb9f3a\"],[0.8888888888888888,\"#fdca26\"],[1.0,\"#f0f921\"]],\"type\":\"heatmap\"}],\"histogram2dcontour\":[{\"colorbar\":{\"outlinewidth\":0,\"ticks\":\"\"},\"colorscale\":[[0.0,\"#0d0887\"],[0.1111111111111111,\"#46039f\"],[0.2222222222222222,\"#7201a8\"],[0.3333333333333333,\"#9c179e\"],[0.4444444444444444,\"#bd3786\"],[0.5555555555555556,\"#d8576b\"],[0.6666666666666666,\"#ed7953\"],[0.7777777777777778,\"#fb9f3a\"],[0.8888888888888888,\"#fdca26\"],[1.0,\"#f0f921\"]],\"type\":\"histogram2dcontour\"}],\"histogram2d\":[{\"colorbar\":{\"outlinewidth\":0,\"ticks\":\"\"},\"colorscale\":[[0.0,\"#0d0887\"],[0.1111111111111111,\"#46039f\"],[0.2222222222222222,\"#7201a8\"],[0.3333333333333333,\"#9c179e\"],[0.4444444444444444,\"#bd3786\"],[0.5555555555555556,\"#d8576b\"],[0.6666666666666666,\"#ed7953\"],[0.7777777777777778,\"#fb9f3a\"],[0.8888888888888888,\"#fdca26\"],[1.0,\"#f0f921\"]],\"type\":\"histogram2d\"}],\"histogram\":[{\"marker\":{\"pattern\":{\"fillmode\":\"overlay\",\"size\":10,\"solidity\":0.2}},\"type\":\"histogram\"}],\"mesh3d\":[{\"colorbar\":{\"outlinewidth\":0,\"ticks\":\"\"},\"type\":\"mesh3d\"}],\"parcoords\":[{\"line\":{\"colorbar\":{\"outlinewidth\":0,\"ticks\":\"\"}},\"type\":\"parcoords\"}],\"pie\":[{\"automargin\":true,\"type\":\"pie\"}],\"scatter3d\":[{\"line\":{\"colorbar\":{\"outlinewidth\":0,\"ticks\":\"\"}},\"marker\":{\"colorbar\":{\"outlinewidth\":0,\"ticks\":\"\"}},\"type\":\"scatter3d\"}],\"scattercarpet\":[{\"marker\":{\"colorbar\":{\"outlinewidth\":0,\"ticks\":\"\"}},\"type\":\"scattercarpet\"}],\"scattergeo\":[{\"marker\":{\"colorbar\":{\"outlinewidth\":0,\"ticks\":\"\"}},\"type\":\"scattergeo\"}],\"scattergl\":[{\"marker\":{\"colorbar\":{\"outlinewidth\":0,\"ticks\":\"\"}},\"type\":\"scattergl\"}],\"scattermapbox\":[{\"marker\":{\"colorbar\":{\"outlinewidth\":0,\"ticks\":\"\"}},\"type\":\"scattermapbox\"}],\"scatterpolargl\":[{\"marker\":{\"colorbar\":{\"outlinewidth\":0,\"ticks\":\"\"}},\"type\":\"scatterpolargl\"}],\"scatterpolar\":[{\"marker\":{\"colorbar\":{\"outlinewidth\":0,\"ticks\":\"\"}},\"type\":\"scatterpolar\"}],\"scatter\":[{\"fillpattern\":{\"fillmode\":\"overlay\",\"size\":10,\"solidity\":0.2},\"type\":\"scatter\"}],\"scatterternary\":[{\"marker\":{\"colorbar\":{\"outlinewidth\":0,\"ticks\":\"\"}},\"type\":\"scatterternary\"}],\"surface\":[{\"colorbar\":{\"outlinewidth\":0,\"ticks\":\"\"},\"colorscale\":[[0.0,\"#0d0887\"],[0.1111111111111111,\"#46039f\"],[0.2222222222222222,\"#7201a8\"],[0.3333333333333333,\"#9c179e\"],[0.4444444444444444,\"#bd3786\"],[0.5555555555555556,\"#d8576b\"],[0.6666666666666666,\"#ed7953\"],[0.7777777777777778,\"#fb9f3a\"],[0.8888888888888888,\"#fdca26\"],[1.0,\"#f0f921\"]],\"type\":\"surface\"}],\"table\":[{\"cells\":{\"fill\":{\"color\":\"#EBF0F8\"},\"line\":{\"color\":\"white\"}},\"header\":{\"fill\":{\"color\":\"#C8D4E3\"},\"line\":{\"color\":\"white\"}},\"type\":\"table\"}]},\"layout\":{\"annotationdefaults\":{\"arrowcolor\":\"#2a3f5f\",\"arrowhead\":0,\"arrowwidth\":1},\"autotypenumbers\":\"strict\",\"coloraxis\":{\"colorbar\":{\"outlinewidth\":0,\"ticks\":\"\"}},\"colorscale\":{\"diverging\":[[0,\"#8e0152\"],[0.1,\"#c51b7d\"],[0.2,\"#de77ae\"],[0.3,\"#f1b6da\"],[0.4,\"#fde0ef\"],[0.5,\"#f7f7f7\"],[0.6,\"#e6f5d0\"],[0.7,\"#b8e186\"],[0.8,\"#7fbc41\"],[0.9,\"#4d9221\"],[1,\"#276419\"]],\"sequential\":[[0.0,\"#0d0887\"],[0.1111111111111111,\"#46039f\"],[0.2222222222222222,\"#7201a8\"],[0.3333333333333333,\"#9c179e\"],[0.4444444444444444,\"#bd3786\"],[0.5555555555555556,\"#d8576b\"],[0.6666666666666666,\"#ed7953\"],[0.7777777777777778,\"#fb9f3a\"],[0.8888888888888888,\"#fdca26\"],[1.0,\"#f0f921\"]],\"sequentialminus\":[[0.0,\"#0d0887\"],[0.1111111111111111,\"#46039f\"],[0.2222222222222222,\"#7201a8\"],[0.3333333333333333,\"#9c179e\"],[0.4444444444444444,\"#bd3786\"],[0.5555555555555556,\"#d8576b\"],[0.6666666666666666,\"#ed7953\"],[0.7777777777777778,\"#fb9f3a\"],[0.8888888888888888,\"#fdca26\"],[1.0,\"#f0f921\"]]},\"colorway\":[\"#636efa\",\"#EF553B\",\"#00cc96\",\"#ab63fa\",\"#FFA15A\",\"#19d3f3\",\"#FF6692\",\"#B6E880\",\"#FF97FF\",\"#FECB52\"],\"font\":{\"color\":\"#2a3f5f\"},\"geo\":{\"bgcolor\":\"white\",\"lakecolor\":\"white\",\"landcolor\":\"#E5ECF6\",\"showlakes\":true,\"showland\":true,\"subunitcolor\":\"white\"},\"hoverlabel\":{\"align\":\"left\"},\"hovermode\":\"closest\",\"mapbox\":{\"style\":\"light\"},\"paper_bgcolor\":\"white\",\"plot_bgcolor\":\"#E5ECF6\",\"polar\":{\"angularaxis\":{\"gridcolor\":\"white\",\"linecolor\":\"white\",\"ticks\":\"\"},\"bgcolor\":\"#E5ECF6\",\"radialaxis\":{\"gridcolor\":\"white\",\"linecolor\":\"white\",\"ticks\":\"\"}},\"scene\":{\"xaxis\":{\"backgroundcolor\":\"#E5ECF6\",\"gridcolor\":\"white\",\"gridwidth\":2,\"linecolor\":\"white\",\"showbackground\":true,\"ticks\":\"\",\"zerolinecolor\":\"white\"},\"yaxis\":{\"backgroundcolor\":\"#E5ECF6\",\"gridcolor\":\"white\",\"gridwidth\":2,\"linecolor\":\"white\",\"showbackground\":true,\"ticks\":\"\",\"zerolinecolor\":\"white\"},\"zaxis\":{\"backgroundcolor\":\"#E5ECF6\",\"gridcolor\":\"white\",\"gridwidth\":2,\"linecolor\":\"white\",\"showbackground\":true,\"ticks\":\"\",\"zerolinecolor\":\"white\"}},\"shapedefaults\":{\"line\":{\"color\":\"#2a3f5f\"}},\"ternary\":{\"aaxis\":{\"gridcolor\":\"white\",\"linecolor\":\"white\",\"ticks\":\"\"},\"baxis\":{\"gridcolor\":\"white\",\"linecolor\":\"white\",\"ticks\":\"\"},\"bgcolor\":\"#E5ECF6\",\"caxis\":{\"gridcolor\":\"white\",\"linecolor\":\"white\",\"ticks\":\"\"}},\"title\":{\"x\":0.05},\"xaxis\":{\"automargin\":true,\"gridcolor\":\"white\",\"linecolor\":\"white\",\"ticks\":\"\",\"title\":{\"standoff\":15},\"zerolinecolor\":\"white\",\"zerolinewidth\":2},\"yaxis\":{\"automargin\":true,\"gridcolor\":\"white\",\"linecolor\":\"white\",\"ticks\":\"\",\"title\":{\"standoff\":15},\"zerolinecolor\":\"white\",\"zerolinewidth\":2}}},\"title\":{\"font\":{\"color\":\"#4D5663\"}},\"xaxis\":{\"gridcolor\":\"#E1E5ED\",\"showgrid\":true,\"tickfont\":{\"color\":\"#4D5663\"},\"title\":{\"font\":{\"color\":\"#4D5663\"},\"text\":\"\"},\"zerolinecolor\":\"#E1E5ED\"},\"yaxis\":{\"gridcolor\":\"#E1E5ED\",\"showgrid\":true,\"tickfont\":{\"color\":\"#4D5663\"},\"title\":{\"font\":{\"color\":\"#4D5663\"},\"text\":\"\"},\"zerolinecolor\":\"#E1E5ED\"}},                        {\"showLink\": true, \"linkText\": \"Export to plot.ly\", \"plotlyServerURL\": \"https://plot.ly\", \"responsive\": true}                    ).then(function(){\n",
       "                            \n",
       "var gd = document.getElementById('7ea2c3a4-325f-446a-8cbe-b5237cdb3ac4');\n",
       "var x = new MutationObserver(function (mutations, observer) {{\n",
       "        var display = window.getComputedStyle(gd).display;\n",
       "        if (!display || display === 'none') {{\n",
       "            console.log([gd, 'removed!']);\n",
       "            Plotly.purge(gd);\n",
       "            observer.disconnect();\n",
       "        }}\n",
       "}});\n",
       "\n",
       "// Listen for the removal of the full notebook cells\n",
       "var notebookContainer = gd.closest('#notebook-container');\n",
       "if (notebookContainer) {{\n",
       "    x.observe(notebookContainer, {childList: true});\n",
       "}}\n",
       "\n",
       "// Listen for the clearing of the current output cell\n",
       "var outputEl = gd.closest('.output');\n",
       "if (outputEl) {{\n",
       "    x.observe(outputEl, {childList: true});\n",
       "}}\n",
       "\n",
       "                        })                };                });            </script>        </div>"
      ]
     },
     "metadata": {},
     "output_type": "display_data"
    }
   ],
   "source": [
    "df2.iplot(kind='bar',x='Category',y='Point')"
   ]
  },
  {
   "cell_type": "code",
   "execution_count": 14,
   "metadata": {},
   "outputs": [
    {
     "data": {
      "application/vnd.plotly.v1+json": {
       "config": {
        "linkText": "Export to plot.ly",
        "plotlyServerURL": "https://plot.ly",
        "showLink": true
       },
       "data": [
        {
         "marker": {
          "color": "rgba(255, 153, 51, 0.6)",
          "line": {
           "color": "rgba(255, 153, 51, 1.0)",
           "width": 1
          }
         },
         "name": "None",
         "orientation": "v",
         "text": "",
         "type": "bar",
         "x": [
          "A",
          "B",
          "C",
          "D"
         ],
         "y": [
          100,
          100,
          100,
          100
         ]
        }
       ],
       "layout": {
        "legend": {
         "bgcolor": "#F5F6F9",
         "font": {
          "color": "#4D5663"
         }
        },
        "paper_bgcolor": "#F5F6F9",
        "plot_bgcolor": "#F5F6F9",
        "template": {
         "data": {
          "bar": [
           {
            "error_x": {
             "color": "#2a3f5f"
            },
            "error_y": {
             "color": "#2a3f5f"
            },
            "marker": {
             "line": {
              "color": "#E5ECF6",
              "width": 0.5
             },
             "pattern": {
              "fillmode": "overlay",
              "size": 10,
              "solidity": 0.2
             }
            },
            "type": "bar"
           }
          ],
          "barpolar": [
           {
            "marker": {
             "line": {
              "color": "#E5ECF6",
              "width": 0.5
             },
             "pattern": {
              "fillmode": "overlay",
              "size": 10,
              "solidity": 0.2
             }
            },
            "type": "barpolar"
           }
          ],
          "carpet": [
           {
            "aaxis": {
             "endlinecolor": "#2a3f5f",
             "gridcolor": "white",
             "linecolor": "white",
             "minorgridcolor": "white",
             "startlinecolor": "#2a3f5f"
            },
            "baxis": {
             "endlinecolor": "#2a3f5f",
             "gridcolor": "white",
             "linecolor": "white",
             "minorgridcolor": "white",
             "startlinecolor": "#2a3f5f"
            },
            "type": "carpet"
           }
          ],
          "choropleth": [
           {
            "colorbar": {
             "outlinewidth": 0,
             "ticks": ""
            },
            "type": "choropleth"
           }
          ],
          "contour": [
           {
            "colorbar": {
             "outlinewidth": 0,
             "ticks": ""
            },
            "colorscale": [
             [
              0,
              "#0d0887"
             ],
             [
              0.1111111111111111,
              "#46039f"
             ],
             [
              0.2222222222222222,
              "#7201a8"
             ],
             [
              0.3333333333333333,
              "#9c179e"
             ],
             [
              0.4444444444444444,
              "#bd3786"
             ],
             [
              0.5555555555555556,
              "#d8576b"
             ],
             [
              0.6666666666666666,
              "#ed7953"
             ],
             [
              0.7777777777777778,
              "#fb9f3a"
             ],
             [
              0.8888888888888888,
              "#fdca26"
             ],
             [
              1,
              "#f0f921"
             ]
            ],
            "type": "contour"
           }
          ],
          "contourcarpet": [
           {
            "colorbar": {
             "outlinewidth": 0,
             "ticks": ""
            },
            "type": "contourcarpet"
           }
          ],
          "heatmap": [
           {
            "colorbar": {
             "outlinewidth": 0,
             "ticks": ""
            },
            "colorscale": [
             [
              0,
              "#0d0887"
             ],
             [
              0.1111111111111111,
              "#46039f"
             ],
             [
              0.2222222222222222,
              "#7201a8"
             ],
             [
              0.3333333333333333,
              "#9c179e"
             ],
             [
              0.4444444444444444,
              "#bd3786"
             ],
             [
              0.5555555555555556,
              "#d8576b"
             ],
             [
              0.6666666666666666,
              "#ed7953"
             ],
             [
              0.7777777777777778,
              "#fb9f3a"
             ],
             [
              0.8888888888888888,
              "#fdca26"
             ],
             [
              1,
              "#f0f921"
             ]
            ],
            "type": "heatmap"
           }
          ],
          "heatmapgl": [
           {
            "colorbar": {
             "outlinewidth": 0,
             "ticks": ""
            },
            "colorscale": [
             [
              0,
              "#0d0887"
             ],
             [
              0.1111111111111111,
              "#46039f"
             ],
             [
              0.2222222222222222,
              "#7201a8"
             ],
             [
              0.3333333333333333,
              "#9c179e"
             ],
             [
              0.4444444444444444,
              "#bd3786"
             ],
             [
              0.5555555555555556,
              "#d8576b"
             ],
             [
              0.6666666666666666,
              "#ed7953"
             ],
             [
              0.7777777777777778,
              "#fb9f3a"
             ],
             [
              0.8888888888888888,
              "#fdca26"
             ],
             [
              1,
              "#f0f921"
             ]
            ],
            "type": "heatmapgl"
           }
          ],
          "histogram": [
           {
            "marker": {
             "pattern": {
              "fillmode": "overlay",
              "size": 10,
              "solidity": 0.2
             }
            },
            "type": "histogram"
           }
          ],
          "histogram2d": [
           {
            "colorbar": {
             "outlinewidth": 0,
             "ticks": ""
            },
            "colorscale": [
             [
              0,
              "#0d0887"
             ],
             [
              0.1111111111111111,
              "#46039f"
             ],
             [
              0.2222222222222222,
              "#7201a8"
             ],
             [
              0.3333333333333333,
              "#9c179e"
             ],
             [
              0.4444444444444444,
              "#bd3786"
             ],
             [
              0.5555555555555556,
              "#d8576b"
             ],
             [
              0.6666666666666666,
              "#ed7953"
             ],
             [
              0.7777777777777778,
              "#fb9f3a"
             ],
             [
              0.8888888888888888,
              "#fdca26"
             ],
             [
              1,
              "#f0f921"
             ]
            ],
            "type": "histogram2d"
           }
          ],
          "histogram2dcontour": [
           {
            "colorbar": {
             "outlinewidth": 0,
             "ticks": ""
            },
            "colorscale": [
             [
              0,
              "#0d0887"
             ],
             [
              0.1111111111111111,
              "#46039f"
             ],
             [
              0.2222222222222222,
              "#7201a8"
             ],
             [
              0.3333333333333333,
              "#9c179e"
             ],
             [
              0.4444444444444444,
              "#bd3786"
             ],
             [
              0.5555555555555556,
              "#d8576b"
             ],
             [
              0.6666666666666666,
              "#ed7953"
             ],
             [
              0.7777777777777778,
              "#fb9f3a"
             ],
             [
              0.8888888888888888,
              "#fdca26"
             ],
             [
              1,
              "#f0f921"
             ]
            ],
            "type": "histogram2dcontour"
           }
          ],
          "mesh3d": [
           {
            "colorbar": {
             "outlinewidth": 0,
             "ticks": ""
            },
            "type": "mesh3d"
           }
          ],
          "parcoords": [
           {
            "line": {
             "colorbar": {
              "outlinewidth": 0,
              "ticks": ""
             }
            },
            "type": "parcoords"
           }
          ],
          "pie": [
           {
            "automargin": true,
            "type": "pie"
           }
          ],
          "scatter": [
           {
            "fillpattern": {
             "fillmode": "overlay",
             "size": 10,
             "solidity": 0.2
            },
            "type": "scatter"
           }
          ],
          "scatter3d": [
           {
            "line": {
             "colorbar": {
              "outlinewidth": 0,
              "ticks": ""
             }
            },
            "marker": {
             "colorbar": {
              "outlinewidth": 0,
              "ticks": ""
             }
            },
            "type": "scatter3d"
           }
          ],
          "scattercarpet": [
           {
            "marker": {
             "colorbar": {
              "outlinewidth": 0,
              "ticks": ""
             }
            },
            "type": "scattercarpet"
           }
          ],
          "scattergeo": [
           {
            "marker": {
             "colorbar": {
              "outlinewidth": 0,
              "ticks": ""
             }
            },
            "type": "scattergeo"
           }
          ],
          "scattergl": [
           {
            "marker": {
             "colorbar": {
              "outlinewidth": 0,
              "ticks": ""
             }
            },
            "type": "scattergl"
           }
          ],
          "scattermapbox": [
           {
            "marker": {
             "colorbar": {
              "outlinewidth": 0,
              "ticks": ""
             }
            },
            "type": "scattermapbox"
           }
          ],
          "scatterpolar": [
           {
            "marker": {
             "colorbar": {
              "outlinewidth": 0,
              "ticks": ""
             }
            },
            "type": "scatterpolar"
           }
          ],
          "scatterpolargl": [
           {
            "marker": {
             "colorbar": {
              "outlinewidth": 0,
              "ticks": ""
             }
            },
            "type": "scatterpolargl"
           }
          ],
          "scatterternary": [
           {
            "marker": {
             "colorbar": {
              "outlinewidth": 0,
              "ticks": ""
             }
            },
            "type": "scatterternary"
           }
          ],
          "surface": [
           {
            "colorbar": {
             "outlinewidth": 0,
             "ticks": ""
            },
            "colorscale": [
             [
              0,
              "#0d0887"
             ],
             [
              0.1111111111111111,
              "#46039f"
             ],
             [
              0.2222222222222222,
              "#7201a8"
             ],
             [
              0.3333333333333333,
              "#9c179e"
             ],
             [
              0.4444444444444444,
              "#bd3786"
             ],
             [
              0.5555555555555556,
              "#d8576b"
             ],
             [
              0.6666666666666666,
              "#ed7953"
             ],
             [
              0.7777777777777778,
              "#fb9f3a"
             ],
             [
              0.8888888888888888,
              "#fdca26"
             ],
             [
              1,
              "#f0f921"
             ]
            ],
            "type": "surface"
           }
          ],
          "table": [
           {
            "cells": {
             "fill": {
              "color": "#EBF0F8"
             },
             "line": {
              "color": "white"
             }
            },
            "header": {
             "fill": {
              "color": "#C8D4E3"
             },
             "line": {
              "color": "white"
             }
            },
            "type": "table"
           }
          ]
         },
         "layout": {
          "annotationdefaults": {
           "arrowcolor": "#2a3f5f",
           "arrowhead": 0,
           "arrowwidth": 1
          },
          "autotypenumbers": "strict",
          "coloraxis": {
           "colorbar": {
            "outlinewidth": 0,
            "ticks": ""
           }
          },
          "colorscale": {
           "diverging": [
            [
             0,
             "#8e0152"
            ],
            [
             0.1,
             "#c51b7d"
            ],
            [
             0.2,
             "#de77ae"
            ],
            [
             0.3,
             "#f1b6da"
            ],
            [
             0.4,
             "#fde0ef"
            ],
            [
             0.5,
             "#f7f7f7"
            ],
            [
             0.6,
             "#e6f5d0"
            ],
            [
             0.7,
             "#b8e186"
            ],
            [
             0.8,
             "#7fbc41"
            ],
            [
             0.9,
             "#4d9221"
            ],
            [
             1,
             "#276419"
            ]
           ],
           "sequential": [
            [
             0,
             "#0d0887"
            ],
            [
             0.1111111111111111,
             "#46039f"
            ],
            [
             0.2222222222222222,
             "#7201a8"
            ],
            [
             0.3333333333333333,
             "#9c179e"
            ],
            [
             0.4444444444444444,
             "#bd3786"
            ],
            [
             0.5555555555555556,
             "#d8576b"
            ],
            [
             0.6666666666666666,
             "#ed7953"
            ],
            [
             0.7777777777777778,
             "#fb9f3a"
            ],
            [
             0.8888888888888888,
             "#fdca26"
            ],
            [
             1,
             "#f0f921"
            ]
           ],
           "sequentialminus": [
            [
             0,
             "#0d0887"
            ],
            [
             0.1111111111111111,
             "#46039f"
            ],
            [
             0.2222222222222222,
             "#7201a8"
            ],
            [
             0.3333333333333333,
             "#9c179e"
            ],
            [
             0.4444444444444444,
             "#bd3786"
            ],
            [
             0.5555555555555556,
             "#d8576b"
            ],
            [
             0.6666666666666666,
             "#ed7953"
            ],
            [
             0.7777777777777778,
             "#fb9f3a"
            ],
            [
             0.8888888888888888,
             "#fdca26"
            ],
            [
             1,
             "#f0f921"
            ]
           ]
          },
          "colorway": [
           "#636efa",
           "#EF553B",
           "#00cc96",
           "#ab63fa",
           "#FFA15A",
           "#19d3f3",
           "#FF6692",
           "#B6E880",
           "#FF97FF",
           "#FECB52"
          ],
          "font": {
           "color": "#2a3f5f"
          },
          "geo": {
           "bgcolor": "white",
           "lakecolor": "white",
           "landcolor": "#E5ECF6",
           "showlakes": true,
           "showland": true,
           "subunitcolor": "white"
          },
          "hoverlabel": {
           "align": "left"
          },
          "hovermode": "closest",
          "mapbox": {
           "style": "light"
          },
          "paper_bgcolor": "white",
          "plot_bgcolor": "#E5ECF6",
          "polar": {
           "angularaxis": {
            "gridcolor": "white",
            "linecolor": "white",
            "ticks": ""
           },
           "bgcolor": "#E5ECF6",
           "radialaxis": {
            "gridcolor": "white",
            "linecolor": "white",
            "ticks": ""
           }
          },
          "scene": {
           "xaxis": {
            "backgroundcolor": "#E5ECF6",
            "gridcolor": "white",
            "gridwidth": 2,
            "linecolor": "white",
            "showbackground": true,
            "ticks": "",
            "zerolinecolor": "white"
           },
           "yaxis": {
            "backgroundcolor": "#E5ECF6",
            "gridcolor": "white",
            "gridwidth": 2,
            "linecolor": "white",
            "showbackground": true,
            "ticks": "",
            "zerolinecolor": "white"
           },
           "zaxis": {
            "backgroundcolor": "#E5ECF6",
            "gridcolor": "white",
            "gridwidth": 2,
            "linecolor": "white",
            "showbackground": true,
            "ticks": "",
            "zerolinecolor": "white"
           }
          },
          "shapedefaults": {
           "line": {
            "color": "#2a3f5f"
           }
          },
          "ternary": {
           "aaxis": {
            "gridcolor": "white",
            "linecolor": "white",
            "ticks": ""
           },
           "baxis": {
            "gridcolor": "white",
            "linecolor": "white",
            "ticks": ""
           },
           "bgcolor": "#E5ECF6",
           "caxis": {
            "gridcolor": "white",
            "linecolor": "white",
            "ticks": ""
           }
          },
          "title": {
           "x": 0.05
          },
          "xaxis": {
           "automargin": true,
           "gridcolor": "white",
           "linecolor": "white",
           "ticks": "",
           "title": {
            "standoff": 15
           },
           "zerolinecolor": "white",
           "zerolinewidth": 2
          },
          "yaxis": {
           "automargin": true,
           "gridcolor": "white",
           "linecolor": "white",
           "ticks": "",
           "title": {
            "standoff": 15
           },
           "zerolinecolor": "white",
           "zerolinewidth": 2
          }
         }
        },
        "title": {
         "font": {
          "color": "#4D5663"
         }
        },
        "xaxis": {
         "gridcolor": "#E1E5ED",
         "showgrid": true,
         "tickfont": {
          "color": "#4D5663"
         },
         "title": {
          "font": {
           "color": "#4D5663"
          },
          "text": ""
         },
         "zerolinecolor": "#E1E5ED"
        },
        "yaxis": {
         "gridcolor": "#E1E5ED",
         "showgrid": true,
         "tickfont": {
          "color": "#4D5663"
         },
         "title": {
          "font": {
           "color": "#4D5663"
          },
          "text": ""
         },
         "zerolinecolor": "#E1E5ED"
        }
       }
      },
      "text/html": [
       "<div>                            <div id=\"84d8141d-12f6-4aff-957d-30b01e5935d8\" class=\"plotly-graph-div\" style=\"height:525px; width:100%;\"></div>            <script type=\"text/javascript\">                require([\"plotly\"], function(Plotly) {                    window.PLOTLYENV=window.PLOTLYENV || {};\n",
       "                    window.PLOTLYENV.BASE_URL='https://plot.ly';                                    if (document.getElementById(\"84d8141d-12f6-4aff-957d-30b01e5935d8\")) {                    Plotly.newPlot(                        \"84d8141d-12f6-4aff-957d-30b01e5935d8\",                        [{\"marker\":{\"color\":\"rgba(255, 153, 51, 0.6)\",\"line\":{\"color\":\"rgba(255, 153, 51, 1.0)\",\"width\":1}},\"name\":\"None\",\"orientation\":\"v\",\"text\":\"\",\"x\":[\"A\",\"B\",\"C\",\"D\"],\"y\":[100,100,100,100],\"type\":\"bar\"}],                        {\"legend\":{\"bgcolor\":\"#F5F6F9\",\"font\":{\"color\":\"#4D5663\"}},\"paper_bgcolor\":\"#F5F6F9\",\"plot_bgcolor\":\"#F5F6F9\",\"template\":{\"data\":{\"barpolar\":[{\"marker\":{\"line\":{\"color\":\"#E5ECF6\",\"width\":0.5},\"pattern\":{\"fillmode\":\"overlay\",\"size\":10,\"solidity\":0.2}},\"type\":\"barpolar\"}],\"bar\":[{\"error_x\":{\"color\":\"#2a3f5f\"},\"error_y\":{\"color\":\"#2a3f5f\"},\"marker\":{\"line\":{\"color\":\"#E5ECF6\",\"width\":0.5},\"pattern\":{\"fillmode\":\"overlay\",\"size\":10,\"solidity\":0.2}},\"type\":\"bar\"}],\"carpet\":[{\"aaxis\":{\"endlinecolor\":\"#2a3f5f\",\"gridcolor\":\"white\",\"linecolor\":\"white\",\"minorgridcolor\":\"white\",\"startlinecolor\":\"#2a3f5f\"},\"baxis\":{\"endlinecolor\":\"#2a3f5f\",\"gridcolor\":\"white\",\"linecolor\":\"white\",\"minorgridcolor\":\"white\",\"startlinecolor\":\"#2a3f5f\"},\"type\":\"carpet\"}],\"choropleth\":[{\"colorbar\":{\"outlinewidth\":0,\"ticks\":\"\"},\"type\":\"choropleth\"}],\"contourcarpet\":[{\"colorbar\":{\"outlinewidth\":0,\"ticks\":\"\"},\"type\":\"contourcarpet\"}],\"contour\":[{\"colorbar\":{\"outlinewidth\":0,\"ticks\":\"\"},\"colorscale\":[[0.0,\"#0d0887\"],[0.1111111111111111,\"#46039f\"],[0.2222222222222222,\"#7201a8\"],[0.3333333333333333,\"#9c179e\"],[0.4444444444444444,\"#bd3786\"],[0.5555555555555556,\"#d8576b\"],[0.6666666666666666,\"#ed7953\"],[0.7777777777777778,\"#fb9f3a\"],[0.8888888888888888,\"#fdca26\"],[1.0,\"#f0f921\"]],\"type\":\"contour\"}],\"heatmapgl\":[{\"colorbar\":{\"outlinewidth\":0,\"ticks\":\"\"},\"colorscale\":[[0.0,\"#0d0887\"],[0.1111111111111111,\"#46039f\"],[0.2222222222222222,\"#7201a8\"],[0.3333333333333333,\"#9c179e\"],[0.4444444444444444,\"#bd3786\"],[0.5555555555555556,\"#d8576b\"],[0.6666666666666666,\"#ed7953\"],[0.7777777777777778,\"#fb9f3a\"],[0.8888888888888888,\"#fdca26\"],[1.0,\"#f0f921\"]],\"type\":\"heatmapgl\"}],\"heatmap\":[{\"colorbar\":{\"outlinewidth\":0,\"ticks\":\"\"},\"colorscale\":[[0.0,\"#0d0887\"],[0.1111111111111111,\"#46039f\"],[0.2222222222222222,\"#7201a8\"],[0.3333333333333333,\"#9c179e\"],[0.4444444444444444,\"#bd3786\"],[0.5555555555555556,\"#d8576b\"],[0.6666666666666666,\"#ed7953\"],[0.7777777777777778,\"#fb9f3a\"],[0.8888888888888888,\"#fdca26\"],[1.0,\"#f0f921\"]],\"type\":\"heatmap\"}],\"histogram2dcontour\":[{\"colorbar\":{\"outlinewidth\":0,\"ticks\":\"\"},\"colorscale\":[[0.0,\"#0d0887\"],[0.1111111111111111,\"#46039f\"],[0.2222222222222222,\"#7201a8\"],[0.3333333333333333,\"#9c179e\"],[0.4444444444444444,\"#bd3786\"],[0.5555555555555556,\"#d8576b\"],[0.6666666666666666,\"#ed7953\"],[0.7777777777777778,\"#fb9f3a\"],[0.8888888888888888,\"#fdca26\"],[1.0,\"#f0f921\"]],\"type\":\"histogram2dcontour\"}],\"histogram2d\":[{\"colorbar\":{\"outlinewidth\":0,\"ticks\":\"\"},\"colorscale\":[[0.0,\"#0d0887\"],[0.1111111111111111,\"#46039f\"],[0.2222222222222222,\"#7201a8\"],[0.3333333333333333,\"#9c179e\"],[0.4444444444444444,\"#bd3786\"],[0.5555555555555556,\"#d8576b\"],[0.6666666666666666,\"#ed7953\"],[0.7777777777777778,\"#fb9f3a\"],[0.8888888888888888,\"#fdca26\"],[1.0,\"#f0f921\"]],\"type\":\"histogram2d\"}],\"histogram\":[{\"marker\":{\"pattern\":{\"fillmode\":\"overlay\",\"size\":10,\"solidity\":0.2}},\"type\":\"histogram\"}],\"mesh3d\":[{\"colorbar\":{\"outlinewidth\":0,\"ticks\":\"\"},\"type\":\"mesh3d\"}],\"parcoords\":[{\"line\":{\"colorbar\":{\"outlinewidth\":0,\"ticks\":\"\"}},\"type\":\"parcoords\"}],\"pie\":[{\"automargin\":true,\"type\":\"pie\"}],\"scatter3d\":[{\"line\":{\"colorbar\":{\"outlinewidth\":0,\"ticks\":\"\"}},\"marker\":{\"colorbar\":{\"outlinewidth\":0,\"ticks\":\"\"}},\"type\":\"scatter3d\"}],\"scattercarpet\":[{\"marker\":{\"colorbar\":{\"outlinewidth\":0,\"ticks\":\"\"}},\"type\":\"scattercarpet\"}],\"scattergeo\":[{\"marker\":{\"colorbar\":{\"outlinewidth\":0,\"ticks\":\"\"}},\"type\":\"scattergeo\"}],\"scattergl\":[{\"marker\":{\"colorbar\":{\"outlinewidth\":0,\"ticks\":\"\"}},\"type\":\"scattergl\"}],\"scattermapbox\":[{\"marker\":{\"colorbar\":{\"outlinewidth\":0,\"ticks\":\"\"}},\"type\":\"scattermapbox\"}],\"scatterpolargl\":[{\"marker\":{\"colorbar\":{\"outlinewidth\":0,\"ticks\":\"\"}},\"type\":\"scatterpolargl\"}],\"scatterpolar\":[{\"marker\":{\"colorbar\":{\"outlinewidth\":0,\"ticks\":\"\"}},\"type\":\"scatterpolar\"}],\"scatter\":[{\"fillpattern\":{\"fillmode\":\"overlay\",\"size\":10,\"solidity\":0.2},\"type\":\"scatter\"}],\"scatterternary\":[{\"marker\":{\"colorbar\":{\"outlinewidth\":0,\"ticks\":\"\"}},\"type\":\"scatterternary\"}],\"surface\":[{\"colorbar\":{\"outlinewidth\":0,\"ticks\":\"\"},\"colorscale\":[[0.0,\"#0d0887\"],[0.1111111111111111,\"#46039f\"],[0.2222222222222222,\"#7201a8\"],[0.3333333333333333,\"#9c179e\"],[0.4444444444444444,\"#bd3786\"],[0.5555555555555556,\"#d8576b\"],[0.6666666666666666,\"#ed7953\"],[0.7777777777777778,\"#fb9f3a\"],[0.8888888888888888,\"#fdca26\"],[1.0,\"#f0f921\"]],\"type\":\"surface\"}],\"table\":[{\"cells\":{\"fill\":{\"color\":\"#EBF0F8\"},\"line\":{\"color\":\"white\"}},\"header\":{\"fill\":{\"color\":\"#C8D4E3\"},\"line\":{\"color\":\"white\"}},\"type\":\"table\"}]},\"layout\":{\"annotationdefaults\":{\"arrowcolor\":\"#2a3f5f\",\"arrowhead\":0,\"arrowwidth\":1},\"autotypenumbers\":\"strict\",\"coloraxis\":{\"colorbar\":{\"outlinewidth\":0,\"ticks\":\"\"}},\"colorscale\":{\"diverging\":[[0,\"#8e0152\"],[0.1,\"#c51b7d\"],[0.2,\"#de77ae\"],[0.3,\"#f1b6da\"],[0.4,\"#fde0ef\"],[0.5,\"#f7f7f7\"],[0.6,\"#e6f5d0\"],[0.7,\"#b8e186\"],[0.8,\"#7fbc41\"],[0.9,\"#4d9221\"],[1,\"#276419\"]],\"sequential\":[[0.0,\"#0d0887\"],[0.1111111111111111,\"#46039f\"],[0.2222222222222222,\"#7201a8\"],[0.3333333333333333,\"#9c179e\"],[0.4444444444444444,\"#bd3786\"],[0.5555555555555556,\"#d8576b\"],[0.6666666666666666,\"#ed7953\"],[0.7777777777777778,\"#fb9f3a\"],[0.8888888888888888,\"#fdca26\"],[1.0,\"#f0f921\"]],\"sequentialminus\":[[0.0,\"#0d0887\"],[0.1111111111111111,\"#46039f\"],[0.2222222222222222,\"#7201a8\"],[0.3333333333333333,\"#9c179e\"],[0.4444444444444444,\"#bd3786\"],[0.5555555555555556,\"#d8576b\"],[0.6666666666666666,\"#ed7953\"],[0.7777777777777778,\"#fb9f3a\"],[0.8888888888888888,\"#fdca26\"],[1.0,\"#f0f921\"]]},\"colorway\":[\"#636efa\",\"#EF553B\",\"#00cc96\",\"#ab63fa\",\"#FFA15A\",\"#19d3f3\",\"#FF6692\",\"#B6E880\",\"#FF97FF\",\"#FECB52\"],\"font\":{\"color\":\"#2a3f5f\"},\"geo\":{\"bgcolor\":\"white\",\"lakecolor\":\"white\",\"landcolor\":\"#E5ECF6\",\"showlakes\":true,\"showland\":true,\"subunitcolor\":\"white\"},\"hoverlabel\":{\"align\":\"left\"},\"hovermode\":\"closest\",\"mapbox\":{\"style\":\"light\"},\"paper_bgcolor\":\"white\",\"plot_bgcolor\":\"#E5ECF6\",\"polar\":{\"angularaxis\":{\"gridcolor\":\"white\",\"linecolor\":\"white\",\"ticks\":\"\"},\"bgcolor\":\"#E5ECF6\",\"radialaxis\":{\"gridcolor\":\"white\",\"linecolor\":\"white\",\"ticks\":\"\"}},\"scene\":{\"xaxis\":{\"backgroundcolor\":\"#E5ECF6\",\"gridcolor\":\"white\",\"gridwidth\":2,\"linecolor\":\"white\",\"showbackground\":true,\"ticks\":\"\",\"zerolinecolor\":\"white\"},\"yaxis\":{\"backgroundcolor\":\"#E5ECF6\",\"gridcolor\":\"white\",\"gridwidth\":2,\"linecolor\":\"white\",\"showbackground\":true,\"ticks\":\"\",\"zerolinecolor\":\"white\"},\"zaxis\":{\"backgroundcolor\":\"#E5ECF6\",\"gridcolor\":\"white\",\"gridwidth\":2,\"linecolor\":\"white\",\"showbackground\":true,\"ticks\":\"\",\"zerolinecolor\":\"white\"}},\"shapedefaults\":{\"line\":{\"color\":\"#2a3f5f\"}},\"ternary\":{\"aaxis\":{\"gridcolor\":\"white\",\"linecolor\":\"white\",\"ticks\":\"\"},\"baxis\":{\"gridcolor\":\"white\",\"linecolor\":\"white\",\"ticks\":\"\"},\"bgcolor\":\"#E5ECF6\",\"caxis\":{\"gridcolor\":\"white\",\"linecolor\":\"white\",\"ticks\":\"\"}},\"title\":{\"x\":0.05},\"xaxis\":{\"automargin\":true,\"gridcolor\":\"white\",\"linecolor\":\"white\",\"ticks\":\"\",\"title\":{\"standoff\":15},\"zerolinecolor\":\"white\",\"zerolinewidth\":2},\"yaxis\":{\"automargin\":true,\"gridcolor\":\"white\",\"linecolor\":\"white\",\"ticks\":\"\",\"title\":{\"standoff\":15},\"zerolinecolor\":\"white\",\"zerolinewidth\":2}}},\"title\":{\"font\":{\"color\":\"#4D5663\"}},\"xaxis\":{\"gridcolor\":\"#E1E5ED\",\"showgrid\":true,\"tickfont\":{\"color\":\"#4D5663\"},\"title\":{\"font\":{\"color\":\"#4D5663\"},\"text\":\"\"},\"zerolinecolor\":\"#E1E5ED\"},\"yaxis\":{\"gridcolor\":\"#E1E5ED\",\"showgrid\":true,\"tickfont\":{\"color\":\"#4D5663\"},\"title\":{\"font\":{\"color\":\"#4D5663\"},\"text\":\"\"},\"zerolinecolor\":\"#E1E5ED\"}},                        {\"showLink\": true, \"linkText\": \"Export to plot.ly\", \"plotlyServerURL\": \"https://plot.ly\", \"responsive\": true}                    ).then(function(){\n",
       "                            \n",
       "var gd = document.getElementById('84d8141d-12f6-4aff-957d-30b01e5935d8');\n",
       "var x = new MutationObserver(function (mutations, observer) {{\n",
       "        var display = window.getComputedStyle(gd).display;\n",
       "        if (!display || display === 'none') {{\n",
       "            console.log([gd, 'removed!']);\n",
       "            Plotly.purge(gd);\n",
       "            observer.disconnect();\n",
       "        }}\n",
       "}});\n",
       "\n",
       "// Listen for the removal of the full notebook cells\n",
       "var notebookContainer = gd.closest('#notebook-container');\n",
       "if (notebookContainer) {{\n",
       "    x.observe(notebookContainer, {childList: true});\n",
       "}}\n",
       "\n",
       "// Listen for the clearing of the current output cell\n",
       "var outputEl = gd.closest('.output');\n",
       "if (outputEl) {{\n",
       "    x.observe(outputEl, {childList: true});\n",
       "}}\n",
       "\n",
       "                        })                };                });            </script>        </div>"
      ]
     },
     "metadata": {},
     "output_type": "display_data"
    }
   ],
   "source": [
    "df.count().iplot(kind='bar')"
   ]
  },
  {
   "cell_type": "code",
   "execution_count": 15,
   "metadata": {},
   "outputs": [
    {
     "data": {
      "application/vnd.plotly.v1+json": {
       "config": {
        "linkText": "Export to plot.ly",
        "plotlyServerURL": "https://plot.ly",
        "showLink": true
       },
       "data": [
        {
         "marker": {
          "color": "rgba(255, 153, 51, 0.6)",
          "line": {
           "color": "rgba(255, 153, 51, 1.0)",
           "width": 1
          }
         },
         "name": "None",
         "orientation": "v",
         "text": "",
         "type": "bar",
         "x": [
          "A",
          "B",
          "C",
          "D"
         ],
         "y": [
          -10.380147083044784,
          3.692239767832577,
          14.73752797907878,
          39.826701381957044
         ]
        }
       ],
       "layout": {
        "legend": {
         "bgcolor": "#F5F6F9",
         "font": {
          "color": "#4D5663"
         }
        },
        "paper_bgcolor": "#F5F6F9",
        "plot_bgcolor": "#F5F6F9",
        "template": {
         "data": {
          "bar": [
           {
            "error_x": {
             "color": "#2a3f5f"
            },
            "error_y": {
             "color": "#2a3f5f"
            },
            "marker": {
             "line": {
              "color": "#E5ECF6",
              "width": 0.5
             },
             "pattern": {
              "fillmode": "overlay",
              "size": 10,
              "solidity": 0.2
             }
            },
            "type": "bar"
           }
          ],
          "barpolar": [
           {
            "marker": {
             "line": {
              "color": "#E5ECF6",
              "width": 0.5
             },
             "pattern": {
              "fillmode": "overlay",
              "size": 10,
              "solidity": 0.2
             }
            },
            "type": "barpolar"
           }
          ],
          "carpet": [
           {
            "aaxis": {
             "endlinecolor": "#2a3f5f",
             "gridcolor": "white",
             "linecolor": "white",
             "minorgridcolor": "white",
             "startlinecolor": "#2a3f5f"
            },
            "baxis": {
             "endlinecolor": "#2a3f5f",
             "gridcolor": "white",
             "linecolor": "white",
             "minorgridcolor": "white",
             "startlinecolor": "#2a3f5f"
            },
            "type": "carpet"
           }
          ],
          "choropleth": [
           {
            "colorbar": {
             "outlinewidth": 0,
             "ticks": ""
            },
            "type": "choropleth"
           }
          ],
          "contour": [
           {
            "colorbar": {
             "outlinewidth": 0,
             "ticks": ""
            },
            "colorscale": [
             [
              0,
              "#0d0887"
             ],
             [
              0.1111111111111111,
              "#46039f"
             ],
             [
              0.2222222222222222,
              "#7201a8"
             ],
             [
              0.3333333333333333,
              "#9c179e"
             ],
             [
              0.4444444444444444,
              "#bd3786"
             ],
             [
              0.5555555555555556,
              "#d8576b"
             ],
             [
              0.6666666666666666,
              "#ed7953"
             ],
             [
              0.7777777777777778,
              "#fb9f3a"
             ],
             [
              0.8888888888888888,
              "#fdca26"
             ],
             [
              1,
              "#f0f921"
             ]
            ],
            "type": "contour"
           }
          ],
          "contourcarpet": [
           {
            "colorbar": {
             "outlinewidth": 0,
             "ticks": ""
            },
            "type": "contourcarpet"
           }
          ],
          "heatmap": [
           {
            "colorbar": {
             "outlinewidth": 0,
             "ticks": ""
            },
            "colorscale": [
             [
              0,
              "#0d0887"
             ],
             [
              0.1111111111111111,
              "#46039f"
             ],
             [
              0.2222222222222222,
              "#7201a8"
             ],
             [
              0.3333333333333333,
              "#9c179e"
             ],
             [
              0.4444444444444444,
              "#bd3786"
             ],
             [
              0.5555555555555556,
              "#d8576b"
             ],
             [
              0.6666666666666666,
              "#ed7953"
             ],
             [
              0.7777777777777778,
              "#fb9f3a"
             ],
             [
              0.8888888888888888,
              "#fdca26"
             ],
             [
              1,
              "#f0f921"
             ]
            ],
            "type": "heatmap"
           }
          ],
          "heatmapgl": [
           {
            "colorbar": {
             "outlinewidth": 0,
             "ticks": ""
            },
            "colorscale": [
             [
              0,
              "#0d0887"
             ],
             [
              0.1111111111111111,
              "#46039f"
             ],
             [
              0.2222222222222222,
              "#7201a8"
             ],
             [
              0.3333333333333333,
              "#9c179e"
             ],
             [
              0.4444444444444444,
              "#bd3786"
             ],
             [
              0.5555555555555556,
              "#d8576b"
             ],
             [
              0.6666666666666666,
              "#ed7953"
             ],
             [
              0.7777777777777778,
              "#fb9f3a"
             ],
             [
              0.8888888888888888,
              "#fdca26"
             ],
             [
              1,
              "#f0f921"
             ]
            ],
            "type": "heatmapgl"
           }
          ],
          "histogram": [
           {
            "marker": {
             "pattern": {
              "fillmode": "overlay",
              "size": 10,
              "solidity": 0.2
             }
            },
            "type": "histogram"
           }
          ],
          "histogram2d": [
           {
            "colorbar": {
             "outlinewidth": 0,
             "ticks": ""
            },
            "colorscale": [
             [
              0,
              "#0d0887"
             ],
             [
              0.1111111111111111,
              "#46039f"
             ],
             [
              0.2222222222222222,
              "#7201a8"
             ],
             [
              0.3333333333333333,
              "#9c179e"
             ],
             [
              0.4444444444444444,
              "#bd3786"
             ],
             [
              0.5555555555555556,
              "#d8576b"
             ],
             [
              0.6666666666666666,
              "#ed7953"
             ],
             [
              0.7777777777777778,
              "#fb9f3a"
             ],
             [
              0.8888888888888888,
              "#fdca26"
             ],
             [
              1,
              "#f0f921"
             ]
            ],
            "type": "histogram2d"
           }
          ],
          "histogram2dcontour": [
           {
            "colorbar": {
             "outlinewidth": 0,
             "ticks": ""
            },
            "colorscale": [
             [
              0,
              "#0d0887"
             ],
             [
              0.1111111111111111,
              "#46039f"
             ],
             [
              0.2222222222222222,
              "#7201a8"
             ],
             [
              0.3333333333333333,
              "#9c179e"
             ],
             [
              0.4444444444444444,
              "#bd3786"
             ],
             [
              0.5555555555555556,
              "#d8576b"
             ],
             [
              0.6666666666666666,
              "#ed7953"
             ],
             [
              0.7777777777777778,
              "#fb9f3a"
             ],
             [
              0.8888888888888888,
              "#fdca26"
             ],
             [
              1,
              "#f0f921"
             ]
            ],
            "type": "histogram2dcontour"
           }
          ],
          "mesh3d": [
           {
            "colorbar": {
             "outlinewidth": 0,
             "ticks": ""
            },
            "type": "mesh3d"
           }
          ],
          "parcoords": [
           {
            "line": {
             "colorbar": {
              "outlinewidth": 0,
              "ticks": ""
             }
            },
            "type": "parcoords"
           }
          ],
          "pie": [
           {
            "automargin": true,
            "type": "pie"
           }
          ],
          "scatter": [
           {
            "fillpattern": {
             "fillmode": "overlay",
             "size": 10,
             "solidity": 0.2
            },
            "type": "scatter"
           }
          ],
          "scatter3d": [
           {
            "line": {
             "colorbar": {
              "outlinewidth": 0,
              "ticks": ""
             }
            },
            "marker": {
             "colorbar": {
              "outlinewidth": 0,
              "ticks": ""
             }
            },
            "type": "scatter3d"
           }
          ],
          "scattercarpet": [
           {
            "marker": {
             "colorbar": {
              "outlinewidth": 0,
              "ticks": ""
             }
            },
            "type": "scattercarpet"
           }
          ],
          "scattergeo": [
           {
            "marker": {
             "colorbar": {
              "outlinewidth": 0,
              "ticks": ""
             }
            },
            "type": "scattergeo"
           }
          ],
          "scattergl": [
           {
            "marker": {
             "colorbar": {
              "outlinewidth": 0,
              "ticks": ""
             }
            },
            "type": "scattergl"
           }
          ],
          "scattermapbox": [
           {
            "marker": {
             "colorbar": {
              "outlinewidth": 0,
              "ticks": ""
             }
            },
            "type": "scattermapbox"
           }
          ],
          "scatterpolar": [
           {
            "marker": {
             "colorbar": {
              "outlinewidth": 0,
              "ticks": ""
             }
            },
            "type": "scatterpolar"
           }
          ],
          "scatterpolargl": [
           {
            "marker": {
             "colorbar": {
              "outlinewidth": 0,
              "ticks": ""
             }
            },
            "type": "scatterpolargl"
           }
          ],
          "scatterternary": [
           {
            "marker": {
             "colorbar": {
              "outlinewidth": 0,
              "ticks": ""
             }
            },
            "type": "scatterternary"
           }
          ],
          "surface": [
           {
            "colorbar": {
             "outlinewidth": 0,
             "ticks": ""
            },
            "colorscale": [
             [
              0,
              "#0d0887"
             ],
             [
              0.1111111111111111,
              "#46039f"
             ],
             [
              0.2222222222222222,
              "#7201a8"
             ],
             [
              0.3333333333333333,
              "#9c179e"
             ],
             [
              0.4444444444444444,
              "#bd3786"
             ],
             [
              0.5555555555555556,
              "#d8576b"
             ],
             [
              0.6666666666666666,
              "#ed7953"
             ],
             [
              0.7777777777777778,
              "#fb9f3a"
             ],
             [
              0.8888888888888888,
              "#fdca26"
             ],
             [
              1,
              "#f0f921"
             ]
            ],
            "type": "surface"
           }
          ],
          "table": [
           {
            "cells": {
             "fill": {
              "color": "#EBF0F8"
             },
             "line": {
              "color": "white"
             }
            },
            "header": {
             "fill": {
              "color": "#C8D4E3"
             },
             "line": {
              "color": "white"
             }
            },
            "type": "table"
           }
          ]
         },
         "layout": {
          "annotationdefaults": {
           "arrowcolor": "#2a3f5f",
           "arrowhead": 0,
           "arrowwidth": 1
          },
          "autotypenumbers": "strict",
          "coloraxis": {
           "colorbar": {
            "outlinewidth": 0,
            "ticks": ""
           }
          },
          "colorscale": {
           "diverging": [
            [
             0,
             "#8e0152"
            ],
            [
             0.1,
             "#c51b7d"
            ],
            [
             0.2,
             "#de77ae"
            ],
            [
             0.3,
             "#f1b6da"
            ],
            [
             0.4,
             "#fde0ef"
            ],
            [
             0.5,
             "#f7f7f7"
            ],
            [
             0.6,
             "#e6f5d0"
            ],
            [
             0.7,
             "#b8e186"
            ],
            [
             0.8,
             "#7fbc41"
            ],
            [
             0.9,
             "#4d9221"
            ],
            [
             1,
             "#276419"
            ]
           ],
           "sequential": [
            [
             0,
             "#0d0887"
            ],
            [
             0.1111111111111111,
             "#46039f"
            ],
            [
             0.2222222222222222,
             "#7201a8"
            ],
            [
             0.3333333333333333,
             "#9c179e"
            ],
            [
             0.4444444444444444,
             "#bd3786"
            ],
            [
             0.5555555555555556,
             "#d8576b"
            ],
            [
             0.6666666666666666,
             "#ed7953"
            ],
            [
             0.7777777777777778,
             "#fb9f3a"
            ],
            [
             0.8888888888888888,
             "#fdca26"
            ],
            [
             1,
             "#f0f921"
            ]
           ],
           "sequentialminus": [
            [
             0,
             "#0d0887"
            ],
            [
             0.1111111111111111,
             "#46039f"
            ],
            [
             0.2222222222222222,
             "#7201a8"
            ],
            [
             0.3333333333333333,
             "#9c179e"
            ],
            [
             0.4444444444444444,
             "#bd3786"
            ],
            [
             0.5555555555555556,
             "#d8576b"
            ],
            [
             0.6666666666666666,
             "#ed7953"
            ],
            [
             0.7777777777777778,
             "#fb9f3a"
            ],
            [
             0.8888888888888888,
             "#fdca26"
            ],
            [
             1,
             "#f0f921"
            ]
           ]
          },
          "colorway": [
           "#636efa",
           "#EF553B",
           "#00cc96",
           "#ab63fa",
           "#FFA15A",
           "#19d3f3",
           "#FF6692",
           "#B6E880",
           "#FF97FF",
           "#FECB52"
          ],
          "font": {
           "color": "#2a3f5f"
          },
          "geo": {
           "bgcolor": "white",
           "lakecolor": "white",
           "landcolor": "#E5ECF6",
           "showlakes": true,
           "showland": true,
           "subunitcolor": "white"
          },
          "hoverlabel": {
           "align": "left"
          },
          "hovermode": "closest",
          "mapbox": {
           "style": "light"
          },
          "paper_bgcolor": "white",
          "plot_bgcolor": "#E5ECF6",
          "polar": {
           "angularaxis": {
            "gridcolor": "white",
            "linecolor": "white",
            "ticks": ""
           },
           "bgcolor": "#E5ECF6",
           "radialaxis": {
            "gridcolor": "white",
            "linecolor": "white",
            "ticks": ""
           }
          },
          "scene": {
           "xaxis": {
            "backgroundcolor": "#E5ECF6",
            "gridcolor": "white",
            "gridwidth": 2,
            "linecolor": "white",
            "showbackground": true,
            "ticks": "",
            "zerolinecolor": "white"
           },
           "yaxis": {
            "backgroundcolor": "#E5ECF6",
            "gridcolor": "white",
            "gridwidth": 2,
            "linecolor": "white",
            "showbackground": true,
            "ticks": "",
            "zerolinecolor": "white"
           },
           "zaxis": {
            "backgroundcolor": "#E5ECF6",
            "gridcolor": "white",
            "gridwidth": 2,
            "linecolor": "white",
            "showbackground": true,
            "ticks": "",
            "zerolinecolor": "white"
           }
          },
          "shapedefaults": {
           "line": {
            "color": "#2a3f5f"
           }
          },
          "ternary": {
           "aaxis": {
            "gridcolor": "white",
            "linecolor": "white",
            "ticks": ""
           },
           "baxis": {
            "gridcolor": "white",
            "linecolor": "white",
            "ticks": ""
           },
           "bgcolor": "#E5ECF6",
           "caxis": {
            "gridcolor": "white",
            "linecolor": "white",
            "ticks": ""
           }
          },
          "title": {
           "x": 0.05
          },
          "xaxis": {
           "automargin": true,
           "gridcolor": "white",
           "linecolor": "white",
           "ticks": "",
           "title": {
            "standoff": 15
           },
           "zerolinecolor": "white",
           "zerolinewidth": 2
          },
          "yaxis": {
           "automargin": true,
           "gridcolor": "white",
           "linecolor": "white",
           "ticks": "",
           "title": {
            "standoff": 15
           },
           "zerolinecolor": "white",
           "zerolinewidth": 2
          }
         }
        },
        "title": {
         "font": {
          "color": "#4D5663"
         }
        },
        "xaxis": {
         "gridcolor": "#E1E5ED",
         "showgrid": true,
         "tickfont": {
          "color": "#4D5663"
         },
         "title": {
          "font": {
           "color": "#4D5663"
          },
          "text": ""
         },
         "zerolinecolor": "#E1E5ED"
        },
        "yaxis": {
         "gridcolor": "#E1E5ED",
         "showgrid": true,
         "tickfont": {
          "color": "#4D5663"
         },
         "title": {
          "font": {
           "color": "#4D5663"
          },
          "text": ""
         },
         "zerolinecolor": "#E1E5ED"
        }
       }
      },
      "text/html": [
       "<div>                            <div id=\"aa593ec6-d1cc-40f8-8e8b-978342b0246a\" class=\"plotly-graph-div\" style=\"height:525px; width:100%;\"></div>            <script type=\"text/javascript\">                require([\"plotly\"], function(Plotly) {                    window.PLOTLYENV=window.PLOTLYENV || {};\n",
       "                    window.PLOTLYENV.BASE_URL='https://plot.ly';                                    if (document.getElementById(\"aa593ec6-d1cc-40f8-8e8b-978342b0246a\")) {                    Plotly.newPlot(                        \"aa593ec6-d1cc-40f8-8e8b-978342b0246a\",                        [{\"marker\":{\"color\":\"rgba(255, 153, 51, 0.6)\",\"line\":{\"color\":\"rgba(255, 153, 51, 1.0)\",\"width\":1}},\"name\":\"None\",\"orientation\":\"v\",\"text\":\"\",\"x\":[\"A\",\"B\",\"C\",\"D\"],\"y\":[-10.380147083044784,3.692239767832577,14.73752797907878,39.826701381957044],\"type\":\"bar\"}],                        {\"legend\":{\"bgcolor\":\"#F5F6F9\",\"font\":{\"color\":\"#4D5663\"}},\"paper_bgcolor\":\"#F5F6F9\",\"plot_bgcolor\":\"#F5F6F9\",\"template\":{\"data\":{\"barpolar\":[{\"marker\":{\"line\":{\"color\":\"#E5ECF6\",\"width\":0.5},\"pattern\":{\"fillmode\":\"overlay\",\"size\":10,\"solidity\":0.2}},\"type\":\"barpolar\"}],\"bar\":[{\"error_x\":{\"color\":\"#2a3f5f\"},\"error_y\":{\"color\":\"#2a3f5f\"},\"marker\":{\"line\":{\"color\":\"#E5ECF6\",\"width\":0.5},\"pattern\":{\"fillmode\":\"overlay\",\"size\":10,\"solidity\":0.2}},\"type\":\"bar\"}],\"carpet\":[{\"aaxis\":{\"endlinecolor\":\"#2a3f5f\",\"gridcolor\":\"white\",\"linecolor\":\"white\",\"minorgridcolor\":\"white\",\"startlinecolor\":\"#2a3f5f\"},\"baxis\":{\"endlinecolor\":\"#2a3f5f\",\"gridcolor\":\"white\",\"linecolor\":\"white\",\"minorgridcolor\":\"white\",\"startlinecolor\":\"#2a3f5f\"},\"type\":\"carpet\"}],\"choropleth\":[{\"colorbar\":{\"outlinewidth\":0,\"ticks\":\"\"},\"type\":\"choropleth\"}],\"contourcarpet\":[{\"colorbar\":{\"outlinewidth\":0,\"ticks\":\"\"},\"type\":\"contourcarpet\"}],\"contour\":[{\"colorbar\":{\"outlinewidth\":0,\"ticks\":\"\"},\"colorscale\":[[0.0,\"#0d0887\"],[0.1111111111111111,\"#46039f\"],[0.2222222222222222,\"#7201a8\"],[0.3333333333333333,\"#9c179e\"],[0.4444444444444444,\"#bd3786\"],[0.5555555555555556,\"#d8576b\"],[0.6666666666666666,\"#ed7953\"],[0.7777777777777778,\"#fb9f3a\"],[0.8888888888888888,\"#fdca26\"],[1.0,\"#f0f921\"]],\"type\":\"contour\"}],\"heatmapgl\":[{\"colorbar\":{\"outlinewidth\":0,\"ticks\":\"\"},\"colorscale\":[[0.0,\"#0d0887\"],[0.1111111111111111,\"#46039f\"],[0.2222222222222222,\"#7201a8\"],[0.3333333333333333,\"#9c179e\"],[0.4444444444444444,\"#bd3786\"],[0.5555555555555556,\"#d8576b\"],[0.6666666666666666,\"#ed7953\"],[0.7777777777777778,\"#fb9f3a\"],[0.8888888888888888,\"#fdca26\"],[1.0,\"#f0f921\"]],\"type\":\"heatmapgl\"}],\"heatmap\":[{\"colorbar\":{\"outlinewidth\":0,\"ticks\":\"\"},\"colorscale\":[[0.0,\"#0d0887\"],[0.1111111111111111,\"#46039f\"],[0.2222222222222222,\"#7201a8\"],[0.3333333333333333,\"#9c179e\"],[0.4444444444444444,\"#bd3786\"],[0.5555555555555556,\"#d8576b\"],[0.6666666666666666,\"#ed7953\"],[0.7777777777777778,\"#fb9f3a\"],[0.8888888888888888,\"#fdca26\"],[1.0,\"#f0f921\"]],\"type\":\"heatmap\"}],\"histogram2dcontour\":[{\"colorbar\":{\"outlinewidth\":0,\"ticks\":\"\"},\"colorscale\":[[0.0,\"#0d0887\"],[0.1111111111111111,\"#46039f\"],[0.2222222222222222,\"#7201a8\"],[0.3333333333333333,\"#9c179e\"],[0.4444444444444444,\"#bd3786\"],[0.5555555555555556,\"#d8576b\"],[0.6666666666666666,\"#ed7953\"],[0.7777777777777778,\"#fb9f3a\"],[0.8888888888888888,\"#fdca26\"],[1.0,\"#f0f921\"]],\"type\":\"histogram2dcontour\"}],\"histogram2d\":[{\"colorbar\":{\"outlinewidth\":0,\"ticks\":\"\"},\"colorscale\":[[0.0,\"#0d0887\"],[0.1111111111111111,\"#46039f\"],[0.2222222222222222,\"#7201a8\"],[0.3333333333333333,\"#9c179e\"],[0.4444444444444444,\"#bd3786\"],[0.5555555555555556,\"#d8576b\"],[0.6666666666666666,\"#ed7953\"],[0.7777777777777778,\"#fb9f3a\"],[0.8888888888888888,\"#fdca26\"],[1.0,\"#f0f921\"]],\"type\":\"histogram2d\"}],\"histogram\":[{\"marker\":{\"pattern\":{\"fillmode\":\"overlay\",\"size\":10,\"solidity\":0.2}},\"type\":\"histogram\"}],\"mesh3d\":[{\"colorbar\":{\"outlinewidth\":0,\"ticks\":\"\"},\"type\":\"mesh3d\"}],\"parcoords\":[{\"line\":{\"colorbar\":{\"outlinewidth\":0,\"ticks\":\"\"}},\"type\":\"parcoords\"}],\"pie\":[{\"automargin\":true,\"type\":\"pie\"}],\"scatter3d\":[{\"line\":{\"colorbar\":{\"outlinewidth\":0,\"ticks\":\"\"}},\"marker\":{\"colorbar\":{\"outlinewidth\":0,\"ticks\":\"\"}},\"type\":\"scatter3d\"}],\"scattercarpet\":[{\"marker\":{\"colorbar\":{\"outlinewidth\":0,\"ticks\":\"\"}},\"type\":\"scattercarpet\"}],\"scattergeo\":[{\"marker\":{\"colorbar\":{\"outlinewidth\":0,\"ticks\":\"\"}},\"type\":\"scattergeo\"}],\"scattergl\":[{\"marker\":{\"colorbar\":{\"outlinewidth\":0,\"ticks\":\"\"}},\"type\":\"scattergl\"}],\"scattermapbox\":[{\"marker\":{\"colorbar\":{\"outlinewidth\":0,\"ticks\":\"\"}},\"type\":\"scattermapbox\"}],\"scatterpolargl\":[{\"marker\":{\"colorbar\":{\"outlinewidth\":0,\"ticks\":\"\"}},\"type\":\"scatterpolargl\"}],\"scatterpolar\":[{\"marker\":{\"colorbar\":{\"outlinewidth\":0,\"ticks\":\"\"}},\"type\":\"scatterpolar\"}],\"scatter\":[{\"fillpattern\":{\"fillmode\":\"overlay\",\"size\":10,\"solidity\":0.2},\"type\":\"scatter\"}],\"scatterternary\":[{\"marker\":{\"colorbar\":{\"outlinewidth\":0,\"ticks\":\"\"}},\"type\":\"scatterternary\"}],\"surface\":[{\"colorbar\":{\"outlinewidth\":0,\"ticks\":\"\"},\"colorscale\":[[0.0,\"#0d0887\"],[0.1111111111111111,\"#46039f\"],[0.2222222222222222,\"#7201a8\"],[0.3333333333333333,\"#9c179e\"],[0.4444444444444444,\"#bd3786\"],[0.5555555555555556,\"#d8576b\"],[0.6666666666666666,\"#ed7953\"],[0.7777777777777778,\"#fb9f3a\"],[0.8888888888888888,\"#fdca26\"],[1.0,\"#f0f921\"]],\"type\":\"surface\"}],\"table\":[{\"cells\":{\"fill\":{\"color\":\"#EBF0F8\"},\"line\":{\"color\":\"white\"}},\"header\":{\"fill\":{\"color\":\"#C8D4E3\"},\"line\":{\"color\":\"white\"}},\"type\":\"table\"}]},\"layout\":{\"annotationdefaults\":{\"arrowcolor\":\"#2a3f5f\",\"arrowhead\":0,\"arrowwidth\":1},\"autotypenumbers\":\"strict\",\"coloraxis\":{\"colorbar\":{\"outlinewidth\":0,\"ticks\":\"\"}},\"colorscale\":{\"diverging\":[[0,\"#8e0152\"],[0.1,\"#c51b7d\"],[0.2,\"#de77ae\"],[0.3,\"#f1b6da\"],[0.4,\"#fde0ef\"],[0.5,\"#f7f7f7\"],[0.6,\"#e6f5d0\"],[0.7,\"#b8e186\"],[0.8,\"#7fbc41\"],[0.9,\"#4d9221\"],[1,\"#276419\"]],\"sequential\":[[0.0,\"#0d0887\"],[0.1111111111111111,\"#46039f\"],[0.2222222222222222,\"#7201a8\"],[0.3333333333333333,\"#9c179e\"],[0.4444444444444444,\"#bd3786\"],[0.5555555555555556,\"#d8576b\"],[0.6666666666666666,\"#ed7953\"],[0.7777777777777778,\"#fb9f3a\"],[0.8888888888888888,\"#fdca26\"],[1.0,\"#f0f921\"]],\"sequentialminus\":[[0.0,\"#0d0887\"],[0.1111111111111111,\"#46039f\"],[0.2222222222222222,\"#7201a8\"],[0.3333333333333333,\"#9c179e\"],[0.4444444444444444,\"#bd3786\"],[0.5555555555555556,\"#d8576b\"],[0.6666666666666666,\"#ed7953\"],[0.7777777777777778,\"#fb9f3a\"],[0.8888888888888888,\"#fdca26\"],[1.0,\"#f0f921\"]]},\"colorway\":[\"#636efa\",\"#EF553B\",\"#00cc96\",\"#ab63fa\",\"#FFA15A\",\"#19d3f3\",\"#FF6692\",\"#B6E880\",\"#FF97FF\",\"#FECB52\"],\"font\":{\"color\":\"#2a3f5f\"},\"geo\":{\"bgcolor\":\"white\",\"lakecolor\":\"white\",\"landcolor\":\"#E5ECF6\",\"showlakes\":true,\"showland\":true,\"subunitcolor\":\"white\"},\"hoverlabel\":{\"align\":\"left\"},\"hovermode\":\"closest\",\"mapbox\":{\"style\":\"light\"},\"paper_bgcolor\":\"white\",\"plot_bgcolor\":\"#E5ECF6\",\"polar\":{\"angularaxis\":{\"gridcolor\":\"white\",\"linecolor\":\"white\",\"ticks\":\"\"},\"bgcolor\":\"#E5ECF6\",\"radialaxis\":{\"gridcolor\":\"white\",\"linecolor\":\"white\",\"ticks\":\"\"}},\"scene\":{\"xaxis\":{\"backgroundcolor\":\"#E5ECF6\",\"gridcolor\":\"white\",\"gridwidth\":2,\"linecolor\":\"white\",\"showbackground\":true,\"ticks\":\"\",\"zerolinecolor\":\"white\"},\"yaxis\":{\"backgroundcolor\":\"#E5ECF6\",\"gridcolor\":\"white\",\"gridwidth\":2,\"linecolor\":\"white\",\"showbackground\":true,\"ticks\":\"\",\"zerolinecolor\":\"white\"},\"zaxis\":{\"backgroundcolor\":\"#E5ECF6\",\"gridcolor\":\"white\",\"gridwidth\":2,\"linecolor\":\"white\",\"showbackground\":true,\"ticks\":\"\",\"zerolinecolor\":\"white\"}},\"shapedefaults\":{\"line\":{\"color\":\"#2a3f5f\"}},\"ternary\":{\"aaxis\":{\"gridcolor\":\"white\",\"linecolor\":\"white\",\"ticks\":\"\"},\"baxis\":{\"gridcolor\":\"white\",\"linecolor\":\"white\",\"ticks\":\"\"},\"bgcolor\":\"#E5ECF6\",\"caxis\":{\"gridcolor\":\"white\",\"linecolor\":\"white\",\"ticks\":\"\"}},\"title\":{\"x\":0.05},\"xaxis\":{\"automargin\":true,\"gridcolor\":\"white\",\"linecolor\":\"white\",\"ticks\":\"\",\"title\":{\"standoff\":15},\"zerolinecolor\":\"white\",\"zerolinewidth\":2},\"yaxis\":{\"automargin\":true,\"gridcolor\":\"white\",\"linecolor\":\"white\",\"ticks\":\"\",\"title\":{\"standoff\":15},\"zerolinecolor\":\"white\",\"zerolinewidth\":2}}},\"title\":{\"font\":{\"color\":\"#4D5663\"}},\"xaxis\":{\"gridcolor\":\"#E1E5ED\",\"showgrid\":true,\"tickfont\":{\"color\":\"#4D5663\"},\"title\":{\"font\":{\"color\":\"#4D5663\"},\"text\":\"\"},\"zerolinecolor\":\"#E1E5ED\"},\"yaxis\":{\"gridcolor\":\"#E1E5ED\",\"showgrid\":true,\"tickfont\":{\"color\":\"#4D5663\"},\"title\":{\"font\":{\"color\":\"#4D5663\"},\"text\":\"\"},\"zerolinecolor\":\"#E1E5ED\"}},                        {\"showLink\": true, \"linkText\": \"Export to plot.ly\", \"plotlyServerURL\": \"https://plot.ly\", \"responsive\": true}                    ).then(function(){\n",
       "                            \n",
       "var gd = document.getElementById('aa593ec6-d1cc-40f8-8e8b-978342b0246a');\n",
       "var x = new MutationObserver(function (mutations, observer) {{\n",
       "        var display = window.getComputedStyle(gd).display;\n",
       "        if (!display || display === 'none') {{\n",
       "            console.log([gd, 'removed!']);\n",
       "            Plotly.purge(gd);\n",
       "            observer.disconnect();\n",
       "        }}\n",
       "}});\n",
       "\n",
       "// Listen for the removal of the full notebook cells\n",
       "var notebookContainer = gd.closest('#notebook-container');\n",
       "if (notebookContainer) {{\n",
       "    x.observe(notebookContainer, {childList: true});\n",
       "}}\n",
       "\n",
       "// Listen for the clearing of the current output cell\n",
       "var outputEl = gd.closest('.output');\n",
       "if (outputEl) {{\n",
       "    x.observe(outputEl, {childList: true});\n",
       "}}\n",
       "\n",
       "                        })                };                });            </script>        </div>"
      ]
     },
     "metadata": {},
     "output_type": "display_data"
    }
   ],
   "source": [
    "df.sum().iplot(kind='bar')"
   ]
  },
  {
   "cell_type": "markdown",
   "metadata": {},
   "source": [
    "## Boxplots"
   ]
  },
  {
   "cell_type": "code",
   "execution_count": 16,
   "metadata": {},
   "outputs": [
    {
     "data": {
      "application/vnd.plotly.v1+json": {
       "config": {
        "linkText": "Export to plot.ly",
        "plotlyServerURL": "https://plot.ly",
        "showLink": true
       },
       "data": [
        {
         "boxpoints": false,
         "line": {
          "width": 1.3
         },
         "marker": {
          "color": "rgba(255, 153, 51, 1.0)"
         },
         "name": "A",
         "orientation": "v",
         "type": "box",
         "y": [
          -1.9903004256683205,
          -0.44331522383487904,
          0.5522209986709692,
          -0.8761307777820353,
          1.1989648408531712,
          1.107396907449335,
          -0.029371122099748383,
          0.3056333470056156,
          -0.4955087979621365,
          -0.6520420406756742,
          -2.5267952417248734,
          0.28866743458960153,
          -1.4316957620782398,
          -0.6044368465373989,
          -0.7835590378190067,
          -0.12675905868030538,
          -0.8723173151421462,
          -1.3441213992499,
          0.9239839346598812,
          -0.37358758223316085,
          0.9588303627419025,
          -0.1052825661486228,
          0.38119597175663916,
          0.3576427427245764,
          -0.5702151234625347,
          -0.5572216628600934,
          0.017719846225363156,
          1.2887145074843485,
          -0.7411771478820481,
          -0.6419864197153446,
          1.1972219508024184,
          0.25945352369678465,
          1.2969932581570864,
          -0.766403700861819,
          -0.5880695192706119,
          0.23921319399362173,
          0.41198072881213454,
          0.8298012119060374,
          -0.39388130471441646,
          -0.9685240289521347,
          -1.5016621442024582,
          0.2224241435501135,
          -0.8493083133394347,
          -1.0609152477969157,
          -1.469355455640693,
          1.102203544886654,
          0.9789753952414446,
          -1.219515842422679,
          -1.0441517795610855,
          0.2804323979633052,
          -0.3944849837527407,
          0.7544188492417558,
          -1.1088178682546639,
          0.1837902883409436,
          -1.0221321290638552,
          0.7823997618515374,
          1.1860800573721049,
          0.03555123929313354,
          -0.08788533678144475,
          -1.0979193923822788,
          0.5231731489710988,
          0.5697924927381082,
          -0.20924153665318343,
          1.3985467032028418,
          1.7004020608481674,
          0.2030413325552144,
          -0.6268391642990602,
          0.3988770551212099,
          0.06965082275610238,
          -1.9116331125018202,
          0.1380241162431082,
          -1.1037926748877243,
          0.8081457348428449,
          -0.9356293594254312,
          -0.0916575756043444,
          0.5779288906452257,
          0.5962772865240996,
          1.515969853059908,
          -1.3425234485560702,
          -0.3600001508909471,
          -0.07624704610784032,
          -1.7522234689232437,
          -0.37257406422804706,
          1.193137958920794,
          1.154637422674318,
          0.31205407485525993,
          0.44184177745646686,
          -1.3778745790073854,
          -1.011665062974858,
          0.03515567990235361,
          0.41947441807572,
          -1.3135785687987815,
          0.3272638323888706,
          -1.0046483036078868,
          0.6876459011460935,
          -0.19200991915835824,
          -0.1546255652119731,
          1.5186581723550163,
          -0.07716251245343556,
          0.5410204542460056
         ]
        },
        {
         "boxpoints": false,
         "line": {
          "width": 1.3
         },
         "marker": {
          "color": "rgba(55, 128, 191, 1.0)"
         },
         "name": "B",
         "orientation": "v",
         "type": "box",
         "y": [
          0.20713171298464164,
          -0.9098290203271999,
          0.6595976436161234,
          1.1391958719025224,
          0.22876136700256824,
          -0.9390175844832885,
          1.40702753694373,
          0.6757395117272006,
          -0.6190602204117278,
          0.9652323468994083,
          1.171138334802606,
          1.9127870674045342,
          0.4741178282201214,
          -2.479844305574245,
          0.8927998703050272,
          -1.491532793139312,
          -0.15493863646237707,
          -0.17367859851820075,
          -0.3910701957760691,
          0.10659597063448929,
          -0.32667053875621144,
          0.7994813604737073,
          -0.4280343716591244,
          -1.150466969038612,
          0.8455562582900276,
          -2.251409282655881,
          0.9821270223673556,
          0.2303455757248052,
          0.04535472902143436,
          -1.2248383310091664,
          1.3674030824397547,
          0.08045700760681646,
          -0.43506133283756054,
          0.24149061558320917,
          -2.0528054626515244,
          0.08373056770003885,
          -0.6361159828889186,
          0.8196960925429025,
          0.8468032243624196,
          -0.10789265679637575,
          -0.5276537406018319,
          -0.5042026403280273,
          0.26276374773287686,
          -1.6144863597671486,
          -0.14370779462404257,
          0.7656677379760024,
          0.7874697232847472,
          -0.8023005621110955,
          0.778255152616999,
          0.5700896498552871,
          -1.0017097238965142,
          -0.6607568163172322,
          1.5905093819220673,
          -1.2110676813411707,
          -0.5601154519339665,
          1.3418467182878748,
          0.6440794160296142,
          -0.39687651490022524,
          -0.4752177292162427,
          0.22650596927963504,
          -0.13680482098526894,
          -0.9673428380469818,
          0.22153028192267313,
          1.7994207743834112,
          -1.003588415564047,
          -0.9112664323687696,
          0.9227233738941317,
          -2.227663388595575,
          0.06724167285175829,
          0.06086377830490128,
          0.3781532535914435,
          1.0079887011567779,
          -2.205453957164551,
          1.164530009463671,
          1.3132946285256442,
          -0.506151267746503,
          -0.05594310018107275,
          0.7545858729175096,
          -0.012902217386942041,
          0.5951414829334419,
          0.12351962806759635,
          -0.38325727961140005,
          -0.6933726532148998,
          2.4415116098964287,
          0.8557274566835281,
          0.7324129287476138,
          -0.8628262713601479,
          0.04756433709781207,
          0.8456812423826571,
          -0.42516235555193016,
          -1.1979961576928366,
          0.5089656233318339,
          0.9803508857671677,
          0.8119129825176856,
          0.03534109009366027,
          -0.17944526405158354,
          0.06161321536565358,
          -0.5760942497350119,
          -0.8844656807832726,
          1.7125044904591131
         ]
        },
        {
         "boxpoints": false,
         "line": {
          "width": 1.3
         },
         "marker": {
          "color": "rgba(50, 171, 96, 1.0)"
         },
         "name": "C",
         "orientation": "v",
         "type": "box",
         "y": [
          -0.1734327179078083,
          1.025281977935646,
          0.202403271941739,
          -0.9834933902244896,
          -0.6474184971807797,
          0.9406868911632378,
          0.3003493689813544,
          -0.747532030840866,
          0.1219500000551959,
          0.12904259385765535,
          -1.2007973492083384,
          -1.0846102717283599,
          1.2810230224396995,
          -0.7090639863368329,
          0.26104238141625064,
          0.6848441923844357,
          1.3712904218858912,
          -1.20861507047745,
          -2.5405455399197185,
          -0.12203039116024908,
          -0.6123589828476048,
          -0.8813710290801637,
          0.10403266515282988,
          -0.26089899633778685,
          -0.4059842516369866,
          1.4187557541977507,
          -1.583138459073382,
          0.5129281122091677,
          1.1652374706613282,
          -0.06728258917509047,
          0.00696080922411059,
          2.3201051260729173,
          -0.3386951531725974,
          2.0000123401643926,
          0.2919076413108785,
          1.8173093195240135,
          -1.4664951424779313,
          -0.3879112807547932,
          -0.5231934268594857,
          -0.14139344505727036,
          -1.100207439833855,
          0.7594443962865002,
          1.2385532475987762,
          -0.759695377875985,
          2.0542853298186423,
          2.210261248274123,
          0.819297640181099,
          0.7048244974399858,
          0.688841842644157,
          -0.5799814981264281,
          2.2515167496768416,
          1.1155921104798137,
          -0.6337498347256617,
          -0.6561852397859022,
          1.1105627550113193,
          1.5348593972668638,
          -0.324936965303408,
          -0.8361104252801637,
          0.7653712969595001,
          0.24907108738950298,
          -1.2317967452216088,
          0.8997703641459304,
          1.1395077801318922,
          0.28847376341816117,
          0.1886156039673864,
          -0.4074341231445621,
          0.7997895526136964,
          -1.0912104356636727,
          0.3119971138291475,
          -0.4185002045442197,
          2.5248181577844178,
          1.3455246110481505,
          -0.3117992178894114,
          -0.31847321483254554,
          1.2131033077720554,
          1.448868825477331,
          -0.24328247881868906,
          -0.3567749124083891,
          -0.16926826070298467,
          -0.35396995301437073,
          -0.8700087169425702,
          -0.14947867980498358,
          -0.040000503325443346,
          -0.21783051862202382,
          0.21673625801784674,
          -0.8960474515146457,
          1.3481557076721484,
          -0.9950879670041042,
          2.0841530694291532,
          -0.7154536902547273,
          -1.3717402491254331,
          -0.48537609341111554,
          -1.4175095023892268,
          -0.13422213336448804,
          1.461727020346443,
          -1.816800058383163,
          1.0812660470410758,
          1.409532907990298,
          -0.4544789634340318,
          0.9615157849938297
         ]
        },
        {
         "boxpoints": false,
         "line": {
          "width": 1.3
         },
         "marker": {
          "color": "rgba(128, 0, 128, 1.0)"
         },
         "name": "D",
         "orientation": "v",
         "type": "box",
         "y": [
          1.704742677700104,
          0.8235667212186872,
          1.586856430834681,
          2.4177509895405196,
          -1.698120880239537,
          0.9513856559545543,
          1.432820319719165,
          0.9319040542152517,
          2.0908949112998574,
          0.24264784705094034,
          1.012562816557507,
          -0.9509606983642789,
          0.21621807050718683,
          -0.812691487194244,
          0.9780952387980227,
          1.3611968402126449,
          0.004019283566734584,
          -0.9802757455225488,
          1.0703293680762096,
          -0.8737621307370945,
          0.8934865318306057,
          1.025346035892475,
          -0.20864015453364615,
          -1.1361297729398474,
          -0.8601631692882453,
          -0.6356786928082033,
          0.27510501242745733,
          -0.4796962814623892,
          -1.1425815068882323,
          1.1769477210528139,
          -0.5911586539291419,
          1.6911962381867163,
          0.967066780353155,
          -0.20991321232926455,
          0.26925268962020554,
          0.1205654135290545,
          0.4182072115762697,
          1.0149652809670269,
          -0.008838220928936583,
          1.0079648026427928,
          1.1579675186119789,
          2.4370866076021303,
          1.5292745938023486,
          0.3248137630341598,
          -1.9441841084541889,
          -0.26571405954830585,
          -0.20792111529154567,
          -0.4780125100587477,
          2.2161345568796147,
          0.4737589191469256,
          -1.0508381422262705,
          0.8770403467531728,
          -0.22110978493067945,
          -2.2878592743711383,
          -0.30491582900244435,
          3.7495097200921577,
          0.5599323269316231,
          1.1316583392984148,
          -0.5369995819663967,
          1.1236996914087098,
          -0.2728036103290317,
          1.2025945197111798,
          0.5122006706361073,
          0.0798180310891348,
          0.7916016394178136,
          -0.11986898411035302,
          1.4128274636634972,
          0.17867288971380324,
          1.2866170372239103,
          1.564280875623778,
          0.176276896701876,
          1.0486357010155423,
          -0.7991681606290977,
          1.6321085185177524,
          -0.4563288302703064,
          0.5805724432555952,
          0.02365351076373204,
          1.105708224153926,
          2.2329202529468497,
          -0.847614118112452,
          0.12878339308990167,
          0.7719078193392097,
          1.5226644749901594,
          0.6210969617087052,
          0.9720772290253814,
          3.4750579106732857,
          -0.31541713625986,
          2.231604606908773,
          -0.17644177261787783,
          0.050996347833518745,
          1.170978845923599,
          0.642974865871924,
          -0.5306803613540669,
          -1.7749250568597061,
          -3.294407031214544,
          -0.11548120498782195,
          -1.1297523562743428,
          0.40717446191210094,
          0.17541836588072568,
          0.2805597335081778
         ]
        }
       ],
       "layout": {
        "legend": {
         "bgcolor": "#F5F6F9",
         "font": {
          "color": "#4D5663"
         }
        },
        "paper_bgcolor": "#F5F6F9",
        "plot_bgcolor": "#F5F6F9",
        "template": {
         "data": {
          "bar": [
           {
            "error_x": {
             "color": "#2a3f5f"
            },
            "error_y": {
             "color": "#2a3f5f"
            },
            "marker": {
             "line": {
              "color": "#E5ECF6",
              "width": 0.5
             },
             "pattern": {
              "fillmode": "overlay",
              "size": 10,
              "solidity": 0.2
             }
            },
            "type": "bar"
           }
          ],
          "barpolar": [
           {
            "marker": {
             "line": {
              "color": "#E5ECF6",
              "width": 0.5
             },
             "pattern": {
              "fillmode": "overlay",
              "size": 10,
              "solidity": 0.2
             }
            },
            "type": "barpolar"
           }
          ],
          "carpet": [
           {
            "aaxis": {
             "endlinecolor": "#2a3f5f",
             "gridcolor": "white",
             "linecolor": "white",
             "minorgridcolor": "white",
             "startlinecolor": "#2a3f5f"
            },
            "baxis": {
             "endlinecolor": "#2a3f5f",
             "gridcolor": "white",
             "linecolor": "white",
             "minorgridcolor": "white",
             "startlinecolor": "#2a3f5f"
            },
            "type": "carpet"
           }
          ],
          "choropleth": [
           {
            "colorbar": {
             "outlinewidth": 0,
             "ticks": ""
            },
            "type": "choropleth"
           }
          ],
          "contour": [
           {
            "colorbar": {
             "outlinewidth": 0,
             "ticks": ""
            },
            "colorscale": [
             [
              0,
              "#0d0887"
             ],
             [
              0.1111111111111111,
              "#46039f"
             ],
             [
              0.2222222222222222,
              "#7201a8"
             ],
             [
              0.3333333333333333,
              "#9c179e"
             ],
             [
              0.4444444444444444,
              "#bd3786"
             ],
             [
              0.5555555555555556,
              "#d8576b"
             ],
             [
              0.6666666666666666,
              "#ed7953"
             ],
             [
              0.7777777777777778,
              "#fb9f3a"
             ],
             [
              0.8888888888888888,
              "#fdca26"
             ],
             [
              1,
              "#f0f921"
             ]
            ],
            "type": "contour"
           }
          ],
          "contourcarpet": [
           {
            "colorbar": {
             "outlinewidth": 0,
             "ticks": ""
            },
            "type": "contourcarpet"
           }
          ],
          "heatmap": [
           {
            "colorbar": {
             "outlinewidth": 0,
             "ticks": ""
            },
            "colorscale": [
             [
              0,
              "#0d0887"
             ],
             [
              0.1111111111111111,
              "#46039f"
             ],
             [
              0.2222222222222222,
              "#7201a8"
             ],
             [
              0.3333333333333333,
              "#9c179e"
             ],
             [
              0.4444444444444444,
              "#bd3786"
             ],
             [
              0.5555555555555556,
              "#d8576b"
             ],
             [
              0.6666666666666666,
              "#ed7953"
             ],
             [
              0.7777777777777778,
              "#fb9f3a"
             ],
             [
              0.8888888888888888,
              "#fdca26"
             ],
             [
              1,
              "#f0f921"
             ]
            ],
            "type": "heatmap"
           }
          ],
          "heatmapgl": [
           {
            "colorbar": {
             "outlinewidth": 0,
             "ticks": ""
            },
            "colorscale": [
             [
              0,
              "#0d0887"
             ],
             [
              0.1111111111111111,
              "#46039f"
             ],
             [
              0.2222222222222222,
              "#7201a8"
             ],
             [
              0.3333333333333333,
              "#9c179e"
             ],
             [
              0.4444444444444444,
              "#bd3786"
             ],
             [
              0.5555555555555556,
              "#d8576b"
             ],
             [
              0.6666666666666666,
              "#ed7953"
             ],
             [
              0.7777777777777778,
              "#fb9f3a"
             ],
             [
              0.8888888888888888,
              "#fdca26"
             ],
             [
              1,
              "#f0f921"
             ]
            ],
            "type": "heatmapgl"
           }
          ],
          "histogram": [
           {
            "marker": {
             "pattern": {
              "fillmode": "overlay",
              "size": 10,
              "solidity": 0.2
             }
            },
            "type": "histogram"
           }
          ],
          "histogram2d": [
           {
            "colorbar": {
             "outlinewidth": 0,
             "ticks": ""
            },
            "colorscale": [
             [
              0,
              "#0d0887"
             ],
             [
              0.1111111111111111,
              "#46039f"
             ],
             [
              0.2222222222222222,
              "#7201a8"
             ],
             [
              0.3333333333333333,
              "#9c179e"
             ],
             [
              0.4444444444444444,
              "#bd3786"
             ],
             [
              0.5555555555555556,
              "#d8576b"
             ],
             [
              0.6666666666666666,
              "#ed7953"
             ],
             [
              0.7777777777777778,
              "#fb9f3a"
             ],
             [
              0.8888888888888888,
              "#fdca26"
             ],
             [
              1,
              "#f0f921"
             ]
            ],
            "type": "histogram2d"
           }
          ],
          "histogram2dcontour": [
           {
            "colorbar": {
             "outlinewidth": 0,
             "ticks": ""
            },
            "colorscale": [
             [
              0,
              "#0d0887"
             ],
             [
              0.1111111111111111,
              "#46039f"
             ],
             [
              0.2222222222222222,
              "#7201a8"
             ],
             [
              0.3333333333333333,
              "#9c179e"
             ],
             [
              0.4444444444444444,
              "#bd3786"
             ],
             [
              0.5555555555555556,
              "#d8576b"
             ],
             [
              0.6666666666666666,
              "#ed7953"
             ],
             [
              0.7777777777777778,
              "#fb9f3a"
             ],
             [
              0.8888888888888888,
              "#fdca26"
             ],
             [
              1,
              "#f0f921"
             ]
            ],
            "type": "histogram2dcontour"
           }
          ],
          "mesh3d": [
           {
            "colorbar": {
             "outlinewidth": 0,
             "ticks": ""
            },
            "type": "mesh3d"
           }
          ],
          "parcoords": [
           {
            "line": {
             "colorbar": {
              "outlinewidth": 0,
              "ticks": ""
             }
            },
            "type": "parcoords"
           }
          ],
          "pie": [
           {
            "automargin": true,
            "type": "pie"
           }
          ],
          "scatter": [
           {
            "fillpattern": {
             "fillmode": "overlay",
             "size": 10,
             "solidity": 0.2
            },
            "type": "scatter"
           }
          ],
          "scatter3d": [
           {
            "line": {
             "colorbar": {
              "outlinewidth": 0,
              "ticks": ""
             }
            },
            "marker": {
             "colorbar": {
              "outlinewidth": 0,
              "ticks": ""
             }
            },
            "type": "scatter3d"
           }
          ],
          "scattercarpet": [
           {
            "marker": {
             "colorbar": {
              "outlinewidth": 0,
              "ticks": ""
             }
            },
            "type": "scattercarpet"
           }
          ],
          "scattergeo": [
           {
            "marker": {
             "colorbar": {
              "outlinewidth": 0,
              "ticks": ""
             }
            },
            "type": "scattergeo"
           }
          ],
          "scattergl": [
           {
            "marker": {
             "colorbar": {
              "outlinewidth": 0,
              "ticks": ""
             }
            },
            "type": "scattergl"
           }
          ],
          "scattermapbox": [
           {
            "marker": {
             "colorbar": {
              "outlinewidth": 0,
              "ticks": ""
             }
            },
            "type": "scattermapbox"
           }
          ],
          "scatterpolar": [
           {
            "marker": {
             "colorbar": {
              "outlinewidth": 0,
              "ticks": ""
             }
            },
            "type": "scatterpolar"
           }
          ],
          "scatterpolargl": [
           {
            "marker": {
             "colorbar": {
              "outlinewidth": 0,
              "ticks": ""
             }
            },
            "type": "scatterpolargl"
           }
          ],
          "scatterternary": [
           {
            "marker": {
             "colorbar": {
              "outlinewidth": 0,
              "ticks": ""
             }
            },
            "type": "scatterternary"
           }
          ],
          "surface": [
           {
            "colorbar": {
             "outlinewidth": 0,
             "ticks": ""
            },
            "colorscale": [
             [
              0,
              "#0d0887"
             ],
             [
              0.1111111111111111,
              "#46039f"
             ],
             [
              0.2222222222222222,
              "#7201a8"
             ],
             [
              0.3333333333333333,
              "#9c179e"
             ],
             [
              0.4444444444444444,
              "#bd3786"
             ],
             [
              0.5555555555555556,
              "#d8576b"
             ],
             [
              0.6666666666666666,
              "#ed7953"
             ],
             [
              0.7777777777777778,
              "#fb9f3a"
             ],
             [
              0.8888888888888888,
              "#fdca26"
             ],
             [
              1,
              "#f0f921"
             ]
            ],
            "type": "surface"
           }
          ],
          "table": [
           {
            "cells": {
             "fill": {
              "color": "#EBF0F8"
             },
             "line": {
              "color": "white"
             }
            },
            "header": {
             "fill": {
              "color": "#C8D4E3"
             },
             "line": {
              "color": "white"
             }
            },
            "type": "table"
           }
          ]
         },
         "layout": {
          "annotationdefaults": {
           "arrowcolor": "#2a3f5f",
           "arrowhead": 0,
           "arrowwidth": 1
          },
          "autotypenumbers": "strict",
          "coloraxis": {
           "colorbar": {
            "outlinewidth": 0,
            "ticks": ""
           }
          },
          "colorscale": {
           "diverging": [
            [
             0,
             "#8e0152"
            ],
            [
             0.1,
             "#c51b7d"
            ],
            [
             0.2,
             "#de77ae"
            ],
            [
             0.3,
             "#f1b6da"
            ],
            [
             0.4,
             "#fde0ef"
            ],
            [
             0.5,
             "#f7f7f7"
            ],
            [
             0.6,
             "#e6f5d0"
            ],
            [
             0.7,
             "#b8e186"
            ],
            [
             0.8,
             "#7fbc41"
            ],
            [
             0.9,
             "#4d9221"
            ],
            [
             1,
             "#276419"
            ]
           ],
           "sequential": [
            [
             0,
             "#0d0887"
            ],
            [
             0.1111111111111111,
             "#46039f"
            ],
            [
             0.2222222222222222,
             "#7201a8"
            ],
            [
             0.3333333333333333,
             "#9c179e"
            ],
            [
             0.4444444444444444,
             "#bd3786"
            ],
            [
             0.5555555555555556,
             "#d8576b"
            ],
            [
             0.6666666666666666,
             "#ed7953"
            ],
            [
             0.7777777777777778,
             "#fb9f3a"
            ],
            [
             0.8888888888888888,
             "#fdca26"
            ],
            [
             1,
             "#f0f921"
            ]
           ],
           "sequentialminus": [
            [
             0,
             "#0d0887"
            ],
            [
             0.1111111111111111,
             "#46039f"
            ],
            [
             0.2222222222222222,
             "#7201a8"
            ],
            [
             0.3333333333333333,
             "#9c179e"
            ],
            [
             0.4444444444444444,
             "#bd3786"
            ],
            [
             0.5555555555555556,
             "#d8576b"
            ],
            [
             0.6666666666666666,
             "#ed7953"
            ],
            [
             0.7777777777777778,
             "#fb9f3a"
            ],
            [
             0.8888888888888888,
             "#fdca26"
            ],
            [
             1,
             "#f0f921"
            ]
           ]
          },
          "colorway": [
           "#636efa",
           "#EF553B",
           "#00cc96",
           "#ab63fa",
           "#FFA15A",
           "#19d3f3",
           "#FF6692",
           "#B6E880",
           "#FF97FF",
           "#FECB52"
          ],
          "font": {
           "color": "#2a3f5f"
          },
          "geo": {
           "bgcolor": "white",
           "lakecolor": "white",
           "landcolor": "#E5ECF6",
           "showlakes": true,
           "showland": true,
           "subunitcolor": "white"
          },
          "hoverlabel": {
           "align": "left"
          },
          "hovermode": "closest",
          "mapbox": {
           "style": "light"
          },
          "paper_bgcolor": "white",
          "plot_bgcolor": "#E5ECF6",
          "polar": {
           "angularaxis": {
            "gridcolor": "white",
            "linecolor": "white",
            "ticks": ""
           },
           "bgcolor": "#E5ECF6",
           "radialaxis": {
            "gridcolor": "white",
            "linecolor": "white",
            "ticks": ""
           }
          },
          "scene": {
           "xaxis": {
            "backgroundcolor": "#E5ECF6",
            "gridcolor": "white",
            "gridwidth": 2,
            "linecolor": "white",
            "showbackground": true,
            "ticks": "",
            "zerolinecolor": "white"
           },
           "yaxis": {
            "backgroundcolor": "#E5ECF6",
            "gridcolor": "white",
            "gridwidth": 2,
            "linecolor": "white",
            "showbackground": true,
            "ticks": "",
            "zerolinecolor": "white"
           },
           "zaxis": {
            "backgroundcolor": "#E5ECF6",
            "gridcolor": "white",
            "gridwidth": 2,
            "linecolor": "white",
            "showbackground": true,
            "ticks": "",
            "zerolinecolor": "white"
           }
          },
          "shapedefaults": {
           "line": {
            "color": "#2a3f5f"
           }
          },
          "ternary": {
           "aaxis": {
            "gridcolor": "white",
            "linecolor": "white",
            "ticks": ""
           },
           "baxis": {
            "gridcolor": "white",
            "linecolor": "white",
            "ticks": ""
           },
           "bgcolor": "#E5ECF6",
           "caxis": {
            "gridcolor": "white",
            "linecolor": "white",
            "ticks": ""
           }
          },
          "title": {
           "x": 0.05
          },
          "xaxis": {
           "automargin": true,
           "gridcolor": "white",
           "linecolor": "white",
           "ticks": "",
           "title": {
            "standoff": 15
           },
           "zerolinecolor": "white",
           "zerolinewidth": 2
          },
          "yaxis": {
           "automargin": true,
           "gridcolor": "white",
           "linecolor": "white",
           "ticks": "",
           "title": {
            "standoff": 15
           },
           "zerolinecolor": "white",
           "zerolinewidth": 2
          }
         }
        },
        "title": {
         "font": {
          "color": "#4D5663"
         }
        },
        "xaxis": {
         "gridcolor": "#E1E5ED",
         "showgrid": true,
         "tickfont": {
          "color": "#4D5663"
         },
         "title": {
          "font": {
           "color": "#4D5663"
          },
          "text": ""
         },
         "zerolinecolor": "#E1E5ED"
        },
        "yaxis": {
         "gridcolor": "#E1E5ED",
         "showgrid": true,
         "tickfont": {
          "color": "#4D5663"
         },
         "title": {
          "font": {
           "color": "#4D5663"
          },
          "text": ""
         },
         "zerolinecolor": "#E1E5ED"
        }
       }
      },
      "text/html": [
       "<div>                            <div id=\"2c2fc44f-8b76-4e55-9a83-542f73af8a65\" class=\"plotly-graph-div\" style=\"height:525px; width:100%;\"></div>            <script type=\"text/javascript\">                require([\"plotly\"], function(Plotly) {                    window.PLOTLYENV=window.PLOTLYENV || {};\n",
       "                    window.PLOTLYENV.BASE_URL='https://plot.ly';                                    if (document.getElementById(\"2c2fc44f-8b76-4e55-9a83-542f73af8a65\")) {                    Plotly.newPlot(                        \"2c2fc44f-8b76-4e55-9a83-542f73af8a65\",                        [{\"boxpoints\":false,\"line\":{\"width\":1.3},\"marker\":{\"color\":\"rgba(255, 153, 51, 1.0)\"},\"name\":\"A\",\"orientation\":\"v\",\"y\":[-1.9903004256683205,-0.44331522383487904,0.5522209986709692,-0.8761307777820353,1.1989648408531712,1.107396907449335,-0.029371122099748383,0.3056333470056156,-0.4955087979621365,-0.6520420406756742,-2.5267952417248734,0.28866743458960153,-1.4316957620782398,-0.6044368465373989,-0.7835590378190067,-0.12675905868030538,-0.8723173151421462,-1.3441213992499,0.9239839346598812,-0.37358758223316085,0.9588303627419025,-0.1052825661486228,0.38119597175663916,0.3576427427245764,-0.5702151234625347,-0.5572216628600934,0.017719846225363156,1.2887145074843485,-0.7411771478820481,-0.6419864197153446,1.1972219508024184,0.25945352369678465,1.2969932581570864,-0.766403700861819,-0.5880695192706119,0.23921319399362173,0.41198072881213454,0.8298012119060374,-0.39388130471441646,-0.9685240289521347,-1.5016621442024582,0.2224241435501135,-0.8493083133394347,-1.0609152477969157,-1.469355455640693,1.102203544886654,0.9789753952414446,-1.219515842422679,-1.0441517795610855,0.2804323979633052,-0.3944849837527407,0.7544188492417558,-1.1088178682546639,0.1837902883409436,-1.0221321290638552,0.7823997618515374,1.1860800573721049,0.03555123929313354,-0.08788533678144475,-1.0979193923822788,0.5231731489710988,0.5697924927381082,-0.20924153665318343,1.3985467032028418,1.7004020608481674,0.2030413325552144,-0.6268391642990602,0.3988770551212099,0.06965082275610238,-1.9116331125018202,0.1380241162431082,-1.1037926748877243,0.8081457348428449,-0.9356293594254312,-0.0916575756043444,0.5779288906452257,0.5962772865240996,1.515969853059908,-1.3425234485560702,-0.3600001508909471,-0.07624704610784032,-1.7522234689232437,-0.37257406422804706,1.193137958920794,1.154637422674318,0.31205407485525993,0.44184177745646686,-1.3778745790073854,-1.011665062974858,0.03515567990235361,0.41947441807572,-1.3135785687987815,0.3272638323888706,-1.0046483036078868,0.6876459011460935,-0.19200991915835824,-0.1546255652119731,1.5186581723550163,-0.07716251245343556,0.5410204542460056],\"type\":\"box\"},{\"boxpoints\":false,\"line\":{\"width\":1.3},\"marker\":{\"color\":\"rgba(55, 128, 191, 1.0)\"},\"name\":\"B\",\"orientation\":\"v\",\"y\":[0.20713171298464164,-0.9098290203271999,0.6595976436161234,1.1391958719025224,0.22876136700256824,-0.9390175844832885,1.40702753694373,0.6757395117272006,-0.6190602204117278,0.9652323468994083,1.171138334802606,1.9127870674045342,0.4741178282201214,-2.479844305574245,0.8927998703050272,-1.491532793139312,-0.15493863646237707,-0.17367859851820075,-0.3910701957760691,0.10659597063448929,-0.32667053875621144,0.7994813604737073,-0.4280343716591244,-1.150466969038612,0.8455562582900276,-2.251409282655881,0.9821270223673556,0.2303455757248052,0.04535472902143436,-1.2248383310091664,1.3674030824397547,0.08045700760681646,-0.43506133283756054,0.24149061558320917,-2.0528054626515244,0.08373056770003885,-0.6361159828889186,0.8196960925429025,0.8468032243624196,-0.10789265679637575,-0.5276537406018319,-0.5042026403280273,0.26276374773287686,-1.6144863597671486,-0.14370779462404257,0.7656677379760024,0.7874697232847472,-0.8023005621110955,0.778255152616999,0.5700896498552871,-1.0017097238965142,-0.6607568163172322,1.5905093819220673,-1.2110676813411707,-0.5601154519339665,1.3418467182878748,0.6440794160296142,-0.39687651490022524,-0.4752177292162427,0.22650596927963504,-0.13680482098526894,-0.9673428380469818,0.22153028192267313,1.7994207743834112,-1.003588415564047,-0.9112664323687696,0.9227233738941317,-2.227663388595575,0.06724167285175829,0.06086377830490128,0.3781532535914435,1.0079887011567779,-2.205453957164551,1.164530009463671,1.3132946285256442,-0.506151267746503,-0.05594310018107275,0.7545858729175096,-0.012902217386942041,0.5951414829334419,0.12351962806759635,-0.38325727961140005,-0.6933726532148998,2.4415116098964287,0.8557274566835281,0.7324129287476138,-0.8628262713601479,0.04756433709781207,0.8456812423826571,-0.42516235555193016,-1.1979961576928366,0.5089656233318339,0.9803508857671677,0.8119129825176856,0.03534109009366027,-0.17944526405158354,0.06161321536565358,-0.5760942497350119,-0.8844656807832726,1.7125044904591131],\"type\":\"box\"},{\"boxpoints\":false,\"line\":{\"width\":1.3},\"marker\":{\"color\":\"rgba(50, 171, 96, 1.0)\"},\"name\":\"C\",\"orientation\":\"v\",\"y\":[-0.1734327179078083,1.025281977935646,0.202403271941739,-0.9834933902244896,-0.6474184971807797,0.9406868911632378,0.3003493689813544,-0.747532030840866,0.1219500000551959,0.12904259385765535,-1.2007973492083384,-1.0846102717283599,1.2810230224396995,-0.7090639863368329,0.26104238141625064,0.6848441923844357,1.3712904218858912,-1.20861507047745,-2.5405455399197185,-0.12203039116024908,-0.6123589828476048,-0.8813710290801637,0.10403266515282988,-0.26089899633778685,-0.4059842516369866,1.4187557541977507,-1.583138459073382,0.5129281122091677,1.1652374706613282,-0.06728258917509047,0.00696080922411059,2.3201051260729173,-0.3386951531725974,2.0000123401643926,0.2919076413108785,1.8173093195240135,-1.4664951424779313,-0.3879112807547932,-0.5231934268594857,-0.14139344505727036,-1.100207439833855,0.7594443962865002,1.2385532475987762,-0.759695377875985,2.0542853298186423,2.210261248274123,0.819297640181099,0.7048244974399858,0.688841842644157,-0.5799814981264281,2.2515167496768416,1.1155921104798137,-0.6337498347256617,-0.6561852397859022,1.1105627550113193,1.5348593972668638,-0.324936965303408,-0.8361104252801637,0.7653712969595001,0.24907108738950298,-1.2317967452216088,0.8997703641459304,1.1395077801318922,0.28847376341816117,0.1886156039673864,-0.4074341231445621,0.7997895526136964,-1.0912104356636727,0.3119971138291475,-0.4185002045442197,2.5248181577844178,1.3455246110481505,-0.3117992178894114,-0.31847321483254554,1.2131033077720554,1.448868825477331,-0.24328247881868906,-0.3567749124083891,-0.16926826070298467,-0.35396995301437073,-0.8700087169425702,-0.14947867980498358,-0.040000503325443346,-0.21783051862202382,0.21673625801784674,-0.8960474515146457,1.3481557076721484,-0.9950879670041042,2.0841530694291532,-0.7154536902547273,-1.3717402491254331,-0.48537609341111554,-1.4175095023892268,-0.13422213336448804,1.461727020346443,-1.816800058383163,1.0812660470410758,1.409532907990298,-0.4544789634340318,0.9615157849938297],\"type\":\"box\"},{\"boxpoints\":false,\"line\":{\"width\":1.3},\"marker\":{\"color\":\"rgba(128, 0, 128, 1.0)\"},\"name\":\"D\",\"orientation\":\"v\",\"y\":[1.704742677700104,0.8235667212186872,1.586856430834681,2.4177509895405196,-1.698120880239537,0.9513856559545543,1.432820319719165,0.9319040542152517,2.0908949112998574,0.24264784705094034,1.012562816557507,-0.9509606983642789,0.21621807050718683,-0.812691487194244,0.9780952387980227,1.3611968402126449,0.004019283566734584,-0.9802757455225488,1.0703293680762096,-0.8737621307370945,0.8934865318306057,1.025346035892475,-0.20864015453364615,-1.1361297729398474,-0.8601631692882453,-0.6356786928082033,0.27510501242745733,-0.4796962814623892,-1.1425815068882323,1.1769477210528139,-0.5911586539291419,1.6911962381867163,0.967066780353155,-0.20991321232926455,0.26925268962020554,0.1205654135290545,0.4182072115762697,1.0149652809670269,-0.008838220928936583,1.0079648026427928,1.1579675186119789,2.4370866076021303,1.5292745938023486,0.3248137630341598,-1.9441841084541889,-0.26571405954830585,-0.20792111529154567,-0.4780125100587477,2.2161345568796147,0.4737589191469256,-1.0508381422262705,0.8770403467531728,-0.22110978493067945,-2.2878592743711383,-0.30491582900244435,3.7495097200921577,0.5599323269316231,1.1316583392984148,-0.5369995819663967,1.1236996914087098,-0.2728036103290317,1.2025945197111798,0.5122006706361073,0.0798180310891348,0.7916016394178136,-0.11986898411035302,1.4128274636634972,0.17867288971380324,1.2866170372239103,1.564280875623778,0.176276896701876,1.0486357010155423,-0.7991681606290977,1.6321085185177524,-0.4563288302703064,0.5805724432555952,0.02365351076373204,1.105708224153926,2.2329202529468497,-0.847614118112452,0.12878339308990167,0.7719078193392097,1.5226644749901594,0.6210969617087052,0.9720772290253814,3.4750579106732857,-0.31541713625986,2.231604606908773,-0.17644177261787783,0.050996347833518745,1.170978845923599,0.642974865871924,-0.5306803613540669,-1.7749250568597061,-3.294407031214544,-0.11548120498782195,-1.1297523562743428,0.40717446191210094,0.17541836588072568,0.2805597335081778],\"type\":\"box\"}],                        {\"legend\":{\"bgcolor\":\"#F5F6F9\",\"font\":{\"color\":\"#4D5663\"}},\"paper_bgcolor\":\"#F5F6F9\",\"plot_bgcolor\":\"#F5F6F9\",\"template\":{\"data\":{\"barpolar\":[{\"marker\":{\"line\":{\"color\":\"#E5ECF6\",\"width\":0.5},\"pattern\":{\"fillmode\":\"overlay\",\"size\":10,\"solidity\":0.2}},\"type\":\"barpolar\"}],\"bar\":[{\"error_x\":{\"color\":\"#2a3f5f\"},\"error_y\":{\"color\":\"#2a3f5f\"},\"marker\":{\"line\":{\"color\":\"#E5ECF6\",\"width\":0.5},\"pattern\":{\"fillmode\":\"overlay\",\"size\":10,\"solidity\":0.2}},\"type\":\"bar\"}],\"carpet\":[{\"aaxis\":{\"endlinecolor\":\"#2a3f5f\",\"gridcolor\":\"white\",\"linecolor\":\"white\",\"minorgridcolor\":\"white\",\"startlinecolor\":\"#2a3f5f\"},\"baxis\":{\"endlinecolor\":\"#2a3f5f\",\"gridcolor\":\"white\",\"linecolor\":\"white\",\"minorgridcolor\":\"white\",\"startlinecolor\":\"#2a3f5f\"},\"type\":\"carpet\"}],\"choropleth\":[{\"colorbar\":{\"outlinewidth\":0,\"ticks\":\"\"},\"type\":\"choropleth\"}],\"contourcarpet\":[{\"colorbar\":{\"outlinewidth\":0,\"ticks\":\"\"},\"type\":\"contourcarpet\"}],\"contour\":[{\"colorbar\":{\"outlinewidth\":0,\"ticks\":\"\"},\"colorscale\":[[0.0,\"#0d0887\"],[0.1111111111111111,\"#46039f\"],[0.2222222222222222,\"#7201a8\"],[0.3333333333333333,\"#9c179e\"],[0.4444444444444444,\"#bd3786\"],[0.5555555555555556,\"#d8576b\"],[0.6666666666666666,\"#ed7953\"],[0.7777777777777778,\"#fb9f3a\"],[0.8888888888888888,\"#fdca26\"],[1.0,\"#f0f921\"]],\"type\":\"contour\"}],\"heatmapgl\":[{\"colorbar\":{\"outlinewidth\":0,\"ticks\":\"\"},\"colorscale\":[[0.0,\"#0d0887\"],[0.1111111111111111,\"#46039f\"],[0.2222222222222222,\"#7201a8\"],[0.3333333333333333,\"#9c179e\"],[0.4444444444444444,\"#bd3786\"],[0.5555555555555556,\"#d8576b\"],[0.6666666666666666,\"#ed7953\"],[0.7777777777777778,\"#fb9f3a\"],[0.8888888888888888,\"#fdca26\"],[1.0,\"#f0f921\"]],\"type\":\"heatmapgl\"}],\"heatmap\":[{\"colorbar\":{\"outlinewidth\":0,\"ticks\":\"\"},\"colorscale\":[[0.0,\"#0d0887\"],[0.1111111111111111,\"#46039f\"],[0.2222222222222222,\"#7201a8\"],[0.3333333333333333,\"#9c179e\"],[0.4444444444444444,\"#bd3786\"],[0.5555555555555556,\"#d8576b\"],[0.6666666666666666,\"#ed7953\"],[0.7777777777777778,\"#fb9f3a\"],[0.8888888888888888,\"#fdca26\"],[1.0,\"#f0f921\"]],\"type\":\"heatmap\"}],\"histogram2dcontour\":[{\"colorbar\":{\"outlinewidth\":0,\"ticks\":\"\"},\"colorscale\":[[0.0,\"#0d0887\"],[0.1111111111111111,\"#46039f\"],[0.2222222222222222,\"#7201a8\"],[0.3333333333333333,\"#9c179e\"],[0.4444444444444444,\"#bd3786\"],[0.5555555555555556,\"#d8576b\"],[0.6666666666666666,\"#ed7953\"],[0.7777777777777778,\"#fb9f3a\"],[0.8888888888888888,\"#fdca26\"],[1.0,\"#f0f921\"]],\"type\":\"histogram2dcontour\"}],\"histogram2d\":[{\"colorbar\":{\"outlinewidth\":0,\"ticks\":\"\"},\"colorscale\":[[0.0,\"#0d0887\"],[0.1111111111111111,\"#46039f\"],[0.2222222222222222,\"#7201a8\"],[0.3333333333333333,\"#9c179e\"],[0.4444444444444444,\"#bd3786\"],[0.5555555555555556,\"#d8576b\"],[0.6666666666666666,\"#ed7953\"],[0.7777777777777778,\"#fb9f3a\"],[0.8888888888888888,\"#fdca26\"],[1.0,\"#f0f921\"]],\"type\":\"histogram2d\"}],\"histogram\":[{\"marker\":{\"pattern\":{\"fillmode\":\"overlay\",\"size\":10,\"solidity\":0.2}},\"type\":\"histogram\"}],\"mesh3d\":[{\"colorbar\":{\"outlinewidth\":0,\"ticks\":\"\"},\"type\":\"mesh3d\"}],\"parcoords\":[{\"line\":{\"colorbar\":{\"outlinewidth\":0,\"ticks\":\"\"}},\"type\":\"parcoords\"}],\"pie\":[{\"automargin\":true,\"type\":\"pie\"}],\"scatter3d\":[{\"line\":{\"colorbar\":{\"outlinewidth\":0,\"ticks\":\"\"}},\"marker\":{\"colorbar\":{\"outlinewidth\":0,\"ticks\":\"\"}},\"type\":\"scatter3d\"}],\"scattercarpet\":[{\"marker\":{\"colorbar\":{\"outlinewidth\":0,\"ticks\":\"\"}},\"type\":\"scattercarpet\"}],\"scattergeo\":[{\"marker\":{\"colorbar\":{\"outlinewidth\":0,\"ticks\":\"\"}},\"type\":\"scattergeo\"}],\"scattergl\":[{\"marker\":{\"colorbar\":{\"outlinewidth\":0,\"ticks\":\"\"}},\"type\":\"scattergl\"}],\"scattermapbox\":[{\"marker\":{\"colorbar\":{\"outlinewidth\":0,\"ticks\":\"\"}},\"type\":\"scattermapbox\"}],\"scatterpolargl\":[{\"marker\":{\"colorbar\":{\"outlinewidth\":0,\"ticks\":\"\"}},\"type\":\"scatterpolargl\"}],\"scatterpolar\":[{\"marker\":{\"colorbar\":{\"outlinewidth\":0,\"ticks\":\"\"}},\"type\":\"scatterpolar\"}],\"scatter\":[{\"fillpattern\":{\"fillmode\":\"overlay\",\"size\":10,\"solidity\":0.2},\"type\":\"scatter\"}],\"scatterternary\":[{\"marker\":{\"colorbar\":{\"outlinewidth\":0,\"ticks\":\"\"}},\"type\":\"scatterternary\"}],\"surface\":[{\"colorbar\":{\"outlinewidth\":0,\"ticks\":\"\"},\"colorscale\":[[0.0,\"#0d0887\"],[0.1111111111111111,\"#46039f\"],[0.2222222222222222,\"#7201a8\"],[0.3333333333333333,\"#9c179e\"],[0.4444444444444444,\"#bd3786\"],[0.5555555555555556,\"#d8576b\"],[0.6666666666666666,\"#ed7953\"],[0.7777777777777778,\"#fb9f3a\"],[0.8888888888888888,\"#fdca26\"],[1.0,\"#f0f921\"]],\"type\":\"surface\"}],\"table\":[{\"cells\":{\"fill\":{\"color\":\"#EBF0F8\"},\"line\":{\"color\":\"white\"}},\"header\":{\"fill\":{\"color\":\"#C8D4E3\"},\"line\":{\"color\":\"white\"}},\"type\":\"table\"}]},\"layout\":{\"annotationdefaults\":{\"arrowcolor\":\"#2a3f5f\",\"arrowhead\":0,\"arrowwidth\":1},\"autotypenumbers\":\"strict\",\"coloraxis\":{\"colorbar\":{\"outlinewidth\":0,\"ticks\":\"\"}},\"colorscale\":{\"diverging\":[[0,\"#8e0152\"],[0.1,\"#c51b7d\"],[0.2,\"#de77ae\"],[0.3,\"#f1b6da\"],[0.4,\"#fde0ef\"],[0.5,\"#f7f7f7\"],[0.6,\"#e6f5d0\"],[0.7,\"#b8e186\"],[0.8,\"#7fbc41\"],[0.9,\"#4d9221\"],[1,\"#276419\"]],\"sequential\":[[0.0,\"#0d0887\"],[0.1111111111111111,\"#46039f\"],[0.2222222222222222,\"#7201a8\"],[0.3333333333333333,\"#9c179e\"],[0.4444444444444444,\"#bd3786\"],[0.5555555555555556,\"#d8576b\"],[0.6666666666666666,\"#ed7953\"],[0.7777777777777778,\"#fb9f3a\"],[0.8888888888888888,\"#fdca26\"],[1.0,\"#f0f921\"]],\"sequentialminus\":[[0.0,\"#0d0887\"],[0.1111111111111111,\"#46039f\"],[0.2222222222222222,\"#7201a8\"],[0.3333333333333333,\"#9c179e\"],[0.4444444444444444,\"#bd3786\"],[0.5555555555555556,\"#d8576b\"],[0.6666666666666666,\"#ed7953\"],[0.7777777777777778,\"#fb9f3a\"],[0.8888888888888888,\"#fdca26\"],[1.0,\"#f0f921\"]]},\"colorway\":[\"#636efa\",\"#EF553B\",\"#00cc96\",\"#ab63fa\",\"#FFA15A\",\"#19d3f3\",\"#FF6692\",\"#B6E880\",\"#FF97FF\",\"#FECB52\"],\"font\":{\"color\":\"#2a3f5f\"},\"geo\":{\"bgcolor\":\"white\",\"lakecolor\":\"white\",\"landcolor\":\"#E5ECF6\",\"showlakes\":true,\"showland\":true,\"subunitcolor\":\"white\"},\"hoverlabel\":{\"align\":\"left\"},\"hovermode\":\"closest\",\"mapbox\":{\"style\":\"light\"},\"paper_bgcolor\":\"white\",\"plot_bgcolor\":\"#E5ECF6\",\"polar\":{\"angularaxis\":{\"gridcolor\":\"white\",\"linecolor\":\"white\",\"ticks\":\"\"},\"bgcolor\":\"#E5ECF6\",\"radialaxis\":{\"gridcolor\":\"white\",\"linecolor\":\"white\",\"ticks\":\"\"}},\"scene\":{\"xaxis\":{\"backgroundcolor\":\"#E5ECF6\",\"gridcolor\":\"white\",\"gridwidth\":2,\"linecolor\":\"white\",\"showbackground\":true,\"ticks\":\"\",\"zerolinecolor\":\"white\"},\"yaxis\":{\"backgroundcolor\":\"#E5ECF6\",\"gridcolor\":\"white\",\"gridwidth\":2,\"linecolor\":\"white\",\"showbackground\":true,\"ticks\":\"\",\"zerolinecolor\":\"white\"},\"zaxis\":{\"backgroundcolor\":\"#E5ECF6\",\"gridcolor\":\"white\",\"gridwidth\":2,\"linecolor\":\"white\",\"showbackground\":true,\"ticks\":\"\",\"zerolinecolor\":\"white\"}},\"shapedefaults\":{\"line\":{\"color\":\"#2a3f5f\"}},\"ternary\":{\"aaxis\":{\"gridcolor\":\"white\",\"linecolor\":\"white\",\"ticks\":\"\"},\"baxis\":{\"gridcolor\":\"white\",\"linecolor\":\"white\",\"ticks\":\"\"},\"bgcolor\":\"#E5ECF6\",\"caxis\":{\"gridcolor\":\"white\",\"linecolor\":\"white\",\"ticks\":\"\"}},\"title\":{\"x\":0.05},\"xaxis\":{\"automargin\":true,\"gridcolor\":\"white\",\"linecolor\":\"white\",\"ticks\":\"\",\"title\":{\"standoff\":15},\"zerolinecolor\":\"white\",\"zerolinewidth\":2},\"yaxis\":{\"automargin\":true,\"gridcolor\":\"white\",\"linecolor\":\"white\",\"ticks\":\"\",\"title\":{\"standoff\":15},\"zerolinecolor\":\"white\",\"zerolinewidth\":2}}},\"title\":{\"font\":{\"color\":\"#4D5663\"}},\"xaxis\":{\"gridcolor\":\"#E1E5ED\",\"showgrid\":true,\"tickfont\":{\"color\":\"#4D5663\"},\"title\":{\"font\":{\"color\":\"#4D5663\"},\"text\":\"\"},\"zerolinecolor\":\"#E1E5ED\"},\"yaxis\":{\"gridcolor\":\"#E1E5ED\",\"showgrid\":true,\"tickfont\":{\"color\":\"#4D5663\"},\"title\":{\"font\":{\"color\":\"#4D5663\"},\"text\":\"\"},\"zerolinecolor\":\"#E1E5ED\"}},                        {\"showLink\": true, \"linkText\": \"Export to plot.ly\", \"plotlyServerURL\": \"https://plot.ly\", \"responsive\": true}                    ).then(function(){\n",
       "                            \n",
       "var gd = document.getElementById('2c2fc44f-8b76-4e55-9a83-542f73af8a65');\n",
       "var x = new MutationObserver(function (mutations, observer) {{\n",
       "        var display = window.getComputedStyle(gd).display;\n",
       "        if (!display || display === 'none') {{\n",
       "            console.log([gd, 'removed!']);\n",
       "            Plotly.purge(gd);\n",
       "            observer.disconnect();\n",
       "        }}\n",
       "}});\n",
       "\n",
       "// Listen for the removal of the full notebook cells\n",
       "var notebookContainer = gd.closest('#notebook-container');\n",
       "if (notebookContainer) {{\n",
       "    x.observe(notebookContainer, {childList: true});\n",
       "}}\n",
       "\n",
       "// Listen for the clearing of the current output cell\n",
       "var outputEl = gd.closest('.output');\n",
       "if (outputEl) {{\n",
       "    x.observe(outputEl, {childList: true});\n",
       "}}\n",
       "\n",
       "                        })                };                });            </script>        </div>"
      ]
     },
     "metadata": {},
     "output_type": "display_data"
    }
   ],
   "source": [
    "df.iplot(kind='box')"
   ]
  },
  {
   "cell_type": "markdown",
   "metadata": {},
   "source": [
    "## 3d Surface"
   ]
  },
  {
   "cell_type": "code",
   "execution_count": 17,
   "metadata": {},
   "outputs": [
    {
     "data": {
      "application/vnd.plotly.v1+json": {
       "config": {
        "linkText": "Export to plot.ly",
        "plotlyServerURL": "https://plot.ly",
        "showLink": true
       },
       "data": [
        {
         "colorscale": [
          [
           0,
           "rgb(165,0,38)"
          ],
          [
           0.1,
           "rgb(215,48,39)"
          ],
          [
           0.2,
           "rgb(244,109,67)"
          ],
          [
           0.3,
           "rgb(253,174,97)"
          ],
          [
           0.4,
           "rgb(254,224,144)"
          ],
          [
           0.5,
           "rgb(255,255,191)"
          ],
          [
           0.6,
           "rgb(224,243,248)"
          ],
          [
           0.7,
           "rgb(171,217,233)"
          ],
          [
           0.8,
           "rgb(116,173,209)"
          ],
          [
           0.9,
           "rgb(69,117,180)"
          ],
          [
           1,
           "rgb(49,54,149)"
          ]
         ],
         "type": "surface",
         "x": [
          0,
          1,
          2,
          3,
          4
         ],
         "y": [
          "x",
          "y",
          "z"
         ],
         "z": [
          [
           1,
           2,
           3,
           4,
           5
          ],
          [
           10,
           20,
           30,
           20,
           10
          ],
          [
           5,
           4,
           3,
           2,
           1
          ]
         ]
        }
       ],
       "layout": {
        "legend": {
         "bgcolor": "#F5F6F9",
         "font": {
          "color": "#4D5663"
         }
        },
        "paper_bgcolor": "#F5F6F9",
        "plot_bgcolor": "#F5F6F9",
        "template": {
         "data": {
          "bar": [
           {
            "error_x": {
             "color": "#2a3f5f"
            },
            "error_y": {
             "color": "#2a3f5f"
            },
            "marker": {
             "line": {
              "color": "#E5ECF6",
              "width": 0.5
             },
             "pattern": {
              "fillmode": "overlay",
              "size": 10,
              "solidity": 0.2
             }
            },
            "type": "bar"
           }
          ],
          "barpolar": [
           {
            "marker": {
             "line": {
              "color": "#E5ECF6",
              "width": 0.5
             },
             "pattern": {
              "fillmode": "overlay",
              "size": 10,
              "solidity": 0.2
             }
            },
            "type": "barpolar"
           }
          ],
          "carpet": [
           {
            "aaxis": {
             "endlinecolor": "#2a3f5f",
             "gridcolor": "white",
             "linecolor": "white",
             "minorgridcolor": "white",
             "startlinecolor": "#2a3f5f"
            },
            "baxis": {
             "endlinecolor": "#2a3f5f",
             "gridcolor": "white",
             "linecolor": "white",
             "minorgridcolor": "white",
             "startlinecolor": "#2a3f5f"
            },
            "type": "carpet"
           }
          ],
          "choropleth": [
           {
            "colorbar": {
             "outlinewidth": 0,
             "ticks": ""
            },
            "type": "choropleth"
           }
          ],
          "contour": [
           {
            "colorbar": {
             "outlinewidth": 0,
             "ticks": ""
            },
            "colorscale": [
             [
              0,
              "#0d0887"
             ],
             [
              0.1111111111111111,
              "#46039f"
             ],
             [
              0.2222222222222222,
              "#7201a8"
             ],
             [
              0.3333333333333333,
              "#9c179e"
             ],
             [
              0.4444444444444444,
              "#bd3786"
             ],
             [
              0.5555555555555556,
              "#d8576b"
             ],
             [
              0.6666666666666666,
              "#ed7953"
             ],
             [
              0.7777777777777778,
              "#fb9f3a"
             ],
             [
              0.8888888888888888,
              "#fdca26"
             ],
             [
              1,
              "#f0f921"
             ]
            ],
            "type": "contour"
           }
          ],
          "contourcarpet": [
           {
            "colorbar": {
             "outlinewidth": 0,
             "ticks": ""
            },
            "type": "contourcarpet"
           }
          ],
          "heatmap": [
           {
            "colorbar": {
             "outlinewidth": 0,
             "ticks": ""
            },
            "colorscale": [
             [
              0,
              "#0d0887"
             ],
             [
              0.1111111111111111,
              "#46039f"
             ],
             [
              0.2222222222222222,
              "#7201a8"
             ],
             [
              0.3333333333333333,
              "#9c179e"
             ],
             [
              0.4444444444444444,
              "#bd3786"
             ],
             [
              0.5555555555555556,
              "#d8576b"
             ],
             [
              0.6666666666666666,
              "#ed7953"
             ],
             [
              0.7777777777777778,
              "#fb9f3a"
             ],
             [
              0.8888888888888888,
              "#fdca26"
             ],
             [
              1,
              "#f0f921"
             ]
            ],
            "type": "heatmap"
           }
          ],
          "heatmapgl": [
           {
            "colorbar": {
             "outlinewidth": 0,
             "ticks": ""
            },
            "colorscale": [
             [
              0,
              "#0d0887"
             ],
             [
              0.1111111111111111,
              "#46039f"
             ],
             [
              0.2222222222222222,
              "#7201a8"
             ],
             [
              0.3333333333333333,
              "#9c179e"
             ],
             [
              0.4444444444444444,
              "#bd3786"
             ],
             [
              0.5555555555555556,
              "#d8576b"
             ],
             [
              0.6666666666666666,
              "#ed7953"
             ],
             [
              0.7777777777777778,
              "#fb9f3a"
             ],
             [
              0.8888888888888888,
              "#fdca26"
             ],
             [
              1,
              "#f0f921"
             ]
            ],
            "type": "heatmapgl"
           }
          ],
          "histogram": [
           {
            "marker": {
             "pattern": {
              "fillmode": "overlay",
              "size": 10,
              "solidity": 0.2
             }
            },
            "type": "histogram"
           }
          ],
          "histogram2d": [
           {
            "colorbar": {
             "outlinewidth": 0,
             "ticks": ""
            },
            "colorscale": [
             [
              0,
              "#0d0887"
             ],
             [
              0.1111111111111111,
              "#46039f"
             ],
             [
              0.2222222222222222,
              "#7201a8"
             ],
             [
              0.3333333333333333,
              "#9c179e"
             ],
             [
              0.4444444444444444,
              "#bd3786"
             ],
             [
              0.5555555555555556,
              "#d8576b"
             ],
             [
              0.6666666666666666,
              "#ed7953"
             ],
             [
              0.7777777777777778,
              "#fb9f3a"
             ],
             [
              0.8888888888888888,
              "#fdca26"
             ],
             [
              1,
              "#f0f921"
             ]
            ],
            "type": "histogram2d"
           }
          ],
          "histogram2dcontour": [
           {
            "colorbar": {
             "outlinewidth": 0,
             "ticks": ""
            },
            "colorscale": [
             [
              0,
              "#0d0887"
             ],
             [
              0.1111111111111111,
              "#46039f"
             ],
             [
              0.2222222222222222,
              "#7201a8"
             ],
             [
              0.3333333333333333,
              "#9c179e"
             ],
             [
              0.4444444444444444,
              "#bd3786"
             ],
             [
              0.5555555555555556,
              "#d8576b"
             ],
             [
              0.6666666666666666,
              "#ed7953"
             ],
             [
              0.7777777777777778,
              "#fb9f3a"
             ],
             [
              0.8888888888888888,
              "#fdca26"
             ],
             [
              1,
              "#f0f921"
             ]
            ],
            "type": "histogram2dcontour"
           }
          ],
          "mesh3d": [
           {
            "colorbar": {
             "outlinewidth": 0,
             "ticks": ""
            },
            "type": "mesh3d"
           }
          ],
          "parcoords": [
           {
            "line": {
             "colorbar": {
              "outlinewidth": 0,
              "ticks": ""
             }
            },
            "type": "parcoords"
           }
          ],
          "pie": [
           {
            "automargin": true,
            "type": "pie"
           }
          ],
          "scatter": [
           {
            "fillpattern": {
             "fillmode": "overlay",
             "size": 10,
             "solidity": 0.2
            },
            "type": "scatter"
           }
          ],
          "scatter3d": [
           {
            "line": {
             "colorbar": {
              "outlinewidth": 0,
              "ticks": ""
             }
            },
            "marker": {
             "colorbar": {
              "outlinewidth": 0,
              "ticks": ""
             }
            },
            "type": "scatter3d"
           }
          ],
          "scattercarpet": [
           {
            "marker": {
             "colorbar": {
              "outlinewidth": 0,
              "ticks": ""
             }
            },
            "type": "scattercarpet"
           }
          ],
          "scattergeo": [
           {
            "marker": {
             "colorbar": {
              "outlinewidth": 0,
              "ticks": ""
             }
            },
            "type": "scattergeo"
           }
          ],
          "scattergl": [
           {
            "marker": {
             "colorbar": {
              "outlinewidth": 0,
              "ticks": ""
             }
            },
            "type": "scattergl"
           }
          ],
          "scattermapbox": [
           {
            "marker": {
             "colorbar": {
              "outlinewidth": 0,
              "ticks": ""
             }
            },
            "type": "scattermapbox"
           }
          ],
          "scatterpolar": [
           {
            "marker": {
             "colorbar": {
              "outlinewidth": 0,
              "ticks": ""
             }
            },
            "type": "scatterpolar"
           }
          ],
          "scatterpolargl": [
           {
            "marker": {
             "colorbar": {
              "outlinewidth": 0,
              "ticks": ""
             }
            },
            "type": "scatterpolargl"
           }
          ],
          "scatterternary": [
           {
            "marker": {
             "colorbar": {
              "outlinewidth": 0,
              "ticks": ""
             }
            },
            "type": "scatterternary"
           }
          ],
          "surface": [
           {
            "colorbar": {
             "outlinewidth": 0,
             "ticks": ""
            },
            "colorscale": [
             [
              0,
              "#0d0887"
             ],
             [
              0.1111111111111111,
              "#46039f"
             ],
             [
              0.2222222222222222,
              "#7201a8"
             ],
             [
              0.3333333333333333,
              "#9c179e"
             ],
             [
              0.4444444444444444,
              "#bd3786"
             ],
             [
              0.5555555555555556,
              "#d8576b"
             ],
             [
              0.6666666666666666,
              "#ed7953"
             ],
             [
              0.7777777777777778,
              "#fb9f3a"
             ],
             [
              0.8888888888888888,
              "#fdca26"
             ],
             [
              1,
              "#f0f921"
             ]
            ],
            "type": "surface"
           }
          ],
          "table": [
           {
            "cells": {
             "fill": {
              "color": "#EBF0F8"
             },
             "line": {
              "color": "white"
             }
            },
            "header": {
             "fill": {
              "color": "#C8D4E3"
             },
             "line": {
              "color": "white"
             }
            },
            "type": "table"
           }
          ]
         },
         "layout": {
          "annotationdefaults": {
           "arrowcolor": "#2a3f5f",
           "arrowhead": 0,
           "arrowwidth": 1
          },
          "autotypenumbers": "strict",
          "coloraxis": {
           "colorbar": {
            "outlinewidth": 0,
            "ticks": ""
           }
          },
          "colorscale": {
           "diverging": [
            [
             0,
             "#8e0152"
            ],
            [
             0.1,
             "#c51b7d"
            ],
            [
             0.2,
             "#de77ae"
            ],
            [
             0.3,
             "#f1b6da"
            ],
            [
             0.4,
             "#fde0ef"
            ],
            [
             0.5,
             "#f7f7f7"
            ],
            [
             0.6,
             "#e6f5d0"
            ],
            [
             0.7,
             "#b8e186"
            ],
            [
             0.8,
             "#7fbc41"
            ],
            [
             0.9,
             "#4d9221"
            ],
            [
             1,
             "#276419"
            ]
           ],
           "sequential": [
            [
             0,
             "#0d0887"
            ],
            [
             0.1111111111111111,
             "#46039f"
            ],
            [
             0.2222222222222222,
             "#7201a8"
            ],
            [
             0.3333333333333333,
             "#9c179e"
            ],
            [
             0.4444444444444444,
             "#bd3786"
            ],
            [
             0.5555555555555556,
             "#d8576b"
            ],
            [
             0.6666666666666666,
             "#ed7953"
            ],
            [
             0.7777777777777778,
             "#fb9f3a"
            ],
            [
             0.8888888888888888,
             "#fdca26"
            ],
            [
             1,
             "#f0f921"
            ]
           ],
           "sequentialminus": [
            [
             0,
             "#0d0887"
            ],
            [
             0.1111111111111111,
             "#46039f"
            ],
            [
             0.2222222222222222,
             "#7201a8"
            ],
            [
             0.3333333333333333,
             "#9c179e"
            ],
            [
             0.4444444444444444,
             "#bd3786"
            ],
            [
             0.5555555555555556,
             "#d8576b"
            ],
            [
             0.6666666666666666,
             "#ed7953"
            ],
            [
             0.7777777777777778,
             "#fb9f3a"
            ],
            [
             0.8888888888888888,
             "#fdca26"
            ],
            [
             1,
             "#f0f921"
            ]
           ]
          },
          "colorway": [
           "#636efa",
           "#EF553B",
           "#00cc96",
           "#ab63fa",
           "#FFA15A",
           "#19d3f3",
           "#FF6692",
           "#B6E880",
           "#FF97FF",
           "#FECB52"
          ],
          "font": {
           "color": "#2a3f5f"
          },
          "geo": {
           "bgcolor": "white",
           "lakecolor": "white",
           "landcolor": "#E5ECF6",
           "showlakes": true,
           "showland": true,
           "subunitcolor": "white"
          },
          "hoverlabel": {
           "align": "left"
          },
          "hovermode": "closest",
          "mapbox": {
           "style": "light"
          },
          "paper_bgcolor": "white",
          "plot_bgcolor": "#E5ECF6",
          "polar": {
           "angularaxis": {
            "gridcolor": "white",
            "linecolor": "white",
            "ticks": ""
           },
           "bgcolor": "#E5ECF6",
           "radialaxis": {
            "gridcolor": "white",
            "linecolor": "white",
            "ticks": ""
           }
          },
          "scene": {
           "xaxis": {
            "backgroundcolor": "#E5ECF6",
            "gridcolor": "white",
            "gridwidth": 2,
            "linecolor": "white",
            "showbackground": true,
            "ticks": "",
            "zerolinecolor": "white"
           },
           "yaxis": {
            "backgroundcolor": "#E5ECF6",
            "gridcolor": "white",
            "gridwidth": 2,
            "linecolor": "white",
            "showbackground": true,
            "ticks": "",
            "zerolinecolor": "white"
           },
           "zaxis": {
            "backgroundcolor": "#E5ECF6",
            "gridcolor": "white",
            "gridwidth": 2,
            "linecolor": "white",
            "showbackground": true,
            "ticks": "",
            "zerolinecolor": "white"
           }
          },
          "shapedefaults": {
           "line": {
            "color": "#2a3f5f"
           }
          },
          "ternary": {
           "aaxis": {
            "gridcolor": "white",
            "linecolor": "white",
            "ticks": ""
           },
           "baxis": {
            "gridcolor": "white",
            "linecolor": "white",
            "ticks": ""
           },
           "bgcolor": "#E5ECF6",
           "caxis": {
            "gridcolor": "white",
            "linecolor": "white",
            "ticks": ""
           }
          },
          "title": {
           "x": 0.05
          },
          "xaxis": {
           "automargin": true,
           "gridcolor": "white",
           "linecolor": "white",
           "ticks": "",
           "title": {
            "standoff": 15
           },
           "zerolinecolor": "white",
           "zerolinewidth": 2
          },
          "yaxis": {
           "automargin": true,
           "gridcolor": "white",
           "linecolor": "white",
           "ticks": "",
           "title": {
            "standoff": 15
           },
           "zerolinecolor": "white",
           "zerolinewidth": 2
          }
         }
        },
        "title": {
         "font": {
          "color": "#4D5663"
         }
        },
        "xaxis": {
         "gridcolor": "#E1E5ED",
         "showgrid": true,
         "tickfont": {
          "color": "#4D5663"
         },
         "title": {
          "font": {
           "color": "#4D5663"
          },
          "text": ""
         },
         "zerolinecolor": "#E1E5ED"
        },
        "yaxis": {
         "gridcolor": "#E1E5ED",
         "showgrid": true,
         "tickfont": {
          "color": "#4D5663"
         },
         "title": {
          "font": {
           "color": "#4D5663"
          },
          "text": ""
         },
         "zerolinecolor": "#E1E5ED"
        }
       }
      },
      "text/html": [
       "<div>                            <div id=\"75671edc-86fb-4cca-9f67-2db123d0e481\" class=\"plotly-graph-div\" style=\"height:525px; width:100%;\"></div>            <script type=\"text/javascript\">                require([\"plotly\"], function(Plotly) {                    window.PLOTLYENV=window.PLOTLYENV || {};\n",
       "                    window.PLOTLYENV.BASE_URL='https://plot.ly';                                    if (document.getElementById(\"75671edc-86fb-4cca-9f67-2db123d0e481\")) {                    Plotly.newPlot(                        \"75671edc-86fb-4cca-9f67-2db123d0e481\",                        [{\"colorscale\":[[0.0,\"rgb(165,0,38)\"],[0.1,\"rgb(215,48,39)\"],[0.2,\"rgb(244,109,67)\"],[0.3,\"rgb(253,174,97)\"],[0.4,\"rgb(254,224,144)\"],[0.5,\"rgb(255,255,191)\"],[0.6,\"rgb(224,243,248)\"],[0.7,\"rgb(171,217,233)\"],[0.8,\"rgb(116,173,209)\"],[0.9,\"rgb(69,117,180)\"],[1.0,\"rgb(49,54,149)\"]],\"x\":[0,1,2,3,4],\"y\":[\"x\",\"y\",\"z\"],\"z\":[[1,2,3,4,5],[10,20,30,20,10],[5,4,3,2,1]],\"type\":\"surface\"}],                        {\"legend\":{\"bgcolor\":\"#F5F6F9\",\"font\":{\"color\":\"#4D5663\"}},\"paper_bgcolor\":\"#F5F6F9\",\"plot_bgcolor\":\"#F5F6F9\",\"template\":{\"data\":{\"barpolar\":[{\"marker\":{\"line\":{\"color\":\"#E5ECF6\",\"width\":0.5},\"pattern\":{\"fillmode\":\"overlay\",\"size\":10,\"solidity\":0.2}},\"type\":\"barpolar\"}],\"bar\":[{\"error_x\":{\"color\":\"#2a3f5f\"},\"error_y\":{\"color\":\"#2a3f5f\"},\"marker\":{\"line\":{\"color\":\"#E5ECF6\",\"width\":0.5},\"pattern\":{\"fillmode\":\"overlay\",\"size\":10,\"solidity\":0.2}},\"type\":\"bar\"}],\"carpet\":[{\"aaxis\":{\"endlinecolor\":\"#2a3f5f\",\"gridcolor\":\"white\",\"linecolor\":\"white\",\"minorgridcolor\":\"white\",\"startlinecolor\":\"#2a3f5f\"},\"baxis\":{\"endlinecolor\":\"#2a3f5f\",\"gridcolor\":\"white\",\"linecolor\":\"white\",\"minorgridcolor\":\"white\",\"startlinecolor\":\"#2a3f5f\"},\"type\":\"carpet\"}],\"choropleth\":[{\"colorbar\":{\"outlinewidth\":0,\"ticks\":\"\"},\"type\":\"choropleth\"}],\"contourcarpet\":[{\"colorbar\":{\"outlinewidth\":0,\"ticks\":\"\"},\"type\":\"contourcarpet\"}],\"contour\":[{\"colorbar\":{\"outlinewidth\":0,\"ticks\":\"\"},\"colorscale\":[[0.0,\"#0d0887\"],[0.1111111111111111,\"#46039f\"],[0.2222222222222222,\"#7201a8\"],[0.3333333333333333,\"#9c179e\"],[0.4444444444444444,\"#bd3786\"],[0.5555555555555556,\"#d8576b\"],[0.6666666666666666,\"#ed7953\"],[0.7777777777777778,\"#fb9f3a\"],[0.8888888888888888,\"#fdca26\"],[1.0,\"#f0f921\"]],\"type\":\"contour\"}],\"heatmapgl\":[{\"colorbar\":{\"outlinewidth\":0,\"ticks\":\"\"},\"colorscale\":[[0.0,\"#0d0887\"],[0.1111111111111111,\"#46039f\"],[0.2222222222222222,\"#7201a8\"],[0.3333333333333333,\"#9c179e\"],[0.4444444444444444,\"#bd3786\"],[0.5555555555555556,\"#d8576b\"],[0.6666666666666666,\"#ed7953\"],[0.7777777777777778,\"#fb9f3a\"],[0.8888888888888888,\"#fdca26\"],[1.0,\"#f0f921\"]],\"type\":\"heatmapgl\"}],\"heatmap\":[{\"colorbar\":{\"outlinewidth\":0,\"ticks\":\"\"},\"colorscale\":[[0.0,\"#0d0887\"],[0.1111111111111111,\"#46039f\"],[0.2222222222222222,\"#7201a8\"],[0.3333333333333333,\"#9c179e\"],[0.4444444444444444,\"#bd3786\"],[0.5555555555555556,\"#d8576b\"],[0.6666666666666666,\"#ed7953\"],[0.7777777777777778,\"#fb9f3a\"],[0.8888888888888888,\"#fdca26\"],[1.0,\"#f0f921\"]],\"type\":\"heatmap\"}],\"histogram2dcontour\":[{\"colorbar\":{\"outlinewidth\":0,\"ticks\":\"\"},\"colorscale\":[[0.0,\"#0d0887\"],[0.1111111111111111,\"#46039f\"],[0.2222222222222222,\"#7201a8\"],[0.3333333333333333,\"#9c179e\"],[0.4444444444444444,\"#bd3786\"],[0.5555555555555556,\"#d8576b\"],[0.6666666666666666,\"#ed7953\"],[0.7777777777777778,\"#fb9f3a\"],[0.8888888888888888,\"#fdca26\"],[1.0,\"#f0f921\"]],\"type\":\"histogram2dcontour\"}],\"histogram2d\":[{\"colorbar\":{\"outlinewidth\":0,\"ticks\":\"\"},\"colorscale\":[[0.0,\"#0d0887\"],[0.1111111111111111,\"#46039f\"],[0.2222222222222222,\"#7201a8\"],[0.3333333333333333,\"#9c179e\"],[0.4444444444444444,\"#bd3786\"],[0.5555555555555556,\"#d8576b\"],[0.6666666666666666,\"#ed7953\"],[0.7777777777777778,\"#fb9f3a\"],[0.8888888888888888,\"#fdca26\"],[1.0,\"#f0f921\"]],\"type\":\"histogram2d\"}],\"histogram\":[{\"marker\":{\"pattern\":{\"fillmode\":\"overlay\",\"size\":10,\"solidity\":0.2}},\"type\":\"histogram\"}],\"mesh3d\":[{\"colorbar\":{\"outlinewidth\":0,\"ticks\":\"\"},\"type\":\"mesh3d\"}],\"parcoords\":[{\"line\":{\"colorbar\":{\"outlinewidth\":0,\"ticks\":\"\"}},\"type\":\"parcoords\"}],\"pie\":[{\"automargin\":true,\"type\":\"pie\"}],\"scatter3d\":[{\"line\":{\"colorbar\":{\"outlinewidth\":0,\"ticks\":\"\"}},\"marker\":{\"colorbar\":{\"outlinewidth\":0,\"ticks\":\"\"}},\"type\":\"scatter3d\"}],\"scattercarpet\":[{\"marker\":{\"colorbar\":{\"outlinewidth\":0,\"ticks\":\"\"}},\"type\":\"scattercarpet\"}],\"scattergeo\":[{\"marker\":{\"colorbar\":{\"outlinewidth\":0,\"ticks\":\"\"}},\"type\":\"scattergeo\"}],\"scattergl\":[{\"marker\":{\"colorbar\":{\"outlinewidth\":0,\"ticks\":\"\"}},\"type\":\"scattergl\"}],\"scattermapbox\":[{\"marker\":{\"colorbar\":{\"outlinewidth\":0,\"ticks\":\"\"}},\"type\":\"scattermapbox\"}],\"scatterpolargl\":[{\"marker\":{\"colorbar\":{\"outlinewidth\":0,\"ticks\":\"\"}},\"type\":\"scatterpolargl\"}],\"scatterpolar\":[{\"marker\":{\"colorbar\":{\"outlinewidth\":0,\"ticks\":\"\"}},\"type\":\"scatterpolar\"}],\"scatter\":[{\"fillpattern\":{\"fillmode\":\"overlay\",\"size\":10,\"solidity\":0.2},\"type\":\"scatter\"}],\"scatterternary\":[{\"marker\":{\"colorbar\":{\"outlinewidth\":0,\"ticks\":\"\"}},\"type\":\"scatterternary\"}],\"surface\":[{\"colorbar\":{\"outlinewidth\":0,\"ticks\":\"\"},\"colorscale\":[[0.0,\"#0d0887\"],[0.1111111111111111,\"#46039f\"],[0.2222222222222222,\"#7201a8\"],[0.3333333333333333,\"#9c179e\"],[0.4444444444444444,\"#bd3786\"],[0.5555555555555556,\"#d8576b\"],[0.6666666666666666,\"#ed7953\"],[0.7777777777777778,\"#fb9f3a\"],[0.8888888888888888,\"#fdca26\"],[1.0,\"#f0f921\"]],\"type\":\"surface\"}],\"table\":[{\"cells\":{\"fill\":{\"color\":\"#EBF0F8\"},\"line\":{\"color\":\"white\"}},\"header\":{\"fill\":{\"color\":\"#C8D4E3\"},\"line\":{\"color\":\"white\"}},\"type\":\"table\"}]},\"layout\":{\"annotationdefaults\":{\"arrowcolor\":\"#2a3f5f\",\"arrowhead\":0,\"arrowwidth\":1},\"autotypenumbers\":\"strict\",\"coloraxis\":{\"colorbar\":{\"outlinewidth\":0,\"ticks\":\"\"}},\"colorscale\":{\"diverging\":[[0,\"#8e0152\"],[0.1,\"#c51b7d\"],[0.2,\"#de77ae\"],[0.3,\"#f1b6da\"],[0.4,\"#fde0ef\"],[0.5,\"#f7f7f7\"],[0.6,\"#e6f5d0\"],[0.7,\"#b8e186\"],[0.8,\"#7fbc41\"],[0.9,\"#4d9221\"],[1,\"#276419\"]],\"sequential\":[[0.0,\"#0d0887\"],[0.1111111111111111,\"#46039f\"],[0.2222222222222222,\"#7201a8\"],[0.3333333333333333,\"#9c179e\"],[0.4444444444444444,\"#bd3786\"],[0.5555555555555556,\"#d8576b\"],[0.6666666666666666,\"#ed7953\"],[0.7777777777777778,\"#fb9f3a\"],[0.8888888888888888,\"#fdca26\"],[1.0,\"#f0f921\"]],\"sequentialminus\":[[0.0,\"#0d0887\"],[0.1111111111111111,\"#46039f\"],[0.2222222222222222,\"#7201a8\"],[0.3333333333333333,\"#9c179e\"],[0.4444444444444444,\"#bd3786\"],[0.5555555555555556,\"#d8576b\"],[0.6666666666666666,\"#ed7953\"],[0.7777777777777778,\"#fb9f3a\"],[0.8888888888888888,\"#fdca26\"],[1.0,\"#f0f921\"]]},\"colorway\":[\"#636efa\",\"#EF553B\",\"#00cc96\",\"#ab63fa\",\"#FFA15A\",\"#19d3f3\",\"#FF6692\",\"#B6E880\",\"#FF97FF\",\"#FECB52\"],\"font\":{\"color\":\"#2a3f5f\"},\"geo\":{\"bgcolor\":\"white\",\"lakecolor\":\"white\",\"landcolor\":\"#E5ECF6\",\"showlakes\":true,\"showland\":true,\"subunitcolor\":\"white\"},\"hoverlabel\":{\"align\":\"left\"},\"hovermode\":\"closest\",\"mapbox\":{\"style\":\"light\"},\"paper_bgcolor\":\"white\",\"plot_bgcolor\":\"#E5ECF6\",\"polar\":{\"angularaxis\":{\"gridcolor\":\"white\",\"linecolor\":\"white\",\"ticks\":\"\"},\"bgcolor\":\"#E5ECF6\",\"radialaxis\":{\"gridcolor\":\"white\",\"linecolor\":\"white\",\"ticks\":\"\"}},\"scene\":{\"xaxis\":{\"backgroundcolor\":\"#E5ECF6\",\"gridcolor\":\"white\",\"gridwidth\":2,\"linecolor\":\"white\",\"showbackground\":true,\"ticks\":\"\",\"zerolinecolor\":\"white\"},\"yaxis\":{\"backgroundcolor\":\"#E5ECF6\",\"gridcolor\":\"white\",\"gridwidth\":2,\"linecolor\":\"white\",\"showbackground\":true,\"ticks\":\"\",\"zerolinecolor\":\"white\"},\"zaxis\":{\"backgroundcolor\":\"#E5ECF6\",\"gridcolor\":\"white\",\"gridwidth\":2,\"linecolor\":\"white\",\"showbackground\":true,\"ticks\":\"\",\"zerolinecolor\":\"white\"}},\"shapedefaults\":{\"line\":{\"color\":\"#2a3f5f\"}},\"ternary\":{\"aaxis\":{\"gridcolor\":\"white\",\"linecolor\":\"white\",\"ticks\":\"\"},\"baxis\":{\"gridcolor\":\"white\",\"linecolor\":\"white\",\"ticks\":\"\"},\"bgcolor\":\"#E5ECF6\",\"caxis\":{\"gridcolor\":\"white\",\"linecolor\":\"white\",\"ticks\":\"\"}},\"title\":{\"x\":0.05},\"xaxis\":{\"automargin\":true,\"gridcolor\":\"white\",\"linecolor\":\"white\",\"ticks\":\"\",\"title\":{\"standoff\":15},\"zerolinecolor\":\"white\",\"zerolinewidth\":2},\"yaxis\":{\"automargin\":true,\"gridcolor\":\"white\",\"linecolor\":\"white\",\"ticks\":\"\",\"title\":{\"standoff\":15},\"zerolinecolor\":\"white\",\"zerolinewidth\":2}}},\"title\":{\"font\":{\"color\":\"#4D5663\"}},\"xaxis\":{\"gridcolor\":\"#E1E5ED\",\"showgrid\":true,\"tickfont\":{\"color\":\"#4D5663\"},\"title\":{\"font\":{\"color\":\"#4D5663\"},\"text\":\"\"},\"zerolinecolor\":\"#E1E5ED\"},\"yaxis\":{\"gridcolor\":\"#E1E5ED\",\"showgrid\":true,\"tickfont\":{\"color\":\"#4D5663\"},\"title\":{\"font\":{\"color\":\"#4D5663\"},\"text\":\"\"},\"zerolinecolor\":\"#E1E5ED\"}},                        {\"showLink\": true, \"linkText\": \"Export to plot.ly\", \"plotlyServerURL\": \"https://plot.ly\", \"responsive\": true}                    ).then(function(){\n",
       "                            \n",
       "var gd = document.getElementById('75671edc-86fb-4cca-9f67-2db123d0e481');\n",
       "var x = new MutationObserver(function (mutations, observer) {{\n",
       "        var display = window.getComputedStyle(gd).display;\n",
       "        if (!display || display === 'none') {{\n",
       "            console.log([gd, 'removed!']);\n",
       "            Plotly.purge(gd);\n",
       "            observer.disconnect();\n",
       "        }}\n",
       "}});\n",
       "\n",
       "// Listen for the removal of the full notebook cells\n",
       "var notebookContainer = gd.closest('#notebook-container');\n",
       "if (notebookContainer) {{\n",
       "    x.observe(notebookContainer, {childList: true});\n",
       "}}\n",
       "\n",
       "// Listen for the clearing of the current output cell\n",
       "var outputEl = gd.closest('.output');\n",
       "if (outputEl) {{\n",
       "    x.observe(outputEl, {childList: true});\n",
       "}}\n",
       "\n",
       "                        })                };                });            </script>        </div>"
      ]
     },
     "metadata": {},
     "output_type": "display_data"
    }
   ],
   "source": [
    "df3 = pd.DataFrame({'x':[1,2,3,4,5],'y':[10,20,30,20,10],'z':[5,4,3,2,1]})\n",
    "df3.iplot(kind='surface',colorscale='rdylbu')"
   ]
  },
  {
   "cell_type": "markdown",
   "metadata": {
    "collapsed": true
   },
   "source": [
    "# Great Job!"
   ]
  },
  {
   "cell_type": "code",
   "execution_count": 18,
   "metadata": {},
   "outputs": [
    {
     "data": {
      "application/vnd.plotly.v1+json": {
       "config": {
        "linkText": "Export to plot.ly",
        "plotlyServerURL": "https://plot.ly",
        "showLink": true
       },
       "data": [
        {
         "histfunc": "count",
         "histnorm": "",
         "marker": {
          "color": "rgba(255, 153, 51, 1.0)",
          "line": {
           "color": "#4D5663",
           "width": 1.3
          }
         },
         "name": "A",
         "nbinsx": 10,
         "opacity": 0.8,
         "orientation": "v",
         "type": "histogram",
         "x": [
          -1.9903004256683205,
          -0.44331522383487904,
          0.5522209986709692,
          -0.8761307777820353,
          1.1989648408531712,
          1.107396907449335,
          -0.029371122099748383,
          0.3056333470056156,
          -0.4955087979621365,
          -0.6520420406756742,
          -2.5267952417248734,
          0.28866743458960153,
          -1.4316957620782398,
          -0.6044368465373989,
          -0.7835590378190067,
          -0.12675905868030538,
          -0.8723173151421462,
          -1.3441213992499,
          0.9239839346598812,
          -0.37358758223316085,
          0.9588303627419025,
          -0.1052825661486228,
          0.38119597175663916,
          0.3576427427245764,
          -0.5702151234625347,
          -0.5572216628600934,
          0.017719846225363156,
          1.2887145074843485,
          -0.7411771478820481,
          -0.6419864197153446,
          1.1972219508024184,
          0.25945352369678465,
          1.2969932581570864,
          -0.766403700861819,
          -0.5880695192706119,
          0.23921319399362173,
          0.41198072881213454,
          0.8298012119060374,
          -0.39388130471441646,
          -0.9685240289521347,
          -1.5016621442024582,
          0.2224241435501135,
          -0.8493083133394347,
          -1.0609152477969157,
          -1.469355455640693,
          1.102203544886654,
          0.9789753952414446,
          -1.219515842422679,
          -1.0441517795610855,
          0.2804323979633052,
          -0.3944849837527407,
          0.7544188492417558,
          -1.1088178682546639,
          0.1837902883409436,
          -1.0221321290638552,
          0.7823997618515374,
          1.1860800573721049,
          0.03555123929313354,
          -0.08788533678144475,
          -1.0979193923822788,
          0.5231731489710988,
          0.5697924927381082,
          -0.20924153665318343,
          1.3985467032028418,
          1.7004020608481674,
          0.2030413325552144,
          -0.6268391642990602,
          0.3988770551212099,
          0.06965082275610238,
          -1.9116331125018202,
          0.1380241162431082,
          -1.1037926748877243,
          0.8081457348428449,
          -0.9356293594254312,
          -0.0916575756043444,
          0.5779288906452257,
          0.5962772865240996,
          1.515969853059908,
          -1.3425234485560702,
          -0.3600001508909471,
          -0.07624704610784032,
          -1.7522234689232437,
          -0.37257406422804706,
          1.193137958920794,
          1.154637422674318,
          0.31205407485525993,
          0.44184177745646686,
          -1.3778745790073854,
          -1.011665062974858,
          0.03515567990235361,
          0.41947441807572,
          -1.3135785687987815,
          0.3272638323888706,
          -1.0046483036078868,
          0.6876459011460935,
          -0.19200991915835824,
          -0.1546255652119731,
          1.5186581723550163,
          -0.07716251245343556,
          0.5410204542460056
         ],
         "xaxis": "x",
         "yaxis": "y"
        },
        {
         "line": {
          "color": "rgba(128, 128, 128, 1.0)",
          "dash": "solid",
          "shape": "linear",
          "width": 1.3
         },
         "marker": {
          "size": 2,
          "symbol": "circle"
         },
         "mode": "markers",
         "name": "A",
         "text": "",
         "type": "scatter",
         "x": [
          0.20713171298464164,
          -0.9098290203271999,
          0.6595976436161234,
          1.1391958719025224,
          0.22876136700256824,
          -0.9390175844832885,
          1.40702753694373,
          0.6757395117272006,
          -0.6190602204117278,
          0.9652323468994083,
          1.171138334802606,
          1.9127870674045342,
          0.4741178282201214,
          -2.479844305574245,
          0.8927998703050272,
          -1.491532793139312,
          -0.15493863646237707,
          -0.17367859851820075,
          -0.3910701957760691,
          0.10659597063448929,
          -0.32667053875621144,
          0.7994813604737073,
          -0.4280343716591244,
          -1.150466969038612,
          0.8455562582900276,
          -2.251409282655881,
          0.9821270223673556,
          0.2303455757248052,
          0.04535472902143436,
          -1.2248383310091664,
          1.3674030824397547,
          0.08045700760681646,
          -0.43506133283756054,
          0.24149061558320917,
          -2.0528054626515244,
          0.08373056770003885,
          -0.6361159828889186,
          0.8196960925429025,
          0.8468032243624196,
          -0.10789265679637575,
          -0.5276537406018319,
          -0.5042026403280273,
          0.26276374773287686,
          -1.6144863597671486,
          -0.14370779462404257,
          0.7656677379760024,
          0.7874697232847472,
          -0.8023005621110955,
          0.778255152616999,
          0.5700896498552871,
          -1.0017097238965142,
          -0.6607568163172322,
          1.5905093819220673,
          -1.2110676813411707,
          -0.5601154519339665,
          1.3418467182878748,
          0.6440794160296142,
          -0.39687651490022524,
          -0.4752177292162427,
          0.22650596927963504,
          -0.13680482098526894,
          -0.9673428380469818,
          0.22153028192267313,
          1.7994207743834112,
          -1.003588415564047,
          -0.9112664323687696,
          0.9227233738941317,
          -2.227663388595575,
          0.06724167285175829,
          0.06086377830490128,
          0.3781532535914435,
          1.0079887011567779,
          -2.205453957164551,
          1.164530009463671,
          1.3132946285256442,
          -0.506151267746503,
          -0.05594310018107275,
          0.7545858729175096,
          -0.012902217386942041,
          0.5951414829334419,
          0.12351962806759635,
          -0.38325727961140005,
          -0.6933726532148998,
          2.4415116098964287,
          0.8557274566835281,
          0.7324129287476138,
          -0.8628262713601479,
          0.04756433709781207,
          0.8456812423826571,
          -0.42516235555193016,
          -1.1979961576928366,
          0.5089656233318339,
          0.9803508857671677,
          0.8119129825176856,
          0.03534109009366027,
          -0.17944526405158354,
          0.06161321536565358,
          -0.5760942497350119,
          -0.8844656807832726,
          1.7125044904591131
         ],
         "xaxis": "x2",
         "y": [
          -1.9903004256683205,
          -0.44331522383487904,
          0.5522209986709692,
          -0.8761307777820353,
          1.1989648408531712,
          1.107396907449335,
          -0.029371122099748383,
          0.3056333470056156,
          -0.4955087979621365,
          -0.6520420406756742,
          -2.5267952417248734,
          0.28866743458960153,
          -1.4316957620782398,
          -0.6044368465373989,
          -0.7835590378190067,
          -0.12675905868030538,
          -0.8723173151421462,
          -1.3441213992499,
          0.9239839346598812,
          -0.37358758223316085,
          0.9588303627419025,
          -0.1052825661486228,
          0.38119597175663916,
          0.3576427427245764,
          -0.5702151234625347,
          -0.5572216628600934,
          0.017719846225363156,
          1.2887145074843485,
          -0.7411771478820481,
          -0.6419864197153446,
          1.1972219508024184,
          0.25945352369678465,
          1.2969932581570864,
          -0.766403700861819,
          -0.5880695192706119,
          0.23921319399362173,
          0.41198072881213454,
          0.8298012119060374,
          -0.39388130471441646,
          -0.9685240289521347,
          -1.5016621442024582,
          0.2224241435501135,
          -0.8493083133394347,
          -1.0609152477969157,
          -1.469355455640693,
          1.102203544886654,
          0.9789753952414446,
          -1.219515842422679,
          -1.0441517795610855,
          0.2804323979633052,
          -0.3944849837527407,
          0.7544188492417558,
          -1.1088178682546639,
          0.1837902883409436,
          -1.0221321290638552,
          0.7823997618515374,
          1.1860800573721049,
          0.03555123929313354,
          -0.08788533678144475,
          -1.0979193923822788,
          0.5231731489710988,
          0.5697924927381082,
          -0.20924153665318343,
          1.3985467032028418,
          1.7004020608481674,
          0.2030413325552144,
          -0.6268391642990602,
          0.3988770551212099,
          0.06965082275610238,
          -1.9116331125018202,
          0.1380241162431082,
          -1.1037926748877243,
          0.8081457348428449,
          -0.9356293594254312,
          -0.0916575756043444,
          0.5779288906452257,
          0.5962772865240996,
          1.515969853059908,
          -1.3425234485560702,
          -0.3600001508909471,
          -0.07624704610784032,
          -1.7522234689232437,
          -0.37257406422804706,
          1.193137958920794,
          1.154637422674318,
          0.31205407485525993,
          0.44184177745646686,
          -1.3778745790073854,
          -1.011665062974858,
          0.03515567990235361,
          0.41947441807572,
          -1.3135785687987815,
          0.3272638323888706,
          -1.0046483036078868,
          0.6876459011460935,
          -0.19200991915835824,
          -0.1546255652119731,
          1.5186581723550163,
          -0.07716251245343556,
          0.5410204542460056
         ],
         "yaxis": "y2"
        },
        {
         "line": {
          "color": "rgba(128, 128, 128, 1.0)",
          "dash": "solid",
          "shape": "linear",
          "width": 1.3
         },
         "marker": {
          "size": 2,
          "symbol": "circle"
         },
         "mode": "markers",
         "name": "A",
         "text": "",
         "type": "scatter",
         "x": [
          -0.1734327179078083,
          1.025281977935646,
          0.202403271941739,
          -0.9834933902244896,
          -0.6474184971807797,
          0.9406868911632378,
          0.3003493689813544,
          -0.747532030840866,
          0.1219500000551959,
          0.12904259385765535,
          -1.2007973492083384,
          -1.0846102717283599,
          1.2810230224396995,
          -0.7090639863368329,
          0.26104238141625064,
          0.6848441923844357,
          1.3712904218858912,
          -1.20861507047745,
          -2.5405455399197185,
          -0.12203039116024908,
          -0.6123589828476048,
          -0.8813710290801637,
          0.10403266515282988,
          -0.26089899633778685,
          -0.4059842516369866,
          1.4187557541977507,
          -1.583138459073382,
          0.5129281122091677,
          1.1652374706613282,
          -0.06728258917509047,
          0.00696080922411059,
          2.3201051260729173,
          -0.3386951531725974,
          2.0000123401643926,
          0.2919076413108785,
          1.8173093195240135,
          -1.4664951424779313,
          -0.3879112807547932,
          -0.5231934268594857,
          -0.14139344505727036,
          -1.100207439833855,
          0.7594443962865002,
          1.2385532475987762,
          -0.759695377875985,
          2.0542853298186423,
          2.210261248274123,
          0.819297640181099,
          0.7048244974399858,
          0.688841842644157,
          -0.5799814981264281,
          2.2515167496768416,
          1.1155921104798137,
          -0.6337498347256617,
          -0.6561852397859022,
          1.1105627550113193,
          1.5348593972668638,
          -0.324936965303408,
          -0.8361104252801637,
          0.7653712969595001,
          0.24907108738950298,
          -1.2317967452216088,
          0.8997703641459304,
          1.1395077801318922,
          0.28847376341816117,
          0.1886156039673864,
          -0.4074341231445621,
          0.7997895526136964,
          -1.0912104356636727,
          0.3119971138291475,
          -0.4185002045442197,
          2.5248181577844178,
          1.3455246110481505,
          -0.3117992178894114,
          -0.31847321483254554,
          1.2131033077720554,
          1.448868825477331,
          -0.24328247881868906,
          -0.3567749124083891,
          -0.16926826070298467,
          -0.35396995301437073,
          -0.8700087169425702,
          -0.14947867980498358,
          -0.040000503325443346,
          -0.21783051862202382,
          0.21673625801784674,
          -0.8960474515146457,
          1.3481557076721484,
          -0.9950879670041042,
          2.0841530694291532,
          -0.7154536902547273,
          -1.3717402491254331,
          -0.48537609341111554,
          -1.4175095023892268,
          -0.13422213336448804,
          1.461727020346443,
          -1.816800058383163,
          1.0812660470410758,
          1.409532907990298,
          -0.4544789634340318,
          0.9615157849938297
         ],
         "xaxis": "x3",
         "y": [
          -1.9903004256683205,
          -0.44331522383487904,
          0.5522209986709692,
          -0.8761307777820353,
          1.1989648408531712,
          1.107396907449335,
          -0.029371122099748383,
          0.3056333470056156,
          -0.4955087979621365,
          -0.6520420406756742,
          -2.5267952417248734,
          0.28866743458960153,
          -1.4316957620782398,
          -0.6044368465373989,
          -0.7835590378190067,
          -0.12675905868030538,
          -0.8723173151421462,
          -1.3441213992499,
          0.9239839346598812,
          -0.37358758223316085,
          0.9588303627419025,
          -0.1052825661486228,
          0.38119597175663916,
          0.3576427427245764,
          -0.5702151234625347,
          -0.5572216628600934,
          0.017719846225363156,
          1.2887145074843485,
          -0.7411771478820481,
          -0.6419864197153446,
          1.1972219508024184,
          0.25945352369678465,
          1.2969932581570864,
          -0.766403700861819,
          -0.5880695192706119,
          0.23921319399362173,
          0.41198072881213454,
          0.8298012119060374,
          -0.39388130471441646,
          -0.9685240289521347,
          -1.5016621442024582,
          0.2224241435501135,
          -0.8493083133394347,
          -1.0609152477969157,
          -1.469355455640693,
          1.102203544886654,
          0.9789753952414446,
          -1.219515842422679,
          -1.0441517795610855,
          0.2804323979633052,
          -0.3944849837527407,
          0.7544188492417558,
          -1.1088178682546639,
          0.1837902883409436,
          -1.0221321290638552,
          0.7823997618515374,
          1.1860800573721049,
          0.03555123929313354,
          -0.08788533678144475,
          -1.0979193923822788,
          0.5231731489710988,
          0.5697924927381082,
          -0.20924153665318343,
          1.3985467032028418,
          1.7004020608481674,
          0.2030413325552144,
          -0.6268391642990602,
          0.3988770551212099,
          0.06965082275610238,
          -1.9116331125018202,
          0.1380241162431082,
          -1.1037926748877243,
          0.8081457348428449,
          -0.9356293594254312,
          -0.0916575756043444,
          0.5779288906452257,
          0.5962772865240996,
          1.515969853059908,
          -1.3425234485560702,
          -0.3600001508909471,
          -0.07624704610784032,
          -1.7522234689232437,
          -0.37257406422804706,
          1.193137958920794,
          1.154637422674318,
          0.31205407485525993,
          0.44184177745646686,
          -1.3778745790073854,
          -1.011665062974858,
          0.03515567990235361,
          0.41947441807572,
          -1.3135785687987815,
          0.3272638323888706,
          -1.0046483036078868,
          0.6876459011460935,
          -0.19200991915835824,
          -0.1546255652119731,
          1.5186581723550163,
          -0.07716251245343556,
          0.5410204542460056
         ],
         "yaxis": "y3"
        },
        {
         "line": {
          "color": "rgba(128, 128, 128, 1.0)",
          "dash": "solid",
          "shape": "linear",
          "width": 1.3
         },
         "marker": {
          "size": 2,
          "symbol": "circle"
         },
         "mode": "markers",
         "name": "A",
         "text": "",
         "type": "scatter",
         "x": [
          1.704742677700104,
          0.8235667212186872,
          1.586856430834681,
          2.4177509895405196,
          -1.698120880239537,
          0.9513856559545543,
          1.432820319719165,
          0.9319040542152517,
          2.0908949112998574,
          0.24264784705094034,
          1.012562816557507,
          -0.9509606983642789,
          0.21621807050718683,
          -0.812691487194244,
          0.9780952387980227,
          1.3611968402126449,
          0.004019283566734584,
          -0.9802757455225488,
          1.0703293680762096,
          -0.8737621307370945,
          0.8934865318306057,
          1.025346035892475,
          -0.20864015453364615,
          -1.1361297729398474,
          -0.8601631692882453,
          -0.6356786928082033,
          0.27510501242745733,
          -0.4796962814623892,
          -1.1425815068882323,
          1.1769477210528139,
          -0.5911586539291419,
          1.6911962381867163,
          0.967066780353155,
          -0.20991321232926455,
          0.26925268962020554,
          0.1205654135290545,
          0.4182072115762697,
          1.0149652809670269,
          -0.008838220928936583,
          1.0079648026427928,
          1.1579675186119789,
          2.4370866076021303,
          1.5292745938023486,
          0.3248137630341598,
          -1.9441841084541889,
          -0.26571405954830585,
          -0.20792111529154567,
          -0.4780125100587477,
          2.2161345568796147,
          0.4737589191469256,
          -1.0508381422262705,
          0.8770403467531728,
          -0.22110978493067945,
          -2.2878592743711383,
          -0.30491582900244435,
          3.7495097200921577,
          0.5599323269316231,
          1.1316583392984148,
          -0.5369995819663967,
          1.1236996914087098,
          -0.2728036103290317,
          1.2025945197111798,
          0.5122006706361073,
          0.0798180310891348,
          0.7916016394178136,
          -0.11986898411035302,
          1.4128274636634972,
          0.17867288971380324,
          1.2866170372239103,
          1.564280875623778,
          0.176276896701876,
          1.0486357010155423,
          -0.7991681606290977,
          1.6321085185177524,
          -0.4563288302703064,
          0.5805724432555952,
          0.02365351076373204,
          1.105708224153926,
          2.2329202529468497,
          -0.847614118112452,
          0.12878339308990167,
          0.7719078193392097,
          1.5226644749901594,
          0.6210969617087052,
          0.9720772290253814,
          3.4750579106732857,
          -0.31541713625986,
          2.231604606908773,
          -0.17644177261787783,
          0.050996347833518745,
          1.170978845923599,
          0.642974865871924,
          -0.5306803613540669,
          -1.7749250568597061,
          -3.294407031214544,
          -0.11548120498782195,
          -1.1297523562743428,
          0.40717446191210094,
          0.17541836588072568,
          0.2805597335081778
         ],
         "xaxis": "x4",
         "y": [
          -1.9903004256683205,
          -0.44331522383487904,
          0.5522209986709692,
          -0.8761307777820353,
          1.1989648408531712,
          1.107396907449335,
          -0.029371122099748383,
          0.3056333470056156,
          -0.4955087979621365,
          -0.6520420406756742,
          -2.5267952417248734,
          0.28866743458960153,
          -1.4316957620782398,
          -0.6044368465373989,
          -0.7835590378190067,
          -0.12675905868030538,
          -0.8723173151421462,
          -1.3441213992499,
          0.9239839346598812,
          -0.37358758223316085,
          0.9588303627419025,
          -0.1052825661486228,
          0.38119597175663916,
          0.3576427427245764,
          -0.5702151234625347,
          -0.5572216628600934,
          0.017719846225363156,
          1.2887145074843485,
          -0.7411771478820481,
          -0.6419864197153446,
          1.1972219508024184,
          0.25945352369678465,
          1.2969932581570864,
          -0.766403700861819,
          -0.5880695192706119,
          0.23921319399362173,
          0.41198072881213454,
          0.8298012119060374,
          -0.39388130471441646,
          -0.9685240289521347,
          -1.5016621442024582,
          0.2224241435501135,
          -0.8493083133394347,
          -1.0609152477969157,
          -1.469355455640693,
          1.102203544886654,
          0.9789753952414446,
          -1.219515842422679,
          -1.0441517795610855,
          0.2804323979633052,
          -0.3944849837527407,
          0.7544188492417558,
          -1.1088178682546639,
          0.1837902883409436,
          -1.0221321290638552,
          0.7823997618515374,
          1.1860800573721049,
          0.03555123929313354,
          -0.08788533678144475,
          -1.0979193923822788,
          0.5231731489710988,
          0.5697924927381082,
          -0.20924153665318343,
          1.3985467032028418,
          1.7004020608481674,
          0.2030413325552144,
          -0.6268391642990602,
          0.3988770551212099,
          0.06965082275610238,
          -1.9116331125018202,
          0.1380241162431082,
          -1.1037926748877243,
          0.8081457348428449,
          -0.9356293594254312,
          -0.0916575756043444,
          0.5779288906452257,
          0.5962772865240996,
          1.515969853059908,
          -1.3425234485560702,
          -0.3600001508909471,
          -0.07624704610784032,
          -1.7522234689232437,
          -0.37257406422804706,
          1.193137958920794,
          1.154637422674318,
          0.31205407485525993,
          0.44184177745646686,
          -1.3778745790073854,
          -1.011665062974858,
          0.03515567990235361,
          0.41947441807572,
          -1.3135785687987815,
          0.3272638323888706,
          -1.0046483036078868,
          0.6876459011460935,
          -0.19200991915835824,
          -0.1546255652119731,
          1.5186581723550163,
          -0.07716251245343556,
          0.5410204542460056
         ],
         "yaxis": "y4"
        },
        {
         "line": {
          "color": "rgba(128, 128, 128, 1.0)",
          "dash": "solid",
          "shape": "linear",
          "width": 1.3
         },
         "marker": {
          "size": 2,
          "symbol": "circle"
         },
         "mode": "markers",
         "name": "B",
         "text": "",
         "type": "scatter",
         "x": [
          -1.9903004256683205,
          -0.44331522383487904,
          0.5522209986709692,
          -0.8761307777820353,
          1.1989648408531712,
          1.107396907449335,
          -0.029371122099748383,
          0.3056333470056156,
          -0.4955087979621365,
          -0.6520420406756742,
          -2.5267952417248734,
          0.28866743458960153,
          -1.4316957620782398,
          -0.6044368465373989,
          -0.7835590378190067,
          -0.12675905868030538,
          -0.8723173151421462,
          -1.3441213992499,
          0.9239839346598812,
          -0.37358758223316085,
          0.9588303627419025,
          -0.1052825661486228,
          0.38119597175663916,
          0.3576427427245764,
          -0.5702151234625347,
          -0.5572216628600934,
          0.017719846225363156,
          1.2887145074843485,
          -0.7411771478820481,
          -0.6419864197153446,
          1.1972219508024184,
          0.25945352369678465,
          1.2969932581570864,
          -0.766403700861819,
          -0.5880695192706119,
          0.23921319399362173,
          0.41198072881213454,
          0.8298012119060374,
          -0.39388130471441646,
          -0.9685240289521347,
          -1.5016621442024582,
          0.2224241435501135,
          -0.8493083133394347,
          -1.0609152477969157,
          -1.469355455640693,
          1.102203544886654,
          0.9789753952414446,
          -1.219515842422679,
          -1.0441517795610855,
          0.2804323979633052,
          -0.3944849837527407,
          0.7544188492417558,
          -1.1088178682546639,
          0.1837902883409436,
          -1.0221321290638552,
          0.7823997618515374,
          1.1860800573721049,
          0.03555123929313354,
          -0.08788533678144475,
          -1.0979193923822788,
          0.5231731489710988,
          0.5697924927381082,
          -0.20924153665318343,
          1.3985467032028418,
          1.7004020608481674,
          0.2030413325552144,
          -0.6268391642990602,
          0.3988770551212099,
          0.06965082275610238,
          -1.9116331125018202,
          0.1380241162431082,
          -1.1037926748877243,
          0.8081457348428449,
          -0.9356293594254312,
          -0.0916575756043444,
          0.5779288906452257,
          0.5962772865240996,
          1.515969853059908,
          -1.3425234485560702,
          -0.3600001508909471,
          -0.07624704610784032,
          -1.7522234689232437,
          -0.37257406422804706,
          1.193137958920794,
          1.154637422674318,
          0.31205407485525993,
          0.44184177745646686,
          -1.3778745790073854,
          -1.011665062974858,
          0.03515567990235361,
          0.41947441807572,
          -1.3135785687987815,
          0.3272638323888706,
          -1.0046483036078868,
          0.6876459011460935,
          -0.19200991915835824,
          -0.1546255652119731,
          1.5186581723550163,
          -0.07716251245343556,
          0.5410204542460056
         ],
         "xaxis": "x5",
         "y": [
          0.20713171298464164,
          -0.9098290203271999,
          0.6595976436161234,
          1.1391958719025224,
          0.22876136700256824,
          -0.9390175844832885,
          1.40702753694373,
          0.6757395117272006,
          -0.6190602204117278,
          0.9652323468994083,
          1.171138334802606,
          1.9127870674045342,
          0.4741178282201214,
          -2.479844305574245,
          0.8927998703050272,
          -1.491532793139312,
          -0.15493863646237707,
          -0.17367859851820075,
          -0.3910701957760691,
          0.10659597063448929,
          -0.32667053875621144,
          0.7994813604737073,
          -0.4280343716591244,
          -1.150466969038612,
          0.8455562582900276,
          -2.251409282655881,
          0.9821270223673556,
          0.2303455757248052,
          0.04535472902143436,
          -1.2248383310091664,
          1.3674030824397547,
          0.08045700760681646,
          -0.43506133283756054,
          0.24149061558320917,
          -2.0528054626515244,
          0.08373056770003885,
          -0.6361159828889186,
          0.8196960925429025,
          0.8468032243624196,
          -0.10789265679637575,
          -0.5276537406018319,
          -0.5042026403280273,
          0.26276374773287686,
          -1.6144863597671486,
          -0.14370779462404257,
          0.7656677379760024,
          0.7874697232847472,
          -0.8023005621110955,
          0.778255152616999,
          0.5700896498552871,
          -1.0017097238965142,
          -0.6607568163172322,
          1.5905093819220673,
          -1.2110676813411707,
          -0.5601154519339665,
          1.3418467182878748,
          0.6440794160296142,
          -0.39687651490022524,
          -0.4752177292162427,
          0.22650596927963504,
          -0.13680482098526894,
          -0.9673428380469818,
          0.22153028192267313,
          1.7994207743834112,
          -1.003588415564047,
          -0.9112664323687696,
          0.9227233738941317,
          -2.227663388595575,
          0.06724167285175829,
          0.06086377830490128,
          0.3781532535914435,
          1.0079887011567779,
          -2.205453957164551,
          1.164530009463671,
          1.3132946285256442,
          -0.506151267746503,
          -0.05594310018107275,
          0.7545858729175096,
          -0.012902217386942041,
          0.5951414829334419,
          0.12351962806759635,
          -0.38325727961140005,
          -0.6933726532148998,
          2.4415116098964287,
          0.8557274566835281,
          0.7324129287476138,
          -0.8628262713601479,
          0.04756433709781207,
          0.8456812423826571,
          -0.42516235555193016,
          -1.1979961576928366,
          0.5089656233318339,
          0.9803508857671677,
          0.8119129825176856,
          0.03534109009366027,
          -0.17944526405158354,
          0.06161321536565358,
          -0.5760942497350119,
          -0.8844656807832726,
          1.7125044904591131
         ],
         "yaxis": "y5"
        },
        {
         "histfunc": "count",
         "histnorm": "",
         "marker": {
          "color": "rgba(55, 128, 191, 1.0)",
          "line": {
           "color": "#4D5663",
           "width": 1.3
          }
         },
         "name": "B",
         "nbinsx": 10,
         "opacity": 0.8,
         "orientation": "v",
         "type": "histogram",
         "x": [
          0.20713171298464164,
          -0.9098290203271999,
          0.6595976436161234,
          1.1391958719025224,
          0.22876136700256824,
          -0.9390175844832885,
          1.40702753694373,
          0.6757395117272006,
          -0.6190602204117278,
          0.9652323468994083,
          1.171138334802606,
          1.9127870674045342,
          0.4741178282201214,
          -2.479844305574245,
          0.8927998703050272,
          -1.491532793139312,
          -0.15493863646237707,
          -0.17367859851820075,
          -0.3910701957760691,
          0.10659597063448929,
          -0.32667053875621144,
          0.7994813604737073,
          -0.4280343716591244,
          -1.150466969038612,
          0.8455562582900276,
          -2.251409282655881,
          0.9821270223673556,
          0.2303455757248052,
          0.04535472902143436,
          -1.2248383310091664,
          1.3674030824397547,
          0.08045700760681646,
          -0.43506133283756054,
          0.24149061558320917,
          -2.0528054626515244,
          0.08373056770003885,
          -0.6361159828889186,
          0.8196960925429025,
          0.8468032243624196,
          -0.10789265679637575,
          -0.5276537406018319,
          -0.5042026403280273,
          0.26276374773287686,
          -1.6144863597671486,
          -0.14370779462404257,
          0.7656677379760024,
          0.7874697232847472,
          -0.8023005621110955,
          0.778255152616999,
          0.5700896498552871,
          -1.0017097238965142,
          -0.6607568163172322,
          1.5905093819220673,
          -1.2110676813411707,
          -0.5601154519339665,
          1.3418467182878748,
          0.6440794160296142,
          -0.39687651490022524,
          -0.4752177292162427,
          0.22650596927963504,
          -0.13680482098526894,
          -0.9673428380469818,
          0.22153028192267313,
          1.7994207743834112,
          -1.003588415564047,
          -0.9112664323687696,
          0.9227233738941317,
          -2.227663388595575,
          0.06724167285175829,
          0.06086377830490128,
          0.3781532535914435,
          1.0079887011567779,
          -2.205453957164551,
          1.164530009463671,
          1.3132946285256442,
          -0.506151267746503,
          -0.05594310018107275,
          0.7545858729175096,
          -0.012902217386942041,
          0.5951414829334419,
          0.12351962806759635,
          -0.38325727961140005,
          -0.6933726532148998,
          2.4415116098964287,
          0.8557274566835281,
          0.7324129287476138,
          -0.8628262713601479,
          0.04756433709781207,
          0.8456812423826571,
          -0.42516235555193016,
          -1.1979961576928366,
          0.5089656233318339,
          0.9803508857671677,
          0.8119129825176856,
          0.03534109009366027,
          -0.17944526405158354,
          0.06161321536565358,
          -0.5760942497350119,
          -0.8844656807832726,
          1.7125044904591131
         ],
         "xaxis": "x6",
         "yaxis": "y6"
        },
        {
         "line": {
          "color": "rgba(128, 128, 128, 1.0)",
          "dash": "solid",
          "shape": "linear",
          "width": 1.3
         },
         "marker": {
          "size": 2,
          "symbol": "circle"
         },
         "mode": "markers",
         "name": "B",
         "text": "",
         "type": "scatter",
         "x": [
          -0.1734327179078083,
          1.025281977935646,
          0.202403271941739,
          -0.9834933902244896,
          -0.6474184971807797,
          0.9406868911632378,
          0.3003493689813544,
          -0.747532030840866,
          0.1219500000551959,
          0.12904259385765535,
          -1.2007973492083384,
          -1.0846102717283599,
          1.2810230224396995,
          -0.7090639863368329,
          0.26104238141625064,
          0.6848441923844357,
          1.3712904218858912,
          -1.20861507047745,
          -2.5405455399197185,
          -0.12203039116024908,
          -0.6123589828476048,
          -0.8813710290801637,
          0.10403266515282988,
          -0.26089899633778685,
          -0.4059842516369866,
          1.4187557541977507,
          -1.583138459073382,
          0.5129281122091677,
          1.1652374706613282,
          -0.06728258917509047,
          0.00696080922411059,
          2.3201051260729173,
          -0.3386951531725974,
          2.0000123401643926,
          0.2919076413108785,
          1.8173093195240135,
          -1.4664951424779313,
          -0.3879112807547932,
          -0.5231934268594857,
          -0.14139344505727036,
          -1.100207439833855,
          0.7594443962865002,
          1.2385532475987762,
          -0.759695377875985,
          2.0542853298186423,
          2.210261248274123,
          0.819297640181099,
          0.7048244974399858,
          0.688841842644157,
          -0.5799814981264281,
          2.2515167496768416,
          1.1155921104798137,
          -0.6337498347256617,
          -0.6561852397859022,
          1.1105627550113193,
          1.5348593972668638,
          -0.324936965303408,
          -0.8361104252801637,
          0.7653712969595001,
          0.24907108738950298,
          -1.2317967452216088,
          0.8997703641459304,
          1.1395077801318922,
          0.28847376341816117,
          0.1886156039673864,
          -0.4074341231445621,
          0.7997895526136964,
          -1.0912104356636727,
          0.3119971138291475,
          -0.4185002045442197,
          2.5248181577844178,
          1.3455246110481505,
          -0.3117992178894114,
          -0.31847321483254554,
          1.2131033077720554,
          1.448868825477331,
          -0.24328247881868906,
          -0.3567749124083891,
          -0.16926826070298467,
          -0.35396995301437073,
          -0.8700087169425702,
          -0.14947867980498358,
          -0.040000503325443346,
          -0.21783051862202382,
          0.21673625801784674,
          -0.8960474515146457,
          1.3481557076721484,
          -0.9950879670041042,
          2.0841530694291532,
          -0.7154536902547273,
          -1.3717402491254331,
          -0.48537609341111554,
          -1.4175095023892268,
          -0.13422213336448804,
          1.461727020346443,
          -1.816800058383163,
          1.0812660470410758,
          1.409532907990298,
          -0.4544789634340318,
          0.9615157849938297
         ],
         "xaxis": "x7",
         "y": [
          0.20713171298464164,
          -0.9098290203271999,
          0.6595976436161234,
          1.1391958719025224,
          0.22876136700256824,
          -0.9390175844832885,
          1.40702753694373,
          0.6757395117272006,
          -0.6190602204117278,
          0.9652323468994083,
          1.171138334802606,
          1.9127870674045342,
          0.4741178282201214,
          -2.479844305574245,
          0.8927998703050272,
          -1.491532793139312,
          -0.15493863646237707,
          -0.17367859851820075,
          -0.3910701957760691,
          0.10659597063448929,
          -0.32667053875621144,
          0.7994813604737073,
          -0.4280343716591244,
          -1.150466969038612,
          0.8455562582900276,
          -2.251409282655881,
          0.9821270223673556,
          0.2303455757248052,
          0.04535472902143436,
          -1.2248383310091664,
          1.3674030824397547,
          0.08045700760681646,
          -0.43506133283756054,
          0.24149061558320917,
          -2.0528054626515244,
          0.08373056770003885,
          -0.6361159828889186,
          0.8196960925429025,
          0.8468032243624196,
          -0.10789265679637575,
          -0.5276537406018319,
          -0.5042026403280273,
          0.26276374773287686,
          -1.6144863597671486,
          -0.14370779462404257,
          0.7656677379760024,
          0.7874697232847472,
          -0.8023005621110955,
          0.778255152616999,
          0.5700896498552871,
          -1.0017097238965142,
          -0.6607568163172322,
          1.5905093819220673,
          -1.2110676813411707,
          -0.5601154519339665,
          1.3418467182878748,
          0.6440794160296142,
          -0.39687651490022524,
          -0.4752177292162427,
          0.22650596927963504,
          -0.13680482098526894,
          -0.9673428380469818,
          0.22153028192267313,
          1.7994207743834112,
          -1.003588415564047,
          -0.9112664323687696,
          0.9227233738941317,
          -2.227663388595575,
          0.06724167285175829,
          0.06086377830490128,
          0.3781532535914435,
          1.0079887011567779,
          -2.205453957164551,
          1.164530009463671,
          1.3132946285256442,
          -0.506151267746503,
          -0.05594310018107275,
          0.7545858729175096,
          -0.012902217386942041,
          0.5951414829334419,
          0.12351962806759635,
          -0.38325727961140005,
          -0.6933726532148998,
          2.4415116098964287,
          0.8557274566835281,
          0.7324129287476138,
          -0.8628262713601479,
          0.04756433709781207,
          0.8456812423826571,
          -0.42516235555193016,
          -1.1979961576928366,
          0.5089656233318339,
          0.9803508857671677,
          0.8119129825176856,
          0.03534109009366027,
          -0.17944526405158354,
          0.06161321536565358,
          -0.5760942497350119,
          -0.8844656807832726,
          1.7125044904591131
         ],
         "yaxis": "y7"
        },
        {
         "line": {
          "color": "rgba(128, 128, 128, 1.0)",
          "dash": "solid",
          "shape": "linear",
          "width": 1.3
         },
         "marker": {
          "size": 2,
          "symbol": "circle"
         },
         "mode": "markers",
         "name": "B",
         "text": "",
         "type": "scatter",
         "x": [
          1.704742677700104,
          0.8235667212186872,
          1.586856430834681,
          2.4177509895405196,
          -1.698120880239537,
          0.9513856559545543,
          1.432820319719165,
          0.9319040542152517,
          2.0908949112998574,
          0.24264784705094034,
          1.012562816557507,
          -0.9509606983642789,
          0.21621807050718683,
          -0.812691487194244,
          0.9780952387980227,
          1.3611968402126449,
          0.004019283566734584,
          -0.9802757455225488,
          1.0703293680762096,
          -0.8737621307370945,
          0.8934865318306057,
          1.025346035892475,
          -0.20864015453364615,
          -1.1361297729398474,
          -0.8601631692882453,
          -0.6356786928082033,
          0.27510501242745733,
          -0.4796962814623892,
          -1.1425815068882323,
          1.1769477210528139,
          -0.5911586539291419,
          1.6911962381867163,
          0.967066780353155,
          -0.20991321232926455,
          0.26925268962020554,
          0.1205654135290545,
          0.4182072115762697,
          1.0149652809670269,
          -0.008838220928936583,
          1.0079648026427928,
          1.1579675186119789,
          2.4370866076021303,
          1.5292745938023486,
          0.3248137630341598,
          -1.9441841084541889,
          -0.26571405954830585,
          -0.20792111529154567,
          -0.4780125100587477,
          2.2161345568796147,
          0.4737589191469256,
          -1.0508381422262705,
          0.8770403467531728,
          -0.22110978493067945,
          -2.2878592743711383,
          -0.30491582900244435,
          3.7495097200921577,
          0.5599323269316231,
          1.1316583392984148,
          -0.5369995819663967,
          1.1236996914087098,
          -0.2728036103290317,
          1.2025945197111798,
          0.5122006706361073,
          0.0798180310891348,
          0.7916016394178136,
          -0.11986898411035302,
          1.4128274636634972,
          0.17867288971380324,
          1.2866170372239103,
          1.564280875623778,
          0.176276896701876,
          1.0486357010155423,
          -0.7991681606290977,
          1.6321085185177524,
          -0.4563288302703064,
          0.5805724432555952,
          0.02365351076373204,
          1.105708224153926,
          2.2329202529468497,
          -0.847614118112452,
          0.12878339308990167,
          0.7719078193392097,
          1.5226644749901594,
          0.6210969617087052,
          0.9720772290253814,
          3.4750579106732857,
          -0.31541713625986,
          2.231604606908773,
          -0.17644177261787783,
          0.050996347833518745,
          1.170978845923599,
          0.642974865871924,
          -0.5306803613540669,
          -1.7749250568597061,
          -3.294407031214544,
          -0.11548120498782195,
          -1.1297523562743428,
          0.40717446191210094,
          0.17541836588072568,
          0.2805597335081778
         ],
         "xaxis": "x8",
         "y": [
          0.20713171298464164,
          -0.9098290203271999,
          0.6595976436161234,
          1.1391958719025224,
          0.22876136700256824,
          -0.9390175844832885,
          1.40702753694373,
          0.6757395117272006,
          -0.6190602204117278,
          0.9652323468994083,
          1.171138334802606,
          1.9127870674045342,
          0.4741178282201214,
          -2.479844305574245,
          0.8927998703050272,
          -1.491532793139312,
          -0.15493863646237707,
          -0.17367859851820075,
          -0.3910701957760691,
          0.10659597063448929,
          -0.32667053875621144,
          0.7994813604737073,
          -0.4280343716591244,
          -1.150466969038612,
          0.8455562582900276,
          -2.251409282655881,
          0.9821270223673556,
          0.2303455757248052,
          0.04535472902143436,
          -1.2248383310091664,
          1.3674030824397547,
          0.08045700760681646,
          -0.43506133283756054,
          0.24149061558320917,
          -2.0528054626515244,
          0.08373056770003885,
          -0.6361159828889186,
          0.8196960925429025,
          0.8468032243624196,
          -0.10789265679637575,
          -0.5276537406018319,
          -0.5042026403280273,
          0.26276374773287686,
          -1.6144863597671486,
          -0.14370779462404257,
          0.7656677379760024,
          0.7874697232847472,
          -0.8023005621110955,
          0.778255152616999,
          0.5700896498552871,
          -1.0017097238965142,
          -0.6607568163172322,
          1.5905093819220673,
          -1.2110676813411707,
          -0.5601154519339665,
          1.3418467182878748,
          0.6440794160296142,
          -0.39687651490022524,
          -0.4752177292162427,
          0.22650596927963504,
          -0.13680482098526894,
          -0.9673428380469818,
          0.22153028192267313,
          1.7994207743834112,
          -1.003588415564047,
          -0.9112664323687696,
          0.9227233738941317,
          -2.227663388595575,
          0.06724167285175829,
          0.06086377830490128,
          0.3781532535914435,
          1.0079887011567779,
          -2.205453957164551,
          1.164530009463671,
          1.3132946285256442,
          -0.506151267746503,
          -0.05594310018107275,
          0.7545858729175096,
          -0.012902217386942041,
          0.5951414829334419,
          0.12351962806759635,
          -0.38325727961140005,
          -0.6933726532148998,
          2.4415116098964287,
          0.8557274566835281,
          0.7324129287476138,
          -0.8628262713601479,
          0.04756433709781207,
          0.8456812423826571,
          -0.42516235555193016,
          -1.1979961576928366,
          0.5089656233318339,
          0.9803508857671677,
          0.8119129825176856,
          0.03534109009366027,
          -0.17944526405158354,
          0.06161321536565358,
          -0.5760942497350119,
          -0.8844656807832726,
          1.7125044904591131
         ],
         "yaxis": "y8"
        },
        {
         "line": {
          "color": "rgba(128, 128, 128, 1.0)",
          "dash": "solid",
          "shape": "linear",
          "width": 1.3
         },
         "marker": {
          "size": 2,
          "symbol": "circle"
         },
         "mode": "markers",
         "name": "C",
         "text": "",
         "type": "scatter",
         "x": [
          -1.9903004256683205,
          -0.44331522383487904,
          0.5522209986709692,
          -0.8761307777820353,
          1.1989648408531712,
          1.107396907449335,
          -0.029371122099748383,
          0.3056333470056156,
          -0.4955087979621365,
          -0.6520420406756742,
          -2.5267952417248734,
          0.28866743458960153,
          -1.4316957620782398,
          -0.6044368465373989,
          -0.7835590378190067,
          -0.12675905868030538,
          -0.8723173151421462,
          -1.3441213992499,
          0.9239839346598812,
          -0.37358758223316085,
          0.9588303627419025,
          -0.1052825661486228,
          0.38119597175663916,
          0.3576427427245764,
          -0.5702151234625347,
          -0.5572216628600934,
          0.017719846225363156,
          1.2887145074843485,
          -0.7411771478820481,
          -0.6419864197153446,
          1.1972219508024184,
          0.25945352369678465,
          1.2969932581570864,
          -0.766403700861819,
          -0.5880695192706119,
          0.23921319399362173,
          0.41198072881213454,
          0.8298012119060374,
          -0.39388130471441646,
          -0.9685240289521347,
          -1.5016621442024582,
          0.2224241435501135,
          -0.8493083133394347,
          -1.0609152477969157,
          -1.469355455640693,
          1.102203544886654,
          0.9789753952414446,
          -1.219515842422679,
          -1.0441517795610855,
          0.2804323979633052,
          -0.3944849837527407,
          0.7544188492417558,
          -1.1088178682546639,
          0.1837902883409436,
          -1.0221321290638552,
          0.7823997618515374,
          1.1860800573721049,
          0.03555123929313354,
          -0.08788533678144475,
          -1.0979193923822788,
          0.5231731489710988,
          0.5697924927381082,
          -0.20924153665318343,
          1.3985467032028418,
          1.7004020608481674,
          0.2030413325552144,
          -0.6268391642990602,
          0.3988770551212099,
          0.06965082275610238,
          -1.9116331125018202,
          0.1380241162431082,
          -1.1037926748877243,
          0.8081457348428449,
          -0.9356293594254312,
          -0.0916575756043444,
          0.5779288906452257,
          0.5962772865240996,
          1.515969853059908,
          -1.3425234485560702,
          -0.3600001508909471,
          -0.07624704610784032,
          -1.7522234689232437,
          -0.37257406422804706,
          1.193137958920794,
          1.154637422674318,
          0.31205407485525993,
          0.44184177745646686,
          -1.3778745790073854,
          -1.011665062974858,
          0.03515567990235361,
          0.41947441807572,
          -1.3135785687987815,
          0.3272638323888706,
          -1.0046483036078868,
          0.6876459011460935,
          -0.19200991915835824,
          -0.1546255652119731,
          1.5186581723550163,
          -0.07716251245343556,
          0.5410204542460056
         ],
         "xaxis": "x9",
         "y": [
          -0.1734327179078083,
          1.025281977935646,
          0.202403271941739,
          -0.9834933902244896,
          -0.6474184971807797,
          0.9406868911632378,
          0.3003493689813544,
          -0.747532030840866,
          0.1219500000551959,
          0.12904259385765535,
          -1.2007973492083384,
          -1.0846102717283599,
          1.2810230224396995,
          -0.7090639863368329,
          0.26104238141625064,
          0.6848441923844357,
          1.3712904218858912,
          -1.20861507047745,
          -2.5405455399197185,
          -0.12203039116024908,
          -0.6123589828476048,
          -0.8813710290801637,
          0.10403266515282988,
          -0.26089899633778685,
          -0.4059842516369866,
          1.4187557541977507,
          -1.583138459073382,
          0.5129281122091677,
          1.1652374706613282,
          -0.06728258917509047,
          0.00696080922411059,
          2.3201051260729173,
          -0.3386951531725974,
          2.0000123401643926,
          0.2919076413108785,
          1.8173093195240135,
          -1.4664951424779313,
          -0.3879112807547932,
          -0.5231934268594857,
          -0.14139344505727036,
          -1.100207439833855,
          0.7594443962865002,
          1.2385532475987762,
          -0.759695377875985,
          2.0542853298186423,
          2.210261248274123,
          0.819297640181099,
          0.7048244974399858,
          0.688841842644157,
          -0.5799814981264281,
          2.2515167496768416,
          1.1155921104798137,
          -0.6337498347256617,
          -0.6561852397859022,
          1.1105627550113193,
          1.5348593972668638,
          -0.324936965303408,
          -0.8361104252801637,
          0.7653712969595001,
          0.24907108738950298,
          -1.2317967452216088,
          0.8997703641459304,
          1.1395077801318922,
          0.28847376341816117,
          0.1886156039673864,
          -0.4074341231445621,
          0.7997895526136964,
          -1.0912104356636727,
          0.3119971138291475,
          -0.4185002045442197,
          2.5248181577844178,
          1.3455246110481505,
          -0.3117992178894114,
          -0.31847321483254554,
          1.2131033077720554,
          1.448868825477331,
          -0.24328247881868906,
          -0.3567749124083891,
          -0.16926826070298467,
          -0.35396995301437073,
          -0.8700087169425702,
          -0.14947867980498358,
          -0.040000503325443346,
          -0.21783051862202382,
          0.21673625801784674,
          -0.8960474515146457,
          1.3481557076721484,
          -0.9950879670041042,
          2.0841530694291532,
          -0.7154536902547273,
          -1.3717402491254331,
          -0.48537609341111554,
          -1.4175095023892268,
          -0.13422213336448804,
          1.461727020346443,
          -1.816800058383163,
          1.0812660470410758,
          1.409532907990298,
          -0.4544789634340318,
          0.9615157849938297
         ],
         "yaxis": "y9"
        },
        {
         "line": {
          "color": "rgba(128, 128, 128, 1.0)",
          "dash": "solid",
          "shape": "linear",
          "width": 1.3
         },
         "marker": {
          "size": 2,
          "symbol": "circle"
         },
         "mode": "markers",
         "name": "C",
         "text": "",
         "type": "scatter",
         "x": [
          0.20713171298464164,
          -0.9098290203271999,
          0.6595976436161234,
          1.1391958719025224,
          0.22876136700256824,
          -0.9390175844832885,
          1.40702753694373,
          0.6757395117272006,
          -0.6190602204117278,
          0.9652323468994083,
          1.171138334802606,
          1.9127870674045342,
          0.4741178282201214,
          -2.479844305574245,
          0.8927998703050272,
          -1.491532793139312,
          -0.15493863646237707,
          -0.17367859851820075,
          -0.3910701957760691,
          0.10659597063448929,
          -0.32667053875621144,
          0.7994813604737073,
          -0.4280343716591244,
          -1.150466969038612,
          0.8455562582900276,
          -2.251409282655881,
          0.9821270223673556,
          0.2303455757248052,
          0.04535472902143436,
          -1.2248383310091664,
          1.3674030824397547,
          0.08045700760681646,
          -0.43506133283756054,
          0.24149061558320917,
          -2.0528054626515244,
          0.08373056770003885,
          -0.6361159828889186,
          0.8196960925429025,
          0.8468032243624196,
          -0.10789265679637575,
          -0.5276537406018319,
          -0.5042026403280273,
          0.26276374773287686,
          -1.6144863597671486,
          -0.14370779462404257,
          0.7656677379760024,
          0.7874697232847472,
          -0.8023005621110955,
          0.778255152616999,
          0.5700896498552871,
          -1.0017097238965142,
          -0.6607568163172322,
          1.5905093819220673,
          -1.2110676813411707,
          -0.5601154519339665,
          1.3418467182878748,
          0.6440794160296142,
          -0.39687651490022524,
          -0.4752177292162427,
          0.22650596927963504,
          -0.13680482098526894,
          -0.9673428380469818,
          0.22153028192267313,
          1.7994207743834112,
          -1.003588415564047,
          -0.9112664323687696,
          0.9227233738941317,
          -2.227663388595575,
          0.06724167285175829,
          0.06086377830490128,
          0.3781532535914435,
          1.0079887011567779,
          -2.205453957164551,
          1.164530009463671,
          1.3132946285256442,
          -0.506151267746503,
          -0.05594310018107275,
          0.7545858729175096,
          -0.012902217386942041,
          0.5951414829334419,
          0.12351962806759635,
          -0.38325727961140005,
          -0.6933726532148998,
          2.4415116098964287,
          0.8557274566835281,
          0.7324129287476138,
          -0.8628262713601479,
          0.04756433709781207,
          0.8456812423826571,
          -0.42516235555193016,
          -1.1979961576928366,
          0.5089656233318339,
          0.9803508857671677,
          0.8119129825176856,
          0.03534109009366027,
          -0.17944526405158354,
          0.06161321536565358,
          -0.5760942497350119,
          -0.8844656807832726,
          1.7125044904591131
         ],
         "xaxis": "x10",
         "y": [
          -0.1734327179078083,
          1.025281977935646,
          0.202403271941739,
          -0.9834933902244896,
          -0.6474184971807797,
          0.9406868911632378,
          0.3003493689813544,
          -0.747532030840866,
          0.1219500000551959,
          0.12904259385765535,
          -1.2007973492083384,
          -1.0846102717283599,
          1.2810230224396995,
          -0.7090639863368329,
          0.26104238141625064,
          0.6848441923844357,
          1.3712904218858912,
          -1.20861507047745,
          -2.5405455399197185,
          -0.12203039116024908,
          -0.6123589828476048,
          -0.8813710290801637,
          0.10403266515282988,
          -0.26089899633778685,
          -0.4059842516369866,
          1.4187557541977507,
          -1.583138459073382,
          0.5129281122091677,
          1.1652374706613282,
          -0.06728258917509047,
          0.00696080922411059,
          2.3201051260729173,
          -0.3386951531725974,
          2.0000123401643926,
          0.2919076413108785,
          1.8173093195240135,
          -1.4664951424779313,
          -0.3879112807547932,
          -0.5231934268594857,
          -0.14139344505727036,
          -1.100207439833855,
          0.7594443962865002,
          1.2385532475987762,
          -0.759695377875985,
          2.0542853298186423,
          2.210261248274123,
          0.819297640181099,
          0.7048244974399858,
          0.688841842644157,
          -0.5799814981264281,
          2.2515167496768416,
          1.1155921104798137,
          -0.6337498347256617,
          -0.6561852397859022,
          1.1105627550113193,
          1.5348593972668638,
          -0.324936965303408,
          -0.8361104252801637,
          0.7653712969595001,
          0.24907108738950298,
          -1.2317967452216088,
          0.8997703641459304,
          1.1395077801318922,
          0.28847376341816117,
          0.1886156039673864,
          -0.4074341231445621,
          0.7997895526136964,
          -1.0912104356636727,
          0.3119971138291475,
          -0.4185002045442197,
          2.5248181577844178,
          1.3455246110481505,
          -0.3117992178894114,
          -0.31847321483254554,
          1.2131033077720554,
          1.448868825477331,
          -0.24328247881868906,
          -0.3567749124083891,
          -0.16926826070298467,
          -0.35396995301437073,
          -0.8700087169425702,
          -0.14947867980498358,
          -0.040000503325443346,
          -0.21783051862202382,
          0.21673625801784674,
          -0.8960474515146457,
          1.3481557076721484,
          -0.9950879670041042,
          2.0841530694291532,
          -0.7154536902547273,
          -1.3717402491254331,
          -0.48537609341111554,
          -1.4175095023892268,
          -0.13422213336448804,
          1.461727020346443,
          -1.816800058383163,
          1.0812660470410758,
          1.409532907990298,
          -0.4544789634340318,
          0.9615157849938297
         ],
         "yaxis": "y10"
        },
        {
         "histfunc": "count",
         "histnorm": "",
         "marker": {
          "color": "rgba(50, 171, 96, 1.0)",
          "line": {
           "color": "#4D5663",
           "width": 1.3
          }
         },
         "name": "C",
         "nbinsx": 10,
         "opacity": 0.8,
         "orientation": "v",
         "type": "histogram",
         "x": [
          -0.1734327179078083,
          1.025281977935646,
          0.202403271941739,
          -0.9834933902244896,
          -0.6474184971807797,
          0.9406868911632378,
          0.3003493689813544,
          -0.747532030840866,
          0.1219500000551959,
          0.12904259385765535,
          -1.2007973492083384,
          -1.0846102717283599,
          1.2810230224396995,
          -0.7090639863368329,
          0.26104238141625064,
          0.6848441923844357,
          1.3712904218858912,
          -1.20861507047745,
          -2.5405455399197185,
          -0.12203039116024908,
          -0.6123589828476048,
          -0.8813710290801637,
          0.10403266515282988,
          -0.26089899633778685,
          -0.4059842516369866,
          1.4187557541977507,
          -1.583138459073382,
          0.5129281122091677,
          1.1652374706613282,
          -0.06728258917509047,
          0.00696080922411059,
          2.3201051260729173,
          -0.3386951531725974,
          2.0000123401643926,
          0.2919076413108785,
          1.8173093195240135,
          -1.4664951424779313,
          -0.3879112807547932,
          -0.5231934268594857,
          -0.14139344505727036,
          -1.100207439833855,
          0.7594443962865002,
          1.2385532475987762,
          -0.759695377875985,
          2.0542853298186423,
          2.210261248274123,
          0.819297640181099,
          0.7048244974399858,
          0.688841842644157,
          -0.5799814981264281,
          2.2515167496768416,
          1.1155921104798137,
          -0.6337498347256617,
          -0.6561852397859022,
          1.1105627550113193,
          1.5348593972668638,
          -0.324936965303408,
          -0.8361104252801637,
          0.7653712969595001,
          0.24907108738950298,
          -1.2317967452216088,
          0.8997703641459304,
          1.1395077801318922,
          0.28847376341816117,
          0.1886156039673864,
          -0.4074341231445621,
          0.7997895526136964,
          -1.0912104356636727,
          0.3119971138291475,
          -0.4185002045442197,
          2.5248181577844178,
          1.3455246110481505,
          -0.3117992178894114,
          -0.31847321483254554,
          1.2131033077720554,
          1.448868825477331,
          -0.24328247881868906,
          -0.3567749124083891,
          -0.16926826070298467,
          -0.35396995301437073,
          -0.8700087169425702,
          -0.14947867980498358,
          -0.040000503325443346,
          -0.21783051862202382,
          0.21673625801784674,
          -0.8960474515146457,
          1.3481557076721484,
          -0.9950879670041042,
          2.0841530694291532,
          -0.7154536902547273,
          -1.3717402491254331,
          -0.48537609341111554,
          -1.4175095023892268,
          -0.13422213336448804,
          1.461727020346443,
          -1.816800058383163,
          1.0812660470410758,
          1.409532907990298,
          -0.4544789634340318,
          0.9615157849938297
         ],
         "xaxis": "x11",
         "yaxis": "y11"
        },
        {
         "line": {
          "color": "rgba(128, 128, 128, 1.0)",
          "dash": "solid",
          "shape": "linear",
          "width": 1.3
         },
         "marker": {
          "size": 2,
          "symbol": "circle"
         },
         "mode": "markers",
         "name": "C",
         "text": "",
         "type": "scatter",
         "x": [
          1.704742677700104,
          0.8235667212186872,
          1.586856430834681,
          2.4177509895405196,
          -1.698120880239537,
          0.9513856559545543,
          1.432820319719165,
          0.9319040542152517,
          2.0908949112998574,
          0.24264784705094034,
          1.012562816557507,
          -0.9509606983642789,
          0.21621807050718683,
          -0.812691487194244,
          0.9780952387980227,
          1.3611968402126449,
          0.004019283566734584,
          -0.9802757455225488,
          1.0703293680762096,
          -0.8737621307370945,
          0.8934865318306057,
          1.025346035892475,
          -0.20864015453364615,
          -1.1361297729398474,
          -0.8601631692882453,
          -0.6356786928082033,
          0.27510501242745733,
          -0.4796962814623892,
          -1.1425815068882323,
          1.1769477210528139,
          -0.5911586539291419,
          1.6911962381867163,
          0.967066780353155,
          -0.20991321232926455,
          0.26925268962020554,
          0.1205654135290545,
          0.4182072115762697,
          1.0149652809670269,
          -0.008838220928936583,
          1.0079648026427928,
          1.1579675186119789,
          2.4370866076021303,
          1.5292745938023486,
          0.3248137630341598,
          -1.9441841084541889,
          -0.26571405954830585,
          -0.20792111529154567,
          -0.4780125100587477,
          2.2161345568796147,
          0.4737589191469256,
          -1.0508381422262705,
          0.8770403467531728,
          -0.22110978493067945,
          -2.2878592743711383,
          -0.30491582900244435,
          3.7495097200921577,
          0.5599323269316231,
          1.1316583392984148,
          -0.5369995819663967,
          1.1236996914087098,
          -0.2728036103290317,
          1.2025945197111798,
          0.5122006706361073,
          0.0798180310891348,
          0.7916016394178136,
          -0.11986898411035302,
          1.4128274636634972,
          0.17867288971380324,
          1.2866170372239103,
          1.564280875623778,
          0.176276896701876,
          1.0486357010155423,
          -0.7991681606290977,
          1.6321085185177524,
          -0.4563288302703064,
          0.5805724432555952,
          0.02365351076373204,
          1.105708224153926,
          2.2329202529468497,
          -0.847614118112452,
          0.12878339308990167,
          0.7719078193392097,
          1.5226644749901594,
          0.6210969617087052,
          0.9720772290253814,
          3.4750579106732857,
          -0.31541713625986,
          2.231604606908773,
          -0.17644177261787783,
          0.050996347833518745,
          1.170978845923599,
          0.642974865871924,
          -0.5306803613540669,
          -1.7749250568597061,
          -3.294407031214544,
          -0.11548120498782195,
          -1.1297523562743428,
          0.40717446191210094,
          0.17541836588072568,
          0.2805597335081778
         ],
         "xaxis": "x12",
         "y": [
          -0.1734327179078083,
          1.025281977935646,
          0.202403271941739,
          -0.9834933902244896,
          -0.6474184971807797,
          0.9406868911632378,
          0.3003493689813544,
          -0.747532030840866,
          0.1219500000551959,
          0.12904259385765535,
          -1.2007973492083384,
          -1.0846102717283599,
          1.2810230224396995,
          -0.7090639863368329,
          0.26104238141625064,
          0.6848441923844357,
          1.3712904218858912,
          -1.20861507047745,
          -2.5405455399197185,
          -0.12203039116024908,
          -0.6123589828476048,
          -0.8813710290801637,
          0.10403266515282988,
          -0.26089899633778685,
          -0.4059842516369866,
          1.4187557541977507,
          -1.583138459073382,
          0.5129281122091677,
          1.1652374706613282,
          -0.06728258917509047,
          0.00696080922411059,
          2.3201051260729173,
          -0.3386951531725974,
          2.0000123401643926,
          0.2919076413108785,
          1.8173093195240135,
          -1.4664951424779313,
          -0.3879112807547932,
          -0.5231934268594857,
          -0.14139344505727036,
          -1.100207439833855,
          0.7594443962865002,
          1.2385532475987762,
          -0.759695377875985,
          2.0542853298186423,
          2.210261248274123,
          0.819297640181099,
          0.7048244974399858,
          0.688841842644157,
          -0.5799814981264281,
          2.2515167496768416,
          1.1155921104798137,
          -0.6337498347256617,
          -0.6561852397859022,
          1.1105627550113193,
          1.5348593972668638,
          -0.324936965303408,
          -0.8361104252801637,
          0.7653712969595001,
          0.24907108738950298,
          -1.2317967452216088,
          0.8997703641459304,
          1.1395077801318922,
          0.28847376341816117,
          0.1886156039673864,
          -0.4074341231445621,
          0.7997895526136964,
          -1.0912104356636727,
          0.3119971138291475,
          -0.4185002045442197,
          2.5248181577844178,
          1.3455246110481505,
          -0.3117992178894114,
          -0.31847321483254554,
          1.2131033077720554,
          1.448868825477331,
          -0.24328247881868906,
          -0.3567749124083891,
          -0.16926826070298467,
          -0.35396995301437073,
          -0.8700087169425702,
          -0.14947867980498358,
          -0.040000503325443346,
          -0.21783051862202382,
          0.21673625801784674,
          -0.8960474515146457,
          1.3481557076721484,
          -0.9950879670041042,
          2.0841530694291532,
          -0.7154536902547273,
          -1.3717402491254331,
          -0.48537609341111554,
          -1.4175095023892268,
          -0.13422213336448804,
          1.461727020346443,
          -1.816800058383163,
          1.0812660470410758,
          1.409532907990298,
          -0.4544789634340318,
          0.9615157849938297
         ],
         "yaxis": "y12"
        },
        {
         "line": {
          "color": "rgba(128, 128, 128, 1.0)",
          "dash": "solid",
          "shape": "linear",
          "width": 1.3
         },
         "marker": {
          "size": 2,
          "symbol": "circle"
         },
         "mode": "markers",
         "name": "D",
         "text": "",
         "type": "scatter",
         "x": [
          -1.9903004256683205,
          -0.44331522383487904,
          0.5522209986709692,
          -0.8761307777820353,
          1.1989648408531712,
          1.107396907449335,
          -0.029371122099748383,
          0.3056333470056156,
          -0.4955087979621365,
          -0.6520420406756742,
          -2.5267952417248734,
          0.28866743458960153,
          -1.4316957620782398,
          -0.6044368465373989,
          -0.7835590378190067,
          -0.12675905868030538,
          -0.8723173151421462,
          -1.3441213992499,
          0.9239839346598812,
          -0.37358758223316085,
          0.9588303627419025,
          -0.1052825661486228,
          0.38119597175663916,
          0.3576427427245764,
          -0.5702151234625347,
          -0.5572216628600934,
          0.017719846225363156,
          1.2887145074843485,
          -0.7411771478820481,
          -0.6419864197153446,
          1.1972219508024184,
          0.25945352369678465,
          1.2969932581570864,
          -0.766403700861819,
          -0.5880695192706119,
          0.23921319399362173,
          0.41198072881213454,
          0.8298012119060374,
          -0.39388130471441646,
          -0.9685240289521347,
          -1.5016621442024582,
          0.2224241435501135,
          -0.8493083133394347,
          -1.0609152477969157,
          -1.469355455640693,
          1.102203544886654,
          0.9789753952414446,
          -1.219515842422679,
          -1.0441517795610855,
          0.2804323979633052,
          -0.3944849837527407,
          0.7544188492417558,
          -1.1088178682546639,
          0.1837902883409436,
          -1.0221321290638552,
          0.7823997618515374,
          1.1860800573721049,
          0.03555123929313354,
          -0.08788533678144475,
          -1.0979193923822788,
          0.5231731489710988,
          0.5697924927381082,
          -0.20924153665318343,
          1.3985467032028418,
          1.7004020608481674,
          0.2030413325552144,
          -0.6268391642990602,
          0.3988770551212099,
          0.06965082275610238,
          -1.9116331125018202,
          0.1380241162431082,
          -1.1037926748877243,
          0.8081457348428449,
          -0.9356293594254312,
          -0.0916575756043444,
          0.5779288906452257,
          0.5962772865240996,
          1.515969853059908,
          -1.3425234485560702,
          -0.3600001508909471,
          -0.07624704610784032,
          -1.7522234689232437,
          -0.37257406422804706,
          1.193137958920794,
          1.154637422674318,
          0.31205407485525993,
          0.44184177745646686,
          -1.3778745790073854,
          -1.011665062974858,
          0.03515567990235361,
          0.41947441807572,
          -1.3135785687987815,
          0.3272638323888706,
          -1.0046483036078868,
          0.6876459011460935,
          -0.19200991915835824,
          -0.1546255652119731,
          1.5186581723550163,
          -0.07716251245343556,
          0.5410204542460056
         ],
         "xaxis": "x13",
         "y": [
          1.704742677700104,
          0.8235667212186872,
          1.586856430834681,
          2.4177509895405196,
          -1.698120880239537,
          0.9513856559545543,
          1.432820319719165,
          0.9319040542152517,
          2.0908949112998574,
          0.24264784705094034,
          1.012562816557507,
          -0.9509606983642789,
          0.21621807050718683,
          -0.812691487194244,
          0.9780952387980227,
          1.3611968402126449,
          0.004019283566734584,
          -0.9802757455225488,
          1.0703293680762096,
          -0.8737621307370945,
          0.8934865318306057,
          1.025346035892475,
          -0.20864015453364615,
          -1.1361297729398474,
          -0.8601631692882453,
          -0.6356786928082033,
          0.27510501242745733,
          -0.4796962814623892,
          -1.1425815068882323,
          1.1769477210528139,
          -0.5911586539291419,
          1.6911962381867163,
          0.967066780353155,
          -0.20991321232926455,
          0.26925268962020554,
          0.1205654135290545,
          0.4182072115762697,
          1.0149652809670269,
          -0.008838220928936583,
          1.0079648026427928,
          1.1579675186119789,
          2.4370866076021303,
          1.5292745938023486,
          0.3248137630341598,
          -1.9441841084541889,
          -0.26571405954830585,
          -0.20792111529154567,
          -0.4780125100587477,
          2.2161345568796147,
          0.4737589191469256,
          -1.0508381422262705,
          0.8770403467531728,
          -0.22110978493067945,
          -2.2878592743711383,
          -0.30491582900244435,
          3.7495097200921577,
          0.5599323269316231,
          1.1316583392984148,
          -0.5369995819663967,
          1.1236996914087098,
          -0.2728036103290317,
          1.2025945197111798,
          0.5122006706361073,
          0.0798180310891348,
          0.7916016394178136,
          -0.11986898411035302,
          1.4128274636634972,
          0.17867288971380324,
          1.2866170372239103,
          1.564280875623778,
          0.176276896701876,
          1.0486357010155423,
          -0.7991681606290977,
          1.6321085185177524,
          -0.4563288302703064,
          0.5805724432555952,
          0.02365351076373204,
          1.105708224153926,
          2.2329202529468497,
          -0.847614118112452,
          0.12878339308990167,
          0.7719078193392097,
          1.5226644749901594,
          0.6210969617087052,
          0.9720772290253814,
          3.4750579106732857,
          -0.31541713625986,
          2.231604606908773,
          -0.17644177261787783,
          0.050996347833518745,
          1.170978845923599,
          0.642974865871924,
          -0.5306803613540669,
          -1.7749250568597061,
          -3.294407031214544,
          -0.11548120498782195,
          -1.1297523562743428,
          0.40717446191210094,
          0.17541836588072568,
          0.2805597335081778
         ],
         "yaxis": "y13"
        },
        {
         "line": {
          "color": "rgba(128, 128, 128, 1.0)",
          "dash": "solid",
          "shape": "linear",
          "width": 1.3
         },
         "marker": {
          "size": 2,
          "symbol": "circle"
         },
         "mode": "markers",
         "name": "D",
         "text": "",
         "type": "scatter",
         "x": [
          0.20713171298464164,
          -0.9098290203271999,
          0.6595976436161234,
          1.1391958719025224,
          0.22876136700256824,
          -0.9390175844832885,
          1.40702753694373,
          0.6757395117272006,
          -0.6190602204117278,
          0.9652323468994083,
          1.171138334802606,
          1.9127870674045342,
          0.4741178282201214,
          -2.479844305574245,
          0.8927998703050272,
          -1.491532793139312,
          -0.15493863646237707,
          -0.17367859851820075,
          -0.3910701957760691,
          0.10659597063448929,
          -0.32667053875621144,
          0.7994813604737073,
          -0.4280343716591244,
          -1.150466969038612,
          0.8455562582900276,
          -2.251409282655881,
          0.9821270223673556,
          0.2303455757248052,
          0.04535472902143436,
          -1.2248383310091664,
          1.3674030824397547,
          0.08045700760681646,
          -0.43506133283756054,
          0.24149061558320917,
          -2.0528054626515244,
          0.08373056770003885,
          -0.6361159828889186,
          0.8196960925429025,
          0.8468032243624196,
          -0.10789265679637575,
          -0.5276537406018319,
          -0.5042026403280273,
          0.26276374773287686,
          -1.6144863597671486,
          -0.14370779462404257,
          0.7656677379760024,
          0.7874697232847472,
          -0.8023005621110955,
          0.778255152616999,
          0.5700896498552871,
          -1.0017097238965142,
          -0.6607568163172322,
          1.5905093819220673,
          -1.2110676813411707,
          -0.5601154519339665,
          1.3418467182878748,
          0.6440794160296142,
          -0.39687651490022524,
          -0.4752177292162427,
          0.22650596927963504,
          -0.13680482098526894,
          -0.9673428380469818,
          0.22153028192267313,
          1.7994207743834112,
          -1.003588415564047,
          -0.9112664323687696,
          0.9227233738941317,
          -2.227663388595575,
          0.06724167285175829,
          0.06086377830490128,
          0.3781532535914435,
          1.0079887011567779,
          -2.205453957164551,
          1.164530009463671,
          1.3132946285256442,
          -0.506151267746503,
          -0.05594310018107275,
          0.7545858729175096,
          -0.012902217386942041,
          0.5951414829334419,
          0.12351962806759635,
          -0.38325727961140005,
          -0.6933726532148998,
          2.4415116098964287,
          0.8557274566835281,
          0.7324129287476138,
          -0.8628262713601479,
          0.04756433709781207,
          0.8456812423826571,
          -0.42516235555193016,
          -1.1979961576928366,
          0.5089656233318339,
          0.9803508857671677,
          0.8119129825176856,
          0.03534109009366027,
          -0.17944526405158354,
          0.06161321536565358,
          -0.5760942497350119,
          -0.8844656807832726,
          1.7125044904591131
         ],
         "xaxis": "x14",
         "y": [
          1.704742677700104,
          0.8235667212186872,
          1.586856430834681,
          2.4177509895405196,
          -1.698120880239537,
          0.9513856559545543,
          1.432820319719165,
          0.9319040542152517,
          2.0908949112998574,
          0.24264784705094034,
          1.012562816557507,
          -0.9509606983642789,
          0.21621807050718683,
          -0.812691487194244,
          0.9780952387980227,
          1.3611968402126449,
          0.004019283566734584,
          -0.9802757455225488,
          1.0703293680762096,
          -0.8737621307370945,
          0.8934865318306057,
          1.025346035892475,
          -0.20864015453364615,
          -1.1361297729398474,
          -0.8601631692882453,
          -0.6356786928082033,
          0.27510501242745733,
          -0.4796962814623892,
          -1.1425815068882323,
          1.1769477210528139,
          -0.5911586539291419,
          1.6911962381867163,
          0.967066780353155,
          -0.20991321232926455,
          0.26925268962020554,
          0.1205654135290545,
          0.4182072115762697,
          1.0149652809670269,
          -0.008838220928936583,
          1.0079648026427928,
          1.1579675186119789,
          2.4370866076021303,
          1.5292745938023486,
          0.3248137630341598,
          -1.9441841084541889,
          -0.26571405954830585,
          -0.20792111529154567,
          -0.4780125100587477,
          2.2161345568796147,
          0.4737589191469256,
          -1.0508381422262705,
          0.8770403467531728,
          -0.22110978493067945,
          -2.2878592743711383,
          -0.30491582900244435,
          3.7495097200921577,
          0.5599323269316231,
          1.1316583392984148,
          -0.5369995819663967,
          1.1236996914087098,
          -0.2728036103290317,
          1.2025945197111798,
          0.5122006706361073,
          0.0798180310891348,
          0.7916016394178136,
          -0.11986898411035302,
          1.4128274636634972,
          0.17867288971380324,
          1.2866170372239103,
          1.564280875623778,
          0.176276896701876,
          1.0486357010155423,
          -0.7991681606290977,
          1.6321085185177524,
          -0.4563288302703064,
          0.5805724432555952,
          0.02365351076373204,
          1.105708224153926,
          2.2329202529468497,
          -0.847614118112452,
          0.12878339308990167,
          0.7719078193392097,
          1.5226644749901594,
          0.6210969617087052,
          0.9720772290253814,
          3.4750579106732857,
          -0.31541713625986,
          2.231604606908773,
          -0.17644177261787783,
          0.050996347833518745,
          1.170978845923599,
          0.642974865871924,
          -0.5306803613540669,
          -1.7749250568597061,
          -3.294407031214544,
          -0.11548120498782195,
          -1.1297523562743428,
          0.40717446191210094,
          0.17541836588072568,
          0.2805597335081778
         ],
         "yaxis": "y14"
        },
        {
         "line": {
          "color": "rgba(128, 128, 128, 1.0)",
          "dash": "solid",
          "shape": "linear",
          "width": 1.3
         },
         "marker": {
          "size": 2,
          "symbol": "circle"
         },
         "mode": "markers",
         "name": "D",
         "text": "",
         "type": "scatter",
         "x": [
          -0.1734327179078083,
          1.025281977935646,
          0.202403271941739,
          -0.9834933902244896,
          -0.6474184971807797,
          0.9406868911632378,
          0.3003493689813544,
          -0.747532030840866,
          0.1219500000551959,
          0.12904259385765535,
          -1.2007973492083384,
          -1.0846102717283599,
          1.2810230224396995,
          -0.7090639863368329,
          0.26104238141625064,
          0.6848441923844357,
          1.3712904218858912,
          -1.20861507047745,
          -2.5405455399197185,
          -0.12203039116024908,
          -0.6123589828476048,
          -0.8813710290801637,
          0.10403266515282988,
          -0.26089899633778685,
          -0.4059842516369866,
          1.4187557541977507,
          -1.583138459073382,
          0.5129281122091677,
          1.1652374706613282,
          -0.06728258917509047,
          0.00696080922411059,
          2.3201051260729173,
          -0.3386951531725974,
          2.0000123401643926,
          0.2919076413108785,
          1.8173093195240135,
          -1.4664951424779313,
          -0.3879112807547932,
          -0.5231934268594857,
          -0.14139344505727036,
          -1.100207439833855,
          0.7594443962865002,
          1.2385532475987762,
          -0.759695377875985,
          2.0542853298186423,
          2.210261248274123,
          0.819297640181099,
          0.7048244974399858,
          0.688841842644157,
          -0.5799814981264281,
          2.2515167496768416,
          1.1155921104798137,
          -0.6337498347256617,
          -0.6561852397859022,
          1.1105627550113193,
          1.5348593972668638,
          -0.324936965303408,
          -0.8361104252801637,
          0.7653712969595001,
          0.24907108738950298,
          -1.2317967452216088,
          0.8997703641459304,
          1.1395077801318922,
          0.28847376341816117,
          0.1886156039673864,
          -0.4074341231445621,
          0.7997895526136964,
          -1.0912104356636727,
          0.3119971138291475,
          -0.4185002045442197,
          2.5248181577844178,
          1.3455246110481505,
          -0.3117992178894114,
          -0.31847321483254554,
          1.2131033077720554,
          1.448868825477331,
          -0.24328247881868906,
          -0.3567749124083891,
          -0.16926826070298467,
          -0.35396995301437073,
          -0.8700087169425702,
          -0.14947867980498358,
          -0.040000503325443346,
          -0.21783051862202382,
          0.21673625801784674,
          -0.8960474515146457,
          1.3481557076721484,
          -0.9950879670041042,
          2.0841530694291532,
          -0.7154536902547273,
          -1.3717402491254331,
          -0.48537609341111554,
          -1.4175095023892268,
          -0.13422213336448804,
          1.461727020346443,
          -1.816800058383163,
          1.0812660470410758,
          1.409532907990298,
          -0.4544789634340318,
          0.9615157849938297
         ],
         "xaxis": "x15",
         "y": [
          1.704742677700104,
          0.8235667212186872,
          1.586856430834681,
          2.4177509895405196,
          -1.698120880239537,
          0.9513856559545543,
          1.432820319719165,
          0.9319040542152517,
          2.0908949112998574,
          0.24264784705094034,
          1.012562816557507,
          -0.9509606983642789,
          0.21621807050718683,
          -0.812691487194244,
          0.9780952387980227,
          1.3611968402126449,
          0.004019283566734584,
          -0.9802757455225488,
          1.0703293680762096,
          -0.8737621307370945,
          0.8934865318306057,
          1.025346035892475,
          -0.20864015453364615,
          -1.1361297729398474,
          -0.8601631692882453,
          -0.6356786928082033,
          0.27510501242745733,
          -0.4796962814623892,
          -1.1425815068882323,
          1.1769477210528139,
          -0.5911586539291419,
          1.6911962381867163,
          0.967066780353155,
          -0.20991321232926455,
          0.26925268962020554,
          0.1205654135290545,
          0.4182072115762697,
          1.0149652809670269,
          -0.008838220928936583,
          1.0079648026427928,
          1.1579675186119789,
          2.4370866076021303,
          1.5292745938023486,
          0.3248137630341598,
          -1.9441841084541889,
          -0.26571405954830585,
          -0.20792111529154567,
          -0.4780125100587477,
          2.2161345568796147,
          0.4737589191469256,
          -1.0508381422262705,
          0.8770403467531728,
          -0.22110978493067945,
          -2.2878592743711383,
          -0.30491582900244435,
          3.7495097200921577,
          0.5599323269316231,
          1.1316583392984148,
          -0.5369995819663967,
          1.1236996914087098,
          -0.2728036103290317,
          1.2025945197111798,
          0.5122006706361073,
          0.0798180310891348,
          0.7916016394178136,
          -0.11986898411035302,
          1.4128274636634972,
          0.17867288971380324,
          1.2866170372239103,
          1.564280875623778,
          0.176276896701876,
          1.0486357010155423,
          -0.7991681606290977,
          1.6321085185177524,
          -0.4563288302703064,
          0.5805724432555952,
          0.02365351076373204,
          1.105708224153926,
          2.2329202529468497,
          -0.847614118112452,
          0.12878339308990167,
          0.7719078193392097,
          1.5226644749901594,
          0.6210969617087052,
          0.9720772290253814,
          3.4750579106732857,
          -0.31541713625986,
          2.231604606908773,
          -0.17644177261787783,
          0.050996347833518745,
          1.170978845923599,
          0.642974865871924,
          -0.5306803613540669,
          -1.7749250568597061,
          -3.294407031214544,
          -0.11548120498782195,
          -1.1297523562743428,
          0.40717446191210094,
          0.17541836588072568,
          0.2805597335081778
         ],
         "yaxis": "y15"
        },
        {
         "histfunc": "count",
         "histnorm": "",
         "marker": {
          "color": "rgba(128, 0, 128, 1.0)",
          "line": {
           "color": "#4D5663",
           "width": 1.3
          }
         },
         "name": "D",
         "nbinsx": 10,
         "opacity": 0.8,
         "orientation": "v",
         "type": "histogram",
         "x": [
          1.704742677700104,
          0.8235667212186872,
          1.586856430834681,
          2.4177509895405196,
          -1.698120880239537,
          0.9513856559545543,
          1.432820319719165,
          0.9319040542152517,
          2.0908949112998574,
          0.24264784705094034,
          1.012562816557507,
          -0.9509606983642789,
          0.21621807050718683,
          -0.812691487194244,
          0.9780952387980227,
          1.3611968402126449,
          0.004019283566734584,
          -0.9802757455225488,
          1.0703293680762096,
          -0.8737621307370945,
          0.8934865318306057,
          1.025346035892475,
          -0.20864015453364615,
          -1.1361297729398474,
          -0.8601631692882453,
          -0.6356786928082033,
          0.27510501242745733,
          -0.4796962814623892,
          -1.1425815068882323,
          1.1769477210528139,
          -0.5911586539291419,
          1.6911962381867163,
          0.967066780353155,
          -0.20991321232926455,
          0.26925268962020554,
          0.1205654135290545,
          0.4182072115762697,
          1.0149652809670269,
          -0.008838220928936583,
          1.0079648026427928,
          1.1579675186119789,
          2.4370866076021303,
          1.5292745938023486,
          0.3248137630341598,
          -1.9441841084541889,
          -0.26571405954830585,
          -0.20792111529154567,
          -0.4780125100587477,
          2.2161345568796147,
          0.4737589191469256,
          -1.0508381422262705,
          0.8770403467531728,
          -0.22110978493067945,
          -2.2878592743711383,
          -0.30491582900244435,
          3.7495097200921577,
          0.5599323269316231,
          1.1316583392984148,
          -0.5369995819663967,
          1.1236996914087098,
          -0.2728036103290317,
          1.2025945197111798,
          0.5122006706361073,
          0.0798180310891348,
          0.7916016394178136,
          -0.11986898411035302,
          1.4128274636634972,
          0.17867288971380324,
          1.2866170372239103,
          1.564280875623778,
          0.176276896701876,
          1.0486357010155423,
          -0.7991681606290977,
          1.6321085185177524,
          -0.4563288302703064,
          0.5805724432555952,
          0.02365351076373204,
          1.105708224153926,
          2.2329202529468497,
          -0.847614118112452,
          0.12878339308990167,
          0.7719078193392097,
          1.5226644749901594,
          0.6210969617087052,
          0.9720772290253814,
          3.4750579106732857,
          -0.31541713625986,
          2.231604606908773,
          -0.17644177261787783,
          0.050996347833518745,
          1.170978845923599,
          0.642974865871924,
          -0.5306803613540669,
          -1.7749250568597061,
          -3.294407031214544,
          -0.11548120498782195,
          -1.1297523562743428,
          0.40717446191210094,
          0.17541836588072568,
          0.2805597335081778
         ],
         "xaxis": "x16",
         "yaxis": "y16"
        }
       ],
       "layout": {
        "bargap": 0.02,
        "legend": {
         "bgcolor": "#F5F6F9",
         "font": {
          "color": "#4D5663"
         }
        },
        "paper_bgcolor": "#F5F6F9",
        "plot_bgcolor": "#F5F6F9",
        "showlegend": false,
        "template": {
         "data": {
          "bar": [
           {
            "error_x": {
             "color": "#2a3f5f"
            },
            "error_y": {
             "color": "#2a3f5f"
            },
            "marker": {
             "line": {
              "color": "#E5ECF6",
              "width": 0.5
             },
             "pattern": {
              "fillmode": "overlay",
              "size": 10,
              "solidity": 0.2
             }
            },
            "type": "bar"
           }
          ],
          "barpolar": [
           {
            "marker": {
             "line": {
              "color": "#E5ECF6",
              "width": 0.5
             },
             "pattern": {
              "fillmode": "overlay",
              "size": 10,
              "solidity": 0.2
             }
            },
            "type": "barpolar"
           }
          ],
          "carpet": [
           {
            "aaxis": {
             "endlinecolor": "#2a3f5f",
             "gridcolor": "white",
             "linecolor": "white",
             "minorgridcolor": "white",
             "startlinecolor": "#2a3f5f"
            },
            "baxis": {
             "endlinecolor": "#2a3f5f",
             "gridcolor": "white",
             "linecolor": "white",
             "minorgridcolor": "white",
             "startlinecolor": "#2a3f5f"
            },
            "type": "carpet"
           }
          ],
          "choropleth": [
           {
            "colorbar": {
             "outlinewidth": 0,
             "ticks": ""
            },
            "type": "choropleth"
           }
          ],
          "contour": [
           {
            "colorbar": {
             "outlinewidth": 0,
             "ticks": ""
            },
            "colorscale": [
             [
              0,
              "#0d0887"
             ],
             [
              0.1111111111111111,
              "#46039f"
             ],
             [
              0.2222222222222222,
              "#7201a8"
             ],
             [
              0.3333333333333333,
              "#9c179e"
             ],
             [
              0.4444444444444444,
              "#bd3786"
             ],
             [
              0.5555555555555556,
              "#d8576b"
             ],
             [
              0.6666666666666666,
              "#ed7953"
             ],
             [
              0.7777777777777778,
              "#fb9f3a"
             ],
             [
              0.8888888888888888,
              "#fdca26"
             ],
             [
              1,
              "#f0f921"
             ]
            ],
            "type": "contour"
           }
          ],
          "contourcarpet": [
           {
            "colorbar": {
             "outlinewidth": 0,
             "ticks": ""
            },
            "type": "contourcarpet"
           }
          ],
          "heatmap": [
           {
            "colorbar": {
             "outlinewidth": 0,
             "ticks": ""
            },
            "colorscale": [
             [
              0,
              "#0d0887"
             ],
             [
              0.1111111111111111,
              "#46039f"
             ],
             [
              0.2222222222222222,
              "#7201a8"
             ],
             [
              0.3333333333333333,
              "#9c179e"
             ],
             [
              0.4444444444444444,
              "#bd3786"
             ],
             [
              0.5555555555555556,
              "#d8576b"
             ],
             [
              0.6666666666666666,
              "#ed7953"
             ],
             [
              0.7777777777777778,
              "#fb9f3a"
             ],
             [
              0.8888888888888888,
              "#fdca26"
             ],
             [
              1,
              "#f0f921"
             ]
            ],
            "type": "heatmap"
           }
          ],
          "heatmapgl": [
           {
            "colorbar": {
             "outlinewidth": 0,
             "ticks": ""
            },
            "colorscale": [
             [
              0,
              "#0d0887"
             ],
             [
              0.1111111111111111,
              "#46039f"
             ],
             [
              0.2222222222222222,
              "#7201a8"
             ],
             [
              0.3333333333333333,
              "#9c179e"
             ],
             [
              0.4444444444444444,
              "#bd3786"
             ],
             [
              0.5555555555555556,
              "#d8576b"
             ],
             [
              0.6666666666666666,
              "#ed7953"
             ],
             [
              0.7777777777777778,
              "#fb9f3a"
             ],
             [
              0.8888888888888888,
              "#fdca26"
             ],
             [
              1,
              "#f0f921"
             ]
            ],
            "type": "heatmapgl"
           }
          ],
          "histogram": [
           {
            "marker": {
             "pattern": {
              "fillmode": "overlay",
              "size": 10,
              "solidity": 0.2
             }
            },
            "type": "histogram"
           }
          ],
          "histogram2d": [
           {
            "colorbar": {
             "outlinewidth": 0,
             "ticks": ""
            },
            "colorscale": [
             [
              0,
              "#0d0887"
             ],
             [
              0.1111111111111111,
              "#46039f"
             ],
             [
              0.2222222222222222,
              "#7201a8"
             ],
             [
              0.3333333333333333,
              "#9c179e"
             ],
             [
              0.4444444444444444,
              "#bd3786"
             ],
             [
              0.5555555555555556,
              "#d8576b"
             ],
             [
              0.6666666666666666,
              "#ed7953"
             ],
             [
              0.7777777777777778,
              "#fb9f3a"
             ],
             [
              0.8888888888888888,
              "#fdca26"
             ],
             [
              1,
              "#f0f921"
             ]
            ],
            "type": "histogram2d"
           }
          ],
          "histogram2dcontour": [
           {
            "colorbar": {
             "outlinewidth": 0,
             "ticks": ""
            },
            "colorscale": [
             [
              0,
              "#0d0887"
             ],
             [
              0.1111111111111111,
              "#46039f"
             ],
             [
              0.2222222222222222,
              "#7201a8"
             ],
             [
              0.3333333333333333,
              "#9c179e"
             ],
             [
              0.4444444444444444,
              "#bd3786"
             ],
             [
              0.5555555555555556,
              "#d8576b"
             ],
             [
              0.6666666666666666,
              "#ed7953"
             ],
             [
              0.7777777777777778,
              "#fb9f3a"
             ],
             [
              0.8888888888888888,
              "#fdca26"
             ],
             [
              1,
              "#f0f921"
             ]
            ],
            "type": "histogram2dcontour"
           }
          ],
          "mesh3d": [
           {
            "colorbar": {
             "outlinewidth": 0,
             "ticks": ""
            },
            "type": "mesh3d"
           }
          ],
          "parcoords": [
           {
            "line": {
             "colorbar": {
              "outlinewidth": 0,
              "ticks": ""
             }
            },
            "type": "parcoords"
           }
          ],
          "pie": [
           {
            "automargin": true,
            "type": "pie"
           }
          ],
          "scatter": [
           {
            "fillpattern": {
             "fillmode": "overlay",
             "size": 10,
             "solidity": 0.2
            },
            "type": "scatter"
           }
          ],
          "scatter3d": [
           {
            "line": {
             "colorbar": {
              "outlinewidth": 0,
              "ticks": ""
             }
            },
            "marker": {
             "colorbar": {
              "outlinewidth": 0,
              "ticks": ""
             }
            },
            "type": "scatter3d"
           }
          ],
          "scattercarpet": [
           {
            "marker": {
             "colorbar": {
              "outlinewidth": 0,
              "ticks": ""
             }
            },
            "type": "scattercarpet"
           }
          ],
          "scattergeo": [
           {
            "marker": {
             "colorbar": {
              "outlinewidth": 0,
              "ticks": ""
             }
            },
            "type": "scattergeo"
           }
          ],
          "scattergl": [
           {
            "marker": {
             "colorbar": {
              "outlinewidth": 0,
              "ticks": ""
             }
            },
            "type": "scattergl"
           }
          ],
          "scattermapbox": [
           {
            "marker": {
             "colorbar": {
              "outlinewidth": 0,
              "ticks": ""
             }
            },
            "type": "scattermapbox"
           }
          ],
          "scatterpolar": [
           {
            "marker": {
             "colorbar": {
              "outlinewidth": 0,
              "ticks": ""
             }
            },
            "type": "scatterpolar"
           }
          ],
          "scatterpolargl": [
           {
            "marker": {
             "colorbar": {
              "outlinewidth": 0,
              "ticks": ""
             }
            },
            "type": "scatterpolargl"
           }
          ],
          "scatterternary": [
           {
            "marker": {
             "colorbar": {
              "outlinewidth": 0,
              "ticks": ""
             }
            },
            "type": "scatterternary"
           }
          ],
          "surface": [
           {
            "colorbar": {
             "outlinewidth": 0,
             "ticks": ""
            },
            "colorscale": [
             [
              0,
              "#0d0887"
             ],
             [
              0.1111111111111111,
              "#46039f"
             ],
             [
              0.2222222222222222,
              "#7201a8"
             ],
             [
              0.3333333333333333,
              "#9c179e"
             ],
             [
              0.4444444444444444,
              "#bd3786"
             ],
             [
              0.5555555555555556,
              "#d8576b"
             ],
             [
              0.6666666666666666,
              "#ed7953"
             ],
             [
              0.7777777777777778,
              "#fb9f3a"
             ],
             [
              0.8888888888888888,
              "#fdca26"
             ],
             [
              1,
              "#f0f921"
             ]
            ],
            "type": "surface"
           }
          ],
          "table": [
           {
            "cells": {
             "fill": {
              "color": "#EBF0F8"
             },
             "line": {
              "color": "white"
             }
            },
            "header": {
             "fill": {
              "color": "#C8D4E3"
             },
             "line": {
              "color": "white"
             }
            },
            "type": "table"
           }
          ]
         },
         "layout": {
          "annotationdefaults": {
           "arrowcolor": "#2a3f5f",
           "arrowhead": 0,
           "arrowwidth": 1
          },
          "autotypenumbers": "strict",
          "coloraxis": {
           "colorbar": {
            "outlinewidth": 0,
            "ticks": ""
           }
          },
          "colorscale": {
           "diverging": [
            [
             0,
             "#8e0152"
            ],
            [
             0.1,
             "#c51b7d"
            ],
            [
             0.2,
             "#de77ae"
            ],
            [
             0.3,
             "#f1b6da"
            ],
            [
             0.4,
             "#fde0ef"
            ],
            [
             0.5,
             "#f7f7f7"
            ],
            [
             0.6,
             "#e6f5d0"
            ],
            [
             0.7,
             "#b8e186"
            ],
            [
             0.8,
             "#7fbc41"
            ],
            [
             0.9,
             "#4d9221"
            ],
            [
             1,
             "#276419"
            ]
           ],
           "sequential": [
            [
             0,
             "#0d0887"
            ],
            [
             0.1111111111111111,
             "#46039f"
            ],
            [
             0.2222222222222222,
             "#7201a8"
            ],
            [
             0.3333333333333333,
             "#9c179e"
            ],
            [
             0.4444444444444444,
             "#bd3786"
            ],
            [
             0.5555555555555556,
             "#d8576b"
            ],
            [
             0.6666666666666666,
             "#ed7953"
            ],
            [
             0.7777777777777778,
             "#fb9f3a"
            ],
            [
             0.8888888888888888,
             "#fdca26"
            ],
            [
             1,
             "#f0f921"
            ]
           ],
           "sequentialminus": [
            [
             0,
             "#0d0887"
            ],
            [
             0.1111111111111111,
             "#46039f"
            ],
            [
             0.2222222222222222,
             "#7201a8"
            ],
            [
             0.3333333333333333,
             "#9c179e"
            ],
            [
             0.4444444444444444,
             "#bd3786"
            ],
            [
             0.5555555555555556,
             "#d8576b"
            ],
            [
             0.6666666666666666,
             "#ed7953"
            ],
            [
             0.7777777777777778,
             "#fb9f3a"
            ],
            [
             0.8888888888888888,
             "#fdca26"
            ],
            [
             1,
             "#f0f921"
            ]
           ]
          },
          "colorway": [
           "#636efa",
           "#EF553B",
           "#00cc96",
           "#ab63fa",
           "#FFA15A",
           "#19d3f3",
           "#FF6692",
           "#B6E880",
           "#FF97FF",
           "#FECB52"
          ],
          "font": {
           "color": "#2a3f5f"
          },
          "geo": {
           "bgcolor": "white",
           "lakecolor": "white",
           "landcolor": "#E5ECF6",
           "showlakes": true,
           "showland": true,
           "subunitcolor": "white"
          },
          "hoverlabel": {
           "align": "left"
          },
          "hovermode": "closest",
          "mapbox": {
           "style": "light"
          },
          "paper_bgcolor": "white",
          "plot_bgcolor": "#E5ECF6",
          "polar": {
           "angularaxis": {
            "gridcolor": "white",
            "linecolor": "white",
            "ticks": ""
           },
           "bgcolor": "#E5ECF6",
           "radialaxis": {
            "gridcolor": "white",
            "linecolor": "white",
            "ticks": ""
           }
          },
          "scene": {
           "xaxis": {
            "backgroundcolor": "#E5ECF6",
            "gridcolor": "white",
            "gridwidth": 2,
            "linecolor": "white",
            "showbackground": true,
            "ticks": "",
            "zerolinecolor": "white"
           },
           "yaxis": {
            "backgroundcolor": "#E5ECF6",
            "gridcolor": "white",
            "gridwidth": 2,
            "linecolor": "white",
            "showbackground": true,
            "ticks": "",
            "zerolinecolor": "white"
           },
           "zaxis": {
            "backgroundcolor": "#E5ECF6",
            "gridcolor": "white",
            "gridwidth": 2,
            "linecolor": "white",
            "showbackground": true,
            "ticks": "",
            "zerolinecolor": "white"
           }
          },
          "shapedefaults": {
           "line": {
            "color": "#2a3f5f"
           }
          },
          "ternary": {
           "aaxis": {
            "gridcolor": "white",
            "linecolor": "white",
            "ticks": ""
           },
           "baxis": {
            "gridcolor": "white",
            "linecolor": "white",
            "ticks": ""
           },
           "bgcolor": "#E5ECF6",
           "caxis": {
            "gridcolor": "white",
            "linecolor": "white",
            "ticks": ""
           }
          },
          "title": {
           "x": 0.05
          },
          "xaxis": {
           "automargin": true,
           "gridcolor": "white",
           "linecolor": "white",
           "ticks": "",
           "title": {
            "standoff": 15
           },
           "zerolinecolor": "white",
           "zerolinewidth": 2
          },
          "yaxis": {
           "automargin": true,
           "gridcolor": "white",
           "linecolor": "white",
           "ticks": "",
           "title": {
            "standoff": 15
           },
           "zerolinecolor": "white",
           "zerolinewidth": 2
          }
         }
        },
        "title": {
         "font": {
          "color": "#4D5663"
         }
        },
        "xaxis": {
         "anchor": "y",
         "domain": [
          0,
          0.2125
         ],
         "gridcolor": "#E1E5ED",
         "showgrid": false,
         "tickfont": {
          "color": "#4D5663"
         },
         "title": {
          "font": {
           "color": "#4D5663"
          },
          "text": ""
         },
         "zerolinecolor": "#E1E5ED"
        },
        "xaxis10": {
         "anchor": "y10",
         "domain": [
          0.2625,
          0.475
         ],
         "gridcolor": "#E1E5ED",
         "showgrid": false,
         "tickfont": {
          "color": "#4D5663"
         },
         "title": {
          "font": {
           "color": "#4D5663"
          },
          "text": ""
         },
         "zerolinecolor": "#E1E5ED"
        },
        "xaxis11": {
         "anchor": "y11",
         "domain": [
          0.525,
          0.7375
         ],
         "gridcolor": "#E1E5ED",
         "showgrid": false,
         "tickfont": {
          "color": "#4D5663"
         },
         "title": {
          "font": {
           "color": "#4D5663"
          },
          "text": ""
         },
         "zerolinecolor": "#E1E5ED"
        },
        "xaxis12": {
         "anchor": "y12",
         "domain": [
          0.7875,
          1
         ],
         "gridcolor": "#E1E5ED",
         "showgrid": false,
         "tickfont": {
          "color": "#4D5663"
         },
         "title": {
          "font": {
           "color": "#4D5663"
          },
          "text": ""
         },
         "zerolinecolor": "#E1E5ED"
        },
        "xaxis13": {
         "anchor": "y13",
         "domain": [
          0,
          0.2125
         ],
         "gridcolor": "#E1E5ED",
         "showgrid": false,
         "tickfont": {
          "color": "#4D5663"
         },
         "title": {
          "font": {
           "color": "#4D5663"
          },
          "text": ""
         },
         "zerolinecolor": "#E1E5ED"
        },
        "xaxis14": {
         "anchor": "y14",
         "domain": [
          0.2625,
          0.475
         ],
         "gridcolor": "#E1E5ED",
         "showgrid": false,
         "tickfont": {
          "color": "#4D5663"
         },
         "title": {
          "font": {
           "color": "#4D5663"
          },
          "text": ""
         },
         "zerolinecolor": "#E1E5ED"
        },
        "xaxis15": {
         "anchor": "y15",
         "domain": [
          0.525,
          0.7375
         ],
         "gridcolor": "#E1E5ED",
         "showgrid": false,
         "tickfont": {
          "color": "#4D5663"
         },
         "title": {
          "font": {
           "color": "#4D5663"
          },
          "text": ""
         },
         "zerolinecolor": "#E1E5ED"
        },
        "xaxis16": {
         "anchor": "y16",
         "domain": [
          0.7875,
          1
         ],
         "gridcolor": "#E1E5ED",
         "showgrid": false,
         "tickfont": {
          "color": "#4D5663"
         },
         "title": {
          "font": {
           "color": "#4D5663"
          },
          "text": ""
         },
         "zerolinecolor": "#E1E5ED"
        },
        "xaxis2": {
         "anchor": "y2",
         "domain": [
          0.2625,
          0.475
         ],
         "gridcolor": "#E1E5ED",
         "showgrid": false,
         "tickfont": {
          "color": "#4D5663"
         },
         "title": {
          "font": {
           "color": "#4D5663"
          },
          "text": ""
         },
         "zerolinecolor": "#E1E5ED"
        },
        "xaxis3": {
         "anchor": "y3",
         "domain": [
          0.525,
          0.7375
         ],
         "gridcolor": "#E1E5ED",
         "showgrid": false,
         "tickfont": {
          "color": "#4D5663"
         },
         "title": {
          "font": {
           "color": "#4D5663"
          },
          "text": ""
         },
         "zerolinecolor": "#E1E5ED"
        },
        "xaxis4": {
         "anchor": "y4",
         "domain": [
          0.7875,
          1
         ],
         "gridcolor": "#E1E5ED",
         "showgrid": false,
         "tickfont": {
          "color": "#4D5663"
         },
         "title": {
          "font": {
           "color": "#4D5663"
          },
          "text": ""
         },
         "zerolinecolor": "#E1E5ED"
        },
        "xaxis5": {
         "anchor": "y5",
         "domain": [
          0,
          0.2125
         ],
         "gridcolor": "#E1E5ED",
         "showgrid": false,
         "tickfont": {
          "color": "#4D5663"
         },
         "title": {
          "font": {
           "color": "#4D5663"
          },
          "text": ""
         },
         "zerolinecolor": "#E1E5ED"
        },
        "xaxis6": {
         "anchor": "y6",
         "domain": [
          0.2625,
          0.475
         ],
         "gridcolor": "#E1E5ED",
         "showgrid": false,
         "tickfont": {
          "color": "#4D5663"
         },
         "title": {
          "font": {
           "color": "#4D5663"
          },
          "text": ""
         },
         "zerolinecolor": "#E1E5ED"
        },
        "xaxis7": {
         "anchor": "y7",
         "domain": [
          0.525,
          0.7375
         ],
         "gridcolor": "#E1E5ED",
         "showgrid": false,
         "tickfont": {
          "color": "#4D5663"
         },
         "title": {
          "font": {
           "color": "#4D5663"
          },
          "text": ""
         },
         "zerolinecolor": "#E1E5ED"
        },
        "xaxis8": {
         "anchor": "y8",
         "domain": [
          0.7875,
          1
         ],
         "gridcolor": "#E1E5ED",
         "showgrid": false,
         "tickfont": {
          "color": "#4D5663"
         },
         "title": {
          "font": {
           "color": "#4D5663"
          },
          "text": ""
         },
         "zerolinecolor": "#E1E5ED"
        },
        "xaxis9": {
         "anchor": "y9",
         "domain": [
          0,
          0.2125
         ],
         "gridcolor": "#E1E5ED",
         "showgrid": false,
         "tickfont": {
          "color": "#4D5663"
         },
         "title": {
          "font": {
           "color": "#4D5663"
          },
          "text": ""
         },
         "zerolinecolor": "#E1E5ED"
        },
        "yaxis": {
         "anchor": "x",
         "domain": [
          0.8025,
          1
         ],
         "gridcolor": "#E1E5ED",
         "showgrid": false,
         "tickfont": {
          "color": "#4D5663"
         },
         "title": {
          "font": {
           "color": "#4D5663"
          },
          "text": ""
         },
         "zerolinecolor": "#E1E5ED"
        },
        "yaxis10": {
         "anchor": "x10",
         "domain": [
          0.2675,
          0.465
         ],
         "gridcolor": "#E1E5ED",
         "showgrid": false,
         "tickfont": {
          "color": "#4D5663"
         },
         "title": {
          "font": {
           "color": "#4D5663"
          },
          "text": ""
         },
         "zerolinecolor": "#E1E5ED"
        },
        "yaxis11": {
         "anchor": "x11",
         "domain": [
          0.2675,
          0.465
         ],
         "gridcolor": "#E1E5ED",
         "showgrid": false,
         "tickfont": {
          "color": "#4D5663"
         },
         "title": {
          "font": {
           "color": "#4D5663"
          },
          "text": ""
         },
         "zerolinecolor": "#E1E5ED"
        },
        "yaxis12": {
         "anchor": "x12",
         "domain": [
          0.2675,
          0.465
         ],
         "gridcolor": "#E1E5ED",
         "showgrid": false,
         "tickfont": {
          "color": "#4D5663"
         },
         "title": {
          "font": {
           "color": "#4D5663"
          },
          "text": ""
         },
         "zerolinecolor": "#E1E5ED"
        },
        "yaxis13": {
         "anchor": "x13",
         "domain": [
          0,
          0.1975
         ],
         "gridcolor": "#E1E5ED",
         "showgrid": false,
         "tickfont": {
          "color": "#4D5663"
         },
         "title": {
          "font": {
           "color": "#4D5663"
          },
          "text": ""
         },
         "zerolinecolor": "#E1E5ED"
        },
        "yaxis14": {
         "anchor": "x14",
         "domain": [
          0,
          0.1975
         ],
         "gridcolor": "#E1E5ED",
         "showgrid": false,
         "tickfont": {
          "color": "#4D5663"
         },
         "title": {
          "font": {
           "color": "#4D5663"
          },
          "text": ""
         },
         "zerolinecolor": "#E1E5ED"
        },
        "yaxis15": {
         "anchor": "x15",
         "domain": [
          0,
          0.1975
         ],
         "gridcolor": "#E1E5ED",
         "showgrid": false,
         "tickfont": {
          "color": "#4D5663"
         },
         "title": {
          "font": {
           "color": "#4D5663"
          },
          "text": ""
         },
         "zerolinecolor": "#E1E5ED"
        },
        "yaxis16": {
         "anchor": "x16",
         "domain": [
          0,
          0.1975
         ],
         "gridcolor": "#E1E5ED",
         "showgrid": false,
         "tickfont": {
          "color": "#4D5663"
         },
         "title": {
          "font": {
           "color": "#4D5663"
          },
          "text": ""
         },
         "zerolinecolor": "#E1E5ED"
        },
        "yaxis2": {
         "anchor": "x2",
         "domain": [
          0.8025,
          1
         ],
         "gridcolor": "#E1E5ED",
         "showgrid": false,
         "tickfont": {
          "color": "#4D5663"
         },
         "title": {
          "font": {
           "color": "#4D5663"
          },
          "text": ""
         },
         "zerolinecolor": "#E1E5ED"
        },
        "yaxis3": {
         "anchor": "x3",
         "domain": [
          0.8025,
          1
         ],
         "gridcolor": "#E1E5ED",
         "showgrid": false,
         "tickfont": {
          "color": "#4D5663"
         },
         "title": {
          "font": {
           "color": "#4D5663"
          },
          "text": ""
         },
         "zerolinecolor": "#E1E5ED"
        },
        "yaxis4": {
         "anchor": "x4",
         "domain": [
          0.8025,
          1
         ],
         "gridcolor": "#E1E5ED",
         "showgrid": false,
         "tickfont": {
          "color": "#4D5663"
         },
         "title": {
          "font": {
           "color": "#4D5663"
          },
          "text": ""
         },
         "zerolinecolor": "#E1E5ED"
        },
        "yaxis5": {
         "anchor": "x5",
         "domain": [
          0.535,
          0.7325
         ],
         "gridcolor": "#E1E5ED",
         "showgrid": false,
         "tickfont": {
          "color": "#4D5663"
         },
         "title": {
          "font": {
           "color": "#4D5663"
          },
          "text": ""
         },
         "zerolinecolor": "#E1E5ED"
        },
        "yaxis6": {
         "anchor": "x6",
         "domain": [
          0.535,
          0.7325
         ],
         "gridcolor": "#E1E5ED",
         "showgrid": false,
         "tickfont": {
          "color": "#4D5663"
         },
         "title": {
          "font": {
           "color": "#4D5663"
          },
          "text": ""
         },
         "zerolinecolor": "#E1E5ED"
        },
        "yaxis7": {
         "anchor": "x7",
         "domain": [
          0.535,
          0.7325
         ],
         "gridcolor": "#E1E5ED",
         "showgrid": false,
         "tickfont": {
          "color": "#4D5663"
         },
         "title": {
          "font": {
           "color": "#4D5663"
          },
          "text": ""
         },
         "zerolinecolor": "#E1E5ED"
        },
        "yaxis8": {
         "anchor": "x8",
         "domain": [
          0.535,
          0.7325
         ],
         "gridcolor": "#E1E5ED",
         "showgrid": false,
         "tickfont": {
          "color": "#4D5663"
         },
         "title": {
          "font": {
           "color": "#4D5663"
          },
          "text": ""
         },
         "zerolinecolor": "#E1E5ED"
        },
        "yaxis9": {
         "anchor": "x9",
         "domain": [
          0.2675,
          0.465
         ],
         "gridcolor": "#E1E5ED",
         "showgrid": false,
         "tickfont": {
          "color": "#4D5663"
         },
         "title": {
          "font": {
           "color": "#4D5663"
          },
          "text": ""
         },
         "zerolinecolor": "#E1E5ED"
        }
       }
      },
      "text/html": [
       "<div>                            <div id=\"b2194b69-144d-4d5f-8c23-6228bb7ccc40\" class=\"plotly-graph-div\" style=\"height:525px; width:100%;\"></div>            <script type=\"text/javascript\">                require([\"plotly\"], function(Plotly) {                    window.PLOTLYENV=window.PLOTLYENV || {};\n",
       "                    window.PLOTLYENV.BASE_URL='https://plot.ly';                                    if (document.getElementById(\"b2194b69-144d-4d5f-8c23-6228bb7ccc40\")) {                    Plotly.newPlot(                        \"b2194b69-144d-4d5f-8c23-6228bb7ccc40\",                        [{\"histfunc\":\"count\",\"histnorm\":\"\",\"marker\":{\"color\":\"rgba(255, 153, 51, 1.0)\",\"line\":{\"color\":\"#4D5663\",\"width\":1.3}},\"name\":\"A\",\"nbinsx\":10,\"opacity\":0.8,\"orientation\":\"v\",\"x\":[-1.9903004256683205,-0.44331522383487904,0.5522209986709692,-0.8761307777820353,1.1989648408531712,1.107396907449335,-0.029371122099748383,0.3056333470056156,-0.4955087979621365,-0.6520420406756742,-2.5267952417248734,0.28866743458960153,-1.4316957620782398,-0.6044368465373989,-0.7835590378190067,-0.12675905868030538,-0.8723173151421462,-1.3441213992499,0.9239839346598812,-0.37358758223316085,0.9588303627419025,-0.1052825661486228,0.38119597175663916,0.3576427427245764,-0.5702151234625347,-0.5572216628600934,0.017719846225363156,1.2887145074843485,-0.7411771478820481,-0.6419864197153446,1.1972219508024184,0.25945352369678465,1.2969932581570864,-0.766403700861819,-0.5880695192706119,0.23921319399362173,0.41198072881213454,0.8298012119060374,-0.39388130471441646,-0.9685240289521347,-1.5016621442024582,0.2224241435501135,-0.8493083133394347,-1.0609152477969157,-1.469355455640693,1.102203544886654,0.9789753952414446,-1.219515842422679,-1.0441517795610855,0.2804323979633052,-0.3944849837527407,0.7544188492417558,-1.1088178682546639,0.1837902883409436,-1.0221321290638552,0.7823997618515374,1.1860800573721049,0.03555123929313354,-0.08788533678144475,-1.0979193923822788,0.5231731489710988,0.5697924927381082,-0.20924153665318343,1.3985467032028418,1.7004020608481674,0.2030413325552144,-0.6268391642990602,0.3988770551212099,0.06965082275610238,-1.9116331125018202,0.1380241162431082,-1.1037926748877243,0.8081457348428449,-0.9356293594254312,-0.0916575756043444,0.5779288906452257,0.5962772865240996,1.515969853059908,-1.3425234485560702,-0.3600001508909471,-0.07624704610784032,-1.7522234689232437,-0.37257406422804706,1.193137958920794,1.154637422674318,0.31205407485525993,0.44184177745646686,-1.3778745790073854,-1.011665062974858,0.03515567990235361,0.41947441807572,-1.3135785687987815,0.3272638323888706,-1.0046483036078868,0.6876459011460935,-0.19200991915835824,-0.1546255652119731,1.5186581723550163,-0.07716251245343556,0.5410204542460056],\"xaxis\":\"x\",\"yaxis\":\"y\",\"type\":\"histogram\"},{\"line\":{\"color\":\"rgba(128, 128, 128, 1.0)\",\"dash\":\"solid\",\"shape\":\"linear\",\"width\":1.3},\"marker\":{\"size\":2,\"symbol\":\"circle\"},\"mode\":\"markers\",\"name\":\"A\",\"text\":\"\",\"x\":[0.20713171298464164,-0.9098290203271999,0.6595976436161234,1.1391958719025224,0.22876136700256824,-0.9390175844832885,1.40702753694373,0.6757395117272006,-0.6190602204117278,0.9652323468994083,1.171138334802606,1.9127870674045342,0.4741178282201214,-2.479844305574245,0.8927998703050272,-1.491532793139312,-0.15493863646237707,-0.17367859851820075,-0.3910701957760691,0.10659597063448929,-0.32667053875621144,0.7994813604737073,-0.4280343716591244,-1.150466969038612,0.8455562582900276,-2.251409282655881,0.9821270223673556,0.2303455757248052,0.04535472902143436,-1.2248383310091664,1.3674030824397547,0.08045700760681646,-0.43506133283756054,0.24149061558320917,-2.0528054626515244,0.08373056770003885,-0.6361159828889186,0.8196960925429025,0.8468032243624196,-0.10789265679637575,-0.5276537406018319,-0.5042026403280273,0.26276374773287686,-1.6144863597671486,-0.14370779462404257,0.7656677379760024,0.7874697232847472,-0.8023005621110955,0.778255152616999,0.5700896498552871,-1.0017097238965142,-0.6607568163172322,1.5905093819220673,-1.2110676813411707,-0.5601154519339665,1.3418467182878748,0.6440794160296142,-0.39687651490022524,-0.4752177292162427,0.22650596927963504,-0.13680482098526894,-0.9673428380469818,0.22153028192267313,1.7994207743834112,-1.003588415564047,-0.9112664323687696,0.9227233738941317,-2.227663388595575,0.06724167285175829,0.06086377830490128,0.3781532535914435,1.0079887011567779,-2.205453957164551,1.164530009463671,1.3132946285256442,-0.506151267746503,-0.05594310018107275,0.7545858729175096,-0.012902217386942041,0.5951414829334419,0.12351962806759635,-0.38325727961140005,-0.6933726532148998,2.4415116098964287,0.8557274566835281,0.7324129287476138,-0.8628262713601479,0.04756433709781207,0.8456812423826571,-0.42516235555193016,-1.1979961576928366,0.5089656233318339,0.9803508857671677,0.8119129825176856,0.03534109009366027,-0.17944526405158354,0.06161321536565358,-0.5760942497350119,-0.8844656807832726,1.7125044904591131],\"xaxis\":\"x2\",\"y\":[-1.9903004256683205,-0.44331522383487904,0.5522209986709692,-0.8761307777820353,1.1989648408531712,1.107396907449335,-0.029371122099748383,0.3056333470056156,-0.4955087979621365,-0.6520420406756742,-2.5267952417248734,0.28866743458960153,-1.4316957620782398,-0.6044368465373989,-0.7835590378190067,-0.12675905868030538,-0.8723173151421462,-1.3441213992499,0.9239839346598812,-0.37358758223316085,0.9588303627419025,-0.1052825661486228,0.38119597175663916,0.3576427427245764,-0.5702151234625347,-0.5572216628600934,0.017719846225363156,1.2887145074843485,-0.7411771478820481,-0.6419864197153446,1.1972219508024184,0.25945352369678465,1.2969932581570864,-0.766403700861819,-0.5880695192706119,0.23921319399362173,0.41198072881213454,0.8298012119060374,-0.39388130471441646,-0.9685240289521347,-1.5016621442024582,0.2224241435501135,-0.8493083133394347,-1.0609152477969157,-1.469355455640693,1.102203544886654,0.9789753952414446,-1.219515842422679,-1.0441517795610855,0.2804323979633052,-0.3944849837527407,0.7544188492417558,-1.1088178682546639,0.1837902883409436,-1.0221321290638552,0.7823997618515374,1.1860800573721049,0.03555123929313354,-0.08788533678144475,-1.0979193923822788,0.5231731489710988,0.5697924927381082,-0.20924153665318343,1.3985467032028418,1.7004020608481674,0.2030413325552144,-0.6268391642990602,0.3988770551212099,0.06965082275610238,-1.9116331125018202,0.1380241162431082,-1.1037926748877243,0.8081457348428449,-0.9356293594254312,-0.0916575756043444,0.5779288906452257,0.5962772865240996,1.515969853059908,-1.3425234485560702,-0.3600001508909471,-0.07624704610784032,-1.7522234689232437,-0.37257406422804706,1.193137958920794,1.154637422674318,0.31205407485525993,0.44184177745646686,-1.3778745790073854,-1.011665062974858,0.03515567990235361,0.41947441807572,-1.3135785687987815,0.3272638323888706,-1.0046483036078868,0.6876459011460935,-0.19200991915835824,-0.1546255652119731,1.5186581723550163,-0.07716251245343556,0.5410204542460056],\"yaxis\":\"y2\",\"type\":\"scatter\"},{\"line\":{\"color\":\"rgba(128, 128, 128, 1.0)\",\"dash\":\"solid\",\"shape\":\"linear\",\"width\":1.3},\"marker\":{\"size\":2,\"symbol\":\"circle\"},\"mode\":\"markers\",\"name\":\"A\",\"text\":\"\",\"x\":[-0.1734327179078083,1.025281977935646,0.202403271941739,-0.9834933902244896,-0.6474184971807797,0.9406868911632378,0.3003493689813544,-0.747532030840866,0.1219500000551959,0.12904259385765535,-1.2007973492083384,-1.0846102717283599,1.2810230224396995,-0.7090639863368329,0.26104238141625064,0.6848441923844357,1.3712904218858912,-1.20861507047745,-2.5405455399197185,-0.12203039116024908,-0.6123589828476048,-0.8813710290801637,0.10403266515282988,-0.26089899633778685,-0.4059842516369866,1.4187557541977507,-1.583138459073382,0.5129281122091677,1.1652374706613282,-0.06728258917509047,0.00696080922411059,2.3201051260729173,-0.3386951531725974,2.0000123401643926,0.2919076413108785,1.8173093195240135,-1.4664951424779313,-0.3879112807547932,-0.5231934268594857,-0.14139344505727036,-1.100207439833855,0.7594443962865002,1.2385532475987762,-0.759695377875985,2.0542853298186423,2.210261248274123,0.819297640181099,0.7048244974399858,0.688841842644157,-0.5799814981264281,2.2515167496768416,1.1155921104798137,-0.6337498347256617,-0.6561852397859022,1.1105627550113193,1.5348593972668638,-0.324936965303408,-0.8361104252801637,0.7653712969595001,0.24907108738950298,-1.2317967452216088,0.8997703641459304,1.1395077801318922,0.28847376341816117,0.1886156039673864,-0.4074341231445621,0.7997895526136964,-1.0912104356636727,0.3119971138291475,-0.4185002045442197,2.5248181577844178,1.3455246110481505,-0.3117992178894114,-0.31847321483254554,1.2131033077720554,1.448868825477331,-0.24328247881868906,-0.3567749124083891,-0.16926826070298467,-0.35396995301437073,-0.8700087169425702,-0.14947867980498358,-0.040000503325443346,-0.21783051862202382,0.21673625801784674,-0.8960474515146457,1.3481557076721484,-0.9950879670041042,2.0841530694291532,-0.7154536902547273,-1.3717402491254331,-0.48537609341111554,-1.4175095023892268,-0.13422213336448804,1.461727020346443,-1.816800058383163,1.0812660470410758,1.409532907990298,-0.4544789634340318,0.9615157849938297],\"xaxis\":\"x3\",\"y\":[-1.9903004256683205,-0.44331522383487904,0.5522209986709692,-0.8761307777820353,1.1989648408531712,1.107396907449335,-0.029371122099748383,0.3056333470056156,-0.4955087979621365,-0.6520420406756742,-2.5267952417248734,0.28866743458960153,-1.4316957620782398,-0.6044368465373989,-0.7835590378190067,-0.12675905868030538,-0.8723173151421462,-1.3441213992499,0.9239839346598812,-0.37358758223316085,0.9588303627419025,-0.1052825661486228,0.38119597175663916,0.3576427427245764,-0.5702151234625347,-0.5572216628600934,0.017719846225363156,1.2887145074843485,-0.7411771478820481,-0.6419864197153446,1.1972219508024184,0.25945352369678465,1.2969932581570864,-0.766403700861819,-0.5880695192706119,0.23921319399362173,0.41198072881213454,0.8298012119060374,-0.39388130471441646,-0.9685240289521347,-1.5016621442024582,0.2224241435501135,-0.8493083133394347,-1.0609152477969157,-1.469355455640693,1.102203544886654,0.9789753952414446,-1.219515842422679,-1.0441517795610855,0.2804323979633052,-0.3944849837527407,0.7544188492417558,-1.1088178682546639,0.1837902883409436,-1.0221321290638552,0.7823997618515374,1.1860800573721049,0.03555123929313354,-0.08788533678144475,-1.0979193923822788,0.5231731489710988,0.5697924927381082,-0.20924153665318343,1.3985467032028418,1.7004020608481674,0.2030413325552144,-0.6268391642990602,0.3988770551212099,0.06965082275610238,-1.9116331125018202,0.1380241162431082,-1.1037926748877243,0.8081457348428449,-0.9356293594254312,-0.0916575756043444,0.5779288906452257,0.5962772865240996,1.515969853059908,-1.3425234485560702,-0.3600001508909471,-0.07624704610784032,-1.7522234689232437,-0.37257406422804706,1.193137958920794,1.154637422674318,0.31205407485525993,0.44184177745646686,-1.3778745790073854,-1.011665062974858,0.03515567990235361,0.41947441807572,-1.3135785687987815,0.3272638323888706,-1.0046483036078868,0.6876459011460935,-0.19200991915835824,-0.1546255652119731,1.5186581723550163,-0.07716251245343556,0.5410204542460056],\"yaxis\":\"y3\",\"type\":\"scatter\"},{\"line\":{\"color\":\"rgba(128, 128, 128, 1.0)\",\"dash\":\"solid\",\"shape\":\"linear\",\"width\":1.3},\"marker\":{\"size\":2,\"symbol\":\"circle\"},\"mode\":\"markers\",\"name\":\"A\",\"text\":\"\",\"x\":[1.704742677700104,0.8235667212186872,1.586856430834681,2.4177509895405196,-1.698120880239537,0.9513856559545543,1.432820319719165,0.9319040542152517,2.0908949112998574,0.24264784705094034,1.012562816557507,-0.9509606983642789,0.21621807050718683,-0.812691487194244,0.9780952387980227,1.3611968402126449,0.004019283566734584,-0.9802757455225488,1.0703293680762096,-0.8737621307370945,0.8934865318306057,1.025346035892475,-0.20864015453364615,-1.1361297729398474,-0.8601631692882453,-0.6356786928082033,0.27510501242745733,-0.4796962814623892,-1.1425815068882323,1.1769477210528139,-0.5911586539291419,1.6911962381867163,0.967066780353155,-0.20991321232926455,0.26925268962020554,0.1205654135290545,0.4182072115762697,1.0149652809670269,-0.008838220928936583,1.0079648026427928,1.1579675186119789,2.4370866076021303,1.5292745938023486,0.3248137630341598,-1.9441841084541889,-0.26571405954830585,-0.20792111529154567,-0.4780125100587477,2.2161345568796147,0.4737589191469256,-1.0508381422262705,0.8770403467531728,-0.22110978493067945,-2.2878592743711383,-0.30491582900244435,3.7495097200921577,0.5599323269316231,1.1316583392984148,-0.5369995819663967,1.1236996914087098,-0.2728036103290317,1.2025945197111798,0.5122006706361073,0.0798180310891348,0.7916016394178136,-0.11986898411035302,1.4128274636634972,0.17867288971380324,1.2866170372239103,1.564280875623778,0.176276896701876,1.0486357010155423,-0.7991681606290977,1.6321085185177524,-0.4563288302703064,0.5805724432555952,0.02365351076373204,1.105708224153926,2.2329202529468497,-0.847614118112452,0.12878339308990167,0.7719078193392097,1.5226644749901594,0.6210969617087052,0.9720772290253814,3.4750579106732857,-0.31541713625986,2.231604606908773,-0.17644177261787783,0.050996347833518745,1.170978845923599,0.642974865871924,-0.5306803613540669,-1.7749250568597061,-3.294407031214544,-0.11548120498782195,-1.1297523562743428,0.40717446191210094,0.17541836588072568,0.2805597335081778],\"xaxis\":\"x4\",\"y\":[-1.9903004256683205,-0.44331522383487904,0.5522209986709692,-0.8761307777820353,1.1989648408531712,1.107396907449335,-0.029371122099748383,0.3056333470056156,-0.4955087979621365,-0.6520420406756742,-2.5267952417248734,0.28866743458960153,-1.4316957620782398,-0.6044368465373989,-0.7835590378190067,-0.12675905868030538,-0.8723173151421462,-1.3441213992499,0.9239839346598812,-0.37358758223316085,0.9588303627419025,-0.1052825661486228,0.38119597175663916,0.3576427427245764,-0.5702151234625347,-0.5572216628600934,0.017719846225363156,1.2887145074843485,-0.7411771478820481,-0.6419864197153446,1.1972219508024184,0.25945352369678465,1.2969932581570864,-0.766403700861819,-0.5880695192706119,0.23921319399362173,0.41198072881213454,0.8298012119060374,-0.39388130471441646,-0.9685240289521347,-1.5016621442024582,0.2224241435501135,-0.8493083133394347,-1.0609152477969157,-1.469355455640693,1.102203544886654,0.9789753952414446,-1.219515842422679,-1.0441517795610855,0.2804323979633052,-0.3944849837527407,0.7544188492417558,-1.1088178682546639,0.1837902883409436,-1.0221321290638552,0.7823997618515374,1.1860800573721049,0.03555123929313354,-0.08788533678144475,-1.0979193923822788,0.5231731489710988,0.5697924927381082,-0.20924153665318343,1.3985467032028418,1.7004020608481674,0.2030413325552144,-0.6268391642990602,0.3988770551212099,0.06965082275610238,-1.9116331125018202,0.1380241162431082,-1.1037926748877243,0.8081457348428449,-0.9356293594254312,-0.0916575756043444,0.5779288906452257,0.5962772865240996,1.515969853059908,-1.3425234485560702,-0.3600001508909471,-0.07624704610784032,-1.7522234689232437,-0.37257406422804706,1.193137958920794,1.154637422674318,0.31205407485525993,0.44184177745646686,-1.3778745790073854,-1.011665062974858,0.03515567990235361,0.41947441807572,-1.3135785687987815,0.3272638323888706,-1.0046483036078868,0.6876459011460935,-0.19200991915835824,-0.1546255652119731,1.5186581723550163,-0.07716251245343556,0.5410204542460056],\"yaxis\":\"y4\",\"type\":\"scatter\"},{\"line\":{\"color\":\"rgba(128, 128, 128, 1.0)\",\"dash\":\"solid\",\"shape\":\"linear\",\"width\":1.3},\"marker\":{\"size\":2,\"symbol\":\"circle\"},\"mode\":\"markers\",\"name\":\"B\",\"text\":\"\",\"x\":[-1.9903004256683205,-0.44331522383487904,0.5522209986709692,-0.8761307777820353,1.1989648408531712,1.107396907449335,-0.029371122099748383,0.3056333470056156,-0.4955087979621365,-0.6520420406756742,-2.5267952417248734,0.28866743458960153,-1.4316957620782398,-0.6044368465373989,-0.7835590378190067,-0.12675905868030538,-0.8723173151421462,-1.3441213992499,0.9239839346598812,-0.37358758223316085,0.9588303627419025,-0.1052825661486228,0.38119597175663916,0.3576427427245764,-0.5702151234625347,-0.5572216628600934,0.017719846225363156,1.2887145074843485,-0.7411771478820481,-0.6419864197153446,1.1972219508024184,0.25945352369678465,1.2969932581570864,-0.766403700861819,-0.5880695192706119,0.23921319399362173,0.41198072881213454,0.8298012119060374,-0.39388130471441646,-0.9685240289521347,-1.5016621442024582,0.2224241435501135,-0.8493083133394347,-1.0609152477969157,-1.469355455640693,1.102203544886654,0.9789753952414446,-1.219515842422679,-1.0441517795610855,0.2804323979633052,-0.3944849837527407,0.7544188492417558,-1.1088178682546639,0.1837902883409436,-1.0221321290638552,0.7823997618515374,1.1860800573721049,0.03555123929313354,-0.08788533678144475,-1.0979193923822788,0.5231731489710988,0.5697924927381082,-0.20924153665318343,1.3985467032028418,1.7004020608481674,0.2030413325552144,-0.6268391642990602,0.3988770551212099,0.06965082275610238,-1.9116331125018202,0.1380241162431082,-1.1037926748877243,0.8081457348428449,-0.9356293594254312,-0.0916575756043444,0.5779288906452257,0.5962772865240996,1.515969853059908,-1.3425234485560702,-0.3600001508909471,-0.07624704610784032,-1.7522234689232437,-0.37257406422804706,1.193137958920794,1.154637422674318,0.31205407485525993,0.44184177745646686,-1.3778745790073854,-1.011665062974858,0.03515567990235361,0.41947441807572,-1.3135785687987815,0.3272638323888706,-1.0046483036078868,0.6876459011460935,-0.19200991915835824,-0.1546255652119731,1.5186581723550163,-0.07716251245343556,0.5410204542460056],\"xaxis\":\"x5\",\"y\":[0.20713171298464164,-0.9098290203271999,0.6595976436161234,1.1391958719025224,0.22876136700256824,-0.9390175844832885,1.40702753694373,0.6757395117272006,-0.6190602204117278,0.9652323468994083,1.171138334802606,1.9127870674045342,0.4741178282201214,-2.479844305574245,0.8927998703050272,-1.491532793139312,-0.15493863646237707,-0.17367859851820075,-0.3910701957760691,0.10659597063448929,-0.32667053875621144,0.7994813604737073,-0.4280343716591244,-1.150466969038612,0.8455562582900276,-2.251409282655881,0.9821270223673556,0.2303455757248052,0.04535472902143436,-1.2248383310091664,1.3674030824397547,0.08045700760681646,-0.43506133283756054,0.24149061558320917,-2.0528054626515244,0.08373056770003885,-0.6361159828889186,0.8196960925429025,0.8468032243624196,-0.10789265679637575,-0.5276537406018319,-0.5042026403280273,0.26276374773287686,-1.6144863597671486,-0.14370779462404257,0.7656677379760024,0.7874697232847472,-0.8023005621110955,0.778255152616999,0.5700896498552871,-1.0017097238965142,-0.6607568163172322,1.5905093819220673,-1.2110676813411707,-0.5601154519339665,1.3418467182878748,0.6440794160296142,-0.39687651490022524,-0.4752177292162427,0.22650596927963504,-0.13680482098526894,-0.9673428380469818,0.22153028192267313,1.7994207743834112,-1.003588415564047,-0.9112664323687696,0.9227233738941317,-2.227663388595575,0.06724167285175829,0.06086377830490128,0.3781532535914435,1.0079887011567779,-2.205453957164551,1.164530009463671,1.3132946285256442,-0.506151267746503,-0.05594310018107275,0.7545858729175096,-0.012902217386942041,0.5951414829334419,0.12351962806759635,-0.38325727961140005,-0.6933726532148998,2.4415116098964287,0.8557274566835281,0.7324129287476138,-0.8628262713601479,0.04756433709781207,0.8456812423826571,-0.42516235555193016,-1.1979961576928366,0.5089656233318339,0.9803508857671677,0.8119129825176856,0.03534109009366027,-0.17944526405158354,0.06161321536565358,-0.5760942497350119,-0.8844656807832726,1.7125044904591131],\"yaxis\":\"y5\",\"type\":\"scatter\"},{\"histfunc\":\"count\",\"histnorm\":\"\",\"marker\":{\"color\":\"rgba(55, 128, 191, 1.0)\",\"line\":{\"color\":\"#4D5663\",\"width\":1.3}},\"name\":\"B\",\"nbinsx\":10,\"opacity\":0.8,\"orientation\":\"v\",\"x\":[0.20713171298464164,-0.9098290203271999,0.6595976436161234,1.1391958719025224,0.22876136700256824,-0.9390175844832885,1.40702753694373,0.6757395117272006,-0.6190602204117278,0.9652323468994083,1.171138334802606,1.9127870674045342,0.4741178282201214,-2.479844305574245,0.8927998703050272,-1.491532793139312,-0.15493863646237707,-0.17367859851820075,-0.3910701957760691,0.10659597063448929,-0.32667053875621144,0.7994813604737073,-0.4280343716591244,-1.150466969038612,0.8455562582900276,-2.251409282655881,0.9821270223673556,0.2303455757248052,0.04535472902143436,-1.2248383310091664,1.3674030824397547,0.08045700760681646,-0.43506133283756054,0.24149061558320917,-2.0528054626515244,0.08373056770003885,-0.6361159828889186,0.8196960925429025,0.8468032243624196,-0.10789265679637575,-0.5276537406018319,-0.5042026403280273,0.26276374773287686,-1.6144863597671486,-0.14370779462404257,0.7656677379760024,0.7874697232847472,-0.8023005621110955,0.778255152616999,0.5700896498552871,-1.0017097238965142,-0.6607568163172322,1.5905093819220673,-1.2110676813411707,-0.5601154519339665,1.3418467182878748,0.6440794160296142,-0.39687651490022524,-0.4752177292162427,0.22650596927963504,-0.13680482098526894,-0.9673428380469818,0.22153028192267313,1.7994207743834112,-1.003588415564047,-0.9112664323687696,0.9227233738941317,-2.227663388595575,0.06724167285175829,0.06086377830490128,0.3781532535914435,1.0079887011567779,-2.205453957164551,1.164530009463671,1.3132946285256442,-0.506151267746503,-0.05594310018107275,0.7545858729175096,-0.012902217386942041,0.5951414829334419,0.12351962806759635,-0.38325727961140005,-0.6933726532148998,2.4415116098964287,0.8557274566835281,0.7324129287476138,-0.8628262713601479,0.04756433709781207,0.8456812423826571,-0.42516235555193016,-1.1979961576928366,0.5089656233318339,0.9803508857671677,0.8119129825176856,0.03534109009366027,-0.17944526405158354,0.06161321536565358,-0.5760942497350119,-0.8844656807832726,1.7125044904591131],\"xaxis\":\"x6\",\"yaxis\":\"y6\",\"type\":\"histogram\"},{\"line\":{\"color\":\"rgba(128, 128, 128, 1.0)\",\"dash\":\"solid\",\"shape\":\"linear\",\"width\":1.3},\"marker\":{\"size\":2,\"symbol\":\"circle\"},\"mode\":\"markers\",\"name\":\"B\",\"text\":\"\",\"x\":[-0.1734327179078083,1.025281977935646,0.202403271941739,-0.9834933902244896,-0.6474184971807797,0.9406868911632378,0.3003493689813544,-0.747532030840866,0.1219500000551959,0.12904259385765535,-1.2007973492083384,-1.0846102717283599,1.2810230224396995,-0.7090639863368329,0.26104238141625064,0.6848441923844357,1.3712904218858912,-1.20861507047745,-2.5405455399197185,-0.12203039116024908,-0.6123589828476048,-0.8813710290801637,0.10403266515282988,-0.26089899633778685,-0.4059842516369866,1.4187557541977507,-1.583138459073382,0.5129281122091677,1.1652374706613282,-0.06728258917509047,0.00696080922411059,2.3201051260729173,-0.3386951531725974,2.0000123401643926,0.2919076413108785,1.8173093195240135,-1.4664951424779313,-0.3879112807547932,-0.5231934268594857,-0.14139344505727036,-1.100207439833855,0.7594443962865002,1.2385532475987762,-0.759695377875985,2.0542853298186423,2.210261248274123,0.819297640181099,0.7048244974399858,0.688841842644157,-0.5799814981264281,2.2515167496768416,1.1155921104798137,-0.6337498347256617,-0.6561852397859022,1.1105627550113193,1.5348593972668638,-0.324936965303408,-0.8361104252801637,0.7653712969595001,0.24907108738950298,-1.2317967452216088,0.8997703641459304,1.1395077801318922,0.28847376341816117,0.1886156039673864,-0.4074341231445621,0.7997895526136964,-1.0912104356636727,0.3119971138291475,-0.4185002045442197,2.5248181577844178,1.3455246110481505,-0.3117992178894114,-0.31847321483254554,1.2131033077720554,1.448868825477331,-0.24328247881868906,-0.3567749124083891,-0.16926826070298467,-0.35396995301437073,-0.8700087169425702,-0.14947867980498358,-0.040000503325443346,-0.21783051862202382,0.21673625801784674,-0.8960474515146457,1.3481557076721484,-0.9950879670041042,2.0841530694291532,-0.7154536902547273,-1.3717402491254331,-0.48537609341111554,-1.4175095023892268,-0.13422213336448804,1.461727020346443,-1.816800058383163,1.0812660470410758,1.409532907990298,-0.4544789634340318,0.9615157849938297],\"xaxis\":\"x7\",\"y\":[0.20713171298464164,-0.9098290203271999,0.6595976436161234,1.1391958719025224,0.22876136700256824,-0.9390175844832885,1.40702753694373,0.6757395117272006,-0.6190602204117278,0.9652323468994083,1.171138334802606,1.9127870674045342,0.4741178282201214,-2.479844305574245,0.8927998703050272,-1.491532793139312,-0.15493863646237707,-0.17367859851820075,-0.3910701957760691,0.10659597063448929,-0.32667053875621144,0.7994813604737073,-0.4280343716591244,-1.150466969038612,0.8455562582900276,-2.251409282655881,0.9821270223673556,0.2303455757248052,0.04535472902143436,-1.2248383310091664,1.3674030824397547,0.08045700760681646,-0.43506133283756054,0.24149061558320917,-2.0528054626515244,0.08373056770003885,-0.6361159828889186,0.8196960925429025,0.8468032243624196,-0.10789265679637575,-0.5276537406018319,-0.5042026403280273,0.26276374773287686,-1.6144863597671486,-0.14370779462404257,0.7656677379760024,0.7874697232847472,-0.8023005621110955,0.778255152616999,0.5700896498552871,-1.0017097238965142,-0.6607568163172322,1.5905093819220673,-1.2110676813411707,-0.5601154519339665,1.3418467182878748,0.6440794160296142,-0.39687651490022524,-0.4752177292162427,0.22650596927963504,-0.13680482098526894,-0.9673428380469818,0.22153028192267313,1.7994207743834112,-1.003588415564047,-0.9112664323687696,0.9227233738941317,-2.227663388595575,0.06724167285175829,0.06086377830490128,0.3781532535914435,1.0079887011567779,-2.205453957164551,1.164530009463671,1.3132946285256442,-0.506151267746503,-0.05594310018107275,0.7545858729175096,-0.012902217386942041,0.5951414829334419,0.12351962806759635,-0.38325727961140005,-0.6933726532148998,2.4415116098964287,0.8557274566835281,0.7324129287476138,-0.8628262713601479,0.04756433709781207,0.8456812423826571,-0.42516235555193016,-1.1979961576928366,0.5089656233318339,0.9803508857671677,0.8119129825176856,0.03534109009366027,-0.17944526405158354,0.06161321536565358,-0.5760942497350119,-0.8844656807832726,1.7125044904591131],\"yaxis\":\"y7\",\"type\":\"scatter\"},{\"line\":{\"color\":\"rgba(128, 128, 128, 1.0)\",\"dash\":\"solid\",\"shape\":\"linear\",\"width\":1.3},\"marker\":{\"size\":2,\"symbol\":\"circle\"},\"mode\":\"markers\",\"name\":\"B\",\"text\":\"\",\"x\":[1.704742677700104,0.8235667212186872,1.586856430834681,2.4177509895405196,-1.698120880239537,0.9513856559545543,1.432820319719165,0.9319040542152517,2.0908949112998574,0.24264784705094034,1.012562816557507,-0.9509606983642789,0.21621807050718683,-0.812691487194244,0.9780952387980227,1.3611968402126449,0.004019283566734584,-0.9802757455225488,1.0703293680762096,-0.8737621307370945,0.8934865318306057,1.025346035892475,-0.20864015453364615,-1.1361297729398474,-0.8601631692882453,-0.6356786928082033,0.27510501242745733,-0.4796962814623892,-1.1425815068882323,1.1769477210528139,-0.5911586539291419,1.6911962381867163,0.967066780353155,-0.20991321232926455,0.26925268962020554,0.1205654135290545,0.4182072115762697,1.0149652809670269,-0.008838220928936583,1.0079648026427928,1.1579675186119789,2.4370866076021303,1.5292745938023486,0.3248137630341598,-1.9441841084541889,-0.26571405954830585,-0.20792111529154567,-0.4780125100587477,2.2161345568796147,0.4737589191469256,-1.0508381422262705,0.8770403467531728,-0.22110978493067945,-2.2878592743711383,-0.30491582900244435,3.7495097200921577,0.5599323269316231,1.1316583392984148,-0.5369995819663967,1.1236996914087098,-0.2728036103290317,1.2025945197111798,0.5122006706361073,0.0798180310891348,0.7916016394178136,-0.11986898411035302,1.4128274636634972,0.17867288971380324,1.2866170372239103,1.564280875623778,0.176276896701876,1.0486357010155423,-0.7991681606290977,1.6321085185177524,-0.4563288302703064,0.5805724432555952,0.02365351076373204,1.105708224153926,2.2329202529468497,-0.847614118112452,0.12878339308990167,0.7719078193392097,1.5226644749901594,0.6210969617087052,0.9720772290253814,3.4750579106732857,-0.31541713625986,2.231604606908773,-0.17644177261787783,0.050996347833518745,1.170978845923599,0.642974865871924,-0.5306803613540669,-1.7749250568597061,-3.294407031214544,-0.11548120498782195,-1.1297523562743428,0.40717446191210094,0.17541836588072568,0.2805597335081778],\"xaxis\":\"x8\",\"y\":[0.20713171298464164,-0.9098290203271999,0.6595976436161234,1.1391958719025224,0.22876136700256824,-0.9390175844832885,1.40702753694373,0.6757395117272006,-0.6190602204117278,0.9652323468994083,1.171138334802606,1.9127870674045342,0.4741178282201214,-2.479844305574245,0.8927998703050272,-1.491532793139312,-0.15493863646237707,-0.17367859851820075,-0.3910701957760691,0.10659597063448929,-0.32667053875621144,0.7994813604737073,-0.4280343716591244,-1.150466969038612,0.8455562582900276,-2.251409282655881,0.9821270223673556,0.2303455757248052,0.04535472902143436,-1.2248383310091664,1.3674030824397547,0.08045700760681646,-0.43506133283756054,0.24149061558320917,-2.0528054626515244,0.08373056770003885,-0.6361159828889186,0.8196960925429025,0.8468032243624196,-0.10789265679637575,-0.5276537406018319,-0.5042026403280273,0.26276374773287686,-1.6144863597671486,-0.14370779462404257,0.7656677379760024,0.7874697232847472,-0.8023005621110955,0.778255152616999,0.5700896498552871,-1.0017097238965142,-0.6607568163172322,1.5905093819220673,-1.2110676813411707,-0.5601154519339665,1.3418467182878748,0.6440794160296142,-0.39687651490022524,-0.4752177292162427,0.22650596927963504,-0.13680482098526894,-0.9673428380469818,0.22153028192267313,1.7994207743834112,-1.003588415564047,-0.9112664323687696,0.9227233738941317,-2.227663388595575,0.06724167285175829,0.06086377830490128,0.3781532535914435,1.0079887011567779,-2.205453957164551,1.164530009463671,1.3132946285256442,-0.506151267746503,-0.05594310018107275,0.7545858729175096,-0.012902217386942041,0.5951414829334419,0.12351962806759635,-0.38325727961140005,-0.6933726532148998,2.4415116098964287,0.8557274566835281,0.7324129287476138,-0.8628262713601479,0.04756433709781207,0.8456812423826571,-0.42516235555193016,-1.1979961576928366,0.5089656233318339,0.9803508857671677,0.8119129825176856,0.03534109009366027,-0.17944526405158354,0.06161321536565358,-0.5760942497350119,-0.8844656807832726,1.7125044904591131],\"yaxis\":\"y8\",\"type\":\"scatter\"},{\"line\":{\"color\":\"rgba(128, 128, 128, 1.0)\",\"dash\":\"solid\",\"shape\":\"linear\",\"width\":1.3},\"marker\":{\"size\":2,\"symbol\":\"circle\"},\"mode\":\"markers\",\"name\":\"C\",\"text\":\"\",\"x\":[-1.9903004256683205,-0.44331522383487904,0.5522209986709692,-0.8761307777820353,1.1989648408531712,1.107396907449335,-0.029371122099748383,0.3056333470056156,-0.4955087979621365,-0.6520420406756742,-2.5267952417248734,0.28866743458960153,-1.4316957620782398,-0.6044368465373989,-0.7835590378190067,-0.12675905868030538,-0.8723173151421462,-1.3441213992499,0.9239839346598812,-0.37358758223316085,0.9588303627419025,-0.1052825661486228,0.38119597175663916,0.3576427427245764,-0.5702151234625347,-0.5572216628600934,0.017719846225363156,1.2887145074843485,-0.7411771478820481,-0.6419864197153446,1.1972219508024184,0.25945352369678465,1.2969932581570864,-0.766403700861819,-0.5880695192706119,0.23921319399362173,0.41198072881213454,0.8298012119060374,-0.39388130471441646,-0.9685240289521347,-1.5016621442024582,0.2224241435501135,-0.8493083133394347,-1.0609152477969157,-1.469355455640693,1.102203544886654,0.9789753952414446,-1.219515842422679,-1.0441517795610855,0.2804323979633052,-0.3944849837527407,0.7544188492417558,-1.1088178682546639,0.1837902883409436,-1.0221321290638552,0.7823997618515374,1.1860800573721049,0.03555123929313354,-0.08788533678144475,-1.0979193923822788,0.5231731489710988,0.5697924927381082,-0.20924153665318343,1.3985467032028418,1.7004020608481674,0.2030413325552144,-0.6268391642990602,0.3988770551212099,0.06965082275610238,-1.9116331125018202,0.1380241162431082,-1.1037926748877243,0.8081457348428449,-0.9356293594254312,-0.0916575756043444,0.5779288906452257,0.5962772865240996,1.515969853059908,-1.3425234485560702,-0.3600001508909471,-0.07624704610784032,-1.7522234689232437,-0.37257406422804706,1.193137958920794,1.154637422674318,0.31205407485525993,0.44184177745646686,-1.3778745790073854,-1.011665062974858,0.03515567990235361,0.41947441807572,-1.3135785687987815,0.3272638323888706,-1.0046483036078868,0.6876459011460935,-0.19200991915835824,-0.1546255652119731,1.5186581723550163,-0.07716251245343556,0.5410204542460056],\"xaxis\":\"x9\",\"y\":[-0.1734327179078083,1.025281977935646,0.202403271941739,-0.9834933902244896,-0.6474184971807797,0.9406868911632378,0.3003493689813544,-0.747532030840866,0.1219500000551959,0.12904259385765535,-1.2007973492083384,-1.0846102717283599,1.2810230224396995,-0.7090639863368329,0.26104238141625064,0.6848441923844357,1.3712904218858912,-1.20861507047745,-2.5405455399197185,-0.12203039116024908,-0.6123589828476048,-0.8813710290801637,0.10403266515282988,-0.26089899633778685,-0.4059842516369866,1.4187557541977507,-1.583138459073382,0.5129281122091677,1.1652374706613282,-0.06728258917509047,0.00696080922411059,2.3201051260729173,-0.3386951531725974,2.0000123401643926,0.2919076413108785,1.8173093195240135,-1.4664951424779313,-0.3879112807547932,-0.5231934268594857,-0.14139344505727036,-1.100207439833855,0.7594443962865002,1.2385532475987762,-0.759695377875985,2.0542853298186423,2.210261248274123,0.819297640181099,0.7048244974399858,0.688841842644157,-0.5799814981264281,2.2515167496768416,1.1155921104798137,-0.6337498347256617,-0.6561852397859022,1.1105627550113193,1.5348593972668638,-0.324936965303408,-0.8361104252801637,0.7653712969595001,0.24907108738950298,-1.2317967452216088,0.8997703641459304,1.1395077801318922,0.28847376341816117,0.1886156039673864,-0.4074341231445621,0.7997895526136964,-1.0912104356636727,0.3119971138291475,-0.4185002045442197,2.5248181577844178,1.3455246110481505,-0.3117992178894114,-0.31847321483254554,1.2131033077720554,1.448868825477331,-0.24328247881868906,-0.3567749124083891,-0.16926826070298467,-0.35396995301437073,-0.8700087169425702,-0.14947867980498358,-0.040000503325443346,-0.21783051862202382,0.21673625801784674,-0.8960474515146457,1.3481557076721484,-0.9950879670041042,2.0841530694291532,-0.7154536902547273,-1.3717402491254331,-0.48537609341111554,-1.4175095023892268,-0.13422213336448804,1.461727020346443,-1.816800058383163,1.0812660470410758,1.409532907990298,-0.4544789634340318,0.9615157849938297],\"yaxis\":\"y9\",\"type\":\"scatter\"},{\"line\":{\"color\":\"rgba(128, 128, 128, 1.0)\",\"dash\":\"solid\",\"shape\":\"linear\",\"width\":1.3},\"marker\":{\"size\":2,\"symbol\":\"circle\"},\"mode\":\"markers\",\"name\":\"C\",\"text\":\"\",\"x\":[0.20713171298464164,-0.9098290203271999,0.6595976436161234,1.1391958719025224,0.22876136700256824,-0.9390175844832885,1.40702753694373,0.6757395117272006,-0.6190602204117278,0.9652323468994083,1.171138334802606,1.9127870674045342,0.4741178282201214,-2.479844305574245,0.8927998703050272,-1.491532793139312,-0.15493863646237707,-0.17367859851820075,-0.3910701957760691,0.10659597063448929,-0.32667053875621144,0.7994813604737073,-0.4280343716591244,-1.150466969038612,0.8455562582900276,-2.251409282655881,0.9821270223673556,0.2303455757248052,0.04535472902143436,-1.2248383310091664,1.3674030824397547,0.08045700760681646,-0.43506133283756054,0.24149061558320917,-2.0528054626515244,0.08373056770003885,-0.6361159828889186,0.8196960925429025,0.8468032243624196,-0.10789265679637575,-0.5276537406018319,-0.5042026403280273,0.26276374773287686,-1.6144863597671486,-0.14370779462404257,0.7656677379760024,0.7874697232847472,-0.8023005621110955,0.778255152616999,0.5700896498552871,-1.0017097238965142,-0.6607568163172322,1.5905093819220673,-1.2110676813411707,-0.5601154519339665,1.3418467182878748,0.6440794160296142,-0.39687651490022524,-0.4752177292162427,0.22650596927963504,-0.13680482098526894,-0.9673428380469818,0.22153028192267313,1.7994207743834112,-1.003588415564047,-0.9112664323687696,0.9227233738941317,-2.227663388595575,0.06724167285175829,0.06086377830490128,0.3781532535914435,1.0079887011567779,-2.205453957164551,1.164530009463671,1.3132946285256442,-0.506151267746503,-0.05594310018107275,0.7545858729175096,-0.012902217386942041,0.5951414829334419,0.12351962806759635,-0.38325727961140005,-0.6933726532148998,2.4415116098964287,0.8557274566835281,0.7324129287476138,-0.8628262713601479,0.04756433709781207,0.8456812423826571,-0.42516235555193016,-1.1979961576928366,0.5089656233318339,0.9803508857671677,0.8119129825176856,0.03534109009366027,-0.17944526405158354,0.06161321536565358,-0.5760942497350119,-0.8844656807832726,1.7125044904591131],\"xaxis\":\"x10\",\"y\":[-0.1734327179078083,1.025281977935646,0.202403271941739,-0.9834933902244896,-0.6474184971807797,0.9406868911632378,0.3003493689813544,-0.747532030840866,0.1219500000551959,0.12904259385765535,-1.2007973492083384,-1.0846102717283599,1.2810230224396995,-0.7090639863368329,0.26104238141625064,0.6848441923844357,1.3712904218858912,-1.20861507047745,-2.5405455399197185,-0.12203039116024908,-0.6123589828476048,-0.8813710290801637,0.10403266515282988,-0.26089899633778685,-0.4059842516369866,1.4187557541977507,-1.583138459073382,0.5129281122091677,1.1652374706613282,-0.06728258917509047,0.00696080922411059,2.3201051260729173,-0.3386951531725974,2.0000123401643926,0.2919076413108785,1.8173093195240135,-1.4664951424779313,-0.3879112807547932,-0.5231934268594857,-0.14139344505727036,-1.100207439833855,0.7594443962865002,1.2385532475987762,-0.759695377875985,2.0542853298186423,2.210261248274123,0.819297640181099,0.7048244974399858,0.688841842644157,-0.5799814981264281,2.2515167496768416,1.1155921104798137,-0.6337498347256617,-0.6561852397859022,1.1105627550113193,1.5348593972668638,-0.324936965303408,-0.8361104252801637,0.7653712969595001,0.24907108738950298,-1.2317967452216088,0.8997703641459304,1.1395077801318922,0.28847376341816117,0.1886156039673864,-0.4074341231445621,0.7997895526136964,-1.0912104356636727,0.3119971138291475,-0.4185002045442197,2.5248181577844178,1.3455246110481505,-0.3117992178894114,-0.31847321483254554,1.2131033077720554,1.448868825477331,-0.24328247881868906,-0.3567749124083891,-0.16926826070298467,-0.35396995301437073,-0.8700087169425702,-0.14947867980498358,-0.040000503325443346,-0.21783051862202382,0.21673625801784674,-0.8960474515146457,1.3481557076721484,-0.9950879670041042,2.0841530694291532,-0.7154536902547273,-1.3717402491254331,-0.48537609341111554,-1.4175095023892268,-0.13422213336448804,1.461727020346443,-1.816800058383163,1.0812660470410758,1.409532907990298,-0.4544789634340318,0.9615157849938297],\"yaxis\":\"y10\",\"type\":\"scatter\"},{\"histfunc\":\"count\",\"histnorm\":\"\",\"marker\":{\"color\":\"rgba(50, 171, 96, 1.0)\",\"line\":{\"color\":\"#4D5663\",\"width\":1.3}},\"name\":\"C\",\"nbinsx\":10,\"opacity\":0.8,\"orientation\":\"v\",\"x\":[-0.1734327179078083,1.025281977935646,0.202403271941739,-0.9834933902244896,-0.6474184971807797,0.9406868911632378,0.3003493689813544,-0.747532030840866,0.1219500000551959,0.12904259385765535,-1.2007973492083384,-1.0846102717283599,1.2810230224396995,-0.7090639863368329,0.26104238141625064,0.6848441923844357,1.3712904218858912,-1.20861507047745,-2.5405455399197185,-0.12203039116024908,-0.6123589828476048,-0.8813710290801637,0.10403266515282988,-0.26089899633778685,-0.4059842516369866,1.4187557541977507,-1.583138459073382,0.5129281122091677,1.1652374706613282,-0.06728258917509047,0.00696080922411059,2.3201051260729173,-0.3386951531725974,2.0000123401643926,0.2919076413108785,1.8173093195240135,-1.4664951424779313,-0.3879112807547932,-0.5231934268594857,-0.14139344505727036,-1.100207439833855,0.7594443962865002,1.2385532475987762,-0.759695377875985,2.0542853298186423,2.210261248274123,0.819297640181099,0.7048244974399858,0.688841842644157,-0.5799814981264281,2.2515167496768416,1.1155921104798137,-0.6337498347256617,-0.6561852397859022,1.1105627550113193,1.5348593972668638,-0.324936965303408,-0.8361104252801637,0.7653712969595001,0.24907108738950298,-1.2317967452216088,0.8997703641459304,1.1395077801318922,0.28847376341816117,0.1886156039673864,-0.4074341231445621,0.7997895526136964,-1.0912104356636727,0.3119971138291475,-0.4185002045442197,2.5248181577844178,1.3455246110481505,-0.3117992178894114,-0.31847321483254554,1.2131033077720554,1.448868825477331,-0.24328247881868906,-0.3567749124083891,-0.16926826070298467,-0.35396995301437073,-0.8700087169425702,-0.14947867980498358,-0.040000503325443346,-0.21783051862202382,0.21673625801784674,-0.8960474515146457,1.3481557076721484,-0.9950879670041042,2.0841530694291532,-0.7154536902547273,-1.3717402491254331,-0.48537609341111554,-1.4175095023892268,-0.13422213336448804,1.461727020346443,-1.816800058383163,1.0812660470410758,1.409532907990298,-0.4544789634340318,0.9615157849938297],\"xaxis\":\"x11\",\"yaxis\":\"y11\",\"type\":\"histogram\"},{\"line\":{\"color\":\"rgba(128, 128, 128, 1.0)\",\"dash\":\"solid\",\"shape\":\"linear\",\"width\":1.3},\"marker\":{\"size\":2,\"symbol\":\"circle\"},\"mode\":\"markers\",\"name\":\"C\",\"text\":\"\",\"x\":[1.704742677700104,0.8235667212186872,1.586856430834681,2.4177509895405196,-1.698120880239537,0.9513856559545543,1.432820319719165,0.9319040542152517,2.0908949112998574,0.24264784705094034,1.012562816557507,-0.9509606983642789,0.21621807050718683,-0.812691487194244,0.9780952387980227,1.3611968402126449,0.004019283566734584,-0.9802757455225488,1.0703293680762096,-0.8737621307370945,0.8934865318306057,1.025346035892475,-0.20864015453364615,-1.1361297729398474,-0.8601631692882453,-0.6356786928082033,0.27510501242745733,-0.4796962814623892,-1.1425815068882323,1.1769477210528139,-0.5911586539291419,1.6911962381867163,0.967066780353155,-0.20991321232926455,0.26925268962020554,0.1205654135290545,0.4182072115762697,1.0149652809670269,-0.008838220928936583,1.0079648026427928,1.1579675186119789,2.4370866076021303,1.5292745938023486,0.3248137630341598,-1.9441841084541889,-0.26571405954830585,-0.20792111529154567,-0.4780125100587477,2.2161345568796147,0.4737589191469256,-1.0508381422262705,0.8770403467531728,-0.22110978493067945,-2.2878592743711383,-0.30491582900244435,3.7495097200921577,0.5599323269316231,1.1316583392984148,-0.5369995819663967,1.1236996914087098,-0.2728036103290317,1.2025945197111798,0.5122006706361073,0.0798180310891348,0.7916016394178136,-0.11986898411035302,1.4128274636634972,0.17867288971380324,1.2866170372239103,1.564280875623778,0.176276896701876,1.0486357010155423,-0.7991681606290977,1.6321085185177524,-0.4563288302703064,0.5805724432555952,0.02365351076373204,1.105708224153926,2.2329202529468497,-0.847614118112452,0.12878339308990167,0.7719078193392097,1.5226644749901594,0.6210969617087052,0.9720772290253814,3.4750579106732857,-0.31541713625986,2.231604606908773,-0.17644177261787783,0.050996347833518745,1.170978845923599,0.642974865871924,-0.5306803613540669,-1.7749250568597061,-3.294407031214544,-0.11548120498782195,-1.1297523562743428,0.40717446191210094,0.17541836588072568,0.2805597335081778],\"xaxis\":\"x12\",\"y\":[-0.1734327179078083,1.025281977935646,0.202403271941739,-0.9834933902244896,-0.6474184971807797,0.9406868911632378,0.3003493689813544,-0.747532030840866,0.1219500000551959,0.12904259385765535,-1.2007973492083384,-1.0846102717283599,1.2810230224396995,-0.7090639863368329,0.26104238141625064,0.6848441923844357,1.3712904218858912,-1.20861507047745,-2.5405455399197185,-0.12203039116024908,-0.6123589828476048,-0.8813710290801637,0.10403266515282988,-0.26089899633778685,-0.4059842516369866,1.4187557541977507,-1.583138459073382,0.5129281122091677,1.1652374706613282,-0.06728258917509047,0.00696080922411059,2.3201051260729173,-0.3386951531725974,2.0000123401643926,0.2919076413108785,1.8173093195240135,-1.4664951424779313,-0.3879112807547932,-0.5231934268594857,-0.14139344505727036,-1.100207439833855,0.7594443962865002,1.2385532475987762,-0.759695377875985,2.0542853298186423,2.210261248274123,0.819297640181099,0.7048244974399858,0.688841842644157,-0.5799814981264281,2.2515167496768416,1.1155921104798137,-0.6337498347256617,-0.6561852397859022,1.1105627550113193,1.5348593972668638,-0.324936965303408,-0.8361104252801637,0.7653712969595001,0.24907108738950298,-1.2317967452216088,0.8997703641459304,1.1395077801318922,0.28847376341816117,0.1886156039673864,-0.4074341231445621,0.7997895526136964,-1.0912104356636727,0.3119971138291475,-0.4185002045442197,2.5248181577844178,1.3455246110481505,-0.3117992178894114,-0.31847321483254554,1.2131033077720554,1.448868825477331,-0.24328247881868906,-0.3567749124083891,-0.16926826070298467,-0.35396995301437073,-0.8700087169425702,-0.14947867980498358,-0.040000503325443346,-0.21783051862202382,0.21673625801784674,-0.8960474515146457,1.3481557076721484,-0.9950879670041042,2.0841530694291532,-0.7154536902547273,-1.3717402491254331,-0.48537609341111554,-1.4175095023892268,-0.13422213336448804,1.461727020346443,-1.816800058383163,1.0812660470410758,1.409532907990298,-0.4544789634340318,0.9615157849938297],\"yaxis\":\"y12\",\"type\":\"scatter\"},{\"line\":{\"color\":\"rgba(128, 128, 128, 1.0)\",\"dash\":\"solid\",\"shape\":\"linear\",\"width\":1.3},\"marker\":{\"size\":2,\"symbol\":\"circle\"},\"mode\":\"markers\",\"name\":\"D\",\"text\":\"\",\"x\":[-1.9903004256683205,-0.44331522383487904,0.5522209986709692,-0.8761307777820353,1.1989648408531712,1.107396907449335,-0.029371122099748383,0.3056333470056156,-0.4955087979621365,-0.6520420406756742,-2.5267952417248734,0.28866743458960153,-1.4316957620782398,-0.6044368465373989,-0.7835590378190067,-0.12675905868030538,-0.8723173151421462,-1.3441213992499,0.9239839346598812,-0.37358758223316085,0.9588303627419025,-0.1052825661486228,0.38119597175663916,0.3576427427245764,-0.5702151234625347,-0.5572216628600934,0.017719846225363156,1.2887145074843485,-0.7411771478820481,-0.6419864197153446,1.1972219508024184,0.25945352369678465,1.2969932581570864,-0.766403700861819,-0.5880695192706119,0.23921319399362173,0.41198072881213454,0.8298012119060374,-0.39388130471441646,-0.9685240289521347,-1.5016621442024582,0.2224241435501135,-0.8493083133394347,-1.0609152477969157,-1.469355455640693,1.102203544886654,0.9789753952414446,-1.219515842422679,-1.0441517795610855,0.2804323979633052,-0.3944849837527407,0.7544188492417558,-1.1088178682546639,0.1837902883409436,-1.0221321290638552,0.7823997618515374,1.1860800573721049,0.03555123929313354,-0.08788533678144475,-1.0979193923822788,0.5231731489710988,0.5697924927381082,-0.20924153665318343,1.3985467032028418,1.7004020608481674,0.2030413325552144,-0.6268391642990602,0.3988770551212099,0.06965082275610238,-1.9116331125018202,0.1380241162431082,-1.1037926748877243,0.8081457348428449,-0.9356293594254312,-0.0916575756043444,0.5779288906452257,0.5962772865240996,1.515969853059908,-1.3425234485560702,-0.3600001508909471,-0.07624704610784032,-1.7522234689232437,-0.37257406422804706,1.193137958920794,1.154637422674318,0.31205407485525993,0.44184177745646686,-1.3778745790073854,-1.011665062974858,0.03515567990235361,0.41947441807572,-1.3135785687987815,0.3272638323888706,-1.0046483036078868,0.6876459011460935,-0.19200991915835824,-0.1546255652119731,1.5186581723550163,-0.07716251245343556,0.5410204542460056],\"xaxis\":\"x13\",\"y\":[1.704742677700104,0.8235667212186872,1.586856430834681,2.4177509895405196,-1.698120880239537,0.9513856559545543,1.432820319719165,0.9319040542152517,2.0908949112998574,0.24264784705094034,1.012562816557507,-0.9509606983642789,0.21621807050718683,-0.812691487194244,0.9780952387980227,1.3611968402126449,0.004019283566734584,-0.9802757455225488,1.0703293680762096,-0.8737621307370945,0.8934865318306057,1.025346035892475,-0.20864015453364615,-1.1361297729398474,-0.8601631692882453,-0.6356786928082033,0.27510501242745733,-0.4796962814623892,-1.1425815068882323,1.1769477210528139,-0.5911586539291419,1.6911962381867163,0.967066780353155,-0.20991321232926455,0.26925268962020554,0.1205654135290545,0.4182072115762697,1.0149652809670269,-0.008838220928936583,1.0079648026427928,1.1579675186119789,2.4370866076021303,1.5292745938023486,0.3248137630341598,-1.9441841084541889,-0.26571405954830585,-0.20792111529154567,-0.4780125100587477,2.2161345568796147,0.4737589191469256,-1.0508381422262705,0.8770403467531728,-0.22110978493067945,-2.2878592743711383,-0.30491582900244435,3.7495097200921577,0.5599323269316231,1.1316583392984148,-0.5369995819663967,1.1236996914087098,-0.2728036103290317,1.2025945197111798,0.5122006706361073,0.0798180310891348,0.7916016394178136,-0.11986898411035302,1.4128274636634972,0.17867288971380324,1.2866170372239103,1.564280875623778,0.176276896701876,1.0486357010155423,-0.7991681606290977,1.6321085185177524,-0.4563288302703064,0.5805724432555952,0.02365351076373204,1.105708224153926,2.2329202529468497,-0.847614118112452,0.12878339308990167,0.7719078193392097,1.5226644749901594,0.6210969617087052,0.9720772290253814,3.4750579106732857,-0.31541713625986,2.231604606908773,-0.17644177261787783,0.050996347833518745,1.170978845923599,0.642974865871924,-0.5306803613540669,-1.7749250568597061,-3.294407031214544,-0.11548120498782195,-1.1297523562743428,0.40717446191210094,0.17541836588072568,0.2805597335081778],\"yaxis\":\"y13\",\"type\":\"scatter\"},{\"line\":{\"color\":\"rgba(128, 128, 128, 1.0)\",\"dash\":\"solid\",\"shape\":\"linear\",\"width\":1.3},\"marker\":{\"size\":2,\"symbol\":\"circle\"},\"mode\":\"markers\",\"name\":\"D\",\"text\":\"\",\"x\":[0.20713171298464164,-0.9098290203271999,0.6595976436161234,1.1391958719025224,0.22876136700256824,-0.9390175844832885,1.40702753694373,0.6757395117272006,-0.6190602204117278,0.9652323468994083,1.171138334802606,1.9127870674045342,0.4741178282201214,-2.479844305574245,0.8927998703050272,-1.491532793139312,-0.15493863646237707,-0.17367859851820075,-0.3910701957760691,0.10659597063448929,-0.32667053875621144,0.7994813604737073,-0.4280343716591244,-1.150466969038612,0.8455562582900276,-2.251409282655881,0.9821270223673556,0.2303455757248052,0.04535472902143436,-1.2248383310091664,1.3674030824397547,0.08045700760681646,-0.43506133283756054,0.24149061558320917,-2.0528054626515244,0.08373056770003885,-0.6361159828889186,0.8196960925429025,0.8468032243624196,-0.10789265679637575,-0.5276537406018319,-0.5042026403280273,0.26276374773287686,-1.6144863597671486,-0.14370779462404257,0.7656677379760024,0.7874697232847472,-0.8023005621110955,0.778255152616999,0.5700896498552871,-1.0017097238965142,-0.6607568163172322,1.5905093819220673,-1.2110676813411707,-0.5601154519339665,1.3418467182878748,0.6440794160296142,-0.39687651490022524,-0.4752177292162427,0.22650596927963504,-0.13680482098526894,-0.9673428380469818,0.22153028192267313,1.7994207743834112,-1.003588415564047,-0.9112664323687696,0.9227233738941317,-2.227663388595575,0.06724167285175829,0.06086377830490128,0.3781532535914435,1.0079887011567779,-2.205453957164551,1.164530009463671,1.3132946285256442,-0.506151267746503,-0.05594310018107275,0.7545858729175096,-0.012902217386942041,0.5951414829334419,0.12351962806759635,-0.38325727961140005,-0.6933726532148998,2.4415116098964287,0.8557274566835281,0.7324129287476138,-0.8628262713601479,0.04756433709781207,0.8456812423826571,-0.42516235555193016,-1.1979961576928366,0.5089656233318339,0.9803508857671677,0.8119129825176856,0.03534109009366027,-0.17944526405158354,0.06161321536565358,-0.5760942497350119,-0.8844656807832726,1.7125044904591131],\"xaxis\":\"x14\",\"y\":[1.704742677700104,0.8235667212186872,1.586856430834681,2.4177509895405196,-1.698120880239537,0.9513856559545543,1.432820319719165,0.9319040542152517,2.0908949112998574,0.24264784705094034,1.012562816557507,-0.9509606983642789,0.21621807050718683,-0.812691487194244,0.9780952387980227,1.3611968402126449,0.004019283566734584,-0.9802757455225488,1.0703293680762096,-0.8737621307370945,0.8934865318306057,1.025346035892475,-0.20864015453364615,-1.1361297729398474,-0.8601631692882453,-0.6356786928082033,0.27510501242745733,-0.4796962814623892,-1.1425815068882323,1.1769477210528139,-0.5911586539291419,1.6911962381867163,0.967066780353155,-0.20991321232926455,0.26925268962020554,0.1205654135290545,0.4182072115762697,1.0149652809670269,-0.008838220928936583,1.0079648026427928,1.1579675186119789,2.4370866076021303,1.5292745938023486,0.3248137630341598,-1.9441841084541889,-0.26571405954830585,-0.20792111529154567,-0.4780125100587477,2.2161345568796147,0.4737589191469256,-1.0508381422262705,0.8770403467531728,-0.22110978493067945,-2.2878592743711383,-0.30491582900244435,3.7495097200921577,0.5599323269316231,1.1316583392984148,-0.5369995819663967,1.1236996914087098,-0.2728036103290317,1.2025945197111798,0.5122006706361073,0.0798180310891348,0.7916016394178136,-0.11986898411035302,1.4128274636634972,0.17867288971380324,1.2866170372239103,1.564280875623778,0.176276896701876,1.0486357010155423,-0.7991681606290977,1.6321085185177524,-0.4563288302703064,0.5805724432555952,0.02365351076373204,1.105708224153926,2.2329202529468497,-0.847614118112452,0.12878339308990167,0.7719078193392097,1.5226644749901594,0.6210969617087052,0.9720772290253814,3.4750579106732857,-0.31541713625986,2.231604606908773,-0.17644177261787783,0.050996347833518745,1.170978845923599,0.642974865871924,-0.5306803613540669,-1.7749250568597061,-3.294407031214544,-0.11548120498782195,-1.1297523562743428,0.40717446191210094,0.17541836588072568,0.2805597335081778],\"yaxis\":\"y14\",\"type\":\"scatter\"},{\"line\":{\"color\":\"rgba(128, 128, 128, 1.0)\",\"dash\":\"solid\",\"shape\":\"linear\",\"width\":1.3},\"marker\":{\"size\":2,\"symbol\":\"circle\"},\"mode\":\"markers\",\"name\":\"D\",\"text\":\"\",\"x\":[-0.1734327179078083,1.025281977935646,0.202403271941739,-0.9834933902244896,-0.6474184971807797,0.9406868911632378,0.3003493689813544,-0.747532030840866,0.1219500000551959,0.12904259385765535,-1.2007973492083384,-1.0846102717283599,1.2810230224396995,-0.7090639863368329,0.26104238141625064,0.6848441923844357,1.3712904218858912,-1.20861507047745,-2.5405455399197185,-0.12203039116024908,-0.6123589828476048,-0.8813710290801637,0.10403266515282988,-0.26089899633778685,-0.4059842516369866,1.4187557541977507,-1.583138459073382,0.5129281122091677,1.1652374706613282,-0.06728258917509047,0.00696080922411059,2.3201051260729173,-0.3386951531725974,2.0000123401643926,0.2919076413108785,1.8173093195240135,-1.4664951424779313,-0.3879112807547932,-0.5231934268594857,-0.14139344505727036,-1.100207439833855,0.7594443962865002,1.2385532475987762,-0.759695377875985,2.0542853298186423,2.210261248274123,0.819297640181099,0.7048244974399858,0.688841842644157,-0.5799814981264281,2.2515167496768416,1.1155921104798137,-0.6337498347256617,-0.6561852397859022,1.1105627550113193,1.5348593972668638,-0.324936965303408,-0.8361104252801637,0.7653712969595001,0.24907108738950298,-1.2317967452216088,0.8997703641459304,1.1395077801318922,0.28847376341816117,0.1886156039673864,-0.4074341231445621,0.7997895526136964,-1.0912104356636727,0.3119971138291475,-0.4185002045442197,2.5248181577844178,1.3455246110481505,-0.3117992178894114,-0.31847321483254554,1.2131033077720554,1.448868825477331,-0.24328247881868906,-0.3567749124083891,-0.16926826070298467,-0.35396995301437073,-0.8700087169425702,-0.14947867980498358,-0.040000503325443346,-0.21783051862202382,0.21673625801784674,-0.8960474515146457,1.3481557076721484,-0.9950879670041042,2.0841530694291532,-0.7154536902547273,-1.3717402491254331,-0.48537609341111554,-1.4175095023892268,-0.13422213336448804,1.461727020346443,-1.816800058383163,1.0812660470410758,1.409532907990298,-0.4544789634340318,0.9615157849938297],\"xaxis\":\"x15\",\"y\":[1.704742677700104,0.8235667212186872,1.586856430834681,2.4177509895405196,-1.698120880239537,0.9513856559545543,1.432820319719165,0.9319040542152517,2.0908949112998574,0.24264784705094034,1.012562816557507,-0.9509606983642789,0.21621807050718683,-0.812691487194244,0.9780952387980227,1.3611968402126449,0.004019283566734584,-0.9802757455225488,1.0703293680762096,-0.8737621307370945,0.8934865318306057,1.025346035892475,-0.20864015453364615,-1.1361297729398474,-0.8601631692882453,-0.6356786928082033,0.27510501242745733,-0.4796962814623892,-1.1425815068882323,1.1769477210528139,-0.5911586539291419,1.6911962381867163,0.967066780353155,-0.20991321232926455,0.26925268962020554,0.1205654135290545,0.4182072115762697,1.0149652809670269,-0.008838220928936583,1.0079648026427928,1.1579675186119789,2.4370866076021303,1.5292745938023486,0.3248137630341598,-1.9441841084541889,-0.26571405954830585,-0.20792111529154567,-0.4780125100587477,2.2161345568796147,0.4737589191469256,-1.0508381422262705,0.8770403467531728,-0.22110978493067945,-2.2878592743711383,-0.30491582900244435,3.7495097200921577,0.5599323269316231,1.1316583392984148,-0.5369995819663967,1.1236996914087098,-0.2728036103290317,1.2025945197111798,0.5122006706361073,0.0798180310891348,0.7916016394178136,-0.11986898411035302,1.4128274636634972,0.17867288971380324,1.2866170372239103,1.564280875623778,0.176276896701876,1.0486357010155423,-0.7991681606290977,1.6321085185177524,-0.4563288302703064,0.5805724432555952,0.02365351076373204,1.105708224153926,2.2329202529468497,-0.847614118112452,0.12878339308990167,0.7719078193392097,1.5226644749901594,0.6210969617087052,0.9720772290253814,3.4750579106732857,-0.31541713625986,2.231604606908773,-0.17644177261787783,0.050996347833518745,1.170978845923599,0.642974865871924,-0.5306803613540669,-1.7749250568597061,-3.294407031214544,-0.11548120498782195,-1.1297523562743428,0.40717446191210094,0.17541836588072568,0.2805597335081778],\"yaxis\":\"y15\",\"type\":\"scatter\"},{\"histfunc\":\"count\",\"histnorm\":\"\",\"marker\":{\"color\":\"rgba(128, 0, 128, 1.0)\",\"line\":{\"color\":\"#4D5663\",\"width\":1.3}},\"name\":\"D\",\"nbinsx\":10,\"opacity\":0.8,\"orientation\":\"v\",\"x\":[1.704742677700104,0.8235667212186872,1.586856430834681,2.4177509895405196,-1.698120880239537,0.9513856559545543,1.432820319719165,0.9319040542152517,2.0908949112998574,0.24264784705094034,1.012562816557507,-0.9509606983642789,0.21621807050718683,-0.812691487194244,0.9780952387980227,1.3611968402126449,0.004019283566734584,-0.9802757455225488,1.0703293680762096,-0.8737621307370945,0.8934865318306057,1.025346035892475,-0.20864015453364615,-1.1361297729398474,-0.8601631692882453,-0.6356786928082033,0.27510501242745733,-0.4796962814623892,-1.1425815068882323,1.1769477210528139,-0.5911586539291419,1.6911962381867163,0.967066780353155,-0.20991321232926455,0.26925268962020554,0.1205654135290545,0.4182072115762697,1.0149652809670269,-0.008838220928936583,1.0079648026427928,1.1579675186119789,2.4370866076021303,1.5292745938023486,0.3248137630341598,-1.9441841084541889,-0.26571405954830585,-0.20792111529154567,-0.4780125100587477,2.2161345568796147,0.4737589191469256,-1.0508381422262705,0.8770403467531728,-0.22110978493067945,-2.2878592743711383,-0.30491582900244435,3.7495097200921577,0.5599323269316231,1.1316583392984148,-0.5369995819663967,1.1236996914087098,-0.2728036103290317,1.2025945197111798,0.5122006706361073,0.0798180310891348,0.7916016394178136,-0.11986898411035302,1.4128274636634972,0.17867288971380324,1.2866170372239103,1.564280875623778,0.176276896701876,1.0486357010155423,-0.7991681606290977,1.6321085185177524,-0.4563288302703064,0.5805724432555952,0.02365351076373204,1.105708224153926,2.2329202529468497,-0.847614118112452,0.12878339308990167,0.7719078193392097,1.5226644749901594,0.6210969617087052,0.9720772290253814,3.4750579106732857,-0.31541713625986,2.231604606908773,-0.17644177261787783,0.050996347833518745,1.170978845923599,0.642974865871924,-0.5306803613540669,-1.7749250568597061,-3.294407031214544,-0.11548120498782195,-1.1297523562743428,0.40717446191210094,0.17541836588072568,0.2805597335081778],\"xaxis\":\"x16\",\"yaxis\":\"y16\",\"type\":\"histogram\"}],                        {\"bargap\":0.02,\"legend\":{\"bgcolor\":\"#F5F6F9\",\"font\":{\"color\":\"#4D5663\"}},\"paper_bgcolor\":\"#F5F6F9\",\"plot_bgcolor\":\"#F5F6F9\",\"showlegend\":false,\"template\":{\"data\":{\"barpolar\":[{\"marker\":{\"line\":{\"color\":\"#E5ECF6\",\"width\":0.5},\"pattern\":{\"fillmode\":\"overlay\",\"size\":10,\"solidity\":0.2}},\"type\":\"barpolar\"}],\"bar\":[{\"error_x\":{\"color\":\"#2a3f5f\"},\"error_y\":{\"color\":\"#2a3f5f\"},\"marker\":{\"line\":{\"color\":\"#E5ECF6\",\"width\":0.5},\"pattern\":{\"fillmode\":\"overlay\",\"size\":10,\"solidity\":0.2}},\"type\":\"bar\"}],\"carpet\":[{\"aaxis\":{\"endlinecolor\":\"#2a3f5f\",\"gridcolor\":\"white\",\"linecolor\":\"white\",\"minorgridcolor\":\"white\",\"startlinecolor\":\"#2a3f5f\"},\"baxis\":{\"endlinecolor\":\"#2a3f5f\",\"gridcolor\":\"white\",\"linecolor\":\"white\",\"minorgridcolor\":\"white\",\"startlinecolor\":\"#2a3f5f\"},\"type\":\"carpet\"}],\"choropleth\":[{\"colorbar\":{\"outlinewidth\":0,\"ticks\":\"\"},\"type\":\"choropleth\"}],\"contourcarpet\":[{\"colorbar\":{\"outlinewidth\":0,\"ticks\":\"\"},\"type\":\"contourcarpet\"}],\"contour\":[{\"colorbar\":{\"outlinewidth\":0,\"ticks\":\"\"},\"colorscale\":[[0.0,\"#0d0887\"],[0.1111111111111111,\"#46039f\"],[0.2222222222222222,\"#7201a8\"],[0.3333333333333333,\"#9c179e\"],[0.4444444444444444,\"#bd3786\"],[0.5555555555555556,\"#d8576b\"],[0.6666666666666666,\"#ed7953\"],[0.7777777777777778,\"#fb9f3a\"],[0.8888888888888888,\"#fdca26\"],[1.0,\"#f0f921\"]],\"type\":\"contour\"}],\"heatmapgl\":[{\"colorbar\":{\"outlinewidth\":0,\"ticks\":\"\"},\"colorscale\":[[0.0,\"#0d0887\"],[0.1111111111111111,\"#46039f\"],[0.2222222222222222,\"#7201a8\"],[0.3333333333333333,\"#9c179e\"],[0.4444444444444444,\"#bd3786\"],[0.5555555555555556,\"#d8576b\"],[0.6666666666666666,\"#ed7953\"],[0.7777777777777778,\"#fb9f3a\"],[0.8888888888888888,\"#fdca26\"],[1.0,\"#f0f921\"]],\"type\":\"heatmapgl\"}],\"heatmap\":[{\"colorbar\":{\"outlinewidth\":0,\"ticks\":\"\"},\"colorscale\":[[0.0,\"#0d0887\"],[0.1111111111111111,\"#46039f\"],[0.2222222222222222,\"#7201a8\"],[0.3333333333333333,\"#9c179e\"],[0.4444444444444444,\"#bd3786\"],[0.5555555555555556,\"#d8576b\"],[0.6666666666666666,\"#ed7953\"],[0.7777777777777778,\"#fb9f3a\"],[0.8888888888888888,\"#fdca26\"],[1.0,\"#f0f921\"]],\"type\":\"heatmap\"}],\"histogram2dcontour\":[{\"colorbar\":{\"outlinewidth\":0,\"ticks\":\"\"},\"colorscale\":[[0.0,\"#0d0887\"],[0.1111111111111111,\"#46039f\"],[0.2222222222222222,\"#7201a8\"],[0.3333333333333333,\"#9c179e\"],[0.4444444444444444,\"#bd3786\"],[0.5555555555555556,\"#d8576b\"],[0.6666666666666666,\"#ed7953\"],[0.7777777777777778,\"#fb9f3a\"],[0.8888888888888888,\"#fdca26\"],[1.0,\"#f0f921\"]],\"type\":\"histogram2dcontour\"}],\"histogram2d\":[{\"colorbar\":{\"outlinewidth\":0,\"ticks\":\"\"},\"colorscale\":[[0.0,\"#0d0887\"],[0.1111111111111111,\"#46039f\"],[0.2222222222222222,\"#7201a8\"],[0.3333333333333333,\"#9c179e\"],[0.4444444444444444,\"#bd3786\"],[0.5555555555555556,\"#d8576b\"],[0.6666666666666666,\"#ed7953\"],[0.7777777777777778,\"#fb9f3a\"],[0.8888888888888888,\"#fdca26\"],[1.0,\"#f0f921\"]],\"type\":\"histogram2d\"}],\"histogram\":[{\"marker\":{\"pattern\":{\"fillmode\":\"overlay\",\"size\":10,\"solidity\":0.2}},\"type\":\"histogram\"}],\"mesh3d\":[{\"colorbar\":{\"outlinewidth\":0,\"ticks\":\"\"},\"type\":\"mesh3d\"}],\"parcoords\":[{\"line\":{\"colorbar\":{\"outlinewidth\":0,\"ticks\":\"\"}},\"type\":\"parcoords\"}],\"pie\":[{\"automargin\":true,\"type\":\"pie\"}],\"scatter3d\":[{\"line\":{\"colorbar\":{\"outlinewidth\":0,\"ticks\":\"\"}},\"marker\":{\"colorbar\":{\"outlinewidth\":0,\"ticks\":\"\"}},\"type\":\"scatter3d\"}],\"scattercarpet\":[{\"marker\":{\"colorbar\":{\"outlinewidth\":0,\"ticks\":\"\"}},\"type\":\"scattercarpet\"}],\"scattergeo\":[{\"marker\":{\"colorbar\":{\"outlinewidth\":0,\"ticks\":\"\"}},\"type\":\"scattergeo\"}],\"scattergl\":[{\"marker\":{\"colorbar\":{\"outlinewidth\":0,\"ticks\":\"\"}},\"type\":\"scattergl\"}],\"scattermapbox\":[{\"marker\":{\"colorbar\":{\"outlinewidth\":0,\"ticks\":\"\"}},\"type\":\"scattermapbox\"}],\"scatterpolargl\":[{\"marker\":{\"colorbar\":{\"outlinewidth\":0,\"ticks\":\"\"}},\"type\":\"scatterpolargl\"}],\"scatterpolar\":[{\"marker\":{\"colorbar\":{\"outlinewidth\":0,\"ticks\":\"\"}},\"type\":\"scatterpolar\"}],\"scatter\":[{\"fillpattern\":{\"fillmode\":\"overlay\",\"size\":10,\"solidity\":0.2},\"type\":\"scatter\"}],\"scatterternary\":[{\"marker\":{\"colorbar\":{\"outlinewidth\":0,\"ticks\":\"\"}},\"type\":\"scatterternary\"}],\"surface\":[{\"colorbar\":{\"outlinewidth\":0,\"ticks\":\"\"},\"colorscale\":[[0.0,\"#0d0887\"],[0.1111111111111111,\"#46039f\"],[0.2222222222222222,\"#7201a8\"],[0.3333333333333333,\"#9c179e\"],[0.4444444444444444,\"#bd3786\"],[0.5555555555555556,\"#d8576b\"],[0.6666666666666666,\"#ed7953\"],[0.7777777777777778,\"#fb9f3a\"],[0.8888888888888888,\"#fdca26\"],[1.0,\"#f0f921\"]],\"type\":\"surface\"}],\"table\":[{\"cells\":{\"fill\":{\"color\":\"#EBF0F8\"},\"line\":{\"color\":\"white\"}},\"header\":{\"fill\":{\"color\":\"#C8D4E3\"},\"line\":{\"color\":\"white\"}},\"type\":\"table\"}]},\"layout\":{\"annotationdefaults\":{\"arrowcolor\":\"#2a3f5f\",\"arrowhead\":0,\"arrowwidth\":1},\"autotypenumbers\":\"strict\",\"coloraxis\":{\"colorbar\":{\"outlinewidth\":0,\"ticks\":\"\"}},\"colorscale\":{\"diverging\":[[0,\"#8e0152\"],[0.1,\"#c51b7d\"],[0.2,\"#de77ae\"],[0.3,\"#f1b6da\"],[0.4,\"#fde0ef\"],[0.5,\"#f7f7f7\"],[0.6,\"#e6f5d0\"],[0.7,\"#b8e186\"],[0.8,\"#7fbc41\"],[0.9,\"#4d9221\"],[1,\"#276419\"]],\"sequential\":[[0.0,\"#0d0887\"],[0.1111111111111111,\"#46039f\"],[0.2222222222222222,\"#7201a8\"],[0.3333333333333333,\"#9c179e\"],[0.4444444444444444,\"#bd3786\"],[0.5555555555555556,\"#d8576b\"],[0.6666666666666666,\"#ed7953\"],[0.7777777777777778,\"#fb9f3a\"],[0.8888888888888888,\"#fdca26\"],[1.0,\"#f0f921\"]],\"sequentialminus\":[[0.0,\"#0d0887\"],[0.1111111111111111,\"#46039f\"],[0.2222222222222222,\"#7201a8\"],[0.3333333333333333,\"#9c179e\"],[0.4444444444444444,\"#bd3786\"],[0.5555555555555556,\"#d8576b\"],[0.6666666666666666,\"#ed7953\"],[0.7777777777777778,\"#fb9f3a\"],[0.8888888888888888,\"#fdca26\"],[1.0,\"#f0f921\"]]},\"colorway\":[\"#636efa\",\"#EF553B\",\"#00cc96\",\"#ab63fa\",\"#FFA15A\",\"#19d3f3\",\"#FF6692\",\"#B6E880\",\"#FF97FF\",\"#FECB52\"],\"font\":{\"color\":\"#2a3f5f\"},\"geo\":{\"bgcolor\":\"white\",\"lakecolor\":\"white\",\"landcolor\":\"#E5ECF6\",\"showlakes\":true,\"showland\":true,\"subunitcolor\":\"white\"},\"hoverlabel\":{\"align\":\"left\"},\"hovermode\":\"closest\",\"mapbox\":{\"style\":\"light\"},\"paper_bgcolor\":\"white\",\"plot_bgcolor\":\"#E5ECF6\",\"polar\":{\"angularaxis\":{\"gridcolor\":\"white\",\"linecolor\":\"white\",\"ticks\":\"\"},\"bgcolor\":\"#E5ECF6\",\"radialaxis\":{\"gridcolor\":\"white\",\"linecolor\":\"white\",\"ticks\":\"\"}},\"scene\":{\"xaxis\":{\"backgroundcolor\":\"#E5ECF6\",\"gridcolor\":\"white\",\"gridwidth\":2,\"linecolor\":\"white\",\"showbackground\":true,\"ticks\":\"\",\"zerolinecolor\":\"white\"},\"yaxis\":{\"backgroundcolor\":\"#E5ECF6\",\"gridcolor\":\"white\",\"gridwidth\":2,\"linecolor\":\"white\",\"showbackground\":true,\"ticks\":\"\",\"zerolinecolor\":\"white\"},\"zaxis\":{\"backgroundcolor\":\"#E5ECF6\",\"gridcolor\":\"white\",\"gridwidth\":2,\"linecolor\":\"white\",\"showbackground\":true,\"ticks\":\"\",\"zerolinecolor\":\"white\"}},\"shapedefaults\":{\"line\":{\"color\":\"#2a3f5f\"}},\"ternary\":{\"aaxis\":{\"gridcolor\":\"white\",\"linecolor\":\"white\",\"ticks\":\"\"},\"baxis\":{\"gridcolor\":\"white\",\"linecolor\":\"white\",\"ticks\":\"\"},\"bgcolor\":\"#E5ECF6\",\"caxis\":{\"gridcolor\":\"white\",\"linecolor\":\"white\",\"ticks\":\"\"}},\"title\":{\"x\":0.05},\"xaxis\":{\"automargin\":true,\"gridcolor\":\"white\",\"linecolor\":\"white\",\"ticks\":\"\",\"title\":{\"standoff\":15},\"zerolinecolor\":\"white\",\"zerolinewidth\":2},\"yaxis\":{\"automargin\":true,\"gridcolor\":\"white\",\"linecolor\":\"white\",\"ticks\":\"\",\"title\":{\"standoff\":15},\"zerolinecolor\":\"white\",\"zerolinewidth\":2}}},\"title\":{\"font\":{\"color\":\"#4D5663\"}},\"xaxis\":{\"anchor\":\"y\",\"domain\":[0.0,0.2125],\"gridcolor\":\"#E1E5ED\",\"showgrid\":false,\"tickfont\":{\"color\":\"#4D5663\"},\"title\":{\"font\":{\"color\":\"#4D5663\"},\"text\":\"\"},\"zerolinecolor\":\"#E1E5ED\"},\"yaxis\":{\"anchor\":\"x\",\"domain\":[0.8025,1.0],\"gridcolor\":\"#E1E5ED\",\"showgrid\":false,\"tickfont\":{\"color\":\"#4D5663\"},\"title\":{\"font\":{\"color\":\"#4D5663\"},\"text\":\"\"},\"zerolinecolor\":\"#E1E5ED\"},\"xaxis2\":{\"anchor\":\"y2\",\"domain\":[0.2625,0.475],\"gridcolor\":\"#E1E5ED\",\"showgrid\":false,\"tickfont\":{\"color\":\"#4D5663\"},\"title\":{\"font\":{\"color\":\"#4D5663\"},\"text\":\"\"},\"zerolinecolor\":\"#E1E5ED\"},\"yaxis2\":{\"anchor\":\"x2\",\"domain\":[0.8025,1.0],\"gridcolor\":\"#E1E5ED\",\"showgrid\":false,\"tickfont\":{\"color\":\"#4D5663\"},\"title\":{\"font\":{\"color\":\"#4D5663\"},\"text\":\"\"},\"zerolinecolor\":\"#E1E5ED\"},\"xaxis3\":{\"anchor\":\"y3\",\"domain\":[0.525,0.7375],\"gridcolor\":\"#E1E5ED\",\"showgrid\":false,\"tickfont\":{\"color\":\"#4D5663\"},\"title\":{\"font\":{\"color\":\"#4D5663\"},\"text\":\"\"},\"zerolinecolor\":\"#E1E5ED\"},\"yaxis3\":{\"anchor\":\"x3\",\"domain\":[0.8025,1.0],\"gridcolor\":\"#E1E5ED\",\"showgrid\":false,\"tickfont\":{\"color\":\"#4D5663\"},\"title\":{\"font\":{\"color\":\"#4D5663\"},\"text\":\"\"},\"zerolinecolor\":\"#E1E5ED\"},\"xaxis4\":{\"anchor\":\"y4\",\"domain\":[0.7875,1.0],\"gridcolor\":\"#E1E5ED\",\"showgrid\":false,\"tickfont\":{\"color\":\"#4D5663\"},\"title\":{\"font\":{\"color\":\"#4D5663\"},\"text\":\"\"},\"zerolinecolor\":\"#E1E5ED\"},\"yaxis4\":{\"anchor\":\"x4\",\"domain\":[0.8025,1.0],\"gridcolor\":\"#E1E5ED\",\"showgrid\":false,\"tickfont\":{\"color\":\"#4D5663\"},\"title\":{\"font\":{\"color\":\"#4D5663\"},\"text\":\"\"},\"zerolinecolor\":\"#E1E5ED\"},\"xaxis5\":{\"anchor\":\"y5\",\"domain\":[0.0,0.2125],\"gridcolor\":\"#E1E5ED\",\"showgrid\":false,\"tickfont\":{\"color\":\"#4D5663\"},\"title\":{\"font\":{\"color\":\"#4D5663\"},\"text\":\"\"},\"zerolinecolor\":\"#E1E5ED\"},\"yaxis5\":{\"anchor\":\"x5\",\"domain\":[0.535,0.7325],\"gridcolor\":\"#E1E5ED\",\"showgrid\":false,\"tickfont\":{\"color\":\"#4D5663\"},\"title\":{\"font\":{\"color\":\"#4D5663\"},\"text\":\"\"},\"zerolinecolor\":\"#E1E5ED\"},\"xaxis6\":{\"anchor\":\"y6\",\"domain\":[0.2625,0.475],\"gridcolor\":\"#E1E5ED\",\"showgrid\":false,\"tickfont\":{\"color\":\"#4D5663\"},\"title\":{\"font\":{\"color\":\"#4D5663\"},\"text\":\"\"},\"zerolinecolor\":\"#E1E5ED\"},\"yaxis6\":{\"anchor\":\"x6\",\"domain\":[0.535,0.7325],\"gridcolor\":\"#E1E5ED\",\"showgrid\":false,\"tickfont\":{\"color\":\"#4D5663\"},\"title\":{\"font\":{\"color\":\"#4D5663\"},\"text\":\"\"},\"zerolinecolor\":\"#E1E5ED\"},\"xaxis7\":{\"anchor\":\"y7\",\"domain\":[0.525,0.7375],\"gridcolor\":\"#E1E5ED\",\"showgrid\":false,\"tickfont\":{\"color\":\"#4D5663\"},\"title\":{\"font\":{\"color\":\"#4D5663\"},\"text\":\"\"},\"zerolinecolor\":\"#E1E5ED\"},\"yaxis7\":{\"anchor\":\"x7\",\"domain\":[0.535,0.7325],\"gridcolor\":\"#E1E5ED\",\"showgrid\":false,\"tickfont\":{\"color\":\"#4D5663\"},\"title\":{\"font\":{\"color\":\"#4D5663\"},\"text\":\"\"},\"zerolinecolor\":\"#E1E5ED\"},\"xaxis8\":{\"anchor\":\"y8\",\"domain\":[0.7875,1.0],\"gridcolor\":\"#E1E5ED\",\"showgrid\":false,\"tickfont\":{\"color\":\"#4D5663\"},\"title\":{\"font\":{\"color\":\"#4D5663\"},\"text\":\"\"},\"zerolinecolor\":\"#E1E5ED\"},\"yaxis8\":{\"anchor\":\"x8\",\"domain\":[0.535,0.7325],\"gridcolor\":\"#E1E5ED\",\"showgrid\":false,\"tickfont\":{\"color\":\"#4D5663\"},\"title\":{\"font\":{\"color\":\"#4D5663\"},\"text\":\"\"},\"zerolinecolor\":\"#E1E5ED\"},\"xaxis9\":{\"anchor\":\"y9\",\"domain\":[0.0,0.2125],\"gridcolor\":\"#E1E5ED\",\"showgrid\":false,\"tickfont\":{\"color\":\"#4D5663\"},\"title\":{\"font\":{\"color\":\"#4D5663\"},\"text\":\"\"},\"zerolinecolor\":\"#E1E5ED\"},\"yaxis9\":{\"anchor\":\"x9\",\"domain\":[0.2675,0.465],\"gridcolor\":\"#E1E5ED\",\"showgrid\":false,\"tickfont\":{\"color\":\"#4D5663\"},\"title\":{\"font\":{\"color\":\"#4D5663\"},\"text\":\"\"},\"zerolinecolor\":\"#E1E5ED\"},\"xaxis10\":{\"anchor\":\"y10\",\"domain\":[0.2625,0.475],\"gridcolor\":\"#E1E5ED\",\"showgrid\":false,\"tickfont\":{\"color\":\"#4D5663\"},\"title\":{\"font\":{\"color\":\"#4D5663\"},\"text\":\"\"},\"zerolinecolor\":\"#E1E5ED\"},\"yaxis10\":{\"anchor\":\"x10\",\"domain\":[0.2675,0.465],\"gridcolor\":\"#E1E5ED\",\"showgrid\":false,\"tickfont\":{\"color\":\"#4D5663\"},\"title\":{\"font\":{\"color\":\"#4D5663\"},\"text\":\"\"},\"zerolinecolor\":\"#E1E5ED\"},\"xaxis11\":{\"anchor\":\"y11\",\"domain\":[0.525,0.7375],\"gridcolor\":\"#E1E5ED\",\"showgrid\":false,\"tickfont\":{\"color\":\"#4D5663\"},\"title\":{\"font\":{\"color\":\"#4D5663\"},\"text\":\"\"},\"zerolinecolor\":\"#E1E5ED\"},\"yaxis11\":{\"anchor\":\"x11\",\"domain\":[0.2675,0.465],\"gridcolor\":\"#E1E5ED\",\"showgrid\":false,\"tickfont\":{\"color\":\"#4D5663\"},\"title\":{\"font\":{\"color\":\"#4D5663\"},\"text\":\"\"},\"zerolinecolor\":\"#E1E5ED\"},\"xaxis12\":{\"anchor\":\"y12\",\"domain\":[0.7875,1.0],\"gridcolor\":\"#E1E5ED\",\"showgrid\":false,\"tickfont\":{\"color\":\"#4D5663\"},\"title\":{\"font\":{\"color\":\"#4D5663\"},\"text\":\"\"},\"zerolinecolor\":\"#E1E5ED\"},\"yaxis12\":{\"anchor\":\"x12\",\"domain\":[0.2675,0.465],\"gridcolor\":\"#E1E5ED\",\"showgrid\":false,\"tickfont\":{\"color\":\"#4D5663\"},\"title\":{\"font\":{\"color\":\"#4D5663\"},\"text\":\"\"},\"zerolinecolor\":\"#E1E5ED\"},\"xaxis13\":{\"anchor\":\"y13\",\"domain\":[0.0,0.2125],\"gridcolor\":\"#E1E5ED\",\"showgrid\":false,\"tickfont\":{\"color\":\"#4D5663\"},\"title\":{\"font\":{\"color\":\"#4D5663\"},\"text\":\"\"},\"zerolinecolor\":\"#E1E5ED\"},\"yaxis13\":{\"anchor\":\"x13\",\"domain\":[0.0,0.1975],\"gridcolor\":\"#E1E5ED\",\"showgrid\":false,\"tickfont\":{\"color\":\"#4D5663\"},\"title\":{\"font\":{\"color\":\"#4D5663\"},\"text\":\"\"},\"zerolinecolor\":\"#E1E5ED\"},\"xaxis14\":{\"anchor\":\"y14\",\"domain\":[0.2625,0.475],\"gridcolor\":\"#E1E5ED\",\"showgrid\":false,\"tickfont\":{\"color\":\"#4D5663\"},\"title\":{\"font\":{\"color\":\"#4D5663\"},\"text\":\"\"},\"zerolinecolor\":\"#E1E5ED\"},\"yaxis14\":{\"anchor\":\"x14\",\"domain\":[0.0,0.1975],\"gridcolor\":\"#E1E5ED\",\"showgrid\":false,\"tickfont\":{\"color\":\"#4D5663\"},\"title\":{\"font\":{\"color\":\"#4D5663\"},\"text\":\"\"},\"zerolinecolor\":\"#E1E5ED\"},\"xaxis15\":{\"anchor\":\"y15\",\"domain\":[0.525,0.7375],\"gridcolor\":\"#E1E5ED\",\"showgrid\":false,\"tickfont\":{\"color\":\"#4D5663\"},\"title\":{\"font\":{\"color\":\"#4D5663\"},\"text\":\"\"},\"zerolinecolor\":\"#E1E5ED\"},\"yaxis15\":{\"anchor\":\"x15\",\"domain\":[0.0,0.1975],\"gridcolor\":\"#E1E5ED\",\"showgrid\":false,\"tickfont\":{\"color\":\"#4D5663\"},\"title\":{\"font\":{\"color\":\"#4D5663\"},\"text\":\"\"},\"zerolinecolor\":\"#E1E5ED\"},\"xaxis16\":{\"anchor\":\"y16\",\"domain\":[0.7875,1.0],\"gridcolor\":\"#E1E5ED\",\"showgrid\":false,\"tickfont\":{\"color\":\"#4D5663\"},\"title\":{\"font\":{\"color\":\"#4D5663\"},\"text\":\"\"},\"zerolinecolor\":\"#E1E5ED\"},\"yaxis16\":{\"anchor\":\"x16\",\"domain\":[0.0,0.1975],\"gridcolor\":\"#E1E5ED\",\"showgrid\":false,\"tickfont\":{\"color\":\"#4D5663\"},\"title\":{\"font\":{\"color\":\"#4D5663\"},\"text\":\"\"},\"zerolinecolor\":\"#E1E5ED\"}},                        {\"showLink\": true, \"linkText\": \"Export to plot.ly\", \"plotlyServerURL\": \"https://plot.ly\", \"responsive\": true}                    ).then(function(){\n",
       "                            \n",
       "var gd = document.getElementById('b2194b69-144d-4d5f-8c23-6228bb7ccc40');\n",
       "var x = new MutationObserver(function (mutations, observer) {{\n",
       "        var display = window.getComputedStyle(gd).display;\n",
       "        if (!display || display === 'none') {{\n",
       "            console.log([gd, 'removed!']);\n",
       "            Plotly.purge(gd);\n",
       "            observer.disconnect();\n",
       "        }}\n",
       "}});\n",
       "\n",
       "// Listen for the removal of the full notebook cells\n",
       "var notebookContainer = gd.closest('#notebook-container');\n",
       "if (notebookContainer) {{\n",
       "    x.observe(notebookContainer, {childList: true});\n",
       "}}\n",
       "\n",
       "// Listen for the clearing of the current output cell\n",
       "var outputEl = gd.closest('.output');\n",
       "if (outputEl) {{\n",
       "    x.observe(outputEl, {childList: true});\n",
       "}}\n",
       "\n",
       "                        })                };                });            </script>        </div>"
      ]
     },
     "metadata": {},
     "output_type": "display_data"
    }
   ],
   "source": [
    "df.scatter_matrix()"
   ]
  },
  {
   "cell_type": "markdown",
   "metadata": {},
   "source": [
    "## scatter_matrix()\n",
    "\n",
    "Similar to sns.pairplot()"
   ]
  },
  {
   "cell_type": "code",
   "execution_count": 19,
   "metadata": {
    "scrolled": true
   },
   "outputs": [
    {
     "data": {
      "application/vnd.plotly.v1+json": {
       "config": {
        "linkText": "Export to plot.ly",
        "plotlyServerURL": "https://plot.ly",
        "showLink": true
       },
       "data": [
        {
         "histfunc": "count",
         "histnorm": "",
         "marker": {
          "color": "rgba(255, 153, 51, 1.0)",
          "line": {
           "color": "#4D5663",
           "width": 1.3
          }
         },
         "name": "A",
         "nbinsx": 20,
         "opacity": 0.8,
         "orientation": "v",
         "type": "histogram",
         "x": [
          -1.9903004256683205,
          -0.44331522383487904,
          0.5522209986709692,
          -0.8761307777820353,
          1.1989648408531712,
          1.107396907449335,
          -0.029371122099748383,
          0.3056333470056156,
          -0.4955087979621365,
          -0.6520420406756742,
          -2.5267952417248734,
          0.28866743458960153,
          -1.4316957620782398,
          -0.6044368465373989,
          -0.7835590378190067,
          -0.12675905868030538,
          -0.8723173151421462,
          -1.3441213992499,
          0.9239839346598812,
          -0.37358758223316085,
          0.9588303627419025,
          -0.1052825661486228,
          0.38119597175663916,
          0.3576427427245764,
          -0.5702151234625347,
          -0.5572216628600934,
          0.017719846225363156,
          1.2887145074843485,
          -0.7411771478820481,
          -0.6419864197153446,
          1.1972219508024184,
          0.25945352369678465,
          1.2969932581570864,
          -0.766403700861819,
          -0.5880695192706119,
          0.23921319399362173,
          0.41198072881213454,
          0.8298012119060374,
          -0.39388130471441646,
          -0.9685240289521347,
          -1.5016621442024582,
          0.2224241435501135,
          -0.8493083133394347,
          -1.0609152477969157,
          -1.469355455640693,
          1.102203544886654,
          0.9789753952414446,
          -1.219515842422679,
          -1.0441517795610855,
          0.2804323979633052,
          -0.3944849837527407,
          0.7544188492417558,
          -1.1088178682546639,
          0.1837902883409436,
          -1.0221321290638552,
          0.7823997618515374,
          1.1860800573721049,
          0.03555123929313354,
          -0.08788533678144475,
          -1.0979193923822788,
          0.5231731489710988,
          0.5697924927381082,
          -0.20924153665318343,
          1.3985467032028418,
          1.7004020608481674,
          0.2030413325552144,
          -0.6268391642990602,
          0.3988770551212099,
          0.06965082275610238,
          -1.9116331125018202,
          0.1380241162431082,
          -1.1037926748877243,
          0.8081457348428449,
          -0.9356293594254312,
          -0.0916575756043444,
          0.5779288906452257,
          0.5962772865240996,
          1.515969853059908,
          -1.3425234485560702,
          -0.3600001508909471,
          -0.07624704610784032,
          -1.7522234689232437,
          -0.37257406422804706,
          1.193137958920794,
          1.154637422674318,
          0.31205407485525993,
          0.44184177745646686,
          -1.3778745790073854,
          -1.011665062974858,
          0.03515567990235361,
          0.41947441807572,
          -1.3135785687987815,
          0.3272638323888706,
          -1.0046483036078868,
          0.6876459011460935,
          -0.19200991915835824,
          -0.1546255652119731,
          1.5186581723550163,
          -0.07716251245343556,
          0.5410204542460056
         ]
        },
        {
         "histfunc": "count",
         "histnorm": "",
         "marker": {
          "color": "rgba(55, 128, 191, 1.0)",
          "line": {
           "color": "#4D5663",
           "width": 1.3
          }
         },
         "name": "B",
         "nbinsx": 20,
         "opacity": 0.8,
         "orientation": "v",
         "type": "histogram",
         "x": [
          0.20713171298464164,
          -0.9098290203271999,
          0.6595976436161234,
          1.1391958719025224,
          0.22876136700256824,
          -0.9390175844832885,
          1.40702753694373,
          0.6757395117272006,
          -0.6190602204117278,
          0.9652323468994083,
          1.171138334802606,
          1.9127870674045342,
          0.4741178282201214,
          -2.479844305574245,
          0.8927998703050272,
          -1.491532793139312,
          -0.15493863646237707,
          -0.17367859851820075,
          -0.3910701957760691,
          0.10659597063448929,
          -0.32667053875621144,
          0.7994813604737073,
          -0.4280343716591244,
          -1.150466969038612,
          0.8455562582900276,
          -2.251409282655881,
          0.9821270223673556,
          0.2303455757248052,
          0.04535472902143436,
          -1.2248383310091664,
          1.3674030824397547,
          0.08045700760681646,
          -0.43506133283756054,
          0.24149061558320917,
          -2.0528054626515244,
          0.08373056770003885,
          -0.6361159828889186,
          0.8196960925429025,
          0.8468032243624196,
          -0.10789265679637575,
          -0.5276537406018319,
          -0.5042026403280273,
          0.26276374773287686,
          -1.6144863597671486,
          -0.14370779462404257,
          0.7656677379760024,
          0.7874697232847472,
          -0.8023005621110955,
          0.778255152616999,
          0.5700896498552871,
          -1.0017097238965142,
          -0.6607568163172322,
          1.5905093819220673,
          -1.2110676813411707,
          -0.5601154519339665,
          1.3418467182878748,
          0.6440794160296142,
          -0.39687651490022524,
          -0.4752177292162427,
          0.22650596927963504,
          -0.13680482098526894,
          -0.9673428380469818,
          0.22153028192267313,
          1.7994207743834112,
          -1.003588415564047,
          -0.9112664323687696,
          0.9227233738941317,
          -2.227663388595575,
          0.06724167285175829,
          0.06086377830490128,
          0.3781532535914435,
          1.0079887011567779,
          -2.205453957164551,
          1.164530009463671,
          1.3132946285256442,
          -0.506151267746503,
          -0.05594310018107275,
          0.7545858729175096,
          -0.012902217386942041,
          0.5951414829334419,
          0.12351962806759635,
          -0.38325727961140005,
          -0.6933726532148998,
          2.4415116098964287,
          0.8557274566835281,
          0.7324129287476138,
          -0.8628262713601479,
          0.04756433709781207,
          0.8456812423826571,
          -0.42516235555193016,
          -1.1979961576928366,
          0.5089656233318339,
          0.9803508857671677,
          0.8119129825176856,
          0.03534109009366027,
          -0.17944526405158354,
          0.06161321536565358,
          -0.5760942497350119,
          -0.8844656807832726,
          1.7125044904591131
         ]
        },
        {
         "histfunc": "count",
         "histnorm": "",
         "marker": {
          "color": "rgba(50, 171, 96, 1.0)",
          "line": {
           "color": "#4D5663",
           "width": 1.3
          }
         },
         "name": "C",
         "nbinsx": 20,
         "opacity": 0.8,
         "orientation": "v",
         "type": "histogram",
         "x": [
          -0.1734327179078083,
          1.025281977935646,
          0.202403271941739,
          -0.9834933902244896,
          -0.6474184971807797,
          0.9406868911632378,
          0.3003493689813544,
          -0.747532030840866,
          0.1219500000551959,
          0.12904259385765535,
          -1.2007973492083384,
          -1.0846102717283599,
          1.2810230224396995,
          -0.7090639863368329,
          0.26104238141625064,
          0.6848441923844357,
          1.3712904218858912,
          -1.20861507047745,
          -2.5405455399197185,
          -0.12203039116024908,
          -0.6123589828476048,
          -0.8813710290801637,
          0.10403266515282988,
          -0.26089899633778685,
          -0.4059842516369866,
          1.4187557541977507,
          -1.583138459073382,
          0.5129281122091677,
          1.1652374706613282,
          -0.06728258917509047,
          0.00696080922411059,
          2.3201051260729173,
          -0.3386951531725974,
          2.0000123401643926,
          0.2919076413108785,
          1.8173093195240135,
          -1.4664951424779313,
          -0.3879112807547932,
          -0.5231934268594857,
          -0.14139344505727036,
          -1.100207439833855,
          0.7594443962865002,
          1.2385532475987762,
          -0.759695377875985,
          2.0542853298186423,
          2.210261248274123,
          0.819297640181099,
          0.7048244974399858,
          0.688841842644157,
          -0.5799814981264281,
          2.2515167496768416,
          1.1155921104798137,
          -0.6337498347256617,
          -0.6561852397859022,
          1.1105627550113193,
          1.5348593972668638,
          -0.324936965303408,
          -0.8361104252801637,
          0.7653712969595001,
          0.24907108738950298,
          -1.2317967452216088,
          0.8997703641459304,
          1.1395077801318922,
          0.28847376341816117,
          0.1886156039673864,
          -0.4074341231445621,
          0.7997895526136964,
          -1.0912104356636727,
          0.3119971138291475,
          -0.4185002045442197,
          2.5248181577844178,
          1.3455246110481505,
          -0.3117992178894114,
          -0.31847321483254554,
          1.2131033077720554,
          1.448868825477331,
          -0.24328247881868906,
          -0.3567749124083891,
          -0.16926826070298467,
          -0.35396995301437073,
          -0.8700087169425702,
          -0.14947867980498358,
          -0.040000503325443346,
          -0.21783051862202382,
          0.21673625801784674,
          -0.8960474515146457,
          1.3481557076721484,
          -0.9950879670041042,
          2.0841530694291532,
          -0.7154536902547273,
          -1.3717402491254331,
          -0.48537609341111554,
          -1.4175095023892268,
          -0.13422213336448804,
          1.461727020346443,
          -1.816800058383163,
          1.0812660470410758,
          1.409532907990298,
          -0.4544789634340318,
          0.9615157849938297
         ]
        },
        {
         "histfunc": "count",
         "histnorm": "",
         "marker": {
          "color": "rgba(128, 0, 128, 1.0)",
          "line": {
           "color": "#4D5663",
           "width": 1.3
          }
         },
         "name": "D",
         "nbinsx": 20,
         "opacity": 0.8,
         "orientation": "v",
         "type": "histogram",
         "x": [
          1.704742677700104,
          0.8235667212186872,
          1.586856430834681,
          2.4177509895405196,
          -1.698120880239537,
          0.9513856559545543,
          1.432820319719165,
          0.9319040542152517,
          2.0908949112998574,
          0.24264784705094034,
          1.012562816557507,
          -0.9509606983642789,
          0.21621807050718683,
          -0.812691487194244,
          0.9780952387980227,
          1.3611968402126449,
          0.004019283566734584,
          -0.9802757455225488,
          1.0703293680762096,
          -0.8737621307370945,
          0.8934865318306057,
          1.025346035892475,
          -0.20864015453364615,
          -1.1361297729398474,
          -0.8601631692882453,
          -0.6356786928082033,
          0.27510501242745733,
          -0.4796962814623892,
          -1.1425815068882323,
          1.1769477210528139,
          -0.5911586539291419,
          1.6911962381867163,
          0.967066780353155,
          -0.20991321232926455,
          0.26925268962020554,
          0.1205654135290545,
          0.4182072115762697,
          1.0149652809670269,
          -0.008838220928936583,
          1.0079648026427928,
          1.1579675186119789,
          2.4370866076021303,
          1.5292745938023486,
          0.3248137630341598,
          -1.9441841084541889,
          -0.26571405954830585,
          -0.20792111529154567,
          -0.4780125100587477,
          2.2161345568796147,
          0.4737589191469256,
          -1.0508381422262705,
          0.8770403467531728,
          -0.22110978493067945,
          -2.2878592743711383,
          -0.30491582900244435,
          3.7495097200921577,
          0.5599323269316231,
          1.1316583392984148,
          -0.5369995819663967,
          1.1236996914087098,
          -0.2728036103290317,
          1.2025945197111798,
          0.5122006706361073,
          0.0798180310891348,
          0.7916016394178136,
          -0.11986898411035302,
          1.4128274636634972,
          0.17867288971380324,
          1.2866170372239103,
          1.564280875623778,
          0.176276896701876,
          1.0486357010155423,
          -0.7991681606290977,
          1.6321085185177524,
          -0.4563288302703064,
          0.5805724432555952,
          0.02365351076373204,
          1.105708224153926,
          2.2329202529468497,
          -0.847614118112452,
          0.12878339308990167,
          0.7719078193392097,
          1.5226644749901594,
          0.6210969617087052,
          0.9720772290253814,
          3.4750579106732857,
          -0.31541713625986,
          2.231604606908773,
          -0.17644177261787783,
          0.050996347833518745,
          1.170978845923599,
          0.642974865871924,
          -0.5306803613540669,
          -1.7749250568597061,
          -3.294407031214544,
          -0.11548120498782195,
          -1.1297523562743428,
          0.40717446191210094,
          0.17541836588072568,
          0.2805597335081778
         ]
        }
       ],
       "layout": {
        "barmode": "overlay",
        "legend": {
         "bgcolor": "#F5F6F9",
         "font": {
          "color": "#4D5663"
         }
        },
        "paper_bgcolor": "#F5F6F9",
        "plot_bgcolor": "#F5F6F9",
        "template": {
         "data": {
          "bar": [
           {
            "error_x": {
             "color": "#2a3f5f"
            },
            "error_y": {
             "color": "#2a3f5f"
            },
            "marker": {
             "line": {
              "color": "#E5ECF6",
              "width": 0.5
             },
             "pattern": {
              "fillmode": "overlay",
              "size": 10,
              "solidity": 0.2
             }
            },
            "type": "bar"
           }
          ],
          "barpolar": [
           {
            "marker": {
             "line": {
              "color": "#E5ECF6",
              "width": 0.5
             },
             "pattern": {
              "fillmode": "overlay",
              "size": 10,
              "solidity": 0.2
             }
            },
            "type": "barpolar"
           }
          ],
          "carpet": [
           {
            "aaxis": {
             "endlinecolor": "#2a3f5f",
             "gridcolor": "white",
             "linecolor": "white",
             "minorgridcolor": "white",
             "startlinecolor": "#2a3f5f"
            },
            "baxis": {
             "endlinecolor": "#2a3f5f",
             "gridcolor": "white",
             "linecolor": "white",
             "minorgridcolor": "white",
             "startlinecolor": "#2a3f5f"
            },
            "type": "carpet"
           }
          ],
          "choropleth": [
           {
            "colorbar": {
             "outlinewidth": 0,
             "ticks": ""
            },
            "type": "choropleth"
           }
          ],
          "contour": [
           {
            "colorbar": {
             "outlinewidth": 0,
             "ticks": ""
            },
            "colorscale": [
             [
              0,
              "#0d0887"
             ],
             [
              0.1111111111111111,
              "#46039f"
             ],
             [
              0.2222222222222222,
              "#7201a8"
             ],
             [
              0.3333333333333333,
              "#9c179e"
             ],
             [
              0.4444444444444444,
              "#bd3786"
             ],
             [
              0.5555555555555556,
              "#d8576b"
             ],
             [
              0.6666666666666666,
              "#ed7953"
             ],
             [
              0.7777777777777778,
              "#fb9f3a"
             ],
             [
              0.8888888888888888,
              "#fdca26"
             ],
             [
              1,
              "#f0f921"
             ]
            ],
            "type": "contour"
           }
          ],
          "contourcarpet": [
           {
            "colorbar": {
             "outlinewidth": 0,
             "ticks": ""
            },
            "type": "contourcarpet"
           }
          ],
          "heatmap": [
           {
            "colorbar": {
             "outlinewidth": 0,
             "ticks": ""
            },
            "colorscale": [
             [
              0,
              "#0d0887"
             ],
             [
              0.1111111111111111,
              "#46039f"
             ],
             [
              0.2222222222222222,
              "#7201a8"
             ],
             [
              0.3333333333333333,
              "#9c179e"
             ],
             [
              0.4444444444444444,
              "#bd3786"
             ],
             [
              0.5555555555555556,
              "#d8576b"
             ],
             [
              0.6666666666666666,
              "#ed7953"
             ],
             [
              0.7777777777777778,
              "#fb9f3a"
             ],
             [
              0.8888888888888888,
              "#fdca26"
             ],
             [
              1,
              "#f0f921"
             ]
            ],
            "type": "heatmap"
           }
          ],
          "heatmapgl": [
           {
            "colorbar": {
             "outlinewidth": 0,
             "ticks": ""
            },
            "colorscale": [
             [
              0,
              "#0d0887"
             ],
             [
              0.1111111111111111,
              "#46039f"
             ],
             [
              0.2222222222222222,
              "#7201a8"
             ],
             [
              0.3333333333333333,
              "#9c179e"
             ],
             [
              0.4444444444444444,
              "#bd3786"
             ],
             [
              0.5555555555555556,
              "#d8576b"
             ],
             [
              0.6666666666666666,
              "#ed7953"
             ],
             [
              0.7777777777777778,
              "#fb9f3a"
             ],
             [
              0.8888888888888888,
              "#fdca26"
             ],
             [
              1,
              "#f0f921"
             ]
            ],
            "type": "heatmapgl"
           }
          ],
          "histogram": [
           {
            "marker": {
             "pattern": {
              "fillmode": "overlay",
              "size": 10,
              "solidity": 0.2
             }
            },
            "type": "histogram"
           }
          ],
          "histogram2d": [
           {
            "colorbar": {
             "outlinewidth": 0,
             "ticks": ""
            },
            "colorscale": [
             [
              0,
              "#0d0887"
             ],
             [
              0.1111111111111111,
              "#46039f"
             ],
             [
              0.2222222222222222,
              "#7201a8"
             ],
             [
              0.3333333333333333,
              "#9c179e"
             ],
             [
              0.4444444444444444,
              "#bd3786"
             ],
             [
              0.5555555555555556,
              "#d8576b"
             ],
             [
              0.6666666666666666,
              "#ed7953"
             ],
             [
              0.7777777777777778,
              "#fb9f3a"
             ],
             [
              0.8888888888888888,
              "#fdca26"
             ],
             [
              1,
              "#f0f921"
             ]
            ],
            "type": "histogram2d"
           }
          ],
          "histogram2dcontour": [
           {
            "colorbar": {
             "outlinewidth": 0,
             "ticks": ""
            },
            "colorscale": [
             [
              0,
              "#0d0887"
             ],
             [
              0.1111111111111111,
              "#46039f"
             ],
             [
              0.2222222222222222,
              "#7201a8"
             ],
             [
              0.3333333333333333,
              "#9c179e"
             ],
             [
              0.4444444444444444,
              "#bd3786"
             ],
             [
              0.5555555555555556,
              "#d8576b"
             ],
             [
              0.6666666666666666,
              "#ed7953"
             ],
             [
              0.7777777777777778,
              "#fb9f3a"
             ],
             [
              0.8888888888888888,
              "#fdca26"
             ],
             [
              1,
              "#f0f921"
             ]
            ],
            "type": "histogram2dcontour"
           }
          ],
          "mesh3d": [
           {
            "colorbar": {
             "outlinewidth": 0,
             "ticks": ""
            },
            "type": "mesh3d"
           }
          ],
          "parcoords": [
           {
            "line": {
             "colorbar": {
              "outlinewidth": 0,
              "ticks": ""
             }
            },
            "type": "parcoords"
           }
          ],
          "pie": [
           {
            "automargin": true,
            "type": "pie"
           }
          ],
          "scatter": [
           {
            "fillpattern": {
             "fillmode": "overlay",
             "size": 10,
             "solidity": 0.2
            },
            "type": "scatter"
           }
          ],
          "scatter3d": [
           {
            "line": {
             "colorbar": {
              "outlinewidth": 0,
              "ticks": ""
             }
            },
            "marker": {
             "colorbar": {
              "outlinewidth": 0,
              "ticks": ""
             }
            },
            "type": "scatter3d"
           }
          ],
          "scattercarpet": [
           {
            "marker": {
             "colorbar": {
              "outlinewidth": 0,
              "ticks": ""
             }
            },
            "type": "scattercarpet"
           }
          ],
          "scattergeo": [
           {
            "marker": {
             "colorbar": {
              "outlinewidth": 0,
              "ticks": ""
             }
            },
            "type": "scattergeo"
           }
          ],
          "scattergl": [
           {
            "marker": {
             "colorbar": {
              "outlinewidth": 0,
              "ticks": ""
             }
            },
            "type": "scattergl"
           }
          ],
          "scattermapbox": [
           {
            "marker": {
             "colorbar": {
              "outlinewidth": 0,
              "ticks": ""
             }
            },
            "type": "scattermapbox"
           }
          ],
          "scatterpolar": [
           {
            "marker": {
             "colorbar": {
              "outlinewidth": 0,
              "ticks": ""
             }
            },
            "type": "scatterpolar"
           }
          ],
          "scatterpolargl": [
           {
            "marker": {
             "colorbar": {
              "outlinewidth": 0,
              "ticks": ""
             }
            },
            "type": "scatterpolargl"
           }
          ],
          "scatterternary": [
           {
            "marker": {
             "colorbar": {
              "outlinewidth": 0,
              "ticks": ""
             }
            },
            "type": "scatterternary"
           }
          ],
          "surface": [
           {
            "colorbar": {
             "outlinewidth": 0,
             "ticks": ""
            },
            "colorscale": [
             [
              0,
              "#0d0887"
             ],
             [
              0.1111111111111111,
              "#46039f"
             ],
             [
              0.2222222222222222,
              "#7201a8"
             ],
             [
              0.3333333333333333,
              "#9c179e"
             ],
             [
              0.4444444444444444,
              "#bd3786"
             ],
             [
              0.5555555555555556,
              "#d8576b"
             ],
             [
              0.6666666666666666,
              "#ed7953"
             ],
             [
              0.7777777777777778,
              "#fb9f3a"
             ],
             [
              0.8888888888888888,
              "#fdca26"
             ],
             [
              1,
              "#f0f921"
             ]
            ],
            "type": "surface"
           }
          ],
          "table": [
           {
            "cells": {
             "fill": {
              "color": "#EBF0F8"
             },
             "line": {
              "color": "white"
             }
            },
            "header": {
             "fill": {
              "color": "#C8D4E3"
             },
             "line": {
              "color": "white"
             }
            },
            "type": "table"
           }
          ]
         },
         "layout": {
          "annotationdefaults": {
           "arrowcolor": "#2a3f5f",
           "arrowhead": 0,
           "arrowwidth": 1
          },
          "autotypenumbers": "strict",
          "coloraxis": {
           "colorbar": {
            "outlinewidth": 0,
            "ticks": ""
           }
          },
          "colorscale": {
           "diverging": [
            [
             0,
             "#8e0152"
            ],
            [
             0.1,
             "#c51b7d"
            ],
            [
             0.2,
             "#de77ae"
            ],
            [
             0.3,
             "#f1b6da"
            ],
            [
             0.4,
             "#fde0ef"
            ],
            [
             0.5,
             "#f7f7f7"
            ],
            [
             0.6,
             "#e6f5d0"
            ],
            [
             0.7,
             "#b8e186"
            ],
            [
             0.8,
             "#7fbc41"
            ],
            [
             0.9,
             "#4d9221"
            ],
            [
             1,
             "#276419"
            ]
           ],
           "sequential": [
            [
             0,
             "#0d0887"
            ],
            [
             0.1111111111111111,
             "#46039f"
            ],
            [
             0.2222222222222222,
             "#7201a8"
            ],
            [
             0.3333333333333333,
             "#9c179e"
            ],
            [
             0.4444444444444444,
             "#bd3786"
            ],
            [
             0.5555555555555556,
             "#d8576b"
            ],
            [
             0.6666666666666666,
             "#ed7953"
            ],
            [
             0.7777777777777778,
             "#fb9f3a"
            ],
            [
             0.8888888888888888,
             "#fdca26"
            ],
            [
             1,
             "#f0f921"
            ]
           ],
           "sequentialminus": [
            [
             0,
             "#0d0887"
            ],
            [
             0.1111111111111111,
             "#46039f"
            ],
            [
             0.2222222222222222,
             "#7201a8"
            ],
            [
             0.3333333333333333,
             "#9c179e"
            ],
            [
             0.4444444444444444,
             "#bd3786"
            ],
            [
             0.5555555555555556,
             "#d8576b"
            ],
            [
             0.6666666666666666,
             "#ed7953"
            ],
            [
             0.7777777777777778,
             "#fb9f3a"
            ],
            [
             0.8888888888888888,
             "#fdca26"
            ],
            [
             1,
             "#f0f921"
            ]
           ]
          },
          "colorway": [
           "#636efa",
           "#EF553B",
           "#00cc96",
           "#ab63fa",
           "#FFA15A",
           "#19d3f3",
           "#FF6692",
           "#B6E880",
           "#FF97FF",
           "#FECB52"
          ],
          "font": {
           "color": "#2a3f5f"
          },
          "geo": {
           "bgcolor": "white",
           "lakecolor": "white",
           "landcolor": "#E5ECF6",
           "showlakes": true,
           "showland": true,
           "subunitcolor": "white"
          },
          "hoverlabel": {
           "align": "left"
          },
          "hovermode": "closest",
          "mapbox": {
           "style": "light"
          },
          "paper_bgcolor": "white",
          "plot_bgcolor": "#E5ECF6",
          "polar": {
           "angularaxis": {
            "gridcolor": "white",
            "linecolor": "white",
            "ticks": ""
           },
           "bgcolor": "#E5ECF6",
           "radialaxis": {
            "gridcolor": "white",
            "linecolor": "white",
            "ticks": ""
           }
          },
          "scene": {
           "xaxis": {
            "backgroundcolor": "#E5ECF6",
            "gridcolor": "white",
            "gridwidth": 2,
            "linecolor": "white",
            "showbackground": true,
            "ticks": "",
            "zerolinecolor": "white"
           },
           "yaxis": {
            "backgroundcolor": "#E5ECF6",
            "gridcolor": "white",
            "gridwidth": 2,
            "linecolor": "white",
            "showbackground": true,
            "ticks": "",
            "zerolinecolor": "white"
           },
           "zaxis": {
            "backgroundcolor": "#E5ECF6",
            "gridcolor": "white",
            "gridwidth": 2,
            "linecolor": "white",
            "showbackground": true,
            "ticks": "",
            "zerolinecolor": "white"
           }
          },
          "shapedefaults": {
           "line": {
            "color": "#2a3f5f"
           }
          },
          "ternary": {
           "aaxis": {
            "gridcolor": "white",
            "linecolor": "white",
            "ticks": ""
           },
           "baxis": {
            "gridcolor": "white",
            "linecolor": "white",
            "ticks": ""
           },
           "bgcolor": "#E5ECF6",
           "caxis": {
            "gridcolor": "white",
            "linecolor": "white",
            "ticks": ""
           }
          },
          "title": {
           "x": 0.05
          },
          "xaxis": {
           "automargin": true,
           "gridcolor": "white",
           "linecolor": "white",
           "ticks": "",
           "title": {
            "standoff": 15
           },
           "zerolinecolor": "white",
           "zerolinewidth": 2
          },
          "yaxis": {
           "automargin": true,
           "gridcolor": "white",
           "linecolor": "white",
           "ticks": "",
           "title": {
            "standoff": 15
           },
           "zerolinecolor": "white",
           "zerolinewidth": 2
          }
         }
        },
        "title": {
         "font": {
          "color": "#4D5663"
         }
        },
        "xaxis": {
         "gridcolor": "#E1E5ED",
         "showgrid": true,
         "tickfont": {
          "color": "#4D5663"
         },
         "title": {
          "font": {
           "color": "#4D5663"
          },
          "text": ""
         },
         "zerolinecolor": "#E1E5ED"
        },
        "yaxis": {
         "gridcolor": "#E1E5ED",
         "showgrid": true,
         "tickfont": {
          "color": "#4D5663"
         },
         "title": {
          "font": {
           "color": "#4D5663"
          },
          "text": ""
         },
         "zerolinecolor": "#E1E5ED"
        }
       }
      },
      "text/html": [
       "<div>                            <div id=\"702d8e22-b97d-4289-a060-e7c95b8863be\" class=\"plotly-graph-div\" style=\"height:525px; width:100%;\"></div>            <script type=\"text/javascript\">                require([\"plotly\"], function(Plotly) {                    window.PLOTLYENV=window.PLOTLYENV || {};\n",
       "                    window.PLOTLYENV.BASE_URL='https://plot.ly';                                    if (document.getElementById(\"702d8e22-b97d-4289-a060-e7c95b8863be\")) {                    Plotly.newPlot(                        \"702d8e22-b97d-4289-a060-e7c95b8863be\",                        [{\"histfunc\":\"count\",\"histnorm\":\"\",\"marker\":{\"color\":\"rgba(255, 153, 51, 1.0)\",\"line\":{\"color\":\"#4D5663\",\"width\":1.3}},\"name\":\"A\",\"nbinsx\":20,\"opacity\":0.8,\"orientation\":\"v\",\"x\":[-1.9903004256683205,-0.44331522383487904,0.5522209986709692,-0.8761307777820353,1.1989648408531712,1.107396907449335,-0.029371122099748383,0.3056333470056156,-0.4955087979621365,-0.6520420406756742,-2.5267952417248734,0.28866743458960153,-1.4316957620782398,-0.6044368465373989,-0.7835590378190067,-0.12675905868030538,-0.8723173151421462,-1.3441213992499,0.9239839346598812,-0.37358758223316085,0.9588303627419025,-0.1052825661486228,0.38119597175663916,0.3576427427245764,-0.5702151234625347,-0.5572216628600934,0.017719846225363156,1.2887145074843485,-0.7411771478820481,-0.6419864197153446,1.1972219508024184,0.25945352369678465,1.2969932581570864,-0.766403700861819,-0.5880695192706119,0.23921319399362173,0.41198072881213454,0.8298012119060374,-0.39388130471441646,-0.9685240289521347,-1.5016621442024582,0.2224241435501135,-0.8493083133394347,-1.0609152477969157,-1.469355455640693,1.102203544886654,0.9789753952414446,-1.219515842422679,-1.0441517795610855,0.2804323979633052,-0.3944849837527407,0.7544188492417558,-1.1088178682546639,0.1837902883409436,-1.0221321290638552,0.7823997618515374,1.1860800573721049,0.03555123929313354,-0.08788533678144475,-1.0979193923822788,0.5231731489710988,0.5697924927381082,-0.20924153665318343,1.3985467032028418,1.7004020608481674,0.2030413325552144,-0.6268391642990602,0.3988770551212099,0.06965082275610238,-1.9116331125018202,0.1380241162431082,-1.1037926748877243,0.8081457348428449,-0.9356293594254312,-0.0916575756043444,0.5779288906452257,0.5962772865240996,1.515969853059908,-1.3425234485560702,-0.3600001508909471,-0.07624704610784032,-1.7522234689232437,-0.37257406422804706,1.193137958920794,1.154637422674318,0.31205407485525993,0.44184177745646686,-1.3778745790073854,-1.011665062974858,0.03515567990235361,0.41947441807572,-1.3135785687987815,0.3272638323888706,-1.0046483036078868,0.6876459011460935,-0.19200991915835824,-0.1546255652119731,1.5186581723550163,-0.07716251245343556,0.5410204542460056],\"type\":\"histogram\"},{\"histfunc\":\"count\",\"histnorm\":\"\",\"marker\":{\"color\":\"rgba(55, 128, 191, 1.0)\",\"line\":{\"color\":\"#4D5663\",\"width\":1.3}},\"name\":\"B\",\"nbinsx\":20,\"opacity\":0.8,\"orientation\":\"v\",\"x\":[0.20713171298464164,-0.9098290203271999,0.6595976436161234,1.1391958719025224,0.22876136700256824,-0.9390175844832885,1.40702753694373,0.6757395117272006,-0.6190602204117278,0.9652323468994083,1.171138334802606,1.9127870674045342,0.4741178282201214,-2.479844305574245,0.8927998703050272,-1.491532793139312,-0.15493863646237707,-0.17367859851820075,-0.3910701957760691,0.10659597063448929,-0.32667053875621144,0.7994813604737073,-0.4280343716591244,-1.150466969038612,0.8455562582900276,-2.251409282655881,0.9821270223673556,0.2303455757248052,0.04535472902143436,-1.2248383310091664,1.3674030824397547,0.08045700760681646,-0.43506133283756054,0.24149061558320917,-2.0528054626515244,0.08373056770003885,-0.6361159828889186,0.8196960925429025,0.8468032243624196,-0.10789265679637575,-0.5276537406018319,-0.5042026403280273,0.26276374773287686,-1.6144863597671486,-0.14370779462404257,0.7656677379760024,0.7874697232847472,-0.8023005621110955,0.778255152616999,0.5700896498552871,-1.0017097238965142,-0.6607568163172322,1.5905093819220673,-1.2110676813411707,-0.5601154519339665,1.3418467182878748,0.6440794160296142,-0.39687651490022524,-0.4752177292162427,0.22650596927963504,-0.13680482098526894,-0.9673428380469818,0.22153028192267313,1.7994207743834112,-1.003588415564047,-0.9112664323687696,0.9227233738941317,-2.227663388595575,0.06724167285175829,0.06086377830490128,0.3781532535914435,1.0079887011567779,-2.205453957164551,1.164530009463671,1.3132946285256442,-0.506151267746503,-0.05594310018107275,0.7545858729175096,-0.012902217386942041,0.5951414829334419,0.12351962806759635,-0.38325727961140005,-0.6933726532148998,2.4415116098964287,0.8557274566835281,0.7324129287476138,-0.8628262713601479,0.04756433709781207,0.8456812423826571,-0.42516235555193016,-1.1979961576928366,0.5089656233318339,0.9803508857671677,0.8119129825176856,0.03534109009366027,-0.17944526405158354,0.06161321536565358,-0.5760942497350119,-0.8844656807832726,1.7125044904591131],\"type\":\"histogram\"},{\"histfunc\":\"count\",\"histnorm\":\"\",\"marker\":{\"color\":\"rgba(50, 171, 96, 1.0)\",\"line\":{\"color\":\"#4D5663\",\"width\":1.3}},\"name\":\"C\",\"nbinsx\":20,\"opacity\":0.8,\"orientation\":\"v\",\"x\":[-0.1734327179078083,1.025281977935646,0.202403271941739,-0.9834933902244896,-0.6474184971807797,0.9406868911632378,0.3003493689813544,-0.747532030840866,0.1219500000551959,0.12904259385765535,-1.2007973492083384,-1.0846102717283599,1.2810230224396995,-0.7090639863368329,0.26104238141625064,0.6848441923844357,1.3712904218858912,-1.20861507047745,-2.5405455399197185,-0.12203039116024908,-0.6123589828476048,-0.8813710290801637,0.10403266515282988,-0.26089899633778685,-0.4059842516369866,1.4187557541977507,-1.583138459073382,0.5129281122091677,1.1652374706613282,-0.06728258917509047,0.00696080922411059,2.3201051260729173,-0.3386951531725974,2.0000123401643926,0.2919076413108785,1.8173093195240135,-1.4664951424779313,-0.3879112807547932,-0.5231934268594857,-0.14139344505727036,-1.100207439833855,0.7594443962865002,1.2385532475987762,-0.759695377875985,2.0542853298186423,2.210261248274123,0.819297640181099,0.7048244974399858,0.688841842644157,-0.5799814981264281,2.2515167496768416,1.1155921104798137,-0.6337498347256617,-0.6561852397859022,1.1105627550113193,1.5348593972668638,-0.324936965303408,-0.8361104252801637,0.7653712969595001,0.24907108738950298,-1.2317967452216088,0.8997703641459304,1.1395077801318922,0.28847376341816117,0.1886156039673864,-0.4074341231445621,0.7997895526136964,-1.0912104356636727,0.3119971138291475,-0.4185002045442197,2.5248181577844178,1.3455246110481505,-0.3117992178894114,-0.31847321483254554,1.2131033077720554,1.448868825477331,-0.24328247881868906,-0.3567749124083891,-0.16926826070298467,-0.35396995301437073,-0.8700087169425702,-0.14947867980498358,-0.040000503325443346,-0.21783051862202382,0.21673625801784674,-0.8960474515146457,1.3481557076721484,-0.9950879670041042,2.0841530694291532,-0.7154536902547273,-1.3717402491254331,-0.48537609341111554,-1.4175095023892268,-0.13422213336448804,1.461727020346443,-1.816800058383163,1.0812660470410758,1.409532907990298,-0.4544789634340318,0.9615157849938297],\"type\":\"histogram\"},{\"histfunc\":\"count\",\"histnorm\":\"\",\"marker\":{\"color\":\"rgba(128, 0, 128, 1.0)\",\"line\":{\"color\":\"#4D5663\",\"width\":1.3}},\"name\":\"D\",\"nbinsx\":20,\"opacity\":0.8,\"orientation\":\"v\",\"x\":[1.704742677700104,0.8235667212186872,1.586856430834681,2.4177509895405196,-1.698120880239537,0.9513856559545543,1.432820319719165,0.9319040542152517,2.0908949112998574,0.24264784705094034,1.012562816557507,-0.9509606983642789,0.21621807050718683,-0.812691487194244,0.9780952387980227,1.3611968402126449,0.004019283566734584,-0.9802757455225488,1.0703293680762096,-0.8737621307370945,0.8934865318306057,1.025346035892475,-0.20864015453364615,-1.1361297729398474,-0.8601631692882453,-0.6356786928082033,0.27510501242745733,-0.4796962814623892,-1.1425815068882323,1.1769477210528139,-0.5911586539291419,1.6911962381867163,0.967066780353155,-0.20991321232926455,0.26925268962020554,0.1205654135290545,0.4182072115762697,1.0149652809670269,-0.008838220928936583,1.0079648026427928,1.1579675186119789,2.4370866076021303,1.5292745938023486,0.3248137630341598,-1.9441841084541889,-0.26571405954830585,-0.20792111529154567,-0.4780125100587477,2.2161345568796147,0.4737589191469256,-1.0508381422262705,0.8770403467531728,-0.22110978493067945,-2.2878592743711383,-0.30491582900244435,3.7495097200921577,0.5599323269316231,1.1316583392984148,-0.5369995819663967,1.1236996914087098,-0.2728036103290317,1.2025945197111798,0.5122006706361073,0.0798180310891348,0.7916016394178136,-0.11986898411035302,1.4128274636634972,0.17867288971380324,1.2866170372239103,1.564280875623778,0.176276896701876,1.0486357010155423,-0.7991681606290977,1.6321085185177524,-0.4563288302703064,0.5805724432555952,0.02365351076373204,1.105708224153926,2.2329202529468497,-0.847614118112452,0.12878339308990167,0.7719078193392097,1.5226644749901594,0.6210969617087052,0.9720772290253814,3.4750579106732857,-0.31541713625986,2.231604606908773,-0.17644177261787783,0.050996347833518745,1.170978845923599,0.642974865871924,-0.5306803613540669,-1.7749250568597061,-3.294407031214544,-0.11548120498782195,-1.1297523562743428,0.40717446191210094,0.17541836588072568,0.2805597335081778],\"type\":\"histogram\"}],                        {\"barmode\":\"overlay\",\"legend\":{\"bgcolor\":\"#F5F6F9\",\"font\":{\"color\":\"#4D5663\"}},\"paper_bgcolor\":\"#F5F6F9\",\"plot_bgcolor\":\"#F5F6F9\",\"template\":{\"data\":{\"barpolar\":[{\"marker\":{\"line\":{\"color\":\"#E5ECF6\",\"width\":0.5},\"pattern\":{\"fillmode\":\"overlay\",\"size\":10,\"solidity\":0.2}},\"type\":\"barpolar\"}],\"bar\":[{\"error_x\":{\"color\":\"#2a3f5f\"},\"error_y\":{\"color\":\"#2a3f5f\"},\"marker\":{\"line\":{\"color\":\"#E5ECF6\",\"width\":0.5},\"pattern\":{\"fillmode\":\"overlay\",\"size\":10,\"solidity\":0.2}},\"type\":\"bar\"}],\"carpet\":[{\"aaxis\":{\"endlinecolor\":\"#2a3f5f\",\"gridcolor\":\"white\",\"linecolor\":\"white\",\"minorgridcolor\":\"white\",\"startlinecolor\":\"#2a3f5f\"},\"baxis\":{\"endlinecolor\":\"#2a3f5f\",\"gridcolor\":\"white\",\"linecolor\":\"white\",\"minorgridcolor\":\"white\",\"startlinecolor\":\"#2a3f5f\"},\"type\":\"carpet\"}],\"choropleth\":[{\"colorbar\":{\"outlinewidth\":0,\"ticks\":\"\"},\"type\":\"choropleth\"}],\"contourcarpet\":[{\"colorbar\":{\"outlinewidth\":0,\"ticks\":\"\"},\"type\":\"contourcarpet\"}],\"contour\":[{\"colorbar\":{\"outlinewidth\":0,\"ticks\":\"\"},\"colorscale\":[[0.0,\"#0d0887\"],[0.1111111111111111,\"#46039f\"],[0.2222222222222222,\"#7201a8\"],[0.3333333333333333,\"#9c179e\"],[0.4444444444444444,\"#bd3786\"],[0.5555555555555556,\"#d8576b\"],[0.6666666666666666,\"#ed7953\"],[0.7777777777777778,\"#fb9f3a\"],[0.8888888888888888,\"#fdca26\"],[1.0,\"#f0f921\"]],\"type\":\"contour\"}],\"heatmapgl\":[{\"colorbar\":{\"outlinewidth\":0,\"ticks\":\"\"},\"colorscale\":[[0.0,\"#0d0887\"],[0.1111111111111111,\"#46039f\"],[0.2222222222222222,\"#7201a8\"],[0.3333333333333333,\"#9c179e\"],[0.4444444444444444,\"#bd3786\"],[0.5555555555555556,\"#d8576b\"],[0.6666666666666666,\"#ed7953\"],[0.7777777777777778,\"#fb9f3a\"],[0.8888888888888888,\"#fdca26\"],[1.0,\"#f0f921\"]],\"type\":\"heatmapgl\"}],\"heatmap\":[{\"colorbar\":{\"outlinewidth\":0,\"ticks\":\"\"},\"colorscale\":[[0.0,\"#0d0887\"],[0.1111111111111111,\"#46039f\"],[0.2222222222222222,\"#7201a8\"],[0.3333333333333333,\"#9c179e\"],[0.4444444444444444,\"#bd3786\"],[0.5555555555555556,\"#d8576b\"],[0.6666666666666666,\"#ed7953\"],[0.7777777777777778,\"#fb9f3a\"],[0.8888888888888888,\"#fdca26\"],[1.0,\"#f0f921\"]],\"type\":\"heatmap\"}],\"histogram2dcontour\":[{\"colorbar\":{\"outlinewidth\":0,\"ticks\":\"\"},\"colorscale\":[[0.0,\"#0d0887\"],[0.1111111111111111,\"#46039f\"],[0.2222222222222222,\"#7201a8\"],[0.3333333333333333,\"#9c179e\"],[0.4444444444444444,\"#bd3786\"],[0.5555555555555556,\"#d8576b\"],[0.6666666666666666,\"#ed7953\"],[0.7777777777777778,\"#fb9f3a\"],[0.8888888888888888,\"#fdca26\"],[1.0,\"#f0f921\"]],\"type\":\"histogram2dcontour\"}],\"histogram2d\":[{\"colorbar\":{\"outlinewidth\":0,\"ticks\":\"\"},\"colorscale\":[[0.0,\"#0d0887\"],[0.1111111111111111,\"#46039f\"],[0.2222222222222222,\"#7201a8\"],[0.3333333333333333,\"#9c179e\"],[0.4444444444444444,\"#bd3786\"],[0.5555555555555556,\"#d8576b\"],[0.6666666666666666,\"#ed7953\"],[0.7777777777777778,\"#fb9f3a\"],[0.8888888888888888,\"#fdca26\"],[1.0,\"#f0f921\"]],\"type\":\"histogram2d\"}],\"histogram\":[{\"marker\":{\"pattern\":{\"fillmode\":\"overlay\",\"size\":10,\"solidity\":0.2}},\"type\":\"histogram\"}],\"mesh3d\":[{\"colorbar\":{\"outlinewidth\":0,\"ticks\":\"\"},\"type\":\"mesh3d\"}],\"parcoords\":[{\"line\":{\"colorbar\":{\"outlinewidth\":0,\"ticks\":\"\"}},\"type\":\"parcoords\"}],\"pie\":[{\"automargin\":true,\"type\":\"pie\"}],\"scatter3d\":[{\"line\":{\"colorbar\":{\"outlinewidth\":0,\"ticks\":\"\"}},\"marker\":{\"colorbar\":{\"outlinewidth\":0,\"ticks\":\"\"}},\"type\":\"scatter3d\"}],\"scattercarpet\":[{\"marker\":{\"colorbar\":{\"outlinewidth\":0,\"ticks\":\"\"}},\"type\":\"scattercarpet\"}],\"scattergeo\":[{\"marker\":{\"colorbar\":{\"outlinewidth\":0,\"ticks\":\"\"}},\"type\":\"scattergeo\"}],\"scattergl\":[{\"marker\":{\"colorbar\":{\"outlinewidth\":0,\"ticks\":\"\"}},\"type\":\"scattergl\"}],\"scattermapbox\":[{\"marker\":{\"colorbar\":{\"outlinewidth\":0,\"ticks\":\"\"}},\"type\":\"scattermapbox\"}],\"scatterpolargl\":[{\"marker\":{\"colorbar\":{\"outlinewidth\":0,\"ticks\":\"\"}},\"type\":\"scatterpolargl\"}],\"scatterpolar\":[{\"marker\":{\"colorbar\":{\"outlinewidth\":0,\"ticks\":\"\"}},\"type\":\"scatterpolar\"}],\"scatter\":[{\"fillpattern\":{\"fillmode\":\"overlay\",\"size\":10,\"solidity\":0.2},\"type\":\"scatter\"}],\"scatterternary\":[{\"marker\":{\"colorbar\":{\"outlinewidth\":0,\"ticks\":\"\"}},\"type\":\"scatterternary\"}],\"surface\":[{\"colorbar\":{\"outlinewidth\":0,\"ticks\":\"\"},\"colorscale\":[[0.0,\"#0d0887\"],[0.1111111111111111,\"#46039f\"],[0.2222222222222222,\"#7201a8\"],[0.3333333333333333,\"#9c179e\"],[0.4444444444444444,\"#bd3786\"],[0.5555555555555556,\"#d8576b\"],[0.6666666666666666,\"#ed7953\"],[0.7777777777777778,\"#fb9f3a\"],[0.8888888888888888,\"#fdca26\"],[1.0,\"#f0f921\"]],\"type\":\"surface\"}],\"table\":[{\"cells\":{\"fill\":{\"color\":\"#EBF0F8\"},\"line\":{\"color\":\"white\"}},\"header\":{\"fill\":{\"color\":\"#C8D4E3\"},\"line\":{\"color\":\"white\"}},\"type\":\"table\"}]},\"layout\":{\"annotationdefaults\":{\"arrowcolor\":\"#2a3f5f\",\"arrowhead\":0,\"arrowwidth\":1},\"autotypenumbers\":\"strict\",\"coloraxis\":{\"colorbar\":{\"outlinewidth\":0,\"ticks\":\"\"}},\"colorscale\":{\"diverging\":[[0,\"#8e0152\"],[0.1,\"#c51b7d\"],[0.2,\"#de77ae\"],[0.3,\"#f1b6da\"],[0.4,\"#fde0ef\"],[0.5,\"#f7f7f7\"],[0.6,\"#e6f5d0\"],[0.7,\"#b8e186\"],[0.8,\"#7fbc41\"],[0.9,\"#4d9221\"],[1,\"#276419\"]],\"sequential\":[[0.0,\"#0d0887\"],[0.1111111111111111,\"#46039f\"],[0.2222222222222222,\"#7201a8\"],[0.3333333333333333,\"#9c179e\"],[0.4444444444444444,\"#bd3786\"],[0.5555555555555556,\"#d8576b\"],[0.6666666666666666,\"#ed7953\"],[0.7777777777777778,\"#fb9f3a\"],[0.8888888888888888,\"#fdca26\"],[1.0,\"#f0f921\"]],\"sequentialminus\":[[0.0,\"#0d0887\"],[0.1111111111111111,\"#46039f\"],[0.2222222222222222,\"#7201a8\"],[0.3333333333333333,\"#9c179e\"],[0.4444444444444444,\"#bd3786\"],[0.5555555555555556,\"#d8576b\"],[0.6666666666666666,\"#ed7953\"],[0.7777777777777778,\"#fb9f3a\"],[0.8888888888888888,\"#fdca26\"],[1.0,\"#f0f921\"]]},\"colorway\":[\"#636efa\",\"#EF553B\",\"#00cc96\",\"#ab63fa\",\"#FFA15A\",\"#19d3f3\",\"#FF6692\",\"#B6E880\",\"#FF97FF\",\"#FECB52\"],\"font\":{\"color\":\"#2a3f5f\"},\"geo\":{\"bgcolor\":\"white\",\"lakecolor\":\"white\",\"landcolor\":\"#E5ECF6\",\"showlakes\":true,\"showland\":true,\"subunitcolor\":\"white\"},\"hoverlabel\":{\"align\":\"left\"},\"hovermode\":\"closest\",\"mapbox\":{\"style\":\"light\"},\"paper_bgcolor\":\"white\",\"plot_bgcolor\":\"#E5ECF6\",\"polar\":{\"angularaxis\":{\"gridcolor\":\"white\",\"linecolor\":\"white\",\"ticks\":\"\"},\"bgcolor\":\"#E5ECF6\",\"radialaxis\":{\"gridcolor\":\"white\",\"linecolor\":\"white\",\"ticks\":\"\"}},\"scene\":{\"xaxis\":{\"backgroundcolor\":\"#E5ECF6\",\"gridcolor\":\"white\",\"gridwidth\":2,\"linecolor\":\"white\",\"showbackground\":true,\"ticks\":\"\",\"zerolinecolor\":\"white\"},\"yaxis\":{\"backgroundcolor\":\"#E5ECF6\",\"gridcolor\":\"white\",\"gridwidth\":2,\"linecolor\":\"white\",\"showbackground\":true,\"ticks\":\"\",\"zerolinecolor\":\"white\"},\"zaxis\":{\"backgroundcolor\":\"#E5ECF6\",\"gridcolor\":\"white\",\"gridwidth\":2,\"linecolor\":\"white\",\"showbackground\":true,\"ticks\":\"\",\"zerolinecolor\":\"white\"}},\"shapedefaults\":{\"line\":{\"color\":\"#2a3f5f\"}},\"ternary\":{\"aaxis\":{\"gridcolor\":\"white\",\"linecolor\":\"white\",\"ticks\":\"\"},\"baxis\":{\"gridcolor\":\"white\",\"linecolor\":\"white\",\"ticks\":\"\"},\"bgcolor\":\"#E5ECF6\",\"caxis\":{\"gridcolor\":\"white\",\"linecolor\":\"white\",\"ticks\":\"\"}},\"title\":{\"x\":0.05},\"xaxis\":{\"automargin\":true,\"gridcolor\":\"white\",\"linecolor\":\"white\",\"ticks\":\"\",\"title\":{\"standoff\":15},\"zerolinecolor\":\"white\",\"zerolinewidth\":2},\"yaxis\":{\"automargin\":true,\"gridcolor\":\"white\",\"linecolor\":\"white\",\"ticks\":\"\",\"title\":{\"standoff\":15},\"zerolinecolor\":\"white\",\"zerolinewidth\":2}}},\"title\":{\"font\":{\"color\":\"#4D5663\"}},\"xaxis\":{\"gridcolor\":\"#E1E5ED\",\"showgrid\":true,\"tickfont\":{\"color\":\"#4D5663\"},\"title\":{\"font\":{\"color\":\"#4D5663\"},\"text\":\"\"},\"zerolinecolor\":\"#E1E5ED\"},\"yaxis\":{\"gridcolor\":\"#E1E5ED\",\"showgrid\":true,\"tickfont\":{\"color\":\"#4D5663\"},\"title\":{\"font\":{\"color\":\"#4D5663\"},\"text\":\"\"},\"zerolinecolor\":\"#E1E5ED\"}},                        {\"showLink\": true, \"linkText\": \"Export to plot.ly\", \"plotlyServerURL\": \"https://plot.ly\", \"responsive\": true}                    ).then(function(){\n",
       "                            \n",
       "var gd = document.getElementById('702d8e22-b97d-4289-a060-e7c95b8863be');\n",
       "var x = new MutationObserver(function (mutations, observer) {{\n",
       "        var display = window.getComputedStyle(gd).display;\n",
       "        if (!display || display === 'none') {{\n",
       "            console.log([gd, 'removed!']);\n",
       "            Plotly.purge(gd);\n",
       "            observer.disconnect();\n",
       "        }}\n",
       "}});\n",
       "\n",
       "// Listen for the removal of the full notebook cells\n",
       "var notebookContainer = gd.closest('#notebook-container');\n",
       "if (notebookContainer) {{\n",
       "    x.observe(notebookContainer, {childList: true});\n",
       "}}\n",
       "\n",
       "// Listen for the clearing of the current output cell\n",
       "var outputEl = gd.closest('.output');\n",
       "if (outputEl) {{\n",
       "    x.observe(outputEl, {childList: true});\n",
       "}}\n",
       "\n",
       "                        })                };                });            </script>        </div>"
      ]
     },
     "metadata": {},
     "output_type": "display_data"
    }
   ],
   "source": [
    "df.iplot(kind='hist', bins=20)"
   ]
  },
  {
   "cell_type": "markdown",
   "metadata": {},
   "source": [
    "## Spread"
   ]
  },
  {
   "cell_type": "code",
   "execution_count": 20,
   "metadata": {},
   "outputs": [
    {
     "data": {
      "application/vnd.plotly.v1+json": {
       "config": {
        "linkText": "Export to plot.ly",
        "plotlyServerURL": "https://plot.ly",
        "showLink": true
       },
       "data": [
        {
         "line": {
          "color": "rgba(255, 153, 51, 1.0)",
          "dash": "solid",
          "shape": "linear",
          "width": 1.3
         },
         "mode": "lines",
         "name": "A",
         "text": "",
         "type": "scatter",
         "x": [
          0,
          1,
          2,
          3,
          4,
          5,
          6,
          7,
          8,
          9,
          10,
          11,
          12,
          13,
          14,
          15,
          16,
          17,
          18,
          19,
          20,
          21,
          22,
          23,
          24,
          25,
          26,
          27,
          28,
          29,
          30,
          31,
          32,
          33,
          34,
          35,
          36,
          37,
          38,
          39,
          40,
          41,
          42,
          43,
          44,
          45,
          46,
          47,
          48,
          49,
          50,
          51,
          52,
          53,
          54,
          55,
          56,
          57,
          58,
          59,
          60,
          61,
          62,
          63,
          64,
          65,
          66,
          67,
          68,
          69,
          70,
          71,
          72,
          73,
          74,
          75,
          76,
          77,
          78,
          79,
          80,
          81,
          82,
          83,
          84,
          85,
          86,
          87,
          88,
          89,
          90,
          91,
          92,
          93,
          94,
          95,
          96,
          97,
          98,
          99
         ],
         "y": [
          -1.9903004256683205,
          -0.44331522383487904,
          0.5522209986709692,
          -0.8761307777820353,
          1.1989648408531712,
          1.107396907449335,
          -0.029371122099748383,
          0.3056333470056156,
          -0.4955087979621365,
          -0.6520420406756742,
          -2.5267952417248734,
          0.28866743458960153,
          -1.4316957620782398,
          -0.6044368465373989,
          -0.7835590378190067,
          -0.12675905868030538,
          -0.8723173151421462,
          -1.3441213992499,
          0.9239839346598812,
          -0.37358758223316085,
          0.9588303627419025,
          -0.1052825661486228,
          0.38119597175663916,
          0.3576427427245764,
          -0.5702151234625347,
          -0.5572216628600934,
          0.017719846225363156,
          1.2887145074843485,
          -0.7411771478820481,
          -0.6419864197153446,
          1.1972219508024184,
          0.25945352369678465,
          1.2969932581570864,
          -0.766403700861819,
          -0.5880695192706119,
          0.23921319399362173,
          0.41198072881213454,
          0.8298012119060374,
          -0.39388130471441646,
          -0.9685240289521347,
          -1.5016621442024582,
          0.2224241435501135,
          -0.8493083133394347,
          -1.0609152477969157,
          -1.469355455640693,
          1.102203544886654,
          0.9789753952414446,
          -1.219515842422679,
          -1.0441517795610855,
          0.2804323979633052,
          -0.3944849837527407,
          0.7544188492417558,
          -1.1088178682546639,
          0.1837902883409436,
          -1.0221321290638552,
          0.7823997618515374,
          1.1860800573721049,
          0.03555123929313354,
          -0.08788533678144475,
          -1.0979193923822788,
          0.5231731489710988,
          0.5697924927381082,
          -0.20924153665318343,
          1.3985467032028418,
          1.7004020608481674,
          0.2030413325552144,
          -0.6268391642990602,
          0.3988770551212099,
          0.06965082275610238,
          -1.9116331125018202,
          0.1380241162431082,
          -1.1037926748877243,
          0.8081457348428449,
          -0.9356293594254312,
          -0.0916575756043444,
          0.5779288906452257,
          0.5962772865240996,
          1.515969853059908,
          -1.3425234485560702,
          -0.3600001508909471,
          -0.07624704610784032,
          -1.7522234689232437,
          -0.37257406422804706,
          1.193137958920794,
          1.154637422674318,
          0.31205407485525993,
          0.44184177745646686,
          -1.3778745790073854,
          -1.011665062974858,
          0.03515567990235361,
          0.41947441807572,
          -1.3135785687987815,
          0.3272638323888706,
          -1.0046483036078868,
          0.6876459011460935,
          -0.19200991915835824,
          -0.1546255652119731,
          1.5186581723550163,
          -0.07716251245343556,
          0.5410204542460056
         ]
        },
        {
         "line": {
          "color": "rgba(55, 128, 191, 1.0)",
          "dash": "solid",
          "shape": "linear",
          "width": 1.3
         },
         "mode": "lines",
         "name": "B",
         "text": "",
         "type": "scatter",
         "x": [
          0,
          1,
          2,
          3,
          4,
          5,
          6,
          7,
          8,
          9,
          10,
          11,
          12,
          13,
          14,
          15,
          16,
          17,
          18,
          19,
          20,
          21,
          22,
          23,
          24,
          25,
          26,
          27,
          28,
          29,
          30,
          31,
          32,
          33,
          34,
          35,
          36,
          37,
          38,
          39,
          40,
          41,
          42,
          43,
          44,
          45,
          46,
          47,
          48,
          49,
          50,
          51,
          52,
          53,
          54,
          55,
          56,
          57,
          58,
          59,
          60,
          61,
          62,
          63,
          64,
          65,
          66,
          67,
          68,
          69,
          70,
          71,
          72,
          73,
          74,
          75,
          76,
          77,
          78,
          79,
          80,
          81,
          82,
          83,
          84,
          85,
          86,
          87,
          88,
          89,
          90,
          91,
          92,
          93,
          94,
          95,
          96,
          97,
          98,
          99
         ],
         "y": [
          0.20713171298464164,
          -0.9098290203271999,
          0.6595976436161234,
          1.1391958719025224,
          0.22876136700256824,
          -0.9390175844832885,
          1.40702753694373,
          0.6757395117272006,
          -0.6190602204117278,
          0.9652323468994083,
          1.171138334802606,
          1.9127870674045342,
          0.4741178282201214,
          -2.479844305574245,
          0.8927998703050272,
          -1.491532793139312,
          -0.15493863646237707,
          -0.17367859851820075,
          -0.3910701957760691,
          0.10659597063448929,
          -0.32667053875621144,
          0.7994813604737073,
          -0.4280343716591244,
          -1.150466969038612,
          0.8455562582900276,
          -2.251409282655881,
          0.9821270223673556,
          0.2303455757248052,
          0.04535472902143436,
          -1.2248383310091664,
          1.3674030824397547,
          0.08045700760681646,
          -0.43506133283756054,
          0.24149061558320917,
          -2.0528054626515244,
          0.08373056770003885,
          -0.6361159828889186,
          0.8196960925429025,
          0.8468032243624196,
          -0.10789265679637575,
          -0.5276537406018319,
          -0.5042026403280273,
          0.26276374773287686,
          -1.6144863597671486,
          -0.14370779462404257,
          0.7656677379760024,
          0.7874697232847472,
          -0.8023005621110955,
          0.778255152616999,
          0.5700896498552871,
          -1.0017097238965142,
          -0.6607568163172322,
          1.5905093819220673,
          -1.2110676813411707,
          -0.5601154519339665,
          1.3418467182878748,
          0.6440794160296142,
          -0.39687651490022524,
          -0.4752177292162427,
          0.22650596927963504,
          -0.13680482098526894,
          -0.9673428380469818,
          0.22153028192267313,
          1.7994207743834112,
          -1.003588415564047,
          -0.9112664323687696,
          0.9227233738941317,
          -2.227663388595575,
          0.06724167285175829,
          0.06086377830490128,
          0.3781532535914435,
          1.0079887011567779,
          -2.205453957164551,
          1.164530009463671,
          1.3132946285256442,
          -0.506151267746503,
          -0.05594310018107275,
          0.7545858729175096,
          -0.012902217386942041,
          0.5951414829334419,
          0.12351962806759635,
          -0.38325727961140005,
          -0.6933726532148998,
          2.4415116098964287,
          0.8557274566835281,
          0.7324129287476138,
          -0.8628262713601479,
          0.04756433709781207,
          0.8456812423826571,
          -0.42516235555193016,
          -1.1979961576928366,
          0.5089656233318339,
          0.9803508857671677,
          0.8119129825176856,
          0.03534109009366027,
          -0.17944526405158354,
          0.06161321536565358,
          -0.5760942497350119,
          -0.8844656807832726,
          1.7125044904591131
         ]
        },
        {
         "connectgaps": false,
         "fill": "tozeroy",
         "line": {
          "color": "green",
          "dash": "solid",
          "shape": "linear",
          "width": 0.5
         },
         "mode": "lines",
         "name": "Spread",
         "showlegend": false,
         "type": "scatter",
         "x": [
          0,
          1,
          2,
          3,
          4,
          5,
          6,
          7,
          8,
          9,
          10,
          11,
          12,
          13,
          14,
          15,
          16,
          17,
          18,
          19,
          20,
          21,
          22,
          23,
          24,
          25,
          26,
          27,
          28,
          29,
          30,
          31,
          32,
          33,
          34,
          35,
          36,
          37,
          38,
          39,
          40,
          41,
          42,
          43,
          44,
          45,
          46,
          47,
          48,
          49,
          50,
          51,
          52,
          53,
          54,
          55,
          56,
          57,
          58,
          59,
          60,
          61,
          62,
          63,
          64,
          65,
          66,
          67,
          68,
          69,
          70,
          71,
          72,
          73,
          74,
          75,
          76,
          77,
          78,
          79,
          80,
          81,
          82,
          83,
          84,
          85,
          86,
          87,
          88,
          89,
          90,
          91,
          92,
          93,
          94,
          95,
          96,
          97,
          98,
          99
         ],
         "xaxis": "x2",
         "y": [
          "",
          0.4665137964923209,
          "",
          "",
          0.970203473850603,
          2.0464144919326235,
          "",
          "",
          0.12355142244959133,
          "",
          "",
          "",
          "",
          1.875407459036846,
          "",
          1.3647737344590067,
          "",
          "",
          1.3150541304359502,
          "",
          1.2855009014981138,
          "",
          0.8092303434157635,
          1.5081097117631885,
          "",
          1.6941876197957877,
          "",
          1.0583689317595433,
          "",
          0.5828519112938217,
          "",
          0.1789965160899682,
          1.732054590994647,
          "",
          1.4647359433809126,
          0.1554826262935829,
          1.0480967117010531,
          0.010105119363134851,
          "",
          "",
          "",
          0.7266267838781408,
          "",
          0.5535711119702329,
          "",
          0.33653580691065166,
          0.19150567195669743,
          "",
          "",
          "",
          0.6072247401437736,
          1.415175665558988,
          "",
          1.3948579696821144,
          "",
          "",
          0.5420006413424907,
          0.43242775419335877,
          0.387332392434798,
          "",
          0.6599779699563677,
          1.5371353307850901,
          "",
          "",
          2.7039904764122147,
          1.1143077649239839,
          "",
          2.626540443716785,
          0.002409149904344085,
          "",
          "",
          "",
          3.013599692007396,
          "",
          "",
          1.0840801583917288,
          0.6522203867051724,
          0.7613839801423984,
          "",
          "",
          "",
          "",
          0.32079858898685276,
          "",
          0.2989099659907898,
          "",
          1.3046680488166147,
          "",
          "",
          0.4603180354542838,
          1.6174705757685566,
          "",
          "",
          "",
          0.6523048110524332,
          "",
          "",
          2.0947524220900284,
          0.8073031683298371,
          ""
         ],
         "yaxis": "y2"
        },
        {
         "connectgaps": false,
         "fill": "tozeroy",
         "line": {
          "color": "red",
          "dash": "solid",
          "shape": "linear",
          "width": 0.5
         },
         "mode": "lines",
         "name": "Spread",
         "showlegend": false,
         "type": "scatter",
         "x": [
          0,
          1,
          2,
          3,
          4,
          5,
          6,
          7,
          8,
          9,
          10,
          11,
          12,
          13,
          14,
          15,
          16,
          17,
          18,
          19,
          20,
          21,
          22,
          23,
          24,
          25,
          26,
          27,
          28,
          29,
          30,
          31,
          32,
          33,
          34,
          35,
          36,
          37,
          38,
          39,
          40,
          41,
          42,
          43,
          44,
          45,
          46,
          47,
          48,
          49,
          50,
          51,
          52,
          53,
          54,
          55,
          56,
          57,
          58,
          59,
          60,
          61,
          62,
          63,
          64,
          65,
          66,
          67,
          68,
          69,
          70,
          71,
          72,
          73,
          74,
          75,
          76,
          77,
          78,
          79,
          80,
          81,
          82,
          83,
          84,
          85,
          86,
          87,
          88,
          89,
          90,
          91,
          92,
          93,
          94,
          95,
          96,
          97,
          98,
          99
         ],
         "xaxis": "x2",
         "y": [
          -2.197432138652962,
          "",
          -0.1073766449451542,
          -2.0153266496845577,
          "",
          "",
          -1.4363986590434783,
          -0.370106164721585,
          "",
          -1.6172743875750824,
          -3.6979335765274794,
          -1.6241196328149328,
          -1.905813590298361,
          "",
          -1.6763589081240338,
          "",
          -0.7173786786797691,
          -1.1704428007316992,
          "",
          -0.48018355286765013,
          "",
          -0.9047639266223302,
          "",
          "",
          -1.4157713817525623,
          "",
          -0.9644071761419925,
          "",
          -0.7865318769034825,
          "",
          -0.17018113163733628,
          "",
          "",
          -1.0078943164450282,
          "",
          "",
          "",
          "",
          -1.240684529076836,
          -0.860631372155759,
          -0.9740084036006263,
          "",
          -1.1120720610723116,
          "",
          -1.3256476610166503,
          "",
          "",
          -0.4172152803115836,
          -1.8224069321780845,
          -0.2896572518919819,
          "",
          "",
          -2.699327250176731,
          "",
          -0.4620166771298887,
          -0.5594469564363375,
          "",
          "",
          "",
          -1.3244253616619137,
          "",
          "",
          -0.43077181857585656,
          -0.4008740711805694,
          "",
          "",
          -1.549562538193192,
          "",
          "",
          -1.9724968908067215,
          -0.24012913734833527,
          -2.111781376044502,
          "",
          -2.100159368889102,
          -1.4049522041299887,
          "",
          "",
          "",
          -1.3296212311691282,
          -0.955141633824389,
          -0.19976667417543667,
          -1.3689661893118437,
          "",
          -1.2483736509756347,
          "",
          -0.42035885389235383,
          "",
          -1.4254389161051975,
          -1.857346305357515,
          "",
          "",
          -1.8225441921306156,
          -0.6530870533782971,
          -1.8165612861255724,
          "",
          -0.012564655106774708,
          -0.2162387805776267,
          "",
          "",
          -1.1714840362131076
         ],
         "yaxis": "y2"
        }
       ],
       "layout": {
        "hovermode": "x",
        "legend": {
         "bgcolor": "#F5F6F9",
         "font": {
          "color": "#4D5663"
         }
        },
        "paper_bgcolor": "#F5F6F9",
        "plot_bgcolor": "#F5F6F9",
        "template": {
         "data": {
          "bar": [
           {
            "error_x": {
             "color": "#2a3f5f"
            },
            "error_y": {
             "color": "#2a3f5f"
            },
            "marker": {
             "line": {
              "color": "#E5ECF6",
              "width": 0.5
             },
             "pattern": {
              "fillmode": "overlay",
              "size": 10,
              "solidity": 0.2
             }
            },
            "type": "bar"
           }
          ],
          "barpolar": [
           {
            "marker": {
             "line": {
              "color": "#E5ECF6",
              "width": 0.5
             },
             "pattern": {
              "fillmode": "overlay",
              "size": 10,
              "solidity": 0.2
             }
            },
            "type": "barpolar"
           }
          ],
          "carpet": [
           {
            "aaxis": {
             "endlinecolor": "#2a3f5f",
             "gridcolor": "white",
             "linecolor": "white",
             "minorgridcolor": "white",
             "startlinecolor": "#2a3f5f"
            },
            "baxis": {
             "endlinecolor": "#2a3f5f",
             "gridcolor": "white",
             "linecolor": "white",
             "minorgridcolor": "white",
             "startlinecolor": "#2a3f5f"
            },
            "type": "carpet"
           }
          ],
          "choropleth": [
           {
            "colorbar": {
             "outlinewidth": 0,
             "ticks": ""
            },
            "type": "choropleth"
           }
          ],
          "contour": [
           {
            "colorbar": {
             "outlinewidth": 0,
             "ticks": ""
            },
            "colorscale": [
             [
              0,
              "#0d0887"
             ],
             [
              0.1111111111111111,
              "#46039f"
             ],
             [
              0.2222222222222222,
              "#7201a8"
             ],
             [
              0.3333333333333333,
              "#9c179e"
             ],
             [
              0.4444444444444444,
              "#bd3786"
             ],
             [
              0.5555555555555556,
              "#d8576b"
             ],
             [
              0.6666666666666666,
              "#ed7953"
             ],
             [
              0.7777777777777778,
              "#fb9f3a"
             ],
             [
              0.8888888888888888,
              "#fdca26"
             ],
             [
              1,
              "#f0f921"
             ]
            ],
            "type": "contour"
           }
          ],
          "contourcarpet": [
           {
            "colorbar": {
             "outlinewidth": 0,
             "ticks": ""
            },
            "type": "contourcarpet"
           }
          ],
          "heatmap": [
           {
            "colorbar": {
             "outlinewidth": 0,
             "ticks": ""
            },
            "colorscale": [
             [
              0,
              "#0d0887"
             ],
             [
              0.1111111111111111,
              "#46039f"
             ],
             [
              0.2222222222222222,
              "#7201a8"
             ],
             [
              0.3333333333333333,
              "#9c179e"
             ],
             [
              0.4444444444444444,
              "#bd3786"
             ],
             [
              0.5555555555555556,
              "#d8576b"
             ],
             [
              0.6666666666666666,
              "#ed7953"
             ],
             [
              0.7777777777777778,
              "#fb9f3a"
             ],
             [
              0.8888888888888888,
              "#fdca26"
             ],
             [
              1,
              "#f0f921"
             ]
            ],
            "type": "heatmap"
           }
          ],
          "heatmapgl": [
           {
            "colorbar": {
             "outlinewidth": 0,
             "ticks": ""
            },
            "colorscale": [
             [
              0,
              "#0d0887"
             ],
             [
              0.1111111111111111,
              "#46039f"
             ],
             [
              0.2222222222222222,
              "#7201a8"
             ],
             [
              0.3333333333333333,
              "#9c179e"
             ],
             [
              0.4444444444444444,
              "#bd3786"
             ],
             [
              0.5555555555555556,
              "#d8576b"
             ],
             [
              0.6666666666666666,
              "#ed7953"
             ],
             [
              0.7777777777777778,
              "#fb9f3a"
             ],
             [
              0.8888888888888888,
              "#fdca26"
             ],
             [
              1,
              "#f0f921"
             ]
            ],
            "type": "heatmapgl"
           }
          ],
          "histogram": [
           {
            "marker": {
             "pattern": {
              "fillmode": "overlay",
              "size": 10,
              "solidity": 0.2
             }
            },
            "type": "histogram"
           }
          ],
          "histogram2d": [
           {
            "colorbar": {
             "outlinewidth": 0,
             "ticks": ""
            },
            "colorscale": [
             [
              0,
              "#0d0887"
             ],
             [
              0.1111111111111111,
              "#46039f"
             ],
             [
              0.2222222222222222,
              "#7201a8"
             ],
             [
              0.3333333333333333,
              "#9c179e"
             ],
             [
              0.4444444444444444,
              "#bd3786"
             ],
             [
              0.5555555555555556,
              "#d8576b"
             ],
             [
              0.6666666666666666,
              "#ed7953"
             ],
             [
              0.7777777777777778,
              "#fb9f3a"
             ],
             [
              0.8888888888888888,
              "#fdca26"
             ],
             [
              1,
              "#f0f921"
             ]
            ],
            "type": "histogram2d"
           }
          ],
          "histogram2dcontour": [
           {
            "colorbar": {
             "outlinewidth": 0,
             "ticks": ""
            },
            "colorscale": [
             [
              0,
              "#0d0887"
             ],
             [
              0.1111111111111111,
              "#46039f"
             ],
             [
              0.2222222222222222,
              "#7201a8"
             ],
             [
              0.3333333333333333,
              "#9c179e"
             ],
             [
              0.4444444444444444,
              "#bd3786"
             ],
             [
              0.5555555555555556,
              "#d8576b"
             ],
             [
              0.6666666666666666,
              "#ed7953"
             ],
             [
              0.7777777777777778,
              "#fb9f3a"
             ],
             [
              0.8888888888888888,
              "#fdca26"
             ],
             [
              1,
              "#f0f921"
             ]
            ],
            "type": "histogram2dcontour"
           }
          ],
          "mesh3d": [
           {
            "colorbar": {
             "outlinewidth": 0,
             "ticks": ""
            },
            "type": "mesh3d"
           }
          ],
          "parcoords": [
           {
            "line": {
             "colorbar": {
              "outlinewidth": 0,
              "ticks": ""
             }
            },
            "type": "parcoords"
           }
          ],
          "pie": [
           {
            "automargin": true,
            "type": "pie"
           }
          ],
          "scatter": [
           {
            "fillpattern": {
             "fillmode": "overlay",
             "size": 10,
             "solidity": 0.2
            },
            "type": "scatter"
           }
          ],
          "scatter3d": [
           {
            "line": {
             "colorbar": {
              "outlinewidth": 0,
              "ticks": ""
             }
            },
            "marker": {
             "colorbar": {
              "outlinewidth": 0,
              "ticks": ""
             }
            },
            "type": "scatter3d"
           }
          ],
          "scattercarpet": [
           {
            "marker": {
             "colorbar": {
              "outlinewidth": 0,
              "ticks": ""
             }
            },
            "type": "scattercarpet"
           }
          ],
          "scattergeo": [
           {
            "marker": {
             "colorbar": {
              "outlinewidth": 0,
              "ticks": ""
             }
            },
            "type": "scattergeo"
           }
          ],
          "scattergl": [
           {
            "marker": {
             "colorbar": {
              "outlinewidth": 0,
              "ticks": ""
             }
            },
            "type": "scattergl"
           }
          ],
          "scattermapbox": [
           {
            "marker": {
             "colorbar": {
              "outlinewidth": 0,
              "ticks": ""
             }
            },
            "type": "scattermapbox"
           }
          ],
          "scatterpolar": [
           {
            "marker": {
             "colorbar": {
              "outlinewidth": 0,
              "ticks": ""
             }
            },
            "type": "scatterpolar"
           }
          ],
          "scatterpolargl": [
           {
            "marker": {
             "colorbar": {
              "outlinewidth": 0,
              "ticks": ""
             }
            },
            "type": "scatterpolargl"
           }
          ],
          "scatterternary": [
           {
            "marker": {
             "colorbar": {
              "outlinewidth": 0,
              "ticks": ""
             }
            },
            "type": "scatterternary"
           }
          ],
          "surface": [
           {
            "colorbar": {
             "outlinewidth": 0,
             "ticks": ""
            },
            "colorscale": [
             [
              0,
              "#0d0887"
             ],
             [
              0.1111111111111111,
              "#46039f"
             ],
             [
              0.2222222222222222,
              "#7201a8"
             ],
             [
              0.3333333333333333,
              "#9c179e"
             ],
             [
              0.4444444444444444,
              "#bd3786"
             ],
             [
              0.5555555555555556,
              "#d8576b"
             ],
             [
              0.6666666666666666,
              "#ed7953"
             ],
             [
              0.7777777777777778,
              "#fb9f3a"
             ],
             [
              0.8888888888888888,
              "#fdca26"
             ],
             [
              1,
              "#f0f921"
             ]
            ],
            "type": "surface"
           }
          ],
          "table": [
           {
            "cells": {
             "fill": {
              "color": "#EBF0F8"
             },
             "line": {
              "color": "white"
             }
            },
            "header": {
             "fill": {
              "color": "#C8D4E3"
             },
             "line": {
              "color": "white"
             }
            },
            "type": "table"
           }
          ]
         },
         "layout": {
          "annotationdefaults": {
           "arrowcolor": "#2a3f5f",
           "arrowhead": 0,
           "arrowwidth": 1
          },
          "autotypenumbers": "strict",
          "coloraxis": {
           "colorbar": {
            "outlinewidth": 0,
            "ticks": ""
           }
          },
          "colorscale": {
           "diverging": [
            [
             0,
             "#8e0152"
            ],
            [
             0.1,
             "#c51b7d"
            ],
            [
             0.2,
             "#de77ae"
            ],
            [
             0.3,
             "#f1b6da"
            ],
            [
             0.4,
             "#fde0ef"
            ],
            [
             0.5,
             "#f7f7f7"
            ],
            [
             0.6,
             "#e6f5d0"
            ],
            [
             0.7,
             "#b8e186"
            ],
            [
             0.8,
             "#7fbc41"
            ],
            [
             0.9,
             "#4d9221"
            ],
            [
             1,
             "#276419"
            ]
           ],
           "sequential": [
            [
             0,
             "#0d0887"
            ],
            [
             0.1111111111111111,
             "#46039f"
            ],
            [
             0.2222222222222222,
             "#7201a8"
            ],
            [
             0.3333333333333333,
             "#9c179e"
            ],
            [
             0.4444444444444444,
             "#bd3786"
            ],
            [
             0.5555555555555556,
             "#d8576b"
            ],
            [
             0.6666666666666666,
             "#ed7953"
            ],
            [
             0.7777777777777778,
             "#fb9f3a"
            ],
            [
             0.8888888888888888,
             "#fdca26"
            ],
            [
             1,
             "#f0f921"
            ]
           ],
           "sequentialminus": [
            [
             0,
             "#0d0887"
            ],
            [
             0.1111111111111111,
             "#46039f"
            ],
            [
             0.2222222222222222,
             "#7201a8"
            ],
            [
             0.3333333333333333,
             "#9c179e"
            ],
            [
             0.4444444444444444,
             "#bd3786"
            ],
            [
             0.5555555555555556,
             "#d8576b"
            ],
            [
             0.6666666666666666,
             "#ed7953"
            ],
            [
             0.7777777777777778,
             "#fb9f3a"
            ],
            [
             0.8888888888888888,
             "#fdca26"
            ],
            [
             1,
             "#f0f921"
            ]
           ]
          },
          "colorway": [
           "#636efa",
           "#EF553B",
           "#00cc96",
           "#ab63fa",
           "#FFA15A",
           "#19d3f3",
           "#FF6692",
           "#B6E880",
           "#FF97FF",
           "#FECB52"
          ],
          "font": {
           "color": "#2a3f5f"
          },
          "geo": {
           "bgcolor": "white",
           "lakecolor": "white",
           "landcolor": "#E5ECF6",
           "showlakes": true,
           "showland": true,
           "subunitcolor": "white"
          },
          "hoverlabel": {
           "align": "left"
          },
          "hovermode": "closest",
          "mapbox": {
           "style": "light"
          },
          "paper_bgcolor": "white",
          "plot_bgcolor": "#E5ECF6",
          "polar": {
           "angularaxis": {
            "gridcolor": "white",
            "linecolor": "white",
            "ticks": ""
           },
           "bgcolor": "#E5ECF6",
           "radialaxis": {
            "gridcolor": "white",
            "linecolor": "white",
            "ticks": ""
           }
          },
          "scene": {
           "xaxis": {
            "backgroundcolor": "#E5ECF6",
            "gridcolor": "white",
            "gridwidth": 2,
            "linecolor": "white",
            "showbackground": true,
            "ticks": "",
            "zerolinecolor": "white"
           },
           "yaxis": {
            "backgroundcolor": "#E5ECF6",
            "gridcolor": "white",
            "gridwidth": 2,
            "linecolor": "white",
            "showbackground": true,
            "ticks": "",
            "zerolinecolor": "white"
           },
           "zaxis": {
            "backgroundcolor": "#E5ECF6",
            "gridcolor": "white",
            "gridwidth": 2,
            "linecolor": "white",
            "showbackground": true,
            "ticks": "",
            "zerolinecolor": "white"
           }
          },
          "shapedefaults": {
           "line": {
            "color": "#2a3f5f"
           }
          },
          "ternary": {
           "aaxis": {
            "gridcolor": "white",
            "linecolor": "white",
            "ticks": ""
           },
           "baxis": {
            "gridcolor": "white",
            "linecolor": "white",
            "ticks": ""
           },
           "bgcolor": "#E5ECF6",
           "caxis": {
            "gridcolor": "white",
            "linecolor": "white",
            "ticks": ""
           }
          },
          "title": {
           "x": 0.05
          },
          "xaxis": {
           "automargin": true,
           "gridcolor": "white",
           "linecolor": "white",
           "ticks": "",
           "title": {
            "standoff": 15
           },
           "zerolinecolor": "white",
           "zerolinewidth": 2
          },
          "yaxis": {
           "automargin": true,
           "gridcolor": "white",
           "linecolor": "white",
           "ticks": "",
           "title": {
            "standoff": 15
           },
           "zerolinecolor": "white",
           "zerolinewidth": 2
          }
         }
        },
        "title": {
         "font": {
          "color": "#4D5663"
         }
        },
        "xaxis": {
         "gridcolor": "#E1E5ED",
         "showgrid": true,
         "tickfont": {
          "color": "#4D5663"
         },
         "title": {
          "font": {
           "color": "#4D5663"
          },
          "text": ""
         },
         "zerolinecolor": "#E1E5ED"
        },
        "xaxis2": {
         "anchor": "y2",
         "gridcolor": "#E1E5ED",
         "showgrid": true,
         "showticklabels": false,
         "tickfont": {
          "color": "#4D5663"
         },
         "title": {
          "font": {
           "color": "#4D5663"
          },
          "text": ""
         },
         "zerolinecolor": "#E1E5ED"
        },
        "yaxis": {
         "domain": [
          0.3,
          1
         ],
         "gridcolor": "#E1E5ED",
         "showgrid": true,
         "tickfont": {
          "color": "#4D5663"
         },
         "title": {
          "font": {
           "color": "#4D5663"
          },
          "text": ""
         },
         "zerolinecolor": "#E1E5ED"
        },
        "yaxis2": {
         "domain": [
          0,
          0.25
         ],
         "gridcolor": "#E1E5ED",
         "showgrid": true,
         "tickfont": {
          "color": "#4D5663"
         },
         "title": {
          "font": {
           "color": "#4D5663"
          },
          "text": "Spread"
         },
         "zerolinecolor": "#E1E5ED"
        }
       }
      },
      "text/html": [
       "<div>                            <div id=\"394f0002-e8a8-428a-8892-72e2e566521a\" class=\"plotly-graph-div\" style=\"height:525px; width:100%;\"></div>            <script type=\"text/javascript\">                require([\"plotly\"], function(Plotly) {                    window.PLOTLYENV=window.PLOTLYENV || {};\n",
       "                    window.PLOTLYENV.BASE_URL='https://plot.ly';                                    if (document.getElementById(\"394f0002-e8a8-428a-8892-72e2e566521a\")) {                    Plotly.newPlot(                        \"394f0002-e8a8-428a-8892-72e2e566521a\",                        [{\"line\":{\"color\":\"rgba(255, 153, 51, 1.0)\",\"dash\":\"solid\",\"shape\":\"linear\",\"width\":1.3},\"mode\":\"lines\",\"name\":\"A\",\"text\":\"\",\"x\":[0,1,2,3,4,5,6,7,8,9,10,11,12,13,14,15,16,17,18,19,20,21,22,23,24,25,26,27,28,29,30,31,32,33,34,35,36,37,38,39,40,41,42,43,44,45,46,47,48,49,50,51,52,53,54,55,56,57,58,59,60,61,62,63,64,65,66,67,68,69,70,71,72,73,74,75,76,77,78,79,80,81,82,83,84,85,86,87,88,89,90,91,92,93,94,95,96,97,98,99],\"y\":[-1.9903004256683205,-0.44331522383487904,0.5522209986709692,-0.8761307777820353,1.1989648408531712,1.107396907449335,-0.029371122099748383,0.3056333470056156,-0.4955087979621365,-0.6520420406756742,-2.5267952417248734,0.28866743458960153,-1.4316957620782398,-0.6044368465373989,-0.7835590378190067,-0.12675905868030538,-0.8723173151421462,-1.3441213992499,0.9239839346598812,-0.37358758223316085,0.9588303627419025,-0.1052825661486228,0.38119597175663916,0.3576427427245764,-0.5702151234625347,-0.5572216628600934,0.017719846225363156,1.2887145074843485,-0.7411771478820481,-0.6419864197153446,1.1972219508024184,0.25945352369678465,1.2969932581570864,-0.766403700861819,-0.5880695192706119,0.23921319399362173,0.41198072881213454,0.8298012119060374,-0.39388130471441646,-0.9685240289521347,-1.5016621442024582,0.2224241435501135,-0.8493083133394347,-1.0609152477969157,-1.469355455640693,1.102203544886654,0.9789753952414446,-1.219515842422679,-1.0441517795610855,0.2804323979633052,-0.3944849837527407,0.7544188492417558,-1.1088178682546639,0.1837902883409436,-1.0221321290638552,0.7823997618515374,1.1860800573721049,0.03555123929313354,-0.08788533678144475,-1.0979193923822788,0.5231731489710988,0.5697924927381082,-0.20924153665318343,1.3985467032028418,1.7004020608481674,0.2030413325552144,-0.6268391642990602,0.3988770551212099,0.06965082275610238,-1.9116331125018202,0.1380241162431082,-1.1037926748877243,0.8081457348428449,-0.9356293594254312,-0.0916575756043444,0.5779288906452257,0.5962772865240996,1.515969853059908,-1.3425234485560702,-0.3600001508909471,-0.07624704610784032,-1.7522234689232437,-0.37257406422804706,1.193137958920794,1.154637422674318,0.31205407485525993,0.44184177745646686,-1.3778745790073854,-1.011665062974858,0.03515567990235361,0.41947441807572,-1.3135785687987815,0.3272638323888706,-1.0046483036078868,0.6876459011460935,-0.19200991915835824,-0.1546255652119731,1.5186581723550163,-0.07716251245343556,0.5410204542460056],\"type\":\"scatter\"},{\"line\":{\"color\":\"rgba(55, 128, 191, 1.0)\",\"dash\":\"solid\",\"shape\":\"linear\",\"width\":1.3},\"mode\":\"lines\",\"name\":\"B\",\"text\":\"\",\"x\":[0,1,2,3,4,5,6,7,8,9,10,11,12,13,14,15,16,17,18,19,20,21,22,23,24,25,26,27,28,29,30,31,32,33,34,35,36,37,38,39,40,41,42,43,44,45,46,47,48,49,50,51,52,53,54,55,56,57,58,59,60,61,62,63,64,65,66,67,68,69,70,71,72,73,74,75,76,77,78,79,80,81,82,83,84,85,86,87,88,89,90,91,92,93,94,95,96,97,98,99],\"y\":[0.20713171298464164,-0.9098290203271999,0.6595976436161234,1.1391958719025224,0.22876136700256824,-0.9390175844832885,1.40702753694373,0.6757395117272006,-0.6190602204117278,0.9652323468994083,1.171138334802606,1.9127870674045342,0.4741178282201214,-2.479844305574245,0.8927998703050272,-1.491532793139312,-0.15493863646237707,-0.17367859851820075,-0.3910701957760691,0.10659597063448929,-0.32667053875621144,0.7994813604737073,-0.4280343716591244,-1.150466969038612,0.8455562582900276,-2.251409282655881,0.9821270223673556,0.2303455757248052,0.04535472902143436,-1.2248383310091664,1.3674030824397547,0.08045700760681646,-0.43506133283756054,0.24149061558320917,-2.0528054626515244,0.08373056770003885,-0.6361159828889186,0.8196960925429025,0.8468032243624196,-0.10789265679637575,-0.5276537406018319,-0.5042026403280273,0.26276374773287686,-1.6144863597671486,-0.14370779462404257,0.7656677379760024,0.7874697232847472,-0.8023005621110955,0.778255152616999,0.5700896498552871,-1.0017097238965142,-0.6607568163172322,1.5905093819220673,-1.2110676813411707,-0.5601154519339665,1.3418467182878748,0.6440794160296142,-0.39687651490022524,-0.4752177292162427,0.22650596927963504,-0.13680482098526894,-0.9673428380469818,0.22153028192267313,1.7994207743834112,-1.003588415564047,-0.9112664323687696,0.9227233738941317,-2.227663388595575,0.06724167285175829,0.06086377830490128,0.3781532535914435,1.0079887011567779,-2.205453957164551,1.164530009463671,1.3132946285256442,-0.506151267746503,-0.05594310018107275,0.7545858729175096,-0.012902217386942041,0.5951414829334419,0.12351962806759635,-0.38325727961140005,-0.6933726532148998,2.4415116098964287,0.8557274566835281,0.7324129287476138,-0.8628262713601479,0.04756433709781207,0.8456812423826571,-0.42516235555193016,-1.1979961576928366,0.5089656233318339,0.9803508857671677,0.8119129825176856,0.03534109009366027,-0.17944526405158354,0.06161321536565358,-0.5760942497350119,-0.8844656807832726,1.7125044904591131],\"type\":\"scatter\"},{\"connectgaps\":false,\"fill\":\"tozeroy\",\"line\":{\"color\":\"green\",\"dash\":\"solid\",\"shape\":\"linear\",\"width\":0.5},\"mode\":\"lines\",\"name\":\"Spread\",\"showlegend\":false,\"x\":[0,1,2,3,4,5,6,7,8,9,10,11,12,13,14,15,16,17,18,19,20,21,22,23,24,25,26,27,28,29,30,31,32,33,34,35,36,37,38,39,40,41,42,43,44,45,46,47,48,49,50,51,52,53,54,55,56,57,58,59,60,61,62,63,64,65,66,67,68,69,70,71,72,73,74,75,76,77,78,79,80,81,82,83,84,85,86,87,88,89,90,91,92,93,94,95,96,97,98,99],\"xaxis\":\"x2\",\"y\":[\"\",0.4665137964923209,\"\",\"\",0.970203473850603,2.0464144919326235,\"\",\"\",0.12355142244959133,\"\",\"\",\"\",\"\",1.875407459036846,\"\",1.3647737344590067,\"\",\"\",1.3150541304359502,\"\",1.2855009014981138,\"\",0.8092303434157635,1.5081097117631885,\"\",1.6941876197957877,\"\",1.0583689317595433,\"\",0.5828519112938217,\"\",0.1789965160899682,1.732054590994647,\"\",1.4647359433809126,0.1554826262935829,1.0480967117010531,0.010105119363134851,\"\",\"\",\"\",0.7266267838781408,\"\",0.5535711119702329,\"\",0.33653580691065166,0.19150567195669743,\"\",\"\",\"\",0.6072247401437736,1.415175665558988,\"\",1.3948579696821144,\"\",\"\",0.5420006413424907,0.43242775419335877,0.387332392434798,\"\",0.6599779699563677,1.5371353307850901,\"\",\"\",2.7039904764122147,1.1143077649239839,\"\",2.626540443716785,0.002409149904344085,\"\",\"\",\"\",3.013599692007396,\"\",\"\",1.0840801583917288,0.6522203867051724,0.7613839801423984,\"\",\"\",\"\",\"\",0.32079858898685276,\"\",0.2989099659907898,\"\",1.3046680488166147,\"\",\"\",0.4603180354542838,1.6174705757685566,\"\",\"\",\"\",0.6523048110524332,\"\",\"\",2.0947524220900284,0.8073031683298371,\"\"],\"yaxis\":\"y2\",\"type\":\"scatter\"},{\"connectgaps\":false,\"fill\":\"tozeroy\",\"line\":{\"color\":\"red\",\"dash\":\"solid\",\"shape\":\"linear\",\"width\":0.5},\"mode\":\"lines\",\"name\":\"Spread\",\"showlegend\":false,\"x\":[0,1,2,3,4,5,6,7,8,9,10,11,12,13,14,15,16,17,18,19,20,21,22,23,24,25,26,27,28,29,30,31,32,33,34,35,36,37,38,39,40,41,42,43,44,45,46,47,48,49,50,51,52,53,54,55,56,57,58,59,60,61,62,63,64,65,66,67,68,69,70,71,72,73,74,75,76,77,78,79,80,81,82,83,84,85,86,87,88,89,90,91,92,93,94,95,96,97,98,99],\"xaxis\":\"x2\",\"y\":[-2.197432138652962,\"\",-0.1073766449451542,-2.0153266496845577,\"\",\"\",-1.4363986590434783,-0.370106164721585,\"\",-1.6172743875750824,-3.6979335765274794,-1.6241196328149328,-1.905813590298361,\"\",-1.6763589081240338,\"\",-0.7173786786797691,-1.1704428007316992,\"\",-0.48018355286765013,\"\",-0.9047639266223302,\"\",\"\",-1.4157713817525623,\"\",-0.9644071761419925,\"\",-0.7865318769034825,\"\",-0.17018113163733628,\"\",\"\",-1.0078943164450282,\"\",\"\",\"\",\"\",-1.240684529076836,-0.860631372155759,-0.9740084036006263,\"\",-1.1120720610723116,\"\",-1.3256476610166503,\"\",\"\",-0.4172152803115836,-1.8224069321780845,-0.2896572518919819,\"\",\"\",-2.699327250176731,\"\",-0.4620166771298887,-0.5594469564363375,\"\",\"\",\"\",-1.3244253616619137,\"\",\"\",-0.43077181857585656,-0.4008740711805694,\"\",\"\",-1.549562538193192,\"\",\"\",-1.9724968908067215,-0.24012913734833527,-2.111781376044502,\"\",-2.100159368889102,-1.4049522041299887,\"\",\"\",\"\",-1.3296212311691282,-0.955141633824389,-0.19976667417543667,-1.3689661893118437,\"\",-1.2483736509756347,\"\",-0.42035885389235383,\"\",-1.4254389161051975,-1.857346305357515,\"\",\"\",-1.8225441921306156,-0.6530870533782971,-1.8165612861255724,\"\",-0.012564655106774708,-0.2162387805776267,\"\",\"\",-1.1714840362131076],\"yaxis\":\"y2\",\"type\":\"scatter\"}],                        {\"hovermode\":\"x\",\"legend\":{\"bgcolor\":\"#F5F6F9\",\"font\":{\"color\":\"#4D5663\"}},\"paper_bgcolor\":\"#F5F6F9\",\"plot_bgcolor\":\"#F5F6F9\",\"template\":{\"data\":{\"barpolar\":[{\"marker\":{\"line\":{\"color\":\"#E5ECF6\",\"width\":0.5},\"pattern\":{\"fillmode\":\"overlay\",\"size\":10,\"solidity\":0.2}},\"type\":\"barpolar\"}],\"bar\":[{\"error_x\":{\"color\":\"#2a3f5f\"},\"error_y\":{\"color\":\"#2a3f5f\"},\"marker\":{\"line\":{\"color\":\"#E5ECF6\",\"width\":0.5},\"pattern\":{\"fillmode\":\"overlay\",\"size\":10,\"solidity\":0.2}},\"type\":\"bar\"}],\"carpet\":[{\"aaxis\":{\"endlinecolor\":\"#2a3f5f\",\"gridcolor\":\"white\",\"linecolor\":\"white\",\"minorgridcolor\":\"white\",\"startlinecolor\":\"#2a3f5f\"},\"baxis\":{\"endlinecolor\":\"#2a3f5f\",\"gridcolor\":\"white\",\"linecolor\":\"white\",\"minorgridcolor\":\"white\",\"startlinecolor\":\"#2a3f5f\"},\"type\":\"carpet\"}],\"choropleth\":[{\"colorbar\":{\"outlinewidth\":0,\"ticks\":\"\"},\"type\":\"choropleth\"}],\"contourcarpet\":[{\"colorbar\":{\"outlinewidth\":0,\"ticks\":\"\"},\"type\":\"contourcarpet\"}],\"contour\":[{\"colorbar\":{\"outlinewidth\":0,\"ticks\":\"\"},\"colorscale\":[[0.0,\"#0d0887\"],[0.1111111111111111,\"#46039f\"],[0.2222222222222222,\"#7201a8\"],[0.3333333333333333,\"#9c179e\"],[0.4444444444444444,\"#bd3786\"],[0.5555555555555556,\"#d8576b\"],[0.6666666666666666,\"#ed7953\"],[0.7777777777777778,\"#fb9f3a\"],[0.8888888888888888,\"#fdca26\"],[1.0,\"#f0f921\"]],\"type\":\"contour\"}],\"heatmapgl\":[{\"colorbar\":{\"outlinewidth\":0,\"ticks\":\"\"},\"colorscale\":[[0.0,\"#0d0887\"],[0.1111111111111111,\"#46039f\"],[0.2222222222222222,\"#7201a8\"],[0.3333333333333333,\"#9c179e\"],[0.4444444444444444,\"#bd3786\"],[0.5555555555555556,\"#d8576b\"],[0.6666666666666666,\"#ed7953\"],[0.7777777777777778,\"#fb9f3a\"],[0.8888888888888888,\"#fdca26\"],[1.0,\"#f0f921\"]],\"type\":\"heatmapgl\"}],\"heatmap\":[{\"colorbar\":{\"outlinewidth\":0,\"ticks\":\"\"},\"colorscale\":[[0.0,\"#0d0887\"],[0.1111111111111111,\"#46039f\"],[0.2222222222222222,\"#7201a8\"],[0.3333333333333333,\"#9c179e\"],[0.4444444444444444,\"#bd3786\"],[0.5555555555555556,\"#d8576b\"],[0.6666666666666666,\"#ed7953\"],[0.7777777777777778,\"#fb9f3a\"],[0.8888888888888888,\"#fdca26\"],[1.0,\"#f0f921\"]],\"type\":\"heatmap\"}],\"histogram2dcontour\":[{\"colorbar\":{\"outlinewidth\":0,\"ticks\":\"\"},\"colorscale\":[[0.0,\"#0d0887\"],[0.1111111111111111,\"#46039f\"],[0.2222222222222222,\"#7201a8\"],[0.3333333333333333,\"#9c179e\"],[0.4444444444444444,\"#bd3786\"],[0.5555555555555556,\"#d8576b\"],[0.6666666666666666,\"#ed7953\"],[0.7777777777777778,\"#fb9f3a\"],[0.8888888888888888,\"#fdca26\"],[1.0,\"#f0f921\"]],\"type\":\"histogram2dcontour\"}],\"histogram2d\":[{\"colorbar\":{\"outlinewidth\":0,\"ticks\":\"\"},\"colorscale\":[[0.0,\"#0d0887\"],[0.1111111111111111,\"#46039f\"],[0.2222222222222222,\"#7201a8\"],[0.3333333333333333,\"#9c179e\"],[0.4444444444444444,\"#bd3786\"],[0.5555555555555556,\"#d8576b\"],[0.6666666666666666,\"#ed7953\"],[0.7777777777777778,\"#fb9f3a\"],[0.8888888888888888,\"#fdca26\"],[1.0,\"#f0f921\"]],\"type\":\"histogram2d\"}],\"histogram\":[{\"marker\":{\"pattern\":{\"fillmode\":\"overlay\",\"size\":10,\"solidity\":0.2}},\"type\":\"histogram\"}],\"mesh3d\":[{\"colorbar\":{\"outlinewidth\":0,\"ticks\":\"\"},\"type\":\"mesh3d\"}],\"parcoords\":[{\"line\":{\"colorbar\":{\"outlinewidth\":0,\"ticks\":\"\"}},\"type\":\"parcoords\"}],\"pie\":[{\"automargin\":true,\"type\":\"pie\"}],\"scatter3d\":[{\"line\":{\"colorbar\":{\"outlinewidth\":0,\"ticks\":\"\"}},\"marker\":{\"colorbar\":{\"outlinewidth\":0,\"ticks\":\"\"}},\"type\":\"scatter3d\"}],\"scattercarpet\":[{\"marker\":{\"colorbar\":{\"outlinewidth\":0,\"ticks\":\"\"}},\"type\":\"scattercarpet\"}],\"scattergeo\":[{\"marker\":{\"colorbar\":{\"outlinewidth\":0,\"ticks\":\"\"}},\"type\":\"scattergeo\"}],\"scattergl\":[{\"marker\":{\"colorbar\":{\"outlinewidth\":0,\"ticks\":\"\"}},\"type\":\"scattergl\"}],\"scattermapbox\":[{\"marker\":{\"colorbar\":{\"outlinewidth\":0,\"ticks\":\"\"}},\"type\":\"scattermapbox\"}],\"scatterpolargl\":[{\"marker\":{\"colorbar\":{\"outlinewidth\":0,\"ticks\":\"\"}},\"type\":\"scatterpolargl\"}],\"scatterpolar\":[{\"marker\":{\"colorbar\":{\"outlinewidth\":0,\"ticks\":\"\"}},\"type\":\"scatterpolar\"}],\"scatter\":[{\"fillpattern\":{\"fillmode\":\"overlay\",\"size\":10,\"solidity\":0.2},\"type\":\"scatter\"}],\"scatterternary\":[{\"marker\":{\"colorbar\":{\"outlinewidth\":0,\"ticks\":\"\"}},\"type\":\"scatterternary\"}],\"surface\":[{\"colorbar\":{\"outlinewidth\":0,\"ticks\":\"\"},\"colorscale\":[[0.0,\"#0d0887\"],[0.1111111111111111,\"#46039f\"],[0.2222222222222222,\"#7201a8\"],[0.3333333333333333,\"#9c179e\"],[0.4444444444444444,\"#bd3786\"],[0.5555555555555556,\"#d8576b\"],[0.6666666666666666,\"#ed7953\"],[0.7777777777777778,\"#fb9f3a\"],[0.8888888888888888,\"#fdca26\"],[1.0,\"#f0f921\"]],\"type\":\"surface\"}],\"table\":[{\"cells\":{\"fill\":{\"color\":\"#EBF0F8\"},\"line\":{\"color\":\"white\"}},\"header\":{\"fill\":{\"color\":\"#C8D4E3\"},\"line\":{\"color\":\"white\"}},\"type\":\"table\"}]},\"layout\":{\"annotationdefaults\":{\"arrowcolor\":\"#2a3f5f\",\"arrowhead\":0,\"arrowwidth\":1},\"autotypenumbers\":\"strict\",\"coloraxis\":{\"colorbar\":{\"outlinewidth\":0,\"ticks\":\"\"}},\"colorscale\":{\"diverging\":[[0,\"#8e0152\"],[0.1,\"#c51b7d\"],[0.2,\"#de77ae\"],[0.3,\"#f1b6da\"],[0.4,\"#fde0ef\"],[0.5,\"#f7f7f7\"],[0.6,\"#e6f5d0\"],[0.7,\"#b8e186\"],[0.8,\"#7fbc41\"],[0.9,\"#4d9221\"],[1,\"#276419\"]],\"sequential\":[[0.0,\"#0d0887\"],[0.1111111111111111,\"#46039f\"],[0.2222222222222222,\"#7201a8\"],[0.3333333333333333,\"#9c179e\"],[0.4444444444444444,\"#bd3786\"],[0.5555555555555556,\"#d8576b\"],[0.6666666666666666,\"#ed7953\"],[0.7777777777777778,\"#fb9f3a\"],[0.8888888888888888,\"#fdca26\"],[1.0,\"#f0f921\"]],\"sequentialminus\":[[0.0,\"#0d0887\"],[0.1111111111111111,\"#46039f\"],[0.2222222222222222,\"#7201a8\"],[0.3333333333333333,\"#9c179e\"],[0.4444444444444444,\"#bd3786\"],[0.5555555555555556,\"#d8576b\"],[0.6666666666666666,\"#ed7953\"],[0.7777777777777778,\"#fb9f3a\"],[0.8888888888888888,\"#fdca26\"],[1.0,\"#f0f921\"]]},\"colorway\":[\"#636efa\",\"#EF553B\",\"#00cc96\",\"#ab63fa\",\"#FFA15A\",\"#19d3f3\",\"#FF6692\",\"#B6E880\",\"#FF97FF\",\"#FECB52\"],\"font\":{\"color\":\"#2a3f5f\"},\"geo\":{\"bgcolor\":\"white\",\"lakecolor\":\"white\",\"landcolor\":\"#E5ECF6\",\"showlakes\":true,\"showland\":true,\"subunitcolor\":\"white\"},\"hoverlabel\":{\"align\":\"left\"},\"hovermode\":\"closest\",\"mapbox\":{\"style\":\"light\"},\"paper_bgcolor\":\"white\",\"plot_bgcolor\":\"#E5ECF6\",\"polar\":{\"angularaxis\":{\"gridcolor\":\"white\",\"linecolor\":\"white\",\"ticks\":\"\"},\"bgcolor\":\"#E5ECF6\",\"radialaxis\":{\"gridcolor\":\"white\",\"linecolor\":\"white\",\"ticks\":\"\"}},\"scene\":{\"xaxis\":{\"backgroundcolor\":\"#E5ECF6\",\"gridcolor\":\"white\",\"gridwidth\":2,\"linecolor\":\"white\",\"showbackground\":true,\"ticks\":\"\",\"zerolinecolor\":\"white\"},\"yaxis\":{\"backgroundcolor\":\"#E5ECF6\",\"gridcolor\":\"white\",\"gridwidth\":2,\"linecolor\":\"white\",\"showbackground\":true,\"ticks\":\"\",\"zerolinecolor\":\"white\"},\"zaxis\":{\"backgroundcolor\":\"#E5ECF6\",\"gridcolor\":\"white\",\"gridwidth\":2,\"linecolor\":\"white\",\"showbackground\":true,\"ticks\":\"\",\"zerolinecolor\":\"white\"}},\"shapedefaults\":{\"line\":{\"color\":\"#2a3f5f\"}},\"ternary\":{\"aaxis\":{\"gridcolor\":\"white\",\"linecolor\":\"white\",\"ticks\":\"\"},\"baxis\":{\"gridcolor\":\"white\",\"linecolor\":\"white\",\"ticks\":\"\"},\"bgcolor\":\"#E5ECF6\",\"caxis\":{\"gridcolor\":\"white\",\"linecolor\":\"white\",\"ticks\":\"\"}},\"title\":{\"x\":0.05},\"xaxis\":{\"automargin\":true,\"gridcolor\":\"white\",\"linecolor\":\"white\",\"ticks\":\"\",\"title\":{\"standoff\":15},\"zerolinecolor\":\"white\",\"zerolinewidth\":2},\"yaxis\":{\"automargin\":true,\"gridcolor\":\"white\",\"linecolor\":\"white\",\"ticks\":\"\",\"title\":{\"standoff\":15},\"zerolinecolor\":\"white\",\"zerolinewidth\":2}}},\"title\":{\"font\":{\"color\":\"#4D5663\"}},\"xaxis\":{\"gridcolor\":\"#E1E5ED\",\"showgrid\":true,\"tickfont\":{\"color\":\"#4D5663\"},\"title\":{\"font\":{\"color\":\"#4D5663\"},\"text\":\"\"},\"zerolinecolor\":\"#E1E5ED\"},\"yaxis\":{\"domain\":[0.3,1],\"gridcolor\":\"#E1E5ED\",\"showgrid\":true,\"tickfont\":{\"color\":\"#4D5663\"},\"title\":{\"font\":{\"color\":\"#4D5663\"},\"text\":\"\"},\"zerolinecolor\":\"#E1E5ED\"},\"yaxis2\":{\"domain\":[0,0.25],\"gridcolor\":\"#E1E5ED\",\"showgrid\":true,\"tickfont\":{\"color\":\"#4D5663\"},\"title\":{\"font\":{\"color\":\"#4D5663\"},\"text\":\"Spread\"},\"zerolinecolor\":\"#E1E5ED\"},\"xaxis2\":{\"anchor\":\"y2\",\"gridcolor\":\"#E1E5ED\",\"showgrid\":true,\"showticklabels\":false,\"tickfont\":{\"color\":\"#4D5663\"},\"title\":{\"font\":{\"color\":\"#4D5663\"},\"text\":\"\"},\"zerolinecolor\":\"#E1E5ED\"}},                        {\"showLink\": true, \"linkText\": \"Export to plot.ly\", \"plotlyServerURL\": \"https://plot.ly\", \"responsive\": true}                    ).then(function(){\n",
       "                            \n",
       "var gd = document.getElementById('394f0002-e8a8-428a-8892-72e2e566521a');\n",
       "var x = new MutationObserver(function (mutations, observer) {{\n",
       "        var display = window.getComputedStyle(gd).display;\n",
       "        if (!display || display === 'none') {{\n",
       "            console.log([gd, 'removed!']);\n",
       "            Plotly.purge(gd);\n",
       "            observer.disconnect();\n",
       "        }}\n",
       "}});\n",
       "\n",
       "// Listen for the removal of the full notebook cells\n",
       "var notebookContainer = gd.closest('#notebook-container');\n",
       "if (notebookContainer) {{\n",
       "    x.observe(notebookContainer, {childList: true});\n",
       "}}\n",
       "\n",
       "// Listen for the clearing of the current output cell\n",
       "var outputEl = gd.closest('.output');\n",
       "if (outputEl) {{\n",
       "    x.observe(outputEl, {childList: true});\n",
       "}}\n",
       "\n",
       "                        })                };                });            </script>        </div>"
      ]
     },
     "metadata": {},
     "output_type": "display_data"
    }
   ],
   "source": [
    "df[['A','B']].iplot(kind='spread')"
   ]
  },
  {
   "cell_type": "markdown",
   "metadata": {},
   "source": [
    "## histogram"
   ]
  },
  {
   "cell_type": "code",
   "execution_count": 21,
   "metadata": {},
   "outputs": [
    {
     "data": {
      "application/vnd.plotly.v1+json": {
       "config": {
        "linkText": "Export to plot.ly",
        "plotlyServerURL": "https://plot.ly",
        "showLink": true
       },
       "data": [
        {
         "histfunc": "count",
         "histnorm": "",
         "marker": {
          "color": "rgba(255, 153, 51, 1.0)",
          "line": {
           "color": "#4D5663",
           "width": 1.3
          }
         },
         "name": "A",
         "nbinsx": 25,
         "opacity": 0.8,
         "orientation": "v",
         "type": "histogram",
         "x": [
          -1.9903004256683205,
          -0.44331522383487904,
          0.5522209986709692,
          -0.8761307777820353,
          1.1989648408531712,
          1.107396907449335,
          -0.029371122099748383,
          0.3056333470056156,
          -0.4955087979621365,
          -0.6520420406756742,
          -2.5267952417248734,
          0.28866743458960153,
          -1.4316957620782398,
          -0.6044368465373989,
          -0.7835590378190067,
          -0.12675905868030538,
          -0.8723173151421462,
          -1.3441213992499,
          0.9239839346598812,
          -0.37358758223316085,
          0.9588303627419025,
          -0.1052825661486228,
          0.38119597175663916,
          0.3576427427245764,
          -0.5702151234625347,
          -0.5572216628600934,
          0.017719846225363156,
          1.2887145074843485,
          -0.7411771478820481,
          -0.6419864197153446,
          1.1972219508024184,
          0.25945352369678465,
          1.2969932581570864,
          -0.766403700861819,
          -0.5880695192706119,
          0.23921319399362173,
          0.41198072881213454,
          0.8298012119060374,
          -0.39388130471441646,
          -0.9685240289521347,
          -1.5016621442024582,
          0.2224241435501135,
          -0.8493083133394347,
          -1.0609152477969157,
          -1.469355455640693,
          1.102203544886654,
          0.9789753952414446,
          -1.219515842422679,
          -1.0441517795610855,
          0.2804323979633052,
          -0.3944849837527407,
          0.7544188492417558,
          -1.1088178682546639,
          0.1837902883409436,
          -1.0221321290638552,
          0.7823997618515374,
          1.1860800573721049,
          0.03555123929313354,
          -0.08788533678144475,
          -1.0979193923822788,
          0.5231731489710988,
          0.5697924927381082,
          -0.20924153665318343,
          1.3985467032028418,
          1.7004020608481674,
          0.2030413325552144,
          -0.6268391642990602,
          0.3988770551212099,
          0.06965082275610238,
          -1.9116331125018202,
          0.1380241162431082,
          -1.1037926748877243,
          0.8081457348428449,
          -0.9356293594254312,
          -0.0916575756043444,
          0.5779288906452257,
          0.5962772865240996,
          1.515969853059908,
          -1.3425234485560702,
          -0.3600001508909471,
          -0.07624704610784032,
          -1.7522234689232437,
          -0.37257406422804706,
          1.193137958920794,
          1.154637422674318,
          0.31205407485525993,
          0.44184177745646686,
          -1.3778745790073854,
          -1.011665062974858,
          0.03515567990235361,
          0.41947441807572,
          -1.3135785687987815,
          0.3272638323888706,
          -1.0046483036078868,
          0.6876459011460935,
          -0.19200991915835824,
          -0.1546255652119731,
          1.5186581723550163,
          -0.07716251245343556,
          0.5410204542460056
         ]
        }
       ],
       "layout": {
        "barmode": "overlay",
        "legend": {
         "bgcolor": "#F5F6F9",
         "font": {
          "color": "#4D5663"
         }
        },
        "paper_bgcolor": "#F5F6F9",
        "plot_bgcolor": "#F5F6F9",
        "template": {
         "data": {
          "bar": [
           {
            "error_x": {
             "color": "#2a3f5f"
            },
            "error_y": {
             "color": "#2a3f5f"
            },
            "marker": {
             "line": {
              "color": "#E5ECF6",
              "width": 0.5
             },
             "pattern": {
              "fillmode": "overlay",
              "size": 10,
              "solidity": 0.2
             }
            },
            "type": "bar"
           }
          ],
          "barpolar": [
           {
            "marker": {
             "line": {
              "color": "#E5ECF6",
              "width": 0.5
             },
             "pattern": {
              "fillmode": "overlay",
              "size": 10,
              "solidity": 0.2
             }
            },
            "type": "barpolar"
           }
          ],
          "carpet": [
           {
            "aaxis": {
             "endlinecolor": "#2a3f5f",
             "gridcolor": "white",
             "linecolor": "white",
             "minorgridcolor": "white",
             "startlinecolor": "#2a3f5f"
            },
            "baxis": {
             "endlinecolor": "#2a3f5f",
             "gridcolor": "white",
             "linecolor": "white",
             "minorgridcolor": "white",
             "startlinecolor": "#2a3f5f"
            },
            "type": "carpet"
           }
          ],
          "choropleth": [
           {
            "colorbar": {
             "outlinewidth": 0,
             "ticks": ""
            },
            "type": "choropleth"
           }
          ],
          "contour": [
           {
            "colorbar": {
             "outlinewidth": 0,
             "ticks": ""
            },
            "colorscale": [
             [
              0,
              "#0d0887"
             ],
             [
              0.1111111111111111,
              "#46039f"
             ],
             [
              0.2222222222222222,
              "#7201a8"
             ],
             [
              0.3333333333333333,
              "#9c179e"
             ],
             [
              0.4444444444444444,
              "#bd3786"
             ],
             [
              0.5555555555555556,
              "#d8576b"
             ],
             [
              0.6666666666666666,
              "#ed7953"
             ],
             [
              0.7777777777777778,
              "#fb9f3a"
             ],
             [
              0.8888888888888888,
              "#fdca26"
             ],
             [
              1,
              "#f0f921"
             ]
            ],
            "type": "contour"
           }
          ],
          "contourcarpet": [
           {
            "colorbar": {
             "outlinewidth": 0,
             "ticks": ""
            },
            "type": "contourcarpet"
           }
          ],
          "heatmap": [
           {
            "colorbar": {
             "outlinewidth": 0,
             "ticks": ""
            },
            "colorscale": [
             [
              0,
              "#0d0887"
             ],
             [
              0.1111111111111111,
              "#46039f"
             ],
             [
              0.2222222222222222,
              "#7201a8"
             ],
             [
              0.3333333333333333,
              "#9c179e"
             ],
             [
              0.4444444444444444,
              "#bd3786"
             ],
             [
              0.5555555555555556,
              "#d8576b"
             ],
             [
              0.6666666666666666,
              "#ed7953"
             ],
             [
              0.7777777777777778,
              "#fb9f3a"
             ],
             [
              0.8888888888888888,
              "#fdca26"
             ],
             [
              1,
              "#f0f921"
             ]
            ],
            "type": "heatmap"
           }
          ],
          "heatmapgl": [
           {
            "colorbar": {
             "outlinewidth": 0,
             "ticks": ""
            },
            "colorscale": [
             [
              0,
              "#0d0887"
             ],
             [
              0.1111111111111111,
              "#46039f"
             ],
             [
              0.2222222222222222,
              "#7201a8"
             ],
             [
              0.3333333333333333,
              "#9c179e"
             ],
             [
              0.4444444444444444,
              "#bd3786"
             ],
             [
              0.5555555555555556,
              "#d8576b"
             ],
             [
              0.6666666666666666,
              "#ed7953"
             ],
             [
              0.7777777777777778,
              "#fb9f3a"
             ],
             [
              0.8888888888888888,
              "#fdca26"
             ],
             [
              1,
              "#f0f921"
             ]
            ],
            "type": "heatmapgl"
           }
          ],
          "histogram": [
           {
            "marker": {
             "pattern": {
              "fillmode": "overlay",
              "size": 10,
              "solidity": 0.2
             }
            },
            "type": "histogram"
           }
          ],
          "histogram2d": [
           {
            "colorbar": {
             "outlinewidth": 0,
             "ticks": ""
            },
            "colorscale": [
             [
              0,
              "#0d0887"
             ],
             [
              0.1111111111111111,
              "#46039f"
             ],
             [
              0.2222222222222222,
              "#7201a8"
             ],
             [
              0.3333333333333333,
              "#9c179e"
             ],
             [
              0.4444444444444444,
              "#bd3786"
             ],
             [
              0.5555555555555556,
              "#d8576b"
             ],
             [
              0.6666666666666666,
              "#ed7953"
             ],
             [
              0.7777777777777778,
              "#fb9f3a"
             ],
             [
              0.8888888888888888,
              "#fdca26"
             ],
             [
              1,
              "#f0f921"
             ]
            ],
            "type": "histogram2d"
           }
          ],
          "histogram2dcontour": [
           {
            "colorbar": {
             "outlinewidth": 0,
             "ticks": ""
            },
            "colorscale": [
             [
              0,
              "#0d0887"
             ],
             [
              0.1111111111111111,
              "#46039f"
             ],
             [
              0.2222222222222222,
              "#7201a8"
             ],
             [
              0.3333333333333333,
              "#9c179e"
             ],
             [
              0.4444444444444444,
              "#bd3786"
             ],
             [
              0.5555555555555556,
              "#d8576b"
             ],
             [
              0.6666666666666666,
              "#ed7953"
             ],
             [
              0.7777777777777778,
              "#fb9f3a"
             ],
             [
              0.8888888888888888,
              "#fdca26"
             ],
             [
              1,
              "#f0f921"
             ]
            ],
            "type": "histogram2dcontour"
           }
          ],
          "mesh3d": [
           {
            "colorbar": {
             "outlinewidth": 0,
             "ticks": ""
            },
            "type": "mesh3d"
           }
          ],
          "parcoords": [
           {
            "line": {
             "colorbar": {
              "outlinewidth": 0,
              "ticks": ""
             }
            },
            "type": "parcoords"
           }
          ],
          "pie": [
           {
            "automargin": true,
            "type": "pie"
           }
          ],
          "scatter": [
           {
            "fillpattern": {
             "fillmode": "overlay",
             "size": 10,
             "solidity": 0.2
            },
            "type": "scatter"
           }
          ],
          "scatter3d": [
           {
            "line": {
             "colorbar": {
              "outlinewidth": 0,
              "ticks": ""
             }
            },
            "marker": {
             "colorbar": {
              "outlinewidth": 0,
              "ticks": ""
             }
            },
            "type": "scatter3d"
           }
          ],
          "scattercarpet": [
           {
            "marker": {
             "colorbar": {
              "outlinewidth": 0,
              "ticks": ""
             }
            },
            "type": "scattercarpet"
           }
          ],
          "scattergeo": [
           {
            "marker": {
             "colorbar": {
              "outlinewidth": 0,
              "ticks": ""
             }
            },
            "type": "scattergeo"
           }
          ],
          "scattergl": [
           {
            "marker": {
             "colorbar": {
              "outlinewidth": 0,
              "ticks": ""
             }
            },
            "type": "scattergl"
           }
          ],
          "scattermapbox": [
           {
            "marker": {
             "colorbar": {
              "outlinewidth": 0,
              "ticks": ""
             }
            },
            "type": "scattermapbox"
           }
          ],
          "scatterpolar": [
           {
            "marker": {
             "colorbar": {
              "outlinewidth": 0,
              "ticks": ""
             }
            },
            "type": "scatterpolar"
           }
          ],
          "scatterpolargl": [
           {
            "marker": {
             "colorbar": {
              "outlinewidth": 0,
              "ticks": ""
             }
            },
            "type": "scatterpolargl"
           }
          ],
          "scatterternary": [
           {
            "marker": {
             "colorbar": {
              "outlinewidth": 0,
              "ticks": ""
             }
            },
            "type": "scatterternary"
           }
          ],
          "surface": [
           {
            "colorbar": {
             "outlinewidth": 0,
             "ticks": ""
            },
            "colorscale": [
             [
              0,
              "#0d0887"
             ],
             [
              0.1111111111111111,
              "#46039f"
             ],
             [
              0.2222222222222222,
              "#7201a8"
             ],
             [
              0.3333333333333333,
              "#9c179e"
             ],
             [
              0.4444444444444444,
              "#bd3786"
             ],
             [
              0.5555555555555556,
              "#d8576b"
             ],
             [
              0.6666666666666666,
              "#ed7953"
             ],
             [
              0.7777777777777778,
              "#fb9f3a"
             ],
             [
              0.8888888888888888,
              "#fdca26"
             ],
             [
              1,
              "#f0f921"
             ]
            ],
            "type": "surface"
           }
          ],
          "table": [
           {
            "cells": {
             "fill": {
              "color": "#EBF0F8"
             },
             "line": {
              "color": "white"
             }
            },
            "header": {
             "fill": {
              "color": "#C8D4E3"
             },
             "line": {
              "color": "white"
             }
            },
            "type": "table"
           }
          ]
         },
         "layout": {
          "annotationdefaults": {
           "arrowcolor": "#2a3f5f",
           "arrowhead": 0,
           "arrowwidth": 1
          },
          "autotypenumbers": "strict",
          "coloraxis": {
           "colorbar": {
            "outlinewidth": 0,
            "ticks": ""
           }
          },
          "colorscale": {
           "diverging": [
            [
             0,
             "#8e0152"
            ],
            [
             0.1,
             "#c51b7d"
            ],
            [
             0.2,
             "#de77ae"
            ],
            [
             0.3,
             "#f1b6da"
            ],
            [
             0.4,
             "#fde0ef"
            ],
            [
             0.5,
             "#f7f7f7"
            ],
            [
             0.6,
             "#e6f5d0"
            ],
            [
             0.7,
             "#b8e186"
            ],
            [
             0.8,
             "#7fbc41"
            ],
            [
             0.9,
             "#4d9221"
            ],
            [
             1,
             "#276419"
            ]
           ],
           "sequential": [
            [
             0,
             "#0d0887"
            ],
            [
             0.1111111111111111,
             "#46039f"
            ],
            [
             0.2222222222222222,
             "#7201a8"
            ],
            [
             0.3333333333333333,
             "#9c179e"
            ],
            [
             0.4444444444444444,
             "#bd3786"
            ],
            [
             0.5555555555555556,
             "#d8576b"
            ],
            [
             0.6666666666666666,
             "#ed7953"
            ],
            [
             0.7777777777777778,
             "#fb9f3a"
            ],
            [
             0.8888888888888888,
             "#fdca26"
            ],
            [
             1,
             "#f0f921"
            ]
           ],
           "sequentialminus": [
            [
             0,
             "#0d0887"
            ],
            [
             0.1111111111111111,
             "#46039f"
            ],
            [
             0.2222222222222222,
             "#7201a8"
            ],
            [
             0.3333333333333333,
             "#9c179e"
            ],
            [
             0.4444444444444444,
             "#bd3786"
            ],
            [
             0.5555555555555556,
             "#d8576b"
            ],
            [
             0.6666666666666666,
             "#ed7953"
            ],
            [
             0.7777777777777778,
             "#fb9f3a"
            ],
            [
             0.8888888888888888,
             "#fdca26"
            ],
            [
             1,
             "#f0f921"
            ]
           ]
          },
          "colorway": [
           "#636efa",
           "#EF553B",
           "#00cc96",
           "#ab63fa",
           "#FFA15A",
           "#19d3f3",
           "#FF6692",
           "#B6E880",
           "#FF97FF",
           "#FECB52"
          ],
          "font": {
           "color": "#2a3f5f"
          },
          "geo": {
           "bgcolor": "white",
           "lakecolor": "white",
           "landcolor": "#E5ECF6",
           "showlakes": true,
           "showland": true,
           "subunitcolor": "white"
          },
          "hoverlabel": {
           "align": "left"
          },
          "hovermode": "closest",
          "mapbox": {
           "style": "light"
          },
          "paper_bgcolor": "white",
          "plot_bgcolor": "#E5ECF6",
          "polar": {
           "angularaxis": {
            "gridcolor": "white",
            "linecolor": "white",
            "ticks": ""
           },
           "bgcolor": "#E5ECF6",
           "radialaxis": {
            "gridcolor": "white",
            "linecolor": "white",
            "ticks": ""
           }
          },
          "scene": {
           "xaxis": {
            "backgroundcolor": "#E5ECF6",
            "gridcolor": "white",
            "gridwidth": 2,
            "linecolor": "white",
            "showbackground": true,
            "ticks": "",
            "zerolinecolor": "white"
           },
           "yaxis": {
            "backgroundcolor": "#E5ECF6",
            "gridcolor": "white",
            "gridwidth": 2,
            "linecolor": "white",
            "showbackground": true,
            "ticks": "",
            "zerolinecolor": "white"
           },
           "zaxis": {
            "backgroundcolor": "#E5ECF6",
            "gridcolor": "white",
            "gridwidth": 2,
            "linecolor": "white",
            "showbackground": true,
            "ticks": "",
            "zerolinecolor": "white"
           }
          },
          "shapedefaults": {
           "line": {
            "color": "#2a3f5f"
           }
          },
          "ternary": {
           "aaxis": {
            "gridcolor": "white",
            "linecolor": "white",
            "ticks": ""
           },
           "baxis": {
            "gridcolor": "white",
            "linecolor": "white",
            "ticks": ""
           },
           "bgcolor": "#E5ECF6",
           "caxis": {
            "gridcolor": "white",
            "linecolor": "white",
            "ticks": ""
           }
          },
          "title": {
           "x": 0.05
          },
          "xaxis": {
           "automargin": true,
           "gridcolor": "white",
           "linecolor": "white",
           "ticks": "",
           "title": {
            "standoff": 15
           },
           "zerolinecolor": "white",
           "zerolinewidth": 2
          },
          "yaxis": {
           "automargin": true,
           "gridcolor": "white",
           "linecolor": "white",
           "ticks": "",
           "title": {
            "standoff": 15
           },
           "zerolinecolor": "white",
           "zerolinewidth": 2
          }
         }
        },
        "title": {
         "font": {
          "color": "#4D5663"
         }
        },
        "xaxis": {
         "gridcolor": "#E1E5ED",
         "showgrid": true,
         "tickfont": {
          "color": "#4D5663"
         },
         "title": {
          "font": {
           "color": "#4D5663"
          },
          "text": ""
         },
         "zerolinecolor": "#E1E5ED"
        },
        "yaxis": {
         "gridcolor": "#E1E5ED",
         "showgrid": true,
         "tickfont": {
          "color": "#4D5663"
         },
         "title": {
          "font": {
           "color": "#4D5663"
          },
          "text": ""
         },
         "zerolinecolor": "#E1E5ED"
        }
       }
      },
      "text/html": [
       "<div>                            <div id=\"32790e7f-6b53-44f7-b8fc-cd32238f9e3e\" class=\"plotly-graph-div\" style=\"height:525px; width:100%;\"></div>            <script type=\"text/javascript\">                require([\"plotly\"], function(Plotly) {                    window.PLOTLYENV=window.PLOTLYENV || {};\n",
       "                    window.PLOTLYENV.BASE_URL='https://plot.ly';                                    if (document.getElementById(\"32790e7f-6b53-44f7-b8fc-cd32238f9e3e\")) {                    Plotly.newPlot(                        \"32790e7f-6b53-44f7-b8fc-cd32238f9e3e\",                        [{\"histfunc\":\"count\",\"histnorm\":\"\",\"marker\":{\"color\":\"rgba(255, 153, 51, 1.0)\",\"line\":{\"color\":\"#4D5663\",\"width\":1.3}},\"name\":\"A\",\"nbinsx\":25,\"opacity\":0.8,\"orientation\":\"v\",\"x\":[-1.9903004256683205,-0.44331522383487904,0.5522209986709692,-0.8761307777820353,1.1989648408531712,1.107396907449335,-0.029371122099748383,0.3056333470056156,-0.4955087979621365,-0.6520420406756742,-2.5267952417248734,0.28866743458960153,-1.4316957620782398,-0.6044368465373989,-0.7835590378190067,-0.12675905868030538,-0.8723173151421462,-1.3441213992499,0.9239839346598812,-0.37358758223316085,0.9588303627419025,-0.1052825661486228,0.38119597175663916,0.3576427427245764,-0.5702151234625347,-0.5572216628600934,0.017719846225363156,1.2887145074843485,-0.7411771478820481,-0.6419864197153446,1.1972219508024184,0.25945352369678465,1.2969932581570864,-0.766403700861819,-0.5880695192706119,0.23921319399362173,0.41198072881213454,0.8298012119060374,-0.39388130471441646,-0.9685240289521347,-1.5016621442024582,0.2224241435501135,-0.8493083133394347,-1.0609152477969157,-1.469355455640693,1.102203544886654,0.9789753952414446,-1.219515842422679,-1.0441517795610855,0.2804323979633052,-0.3944849837527407,0.7544188492417558,-1.1088178682546639,0.1837902883409436,-1.0221321290638552,0.7823997618515374,1.1860800573721049,0.03555123929313354,-0.08788533678144475,-1.0979193923822788,0.5231731489710988,0.5697924927381082,-0.20924153665318343,1.3985467032028418,1.7004020608481674,0.2030413325552144,-0.6268391642990602,0.3988770551212099,0.06965082275610238,-1.9116331125018202,0.1380241162431082,-1.1037926748877243,0.8081457348428449,-0.9356293594254312,-0.0916575756043444,0.5779288906452257,0.5962772865240996,1.515969853059908,-1.3425234485560702,-0.3600001508909471,-0.07624704610784032,-1.7522234689232437,-0.37257406422804706,1.193137958920794,1.154637422674318,0.31205407485525993,0.44184177745646686,-1.3778745790073854,-1.011665062974858,0.03515567990235361,0.41947441807572,-1.3135785687987815,0.3272638323888706,-1.0046483036078868,0.6876459011460935,-0.19200991915835824,-0.1546255652119731,1.5186581723550163,-0.07716251245343556,0.5410204542460056],\"type\":\"histogram\"}],                        {\"barmode\":\"overlay\",\"legend\":{\"bgcolor\":\"#F5F6F9\",\"font\":{\"color\":\"#4D5663\"}},\"paper_bgcolor\":\"#F5F6F9\",\"plot_bgcolor\":\"#F5F6F9\",\"template\":{\"data\":{\"barpolar\":[{\"marker\":{\"line\":{\"color\":\"#E5ECF6\",\"width\":0.5},\"pattern\":{\"fillmode\":\"overlay\",\"size\":10,\"solidity\":0.2}},\"type\":\"barpolar\"}],\"bar\":[{\"error_x\":{\"color\":\"#2a3f5f\"},\"error_y\":{\"color\":\"#2a3f5f\"},\"marker\":{\"line\":{\"color\":\"#E5ECF6\",\"width\":0.5},\"pattern\":{\"fillmode\":\"overlay\",\"size\":10,\"solidity\":0.2}},\"type\":\"bar\"}],\"carpet\":[{\"aaxis\":{\"endlinecolor\":\"#2a3f5f\",\"gridcolor\":\"white\",\"linecolor\":\"white\",\"minorgridcolor\":\"white\",\"startlinecolor\":\"#2a3f5f\"},\"baxis\":{\"endlinecolor\":\"#2a3f5f\",\"gridcolor\":\"white\",\"linecolor\":\"white\",\"minorgridcolor\":\"white\",\"startlinecolor\":\"#2a3f5f\"},\"type\":\"carpet\"}],\"choropleth\":[{\"colorbar\":{\"outlinewidth\":0,\"ticks\":\"\"},\"type\":\"choropleth\"}],\"contourcarpet\":[{\"colorbar\":{\"outlinewidth\":0,\"ticks\":\"\"},\"type\":\"contourcarpet\"}],\"contour\":[{\"colorbar\":{\"outlinewidth\":0,\"ticks\":\"\"},\"colorscale\":[[0.0,\"#0d0887\"],[0.1111111111111111,\"#46039f\"],[0.2222222222222222,\"#7201a8\"],[0.3333333333333333,\"#9c179e\"],[0.4444444444444444,\"#bd3786\"],[0.5555555555555556,\"#d8576b\"],[0.6666666666666666,\"#ed7953\"],[0.7777777777777778,\"#fb9f3a\"],[0.8888888888888888,\"#fdca26\"],[1.0,\"#f0f921\"]],\"type\":\"contour\"}],\"heatmapgl\":[{\"colorbar\":{\"outlinewidth\":0,\"ticks\":\"\"},\"colorscale\":[[0.0,\"#0d0887\"],[0.1111111111111111,\"#46039f\"],[0.2222222222222222,\"#7201a8\"],[0.3333333333333333,\"#9c179e\"],[0.4444444444444444,\"#bd3786\"],[0.5555555555555556,\"#d8576b\"],[0.6666666666666666,\"#ed7953\"],[0.7777777777777778,\"#fb9f3a\"],[0.8888888888888888,\"#fdca26\"],[1.0,\"#f0f921\"]],\"type\":\"heatmapgl\"}],\"heatmap\":[{\"colorbar\":{\"outlinewidth\":0,\"ticks\":\"\"},\"colorscale\":[[0.0,\"#0d0887\"],[0.1111111111111111,\"#46039f\"],[0.2222222222222222,\"#7201a8\"],[0.3333333333333333,\"#9c179e\"],[0.4444444444444444,\"#bd3786\"],[0.5555555555555556,\"#d8576b\"],[0.6666666666666666,\"#ed7953\"],[0.7777777777777778,\"#fb9f3a\"],[0.8888888888888888,\"#fdca26\"],[1.0,\"#f0f921\"]],\"type\":\"heatmap\"}],\"histogram2dcontour\":[{\"colorbar\":{\"outlinewidth\":0,\"ticks\":\"\"},\"colorscale\":[[0.0,\"#0d0887\"],[0.1111111111111111,\"#46039f\"],[0.2222222222222222,\"#7201a8\"],[0.3333333333333333,\"#9c179e\"],[0.4444444444444444,\"#bd3786\"],[0.5555555555555556,\"#d8576b\"],[0.6666666666666666,\"#ed7953\"],[0.7777777777777778,\"#fb9f3a\"],[0.8888888888888888,\"#fdca26\"],[1.0,\"#f0f921\"]],\"type\":\"histogram2dcontour\"}],\"histogram2d\":[{\"colorbar\":{\"outlinewidth\":0,\"ticks\":\"\"},\"colorscale\":[[0.0,\"#0d0887\"],[0.1111111111111111,\"#46039f\"],[0.2222222222222222,\"#7201a8\"],[0.3333333333333333,\"#9c179e\"],[0.4444444444444444,\"#bd3786\"],[0.5555555555555556,\"#d8576b\"],[0.6666666666666666,\"#ed7953\"],[0.7777777777777778,\"#fb9f3a\"],[0.8888888888888888,\"#fdca26\"],[1.0,\"#f0f921\"]],\"type\":\"histogram2d\"}],\"histogram\":[{\"marker\":{\"pattern\":{\"fillmode\":\"overlay\",\"size\":10,\"solidity\":0.2}},\"type\":\"histogram\"}],\"mesh3d\":[{\"colorbar\":{\"outlinewidth\":0,\"ticks\":\"\"},\"type\":\"mesh3d\"}],\"parcoords\":[{\"line\":{\"colorbar\":{\"outlinewidth\":0,\"ticks\":\"\"}},\"type\":\"parcoords\"}],\"pie\":[{\"automargin\":true,\"type\":\"pie\"}],\"scatter3d\":[{\"line\":{\"colorbar\":{\"outlinewidth\":0,\"ticks\":\"\"}},\"marker\":{\"colorbar\":{\"outlinewidth\":0,\"ticks\":\"\"}},\"type\":\"scatter3d\"}],\"scattercarpet\":[{\"marker\":{\"colorbar\":{\"outlinewidth\":0,\"ticks\":\"\"}},\"type\":\"scattercarpet\"}],\"scattergeo\":[{\"marker\":{\"colorbar\":{\"outlinewidth\":0,\"ticks\":\"\"}},\"type\":\"scattergeo\"}],\"scattergl\":[{\"marker\":{\"colorbar\":{\"outlinewidth\":0,\"ticks\":\"\"}},\"type\":\"scattergl\"}],\"scattermapbox\":[{\"marker\":{\"colorbar\":{\"outlinewidth\":0,\"ticks\":\"\"}},\"type\":\"scattermapbox\"}],\"scatterpolargl\":[{\"marker\":{\"colorbar\":{\"outlinewidth\":0,\"ticks\":\"\"}},\"type\":\"scatterpolargl\"}],\"scatterpolar\":[{\"marker\":{\"colorbar\":{\"outlinewidth\":0,\"ticks\":\"\"}},\"type\":\"scatterpolar\"}],\"scatter\":[{\"fillpattern\":{\"fillmode\":\"overlay\",\"size\":10,\"solidity\":0.2},\"type\":\"scatter\"}],\"scatterternary\":[{\"marker\":{\"colorbar\":{\"outlinewidth\":0,\"ticks\":\"\"}},\"type\":\"scatterternary\"}],\"surface\":[{\"colorbar\":{\"outlinewidth\":0,\"ticks\":\"\"},\"colorscale\":[[0.0,\"#0d0887\"],[0.1111111111111111,\"#46039f\"],[0.2222222222222222,\"#7201a8\"],[0.3333333333333333,\"#9c179e\"],[0.4444444444444444,\"#bd3786\"],[0.5555555555555556,\"#d8576b\"],[0.6666666666666666,\"#ed7953\"],[0.7777777777777778,\"#fb9f3a\"],[0.8888888888888888,\"#fdca26\"],[1.0,\"#f0f921\"]],\"type\":\"surface\"}],\"table\":[{\"cells\":{\"fill\":{\"color\":\"#EBF0F8\"},\"line\":{\"color\":\"white\"}},\"header\":{\"fill\":{\"color\":\"#C8D4E3\"},\"line\":{\"color\":\"white\"}},\"type\":\"table\"}]},\"layout\":{\"annotationdefaults\":{\"arrowcolor\":\"#2a3f5f\",\"arrowhead\":0,\"arrowwidth\":1},\"autotypenumbers\":\"strict\",\"coloraxis\":{\"colorbar\":{\"outlinewidth\":0,\"ticks\":\"\"}},\"colorscale\":{\"diverging\":[[0,\"#8e0152\"],[0.1,\"#c51b7d\"],[0.2,\"#de77ae\"],[0.3,\"#f1b6da\"],[0.4,\"#fde0ef\"],[0.5,\"#f7f7f7\"],[0.6,\"#e6f5d0\"],[0.7,\"#b8e186\"],[0.8,\"#7fbc41\"],[0.9,\"#4d9221\"],[1,\"#276419\"]],\"sequential\":[[0.0,\"#0d0887\"],[0.1111111111111111,\"#46039f\"],[0.2222222222222222,\"#7201a8\"],[0.3333333333333333,\"#9c179e\"],[0.4444444444444444,\"#bd3786\"],[0.5555555555555556,\"#d8576b\"],[0.6666666666666666,\"#ed7953\"],[0.7777777777777778,\"#fb9f3a\"],[0.8888888888888888,\"#fdca26\"],[1.0,\"#f0f921\"]],\"sequentialminus\":[[0.0,\"#0d0887\"],[0.1111111111111111,\"#46039f\"],[0.2222222222222222,\"#7201a8\"],[0.3333333333333333,\"#9c179e\"],[0.4444444444444444,\"#bd3786\"],[0.5555555555555556,\"#d8576b\"],[0.6666666666666666,\"#ed7953\"],[0.7777777777777778,\"#fb9f3a\"],[0.8888888888888888,\"#fdca26\"],[1.0,\"#f0f921\"]]},\"colorway\":[\"#636efa\",\"#EF553B\",\"#00cc96\",\"#ab63fa\",\"#FFA15A\",\"#19d3f3\",\"#FF6692\",\"#B6E880\",\"#FF97FF\",\"#FECB52\"],\"font\":{\"color\":\"#2a3f5f\"},\"geo\":{\"bgcolor\":\"white\",\"lakecolor\":\"white\",\"landcolor\":\"#E5ECF6\",\"showlakes\":true,\"showland\":true,\"subunitcolor\":\"white\"},\"hoverlabel\":{\"align\":\"left\"},\"hovermode\":\"closest\",\"mapbox\":{\"style\":\"light\"},\"paper_bgcolor\":\"white\",\"plot_bgcolor\":\"#E5ECF6\",\"polar\":{\"angularaxis\":{\"gridcolor\":\"white\",\"linecolor\":\"white\",\"ticks\":\"\"},\"bgcolor\":\"#E5ECF6\",\"radialaxis\":{\"gridcolor\":\"white\",\"linecolor\":\"white\",\"ticks\":\"\"}},\"scene\":{\"xaxis\":{\"backgroundcolor\":\"#E5ECF6\",\"gridcolor\":\"white\",\"gridwidth\":2,\"linecolor\":\"white\",\"showbackground\":true,\"ticks\":\"\",\"zerolinecolor\":\"white\"},\"yaxis\":{\"backgroundcolor\":\"#E5ECF6\",\"gridcolor\":\"white\",\"gridwidth\":2,\"linecolor\":\"white\",\"showbackground\":true,\"ticks\":\"\",\"zerolinecolor\":\"white\"},\"zaxis\":{\"backgroundcolor\":\"#E5ECF6\",\"gridcolor\":\"white\",\"gridwidth\":2,\"linecolor\":\"white\",\"showbackground\":true,\"ticks\":\"\",\"zerolinecolor\":\"white\"}},\"shapedefaults\":{\"line\":{\"color\":\"#2a3f5f\"}},\"ternary\":{\"aaxis\":{\"gridcolor\":\"white\",\"linecolor\":\"white\",\"ticks\":\"\"},\"baxis\":{\"gridcolor\":\"white\",\"linecolor\":\"white\",\"ticks\":\"\"},\"bgcolor\":\"#E5ECF6\",\"caxis\":{\"gridcolor\":\"white\",\"linecolor\":\"white\",\"ticks\":\"\"}},\"title\":{\"x\":0.05},\"xaxis\":{\"automargin\":true,\"gridcolor\":\"white\",\"linecolor\":\"white\",\"ticks\":\"\",\"title\":{\"standoff\":15},\"zerolinecolor\":\"white\",\"zerolinewidth\":2},\"yaxis\":{\"automargin\":true,\"gridcolor\":\"white\",\"linecolor\":\"white\",\"ticks\":\"\",\"title\":{\"standoff\":15},\"zerolinecolor\":\"white\",\"zerolinewidth\":2}}},\"title\":{\"font\":{\"color\":\"#4D5663\"}},\"xaxis\":{\"gridcolor\":\"#E1E5ED\",\"showgrid\":true,\"tickfont\":{\"color\":\"#4D5663\"},\"title\":{\"font\":{\"color\":\"#4D5663\"},\"text\":\"\"},\"zerolinecolor\":\"#E1E5ED\"},\"yaxis\":{\"gridcolor\":\"#E1E5ED\",\"showgrid\":true,\"tickfont\":{\"color\":\"#4D5663\"},\"title\":{\"font\":{\"color\":\"#4D5663\"},\"text\":\"\"},\"zerolinecolor\":\"#E1E5ED\"}},                        {\"showLink\": true, \"linkText\": \"Export to plot.ly\", \"plotlyServerURL\": \"https://plot.ly\", \"responsive\": true}                    ).then(function(){\n",
       "                            \n",
       "var gd = document.getElementById('32790e7f-6b53-44f7-b8fc-cd32238f9e3e');\n",
       "var x = new MutationObserver(function (mutations, observer) {{\n",
       "        var display = window.getComputedStyle(gd).display;\n",
       "        if (!display || display === 'none') {{\n",
       "            console.log([gd, 'removed!']);\n",
       "            Plotly.purge(gd);\n",
       "            observer.disconnect();\n",
       "        }}\n",
       "}});\n",
       "\n",
       "// Listen for the removal of the full notebook cells\n",
       "var notebookContainer = gd.closest('#notebook-container');\n",
       "if (notebookContainer) {{\n",
       "    x.observe(notebookContainer, {childList: true});\n",
       "}}\n",
       "\n",
       "// Listen for the clearing of the current output cell\n",
       "var outputEl = gd.closest('.output');\n",
       "if (outputEl) {{\n",
       "    x.observe(outputEl, {childList: true});\n",
       "}}\n",
       "\n",
       "                        })                };                });            </script>        </div>"
      ]
     },
     "metadata": {},
     "output_type": "display_data"
    }
   ],
   "source": [
    "df['A'].iplot(kind='hist',bins=25)"
   ]
  },
  {
   "cell_type": "code",
   "execution_count": 22,
   "metadata": {
    "scrolled": true
   },
   "outputs": [
    {
     "data": {
      "application/vnd.plotly.v1+json": {
       "config": {
        "linkText": "Export to plot.ly",
        "plotlyServerURL": "https://plot.ly",
        "showLink": true
       },
       "data": [
        {
         "marker": {
          "color": [
           "rgb(255, 153, 51)",
           "rgb(55, 128, 191)",
           "rgb(50, 171, 96)",
           "rgb(128, 0, 128)",
           "rgb(219, 64, 82)",
           "rgb(0, 128, 128)",
           "rgb(255, 255, 51)",
           "rgb(128, 128, 0)",
           "rgb(251, 128, 114)",
           "rgb(128, 177, 211)"
          ],
          "line": {
           "width": 1.3
          },
          "size": [
           58,
           82,
           66,
           42,
           49,
           80,
           68,
           47,
           64,
           64,
           38,
           40,
           87,
           48,
           67,
           75,
           89,
           38,
           12,
           59,
           50,
           44,
           64,
           57,
           54,
           90,
           30,
           72,
           85,
           60,
           62,
           107,
           55,
           101,
           67,
           98,
           33,
           54,
           51,
           59,
           40,
           77,
           86,
           47,
           102,
           105,
           78,
           76,
           75,
           50,
           106,
           84,
           49,
           49,
           84,
           92,
           55,
           45,
           77,
           67,
           37,
           79,
           84,
           67,
           65,
           54,
           77,
           40,
           68,
           53,
           112,
           88,
           55,
           55,
           86,
           90,
           57,
           55,
           58,
           55,
           44,
           59,
           61,
           57,
           66,
           44,
           88,
           42,
           103,
           48,
           35,
           52,
           34,
           59,
           91,
           26,
           83,
           89,
           53,
           81
          ],
          "symbol": "circle"
         },
         "mode": "markers",
         "text": "",
         "type": "scatter",
         "x": [
          -1.9903004256683205,
          -0.44331522383487904,
          0.5522209986709692,
          -0.8761307777820353,
          1.1989648408531712,
          1.107396907449335,
          -0.029371122099748383,
          0.3056333470056156,
          -0.4955087979621365,
          -0.6520420406756742,
          -2.5267952417248734,
          0.28866743458960153,
          -1.4316957620782398,
          -0.6044368465373989,
          -0.7835590378190067,
          -0.12675905868030538,
          -0.8723173151421462,
          -1.3441213992499,
          0.9239839346598812,
          -0.37358758223316085,
          0.9588303627419025,
          -0.1052825661486228,
          0.38119597175663916,
          0.3576427427245764,
          -0.5702151234625347,
          -0.5572216628600934,
          0.017719846225363156,
          1.2887145074843485,
          -0.7411771478820481,
          -0.6419864197153446,
          1.1972219508024184,
          0.25945352369678465,
          1.2969932581570864,
          -0.766403700861819,
          -0.5880695192706119,
          0.23921319399362173,
          0.41198072881213454,
          0.8298012119060374,
          -0.39388130471441646,
          -0.9685240289521347,
          -1.5016621442024582,
          0.2224241435501135,
          -0.8493083133394347,
          -1.0609152477969157,
          -1.469355455640693,
          1.102203544886654,
          0.9789753952414446,
          -1.219515842422679,
          -1.0441517795610855,
          0.2804323979633052,
          -0.3944849837527407,
          0.7544188492417558,
          -1.1088178682546639,
          0.1837902883409436,
          -1.0221321290638552,
          0.7823997618515374,
          1.1860800573721049,
          0.03555123929313354,
          -0.08788533678144475,
          -1.0979193923822788,
          0.5231731489710988,
          0.5697924927381082,
          -0.20924153665318343,
          1.3985467032028418,
          1.7004020608481674,
          0.2030413325552144,
          -0.6268391642990602,
          0.3988770551212099,
          0.06965082275610238,
          -1.9116331125018202,
          0.1380241162431082,
          -1.1037926748877243,
          0.8081457348428449,
          -0.9356293594254312,
          -0.0916575756043444,
          0.5779288906452257,
          0.5962772865240996,
          1.515969853059908,
          -1.3425234485560702,
          -0.3600001508909471,
          -0.07624704610784032,
          -1.7522234689232437,
          -0.37257406422804706,
          1.193137958920794,
          1.154637422674318,
          0.31205407485525993,
          0.44184177745646686,
          -1.3778745790073854,
          -1.011665062974858,
          0.03515567990235361,
          0.41947441807572,
          -1.3135785687987815,
          0.3272638323888706,
          -1.0046483036078868,
          0.6876459011460935,
          -0.19200991915835824,
          -0.1546255652119731,
          1.5186581723550163,
          -0.07716251245343556,
          0.5410204542460056
         ],
         "y": [
          0.20713171298464164,
          -0.9098290203271999,
          0.6595976436161234,
          1.1391958719025224,
          0.22876136700256824,
          -0.9390175844832885,
          1.40702753694373,
          0.6757395117272006,
          -0.6190602204117278,
          0.9652323468994083,
          1.171138334802606,
          1.9127870674045342,
          0.4741178282201214,
          -2.479844305574245,
          0.8927998703050272,
          -1.491532793139312,
          -0.15493863646237707,
          -0.17367859851820075,
          -0.3910701957760691,
          0.10659597063448929,
          -0.32667053875621144,
          0.7994813604737073,
          -0.4280343716591244,
          -1.150466969038612,
          0.8455562582900276,
          -2.251409282655881,
          0.9821270223673556,
          0.2303455757248052,
          0.04535472902143436,
          -1.2248383310091664,
          1.3674030824397547,
          0.08045700760681646,
          -0.43506133283756054,
          0.24149061558320917,
          -2.0528054626515244,
          0.08373056770003885,
          -0.6361159828889186,
          0.8196960925429025,
          0.8468032243624196,
          -0.10789265679637575,
          -0.5276537406018319,
          -0.5042026403280273,
          0.26276374773287686,
          -1.6144863597671486,
          -0.14370779462404257,
          0.7656677379760024,
          0.7874697232847472,
          -0.8023005621110955,
          0.778255152616999,
          0.5700896498552871,
          -1.0017097238965142,
          -0.6607568163172322,
          1.5905093819220673,
          -1.2110676813411707,
          -0.5601154519339665,
          1.3418467182878748,
          0.6440794160296142,
          -0.39687651490022524,
          -0.4752177292162427,
          0.22650596927963504,
          -0.13680482098526894,
          -0.9673428380469818,
          0.22153028192267313,
          1.7994207743834112,
          -1.003588415564047,
          -0.9112664323687696,
          0.9227233738941317,
          -2.227663388595575,
          0.06724167285175829,
          0.06086377830490128,
          0.3781532535914435,
          1.0079887011567779,
          -2.205453957164551,
          1.164530009463671,
          1.3132946285256442,
          -0.506151267746503,
          -0.05594310018107275,
          0.7545858729175096,
          -0.012902217386942041,
          0.5951414829334419,
          0.12351962806759635,
          -0.38325727961140005,
          -0.6933726532148998,
          2.4415116098964287,
          0.8557274566835281,
          0.7324129287476138,
          -0.8628262713601479,
          0.04756433709781207,
          0.8456812423826571,
          -0.42516235555193016,
          -1.1979961576928366,
          0.5089656233318339,
          0.9803508857671677,
          0.8119129825176856,
          0.03534109009366027,
          -0.17944526405158354,
          0.06161321536565358,
          -0.5760942497350119,
          -0.8844656807832726,
          1.7125044904591131
         ]
        }
       ],
       "layout": {
        "legend": {
         "bgcolor": "#F5F6F9",
         "font": {
          "color": "#4D5663"
         }
        },
        "paper_bgcolor": "#F5F6F9",
        "plot_bgcolor": "#F5F6F9",
        "template": {
         "data": {
          "bar": [
           {
            "error_x": {
             "color": "#2a3f5f"
            },
            "error_y": {
             "color": "#2a3f5f"
            },
            "marker": {
             "line": {
              "color": "#E5ECF6",
              "width": 0.5
             },
             "pattern": {
              "fillmode": "overlay",
              "size": 10,
              "solidity": 0.2
             }
            },
            "type": "bar"
           }
          ],
          "barpolar": [
           {
            "marker": {
             "line": {
              "color": "#E5ECF6",
              "width": 0.5
             },
             "pattern": {
              "fillmode": "overlay",
              "size": 10,
              "solidity": 0.2
             }
            },
            "type": "barpolar"
           }
          ],
          "carpet": [
           {
            "aaxis": {
             "endlinecolor": "#2a3f5f",
             "gridcolor": "white",
             "linecolor": "white",
             "minorgridcolor": "white",
             "startlinecolor": "#2a3f5f"
            },
            "baxis": {
             "endlinecolor": "#2a3f5f",
             "gridcolor": "white",
             "linecolor": "white",
             "minorgridcolor": "white",
             "startlinecolor": "#2a3f5f"
            },
            "type": "carpet"
           }
          ],
          "choropleth": [
           {
            "colorbar": {
             "outlinewidth": 0,
             "ticks": ""
            },
            "type": "choropleth"
           }
          ],
          "contour": [
           {
            "colorbar": {
             "outlinewidth": 0,
             "ticks": ""
            },
            "colorscale": [
             [
              0,
              "#0d0887"
             ],
             [
              0.1111111111111111,
              "#46039f"
             ],
             [
              0.2222222222222222,
              "#7201a8"
             ],
             [
              0.3333333333333333,
              "#9c179e"
             ],
             [
              0.4444444444444444,
              "#bd3786"
             ],
             [
              0.5555555555555556,
              "#d8576b"
             ],
             [
              0.6666666666666666,
              "#ed7953"
             ],
             [
              0.7777777777777778,
              "#fb9f3a"
             ],
             [
              0.8888888888888888,
              "#fdca26"
             ],
             [
              1,
              "#f0f921"
             ]
            ],
            "type": "contour"
           }
          ],
          "contourcarpet": [
           {
            "colorbar": {
             "outlinewidth": 0,
             "ticks": ""
            },
            "type": "contourcarpet"
           }
          ],
          "heatmap": [
           {
            "colorbar": {
             "outlinewidth": 0,
             "ticks": ""
            },
            "colorscale": [
             [
              0,
              "#0d0887"
             ],
             [
              0.1111111111111111,
              "#46039f"
             ],
             [
              0.2222222222222222,
              "#7201a8"
             ],
             [
              0.3333333333333333,
              "#9c179e"
             ],
             [
              0.4444444444444444,
              "#bd3786"
             ],
             [
              0.5555555555555556,
              "#d8576b"
             ],
             [
              0.6666666666666666,
              "#ed7953"
             ],
             [
              0.7777777777777778,
              "#fb9f3a"
             ],
             [
              0.8888888888888888,
              "#fdca26"
             ],
             [
              1,
              "#f0f921"
             ]
            ],
            "type": "heatmap"
           }
          ],
          "heatmapgl": [
           {
            "colorbar": {
             "outlinewidth": 0,
             "ticks": ""
            },
            "colorscale": [
             [
              0,
              "#0d0887"
             ],
             [
              0.1111111111111111,
              "#46039f"
             ],
             [
              0.2222222222222222,
              "#7201a8"
             ],
             [
              0.3333333333333333,
              "#9c179e"
             ],
             [
              0.4444444444444444,
              "#bd3786"
             ],
             [
              0.5555555555555556,
              "#d8576b"
             ],
             [
              0.6666666666666666,
              "#ed7953"
             ],
             [
              0.7777777777777778,
              "#fb9f3a"
             ],
             [
              0.8888888888888888,
              "#fdca26"
             ],
             [
              1,
              "#f0f921"
             ]
            ],
            "type": "heatmapgl"
           }
          ],
          "histogram": [
           {
            "marker": {
             "pattern": {
              "fillmode": "overlay",
              "size": 10,
              "solidity": 0.2
             }
            },
            "type": "histogram"
           }
          ],
          "histogram2d": [
           {
            "colorbar": {
             "outlinewidth": 0,
             "ticks": ""
            },
            "colorscale": [
             [
              0,
              "#0d0887"
             ],
             [
              0.1111111111111111,
              "#46039f"
             ],
             [
              0.2222222222222222,
              "#7201a8"
             ],
             [
              0.3333333333333333,
              "#9c179e"
             ],
             [
              0.4444444444444444,
              "#bd3786"
             ],
             [
              0.5555555555555556,
              "#d8576b"
             ],
             [
              0.6666666666666666,
              "#ed7953"
             ],
             [
              0.7777777777777778,
              "#fb9f3a"
             ],
             [
              0.8888888888888888,
              "#fdca26"
             ],
             [
              1,
              "#f0f921"
             ]
            ],
            "type": "histogram2d"
           }
          ],
          "histogram2dcontour": [
           {
            "colorbar": {
             "outlinewidth": 0,
             "ticks": ""
            },
            "colorscale": [
             [
              0,
              "#0d0887"
             ],
             [
              0.1111111111111111,
              "#46039f"
             ],
             [
              0.2222222222222222,
              "#7201a8"
             ],
             [
              0.3333333333333333,
              "#9c179e"
             ],
             [
              0.4444444444444444,
              "#bd3786"
             ],
             [
              0.5555555555555556,
              "#d8576b"
             ],
             [
              0.6666666666666666,
              "#ed7953"
             ],
             [
              0.7777777777777778,
              "#fb9f3a"
             ],
             [
              0.8888888888888888,
              "#fdca26"
             ],
             [
              1,
              "#f0f921"
             ]
            ],
            "type": "histogram2dcontour"
           }
          ],
          "mesh3d": [
           {
            "colorbar": {
             "outlinewidth": 0,
             "ticks": ""
            },
            "type": "mesh3d"
           }
          ],
          "parcoords": [
           {
            "line": {
             "colorbar": {
              "outlinewidth": 0,
              "ticks": ""
             }
            },
            "type": "parcoords"
           }
          ],
          "pie": [
           {
            "automargin": true,
            "type": "pie"
           }
          ],
          "scatter": [
           {
            "fillpattern": {
             "fillmode": "overlay",
             "size": 10,
             "solidity": 0.2
            },
            "type": "scatter"
           }
          ],
          "scatter3d": [
           {
            "line": {
             "colorbar": {
              "outlinewidth": 0,
              "ticks": ""
             }
            },
            "marker": {
             "colorbar": {
              "outlinewidth": 0,
              "ticks": ""
             }
            },
            "type": "scatter3d"
           }
          ],
          "scattercarpet": [
           {
            "marker": {
             "colorbar": {
              "outlinewidth": 0,
              "ticks": ""
             }
            },
            "type": "scattercarpet"
           }
          ],
          "scattergeo": [
           {
            "marker": {
             "colorbar": {
              "outlinewidth": 0,
              "ticks": ""
             }
            },
            "type": "scattergeo"
           }
          ],
          "scattergl": [
           {
            "marker": {
             "colorbar": {
              "outlinewidth": 0,
              "ticks": ""
             }
            },
            "type": "scattergl"
           }
          ],
          "scattermapbox": [
           {
            "marker": {
             "colorbar": {
              "outlinewidth": 0,
              "ticks": ""
             }
            },
            "type": "scattermapbox"
           }
          ],
          "scatterpolar": [
           {
            "marker": {
             "colorbar": {
              "outlinewidth": 0,
              "ticks": ""
             }
            },
            "type": "scatterpolar"
           }
          ],
          "scatterpolargl": [
           {
            "marker": {
             "colorbar": {
              "outlinewidth": 0,
              "ticks": ""
             }
            },
            "type": "scatterpolargl"
           }
          ],
          "scatterternary": [
           {
            "marker": {
             "colorbar": {
              "outlinewidth": 0,
              "ticks": ""
             }
            },
            "type": "scatterternary"
           }
          ],
          "surface": [
           {
            "colorbar": {
             "outlinewidth": 0,
             "ticks": ""
            },
            "colorscale": [
             [
              0,
              "#0d0887"
             ],
             [
              0.1111111111111111,
              "#46039f"
             ],
             [
              0.2222222222222222,
              "#7201a8"
             ],
             [
              0.3333333333333333,
              "#9c179e"
             ],
             [
              0.4444444444444444,
              "#bd3786"
             ],
             [
              0.5555555555555556,
              "#d8576b"
             ],
             [
              0.6666666666666666,
              "#ed7953"
             ],
             [
              0.7777777777777778,
              "#fb9f3a"
             ],
             [
              0.8888888888888888,
              "#fdca26"
             ],
             [
              1,
              "#f0f921"
             ]
            ],
            "type": "surface"
           }
          ],
          "table": [
           {
            "cells": {
             "fill": {
              "color": "#EBF0F8"
             },
             "line": {
              "color": "white"
             }
            },
            "header": {
             "fill": {
              "color": "#C8D4E3"
             },
             "line": {
              "color": "white"
             }
            },
            "type": "table"
           }
          ]
         },
         "layout": {
          "annotationdefaults": {
           "arrowcolor": "#2a3f5f",
           "arrowhead": 0,
           "arrowwidth": 1
          },
          "autotypenumbers": "strict",
          "coloraxis": {
           "colorbar": {
            "outlinewidth": 0,
            "ticks": ""
           }
          },
          "colorscale": {
           "diverging": [
            [
             0,
             "#8e0152"
            ],
            [
             0.1,
             "#c51b7d"
            ],
            [
             0.2,
             "#de77ae"
            ],
            [
             0.3,
             "#f1b6da"
            ],
            [
             0.4,
             "#fde0ef"
            ],
            [
             0.5,
             "#f7f7f7"
            ],
            [
             0.6,
             "#e6f5d0"
            ],
            [
             0.7,
             "#b8e186"
            ],
            [
             0.8,
             "#7fbc41"
            ],
            [
             0.9,
             "#4d9221"
            ],
            [
             1,
             "#276419"
            ]
           ],
           "sequential": [
            [
             0,
             "#0d0887"
            ],
            [
             0.1111111111111111,
             "#46039f"
            ],
            [
             0.2222222222222222,
             "#7201a8"
            ],
            [
             0.3333333333333333,
             "#9c179e"
            ],
            [
             0.4444444444444444,
             "#bd3786"
            ],
            [
             0.5555555555555556,
             "#d8576b"
            ],
            [
             0.6666666666666666,
             "#ed7953"
            ],
            [
             0.7777777777777778,
             "#fb9f3a"
            ],
            [
             0.8888888888888888,
             "#fdca26"
            ],
            [
             1,
             "#f0f921"
            ]
           ],
           "sequentialminus": [
            [
             0,
             "#0d0887"
            ],
            [
             0.1111111111111111,
             "#46039f"
            ],
            [
             0.2222222222222222,
             "#7201a8"
            ],
            [
             0.3333333333333333,
             "#9c179e"
            ],
            [
             0.4444444444444444,
             "#bd3786"
            ],
            [
             0.5555555555555556,
             "#d8576b"
            ],
            [
             0.6666666666666666,
             "#ed7953"
            ],
            [
             0.7777777777777778,
             "#fb9f3a"
            ],
            [
             0.8888888888888888,
             "#fdca26"
            ],
            [
             1,
             "#f0f921"
            ]
           ]
          },
          "colorway": [
           "#636efa",
           "#EF553B",
           "#00cc96",
           "#ab63fa",
           "#FFA15A",
           "#19d3f3",
           "#FF6692",
           "#B6E880",
           "#FF97FF",
           "#FECB52"
          ],
          "font": {
           "color": "#2a3f5f"
          },
          "geo": {
           "bgcolor": "white",
           "lakecolor": "white",
           "landcolor": "#E5ECF6",
           "showlakes": true,
           "showland": true,
           "subunitcolor": "white"
          },
          "hoverlabel": {
           "align": "left"
          },
          "hovermode": "closest",
          "mapbox": {
           "style": "light"
          },
          "paper_bgcolor": "white",
          "plot_bgcolor": "#E5ECF6",
          "polar": {
           "angularaxis": {
            "gridcolor": "white",
            "linecolor": "white",
            "ticks": ""
           },
           "bgcolor": "#E5ECF6",
           "radialaxis": {
            "gridcolor": "white",
            "linecolor": "white",
            "ticks": ""
           }
          },
          "scene": {
           "xaxis": {
            "backgroundcolor": "#E5ECF6",
            "gridcolor": "white",
            "gridwidth": 2,
            "linecolor": "white",
            "showbackground": true,
            "ticks": "",
            "zerolinecolor": "white"
           },
           "yaxis": {
            "backgroundcolor": "#E5ECF6",
            "gridcolor": "white",
            "gridwidth": 2,
            "linecolor": "white",
            "showbackground": true,
            "ticks": "",
            "zerolinecolor": "white"
           },
           "zaxis": {
            "backgroundcolor": "#E5ECF6",
            "gridcolor": "white",
            "gridwidth": 2,
            "linecolor": "white",
            "showbackground": true,
            "ticks": "",
            "zerolinecolor": "white"
           }
          },
          "shapedefaults": {
           "line": {
            "color": "#2a3f5f"
           }
          },
          "ternary": {
           "aaxis": {
            "gridcolor": "white",
            "linecolor": "white",
            "ticks": ""
           },
           "baxis": {
            "gridcolor": "white",
            "linecolor": "white",
            "ticks": ""
           },
           "bgcolor": "#E5ECF6",
           "caxis": {
            "gridcolor": "white",
            "linecolor": "white",
            "ticks": ""
           }
          },
          "title": {
           "x": 0.05
          },
          "xaxis": {
           "automargin": true,
           "gridcolor": "white",
           "linecolor": "white",
           "ticks": "",
           "title": {
            "standoff": 15
           },
           "zerolinecolor": "white",
           "zerolinewidth": 2
          },
          "yaxis": {
           "automargin": true,
           "gridcolor": "white",
           "linecolor": "white",
           "ticks": "",
           "title": {
            "standoff": 15
           },
           "zerolinecolor": "white",
           "zerolinewidth": 2
          }
         }
        },
        "title": {
         "font": {
          "color": "#4D5663"
         }
        },
        "xaxis": {
         "gridcolor": "#E1E5ED",
         "showgrid": true,
         "tickfont": {
          "color": "#4D5663"
         },
         "title": {
          "font": {
           "color": "#4D5663"
          },
          "text": ""
         },
         "zerolinecolor": "#E1E5ED"
        },
        "yaxis": {
         "gridcolor": "#E1E5ED",
         "showgrid": true,
         "tickfont": {
          "color": "#4D5663"
         },
         "title": {
          "font": {
           "color": "#4D5663"
          },
          "text": ""
         },
         "zerolinecolor": "#E1E5ED"
        }
       }
      },
      "text/html": [
       "<div>                            <div id=\"972ed566-0c95-4309-a17d-95435b0e10e7\" class=\"plotly-graph-div\" style=\"height:525px; width:100%;\"></div>            <script type=\"text/javascript\">                require([\"plotly\"], function(Plotly) {                    window.PLOTLYENV=window.PLOTLYENV || {};\n",
       "                    window.PLOTLYENV.BASE_URL='https://plot.ly';                                    if (document.getElementById(\"972ed566-0c95-4309-a17d-95435b0e10e7\")) {                    Plotly.newPlot(                        \"972ed566-0c95-4309-a17d-95435b0e10e7\",                        [{\"marker\":{\"color\":[\"rgb(255, 153, 51)\",\"rgb(55, 128, 191)\",\"rgb(50, 171, 96)\",\"rgb(128, 0, 128)\",\"rgb(219, 64, 82)\",\"rgb(0, 128, 128)\",\"rgb(255, 255, 51)\",\"rgb(128, 128, 0)\",\"rgb(251, 128, 114)\",\"rgb(128, 177, 211)\"],\"line\":{\"width\":1.3},\"size\":[58,82,66,42,49,80,68,47,64,64,38,40,87,48,67,75,89,38,12,59,50,44,64,57,54,90,30,72,85,60,62,107,55,101,67,98,33,54,51,59,40,77,86,47,102,105,78,76,75,50,106,84,49,49,84,92,55,45,77,67,37,79,84,67,65,54,77,40,68,53,112,88,55,55,86,90,57,55,58,55,44,59,61,57,66,44,88,42,103,48,35,52,34,59,91,26,83,89,53,81],\"symbol\":\"circle\"},\"mode\":\"markers\",\"text\":\"\",\"x\":[-1.9903004256683205,-0.44331522383487904,0.5522209986709692,-0.8761307777820353,1.1989648408531712,1.107396907449335,-0.029371122099748383,0.3056333470056156,-0.4955087979621365,-0.6520420406756742,-2.5267952417248734,0.28866743458960153,-1.4316957620782398,-0.6044368465373989,-0.7835590378190067,-0.12675905868030538,-0.8723173151421462,-1.3441213992499,0.9239839346598812,-0.37358758223316085,0.9588303627419025,-0.1052825661486228,0.38119597175663916,0.3576427427245764,-0.5702151234625347,-0.5572216628600934,0.017719846225363156,1.2887145074843485,-0.7411771478820481,-0.6419864197153446,1.1972219508024184,0.25945352369678465,1.2969932581570864,-0.766403700861819,-0.5880695192706119,0.23921319399362173,0.41198072881213454,0.8298012119060374,-0.39388130471441646,-0.9685240289521347,-1.5016621442024582,0.2224241435501135,-0.8493083133394347,-1.0609152477969157,-1.469355455640693,1.102203544886654,0.9789753952414446,-1.219515842422679,-1.0441517795610855,0.2804323979633052,-0.3944849837527407,0.7544188492417558,-1.1088178682546639,0.1837902883409436,-1.0221321290638552,0.7823997618515374,1.1860800573721049,0.03555123929313354,-0.08788533678144475,-1.0979193923822788,0.5231731489710988,0.5697924927381082,-0.20924153665318343,1.3985467032028418,1.7004020608481674,0.2030413325552144,-0.6268391642990602,0.3988770551212099,0.06965082275610238,-1.9116331125018202,0.1380241162431082,-1.1037926748877243,0.8081457348428449,-0.9356293594254312,-0.0916575756043444,0.5779288906452257,0.5962772865240996,1.515969853059908,-1.3425234485560702,-0.3600001508909471,-0.07624704610784032,-1.7522234689232437,-0.37257406422804706,1.193137958920794,1.154637422674318,0.31205407485525993,0.44184177745646686,-1.3778745790073854,-1.011665062974858,0.03515567990235361,0.41947441807572,-1.3135785687987815,0.3272638323888706,-1.0046483036078868,0.6876459011460935,-0.19200991915835824,-0.1546255652119731,1.5186581723550163,-0.07716251245343556,0.5410204542460056],\"y\":[0.20713171298464164,-0.9098290203271999,0.6595976436161234,1.1391958719025224,0.22876136700256824,-0.9390175844832885,1.40702753694373,0.6757395117272006,-0.6190602204117278,0.9652323468994083,1.171138334802606,1.9127870674045342,0.4741178282201214,-2.479844305574245,0.8927998703050272,-1.491532793139312,-0.15493863646237707,-0.17367859851820075,-0.3910701957760691,0.10659597063448929,-0.32667053875621144,0.7994813604737073,-0.4280343716591244,-1.150466969038612,0.8455562582900276,-2.251409282655881,0.9821270223673556,0.2303455757248052,0.04535472902143436,-1.2248383310091664,1.3674030824397547,0.08045700760681646,-0.43506133283756054,0.24149061558320917,-2.0528054626515244,0.08373056770003885,-0.6361159828889186,0.8196960925429025,0.8468032243624196,-0.10789265679637575,-0.5276537406018319,-0.5042026403280273,0.26276374773287686,-1.6144863597671486,-0.14370779462404257,0.7656677379760024,0.7874697232847472,-0.8023005621110955,0.778255152616999,0.5700896498552871,-1.0017097238965142,-0.6607568163172322,1.5905093819220673,-1.2110676813411707,-0.5601154519339665,1.3418467182878748,0.6440794160296142,-0.39687651490022524,-0.4752177292162427,0.22650596927963504,-0.13680482098526894,-0.9673428380469818,0.22153028192267313,1.7994207743834112,-1.003588415564047,-0.9112664323687696,0.9227233738941317,-2.227663388595575,0.06724167285175829,0.06086377830490128,0.3781532535914435,1.0079887011567779,-2.205453957164551,1.164530009463671,1.3132946285256442,-0.506151267746503,-0.05594310018107275,0.7545858729175096,-0.012902217386942041,0.5951414829334419,0.12351962806759635,-0.38325727961140005,-0.6933726532148998,2.4415116098964287,0.8557274566835281,0.7324129287476138,-0.8628262713601479,0.04756433709781207,0.8456812423826571,-0.42516235555193016,-1.1979961576928366,0.5089656233318339,0.9803508857671677,0.8119129825176856,0.03534109009366027,-0.17944526405158354,0.06161321536565358,-0.5760942497350119,-0.8844656807832726,1.7125044904591131],\"type\":\"scatter\"}],                        {\"legend\":{\"bgcolor\":\"#F5F6F9\",\"font\":{\"color\":\"#4D5663\"}},\"paper_bgcolor\":\"#F5F6F9\",\"plot_bgcolor\":\"#F5F6F9\",\"template\":{\"data\":{\"barpolar\":[{\"marker\":{\"line\":{\"color\":\"#E5ECF6\",\"width\":0.5},\"pattern\":{\"fillmode\":\"overlay\",\"size\":10,\"solidity\":0.2}},\"type\":\"barpolar\"}],\"bar\":[{\"error_x\":{\"color\":\"#2a3f5f\"},\"error_y\":{\"color\":\"#2a3f5f\"},\"marker\":{\"line\":{\"color\":\"#E5ECF6\",\"width\":0.5},\"pattern\":{\"fillmode\":\"overlay\",\"size\":10,\"solidity\":0.2}},\"type\":\"bar\"}],\"carpet\":[{\"aaxis\":{\"endlinecolor\":\"#2a3f5f\",\"gridcolor\":\"white\",\"linecolor\":\"white\",\"minorgridcolor\":\"white\",\"startlinecolor\":\"#2a3f5f\"},\"baxis\":{\"endlinecolor\":\"#2a3f5f\",\"gridcolor\":\"white\",\"linecolor\":\"white\",\"minorgridcolor\":\"white\",\"startlinecolor\":\"#2a3f5f\"},\"type\":\"carpet\"}],\"choropleth\":[{\"colorbar\":{\"outlinewidth\":0,\"ticks\":\"\"},\"type\":\"choropleth\"}],\"contourcarpet\":[{\"colorbar\":{\"outlinewidth\":0,\"ticks\":\"\"},\"type\":\"contourcarpet\"}],\"contour\":[{\"colorbar\":{\"outlinewidth\":0,\"ticks\":\"\"},\"colorscale\":[[0.0,\"#0d0887\"],[0.1111111111111111,\"#46039f\"],[0.2222222222222222,\"#7201a8\"],[0.3333333333333333,\"#9c179e\"],[0.4444444444444444,\"#bd3786\"],[0.5555555555555556,\"#d8576b\"],[0.6666666666666666,\"#ed7953\"],[0.7777777777777778,\"#fb9f3a\"],[0.8888888888888888,\"#fdca26\"],[1.0,\"#f0f921\"]],\"type\":\"contour\"}],\"heatmapgl\":[{\"colorbar\":{\"outlinewidth\":0,\"ticks\":\"\"},\"colorscale\":[[0.0,\"#0d0887\"],[0.1111111111111111,\"#46039f\"],[0.2222222222222222,\"#7201a8\"],[0.3333333333333333,\"#9c179e\"],[0.4444444444444444,\"#bd3786\"],[0.5555555555555556,\"#d8576b\"],[0.6666666666666666,\"#ed7953\"],[0.7777777777777778,\"#fb9f3a\"],[0.8888888888888888,\"#fdca26\"],[1.0,\"#f0f921\"]],\"type\":\"heatmapgl\"}],\"heatmap\":[{\"colorbar\":{\"outlinewidth\":0,\"ticks\":\"\"},\"colorscale\":[[0.0,\"#0d0887\"],[0.1111111111111111,\"#46039f\"],[0.2222222222222222,\"#7201a8\"],[0.3333333333333333,\"#9c179e\"],[0.4444444444444444,\"#bd3786\"],[0.5555555555555556,\"#d8576b\"],[0.6666666666666666,\"#ed7953\"],[0.7777777777777778,\"#fb9f3a\"],[0.8888888888888888,\"#fdca26\"],[1.0,\"#f0f921\"]],\"type\":\"heatmap\"}],\"histogram2dcontour\":[{\"colorbar\":{\"outlinewidth\":0,\"ticks\":\"\"},\"colorscale\":[[0.0,\"#0d0887\"],[0.1111111111111111,\"#46039f\"],[0.2222222222222222,\"#7201a8\"],[0.3333333333333333,\"#9c179e\"],[0.4444444444444444,\"#bd3786\"],[0.5555555555555556,\"#d8576b\"],[0.6666666666666666,\"#ed7953\"],[0.7777777777777778,\"#fb9f3a\"],[0.8888888888888888,\"#fdca26\"],[1.0,\"#f0f921\"]],\"type\":\"histogram2dcontour\"}],\"histogram2d\":[{\"colorbar\":{\"outlinewidth\":0,\"ticks\":\"\"},\"colorscale\":[[0.0,\"#0d0887\"],[0.1111111111111111,\"#46039f\"],[0.2222222222222222,\"#7201a8\"],[0.3333333333333333,\"#9c179e\"],[0.4444444444444444,\"#bd3786\"],[0.5555555555555556,\"#d8576b\"],[0.6666666666666666,\"#ed7953\"],[0.7777777777777778,\"#fb9f3a\"],[0.8888888888888888,\"#fdca26\"],[1.0,\"#f0f921\"]],\"type\":\"histogram2d\"}],\"histogram\":[{\"marker\":{\"pattern\":{\"fillmode\":\"overlay\",\"size\":10,\"solidity\":0.2}},\"type\":\"histogram\"}],\"mesh3d\":[{\"colorbar\":{\"outlinewidth\":0,\"ticks\":\"\"},\"type\":\"mesh3d\"}],\"parcoords\":[{\"line\":{\"colorbar\":{\"outlinewidth\":0,\"ticks\":\"\"}},\"type\":\"parcoords\"}],\"pie\":[{\"automargin\":true,\"type\":\"pie\"}],\"scatter3d\":[{\"line\":{\"colorbar\":{\"outlinewidth\":0,\"ticks\":\"\"}},\"marker\":{\"colorbar\":{\"outlinewidth\":0,\"ticks\":\"\"}},\"type\":\"scatter3d\"}],\"scattercarpet\":[{\"marker\":{\"colorbar\":{\"outlinewidth\":0,\"ticks\":\"\"}},\"type\":\"scattercarpet\"}],\"scattergeo\":[{\"marker\":{\"colorbar\":{\"outlinewidth\":0,\"ticks\":\"\"}},\"type\":\"scattergeo\"}],\"scattergl\":[{\"marker\":{\"colorbar\":{\"outlinewidth\":0,\"ticks\":\"\"}},\"type\":\"scattergl\"}],\"scattermapbox\":[{\"marker\":{\"colorbar\":{\"outlinewidth\":0,\"ticks\":\"\"}},\"type\":\"scattermapbox\"}],\"scatterpolargl\":[{\"marker\":{\"colorbar\":{\"outlinewidth\":0,\"ticks\":\"\"}},\"type\":\"scatterpolargl\"}],\"scatterpolar\":[{\"marker\":{\"colorbar\":{\"outlinewidth\":0,\"ticks\":\"\"}},\"type\":\"scatterpolar\"}],\"scatter\":[{\"fillpattern\":{\"fillmode\":\"overlay\",\"size\":10,\"solidity\":0.2},\"type\":\"scatter\"}],\"scatterternary\":[{\"marker\":{\"colorbar\":{\"outlinewidth\":0,\"ticks\":\"\"}},\"type\":\"scatterternary\"}],\"surface\":[{\"colorbar\":{\"outlinewidth\":0,\"ticks\":\"\"},\"colorscale\":[[0.0,\"#0d0887\"],[0.1111111111111111,\"#46039f\"],[0.2222222222222222,\"#7201a8\"],[0.3333333333333333,\"#9c179e\"],[0.4444444444444444,\"#bd3786\"],[0.5555555555555556,\"#d8576b\"],[0.6666666666666666,\"#ed7953\"],[0.7777777777777778,\"#fb9f3a\"],[0.8888888888888888,\"#fdca26\"],[1.0,\"#f0f921\"]],\"type\":\"surface\"}],\"table\":[{\"cells\":{\"fill\":{\"color\":\"#EBF0F8\"},\"line\":{\"color\":\"white\"}},\"header\":{\"fill\":{\"color\":\"#C8D4E3\"},\"line\":{\"color\":\"white\"}},\"type\":\"table\"}]},\"layout\":{\"annotationdefaults\":{\"arrowcolor\":\"#2a3f5f\",\"arrowhead\":0,\"arrowwidth\":1},\"autotypenumbers\":\"strict\",\"coloraxis\":{\"colorbar\":{\"outlinewidth\":0,\"ticks\":\"\"}},\"colorscale\":{\"diverging\":[[0,\"#8e0152\"],[0.1,\"#c51b7d\"],[0.2,\"#de77ae\"],[0.3,\"#f1b6da\"],[0.4,\"#fde0ef\"],[0.5,\"#f7f7f7\"],[0.6,\"#e6f5d0\"],[0.7,\"#b8e186\"],[0.8,\"#7fbc41\"],[0.9,\"#4d9221\"],[1,\"#276419\"]],\"sequential\":[[0.0,\"#0d0887\"],[0.1111111111111111,\"#46039f\"],[0.2222222222222222,\"#7201a8\"],[0.3333333333333333,\"#9c179e\"],[0.4444444444444444,\"#bd3786\"],[0.5555555555555556,\"#d8576b\"],[0.6666666666666666,\"#ed7953\"],[0.7777777777777778,\"#fb9f3a\"],[0.8888888888888888,\"#fdca26\"],[1.0,\"#f0f921\"]],\"sequentialminus\":[[0.0,\"#0d0887\"],[0.1111111111111111,\"#46039f\"],[0.2222222222222222,\"#7201a8\"],[0.3333333333333333,\"#9c179e\"],[0.4444444444444444,\"#bd3786\"],[0.5555555555555556,\"#d8576b\"],[0.6666666666666666,\"#ed7953\"],[0.7777777777777778,\"#fb9f3a\"],[0.8888888888888888,\"#fdca26\"],[1.0,\"#f0f921\"]]},\"colorway\":[\"#636efa\",\"#EF553B\",\"#00cc96\",\"#ab63fa\",\"#FFA15A\",\"#19d3f3\",\"#FF6692\",\"#B6E880\",\"#FF97FF\",\"#FECB52\"],\"font\":{\"color\":\"#2a3f5f\"},\"geo\":{\"bgcolor\":\"white\",\"lakecolor\":\"white\",\"landcolor\":\"#E5ECF6\",\"showlakes\":true,\"showland\":true,\"subunitcolor\":\"white\"},\"hoverlabel\":{\"align\":\"left\"},\"hovermode\":\"closest\",\"mapbox\":{\"style\":\"light\"},\"paper_bgcolor\":\"white\",\"plot_bgcolor\":\"#E5ECF6\",\"polar\":{\"angularaxis\":{\"gridcolor\":\"white\",\"linecolor\":\"white\",\"ticks\":\"\"},\"bgcolor\":\"#E5ECF6\",\"radialaxis\":{\"gridcolor\":\"white\",\"linecolor\":\"white\",\"ticks\":\"\"}},\"scene\":{\"xaxis\":{\"backgroundcolor\":\"#E5ECF6\",\"gridcolor\":\"white\",\"gridwidth\":2,\"linecolor\":\"white\",\"showbackground\":true,\"ticks\":\"\",\"zerolinecolor\":\"white\"},\"yaxis\":{\"backgroundcolor\":\"#E5ECF6\",\"gridcolor\":\"white\",\"gridwidth\":2,\"linecolor\":\"white\",\"showbackground\":true,\"ticks\":\"\",\"zerolinecolor\":\"white\"},\"zaxis\":{\"backgroundcolor\":\"#E5ECF6\",\"gridcolor\":\"white\",\"gridwidth\":2,\"linecolor\":\"white\",\"showbackground\":true,\"ticks\":\"\",\"zerolinecolor\":\"white\"}},\"shapedefaults\":{\"line\":{\"color\":\"#2a3f5f\"}},\"ternary\":{\"aaxis\":{\"gridcolor\":\"white\",\"linecolor\":\"white\",\"ticks\":\"\"},\"baxis\":{\"gridcolor\":\"white\",\"linecolor\":\"white\",\"ticks\":\"\"},\"bgcolor\":\"#E5ECF6\",\"caxis\":{\"gridcolor\":\"white\",\"linecolor\":\"white\",\"ticks\":\"\"}},\"title\":{\"x\":0.05},\"xaxis\":{\"automargin\":true,\"gridcolor\":\"white\",\"linecolor\":\"white\",\"ticks\":\"\",\"title\":{\"standoff\":15},\"zerolinecolor\":\"white\",\"zerolinewidth\":2},\"yaxis\":{\"automargin\":true,\"gridcolor\":\"white\",\"linecolor\":\"white\",\"ticks\":\"\",\"title\":{\"standoff\":15},\"zerolinecolor\":\"white\",\"zerolinewidth\":2}}},\"title\":{\"font\":{\"color\":\"#4D5663\"}},\"xaxis\":{\"gridcolor\":\"#E1E5ED\",\"showgrid\":true,\"tickfont\":{\"color\":\"#4D5663\"},\"title\":{\"font\":{\"color\":\"#4D5663\"},\"text\":\"\"},\"zerolinecolor\":\"#E1E5ED\"},\"yaxis\":{\"gridcolor\":\"#E1E5ED\",\"showgrid\":true,\"tickfont\":{\"color\":\"#4D5663\"},\"title\":{\"font\":{\"color\":\"#4D5663\"},\"text\":\"\"},\"zerolinecolor\":\"#E1E5ED\"}},                        {\"showLink\": true, \"linkText\": \"Export to plot.ly\", \"plotlyServerURL\": \"https://plot.ly\", \"responsive\": true}                    ).then(function(){\n",
       "                            \n",
       "var gd = document.getElementById('972ed566-0c95-4309-a17d-95435b0e10e7');\n",
       "var x = new MutationObserver(function (mutations, observer) {{\n",
       "        var display = window.getComputedStyle(gd).display;\n",
       "        if (!display || display === 'none') {{\n",
       "            console.log([gd, 'removed!']);\n",
       "            Plotly.purge(gd);\n",
       "            observer.disconnect();\n",
       "        }}\n",
       "}});\n",
       "\n",
       "// Listen for the removal of the full notebook cells\n",
       "var notebookContainer = gd.closest('#notebook-container');\n",
       "if (notebookContainer) {{\n",
       "    x.observe(notebookContainer, {childList: true});\n",
       "}}\n",
       "\n",
       "// Listen for the clearing of the current output cell\n",
       "var outputEl = gd.closest('.output');\n",
       "if (outputEl) {{\n",
       "    x.observe(outputEl, {childList: true});\n",
       "}}\n",
       "\n",
       "                        })                };                });            </script>        </div>"
      ]
     },
     "metadata": {},
     "output_type": "display_data"
    }
   ],
   "source": [
    "df.iplot(kind='bubble',x='A',y='B',size='C')"
   ]
  },
  {
   "cell_type": "code",
   "execution_count": null,
   "metadata": {},
   "outputs": [],
   "source": []
  }
 ],
 "metadata": {
  "kernelspec": {
   "display_name": "Python 3 (ipykernel)",
   "language": "python",
   "name": "python3"
  },
  "language_info": {
   "codemirror_mode": {
    "name": "ipython",
    "version": 3
   },
   "file_extension": ".py",
   "mimetype": "text/x-python",
   "name": "python",
   "nbconvert_exporter": "python",
   "pygments_lexer": "ipython3",
   "version": "3.11.4"
  }
 },
 "nbformat": 4,
 "nbformat_minor": 1
}
